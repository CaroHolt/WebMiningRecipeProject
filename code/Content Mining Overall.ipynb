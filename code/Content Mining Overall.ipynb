{
 "cells": [
  {
   "cell_type": "markdown",
   "metadata": {},
   "source": [
    "# Content Mining Models"
   ]
  },
  {
   "cell_type": "markdown",
   "metadata": {},
   "source": [
    "## Table of Contents\n",
    "[1. Data Preprocessing and Imports](#preprocessing) <br>\n",
    "    [1.1. Provisory recipe filter/sampler ](#sampling) <br>\n",
    "    [1.2. Keyword extraction and ingredient preprocessing](#keywords) <br>\n",
    "    [1.3. Creating user-activity data & filtered interactions data](#user-interaction) <br>\n",
    "    [1.4. NLP Preprocessing](#nlp-preprocessing) <br>\n",
    "[2. Models](#models) <br>\n",
    "    [2.0. General functions](#general-functions) <br>\n",
    "        [2.0.1. Recommendations functions for Coverage & Personalization](#recommendation-functions) <br>\n",
    "        [2.0.2. Prediction function for RMSE](#prediction-functions) <br>\n",
    "    [2.1. Cosine Similarity](#cosine) <br>\n",
    "        [2.1.1 Tfidf & SVD](#tfidf-svd) <br>\n",
    "        [2.1.2 WordEmbeddings](#word-embeddings) <br>\n",
    "    [2.2. Mixture Model](#mixture) <br>\n",
    "        [2.2.1. Make recommendations based on Mixture Model](#mixture-recommendations) <br>\n",
    "        [2.2.2. Make predictions based on Mixture Model](#mixture-predictions) <br>\n",
    "        [2.2.3. Optimize lambda parameter](#optimize-lambda) <br>\n",
    "[3. Interpretation and Evaluation](#interpretation_evaluation) <br>"
   ]
  },
  {
   "cell_type": "markdown",
   "metadata": {},
   "source": [
    "<a id='preprocessing'></a>\n",
    "## 1. Data Preprocessing and Imports"
   ]
  },
  {
   "cell_type": "markdown",
   "metadata": {},
   "source": [
    "##### Packages to install in cmd upfront:\n",
    "\n",
    "conda install -c conda-forge selenium <br>\n",
    "conda install -c anaconda nltk <br>\n",
    "conda install -c conda-forge progressbar <br>\n",
    "pip install rake-nltk\n"
   ]
  },
  {
   "cell_type": "code",
   "execution_count": 1,
   "metadata": {},
   "outputs": [],
   "source": [
    "import pandas as pd\n",
    "import numpy as np\n",
    "import nltk\n",
    "import inflect\n",
    "import datetime\n",
    "import re, string, unicodedata\n",
    "import progressbar\n",
    "import matplotlib.pyplot as plt\n",
    "from nltk.corpus import stopwords\n",
    "from nltk.tokenize import word_tokenize, sent_tokenize\n",
    "from nltk.corpus import stopwords\n",
    "from nltk import SnowballStemmer\n",
    "from nltk.stem import LancasterStemmer, WordNetLemmatizer\n",
    "from sklearn.metrics import jaccard_score, pairwise_distances_chunked, mean_squared_error, mean_absolute_error\n",
    "from sklearn.preprocessing import StandardScaler\n",
    "from sklearn.metrics.pairwise import euclidean_distances\n",
    "from IPython.display import HTML\n",
    "from datetime import datetime\n",
    "from progressbar import ProgressBar"
   ]
  },
  {
   "cell_type": "code",
   "execution_count": 8,
   "metadata": {},
   "outputs": [],
   "source": [
    "# Import functions module\n",
    "%run functions.py"
   ]
  },
  {
   "cell_type": "code",
   "execution_count": 9,
   "metadata": {},
   "outputs": [],
   "source": [
    "#load data\n",
    "interactions_raw = pd.read_csv(\n",
    "        './Data/RAW_interactions.csv')\n",
    "recipes_raw = pd.read_csv(\n",
    "        './Data/RAW_recipes.csv', parse_dates=['submitted'], infer_datetime_format=True)"
   ]
  },
  {
   "cell_type": "code",
   "execution_count": 86,
   "metadata": {},
   "outputs": [],
   "source": [
    "#make copies so that we don't have to reload the data after mistakes\n",
    "interactions_data = interactions_raw.copy()\n",
    "recipes_data = recipes_raw.copy()"
   ]
  },
  {
   "cell_type": "code",
   "execution_count": 87,
   "metadata": {},
   "outputs": [],
   "source": [
    "\n",
    "recipes_data.rename(columns={\"id\": \"recipe_id\"}, inplace=True)\n"
   ]
  },
  {
   "cell_type": "code",
   "execution_count": 88,
   "metadata": {},
   "outputs": [],
   "source": [
    "deal_with_NAs(recipes_data)"
   ]
  },
  {
   "cell_type": "markdown",
   "metadata": {},
   "source": [
    "<a id='sampling'></a>\n",
    "### 1.1. Provisory recipe filter/sampler "
   ]
  },
  {
   "cell_type": "code",
   "execution_count": 89,
   "metadata": {},
   "outputs": [],
   "source": [
    "#create an age column for the recipes\n",
    "recipes_data['age'] = round((2019-recipes_data.submitted.dt.year)+recipes_data.submitted.dt.month/12, 1)"
   ]
  },
  {
   "cell_type": "code",
   "execution_count": 90,
   "metadata": {},
   "outputs": [
    {
     "name": "stdout",
     "output_type": "stream",
     "text": [
      "Shape after filtering recipes with less than 10 interactions and older than 10 years old: (48605, 15)\n",
      "Shape after filtering recipes with less than 5 interactions and younger than 10 years old: (20487, 15)\n",
      "Shape after removing 1 step recipes w/ low interactions: (20487, 15)\n",
      "Shape after removing recipes w/o ratings: (20487, 15)\n",
      "Shape after removing 0 minutes interaction w/ low interactions: (20397, 15)\n",
      "Shape after dropping duplicates: (20371, 15)\n",
      "URLs created for each of the 20371 recipes\n"
     ]
    }
   ],
   "source": [
    "recipes_data = get_avg_recipe_rating(interactions_data, recipes_data)\n",
    "filter_byinteractions(10,10,recipes_data, older=True)\n",
    "filter_byinteractions(5,10,recipes_data, older=False)\n",
    "filter_byquality(recipes_data)\n",
    "remove_duplicates(recipes_data)\n",
    "recipes_data = generate_URL(recipes_data)"
   ]
  },
  {
   "cell_type": "code",
   "execution_count": 50,
   "metadata": {},
   "outputs": [
    {
     "data": {
      "text/plain": [
       "(20371, 16)"
      ]
     },
     "execution_count": 50,
     "metadata": {},
     "output_type": "execute_result"
    }
   ],
   "source": [
    "recipes_data.shape"
   ]
  },
  {
   "cell_type": "markdown",
   "metadata": {},
   "source": [
    "<a id='keywords'></a>\n",
    "### 1.2. Keyword extraction and ingredient preprocessing"
   ]
  },
  {
   "cell_type": "code",
   "execution_count": 11,
   "metadata": {},
   "outputs": [],
   "source": [
    "# Preprocess ingredients and save as String\n",
    "for index, row in recipes_data.iterrows():\n",
    "    ingredientlist = row['ingredients']\n",
    "    ingredientlist = row['ingredients'].replace('[', '').replace(', ', '').replace(']', '').replace('and', '\\'').split(\"\\'\")\n",
    "    ingredientlist = list(filter(None, ingredientlist))\n",
    "    ingredientlistString = \"\"\n",
    "    for i in ingredientlist:\n",
    "        ingredientlistString = ingredientlistString + i\n",
    "    recipes_data.at[index, 'ingredients'] = ingredientlistString"
   ]
  },
  {
   "cell_type": "code",
   "execution_count": 12,
   "metadata": {},
   "outputs": [],
   "source": [
    "# Extract keywords for free text features\n",
    "# recipes_data = get_keywords(recipes_data, \"steps\", \"steps_keywords\")\n",
    "# recipes_data = get_keywords(recipes_data, \"description\", \"description_keywords\")\n",
    "# interactions_data = get_keywords(interactions_data, \"review\", \"review_keywords\")"
   ]
  },
  {
   "cell_type": "code",
   "execution_count": 13,
   "metadata": {},
   "outputs": [
    {
     "data": {
      "text/html": [
       "<div>\n",
       "<style scoped>\n",
       "    .dataframe tbody tr th:only-of-type {\n",
       "        vertical-align: middle;\n",
       "    }\n",
       "\n",
       "    .dataframe tbody tr th {\n",
       "        vertical-align: top;\n",
       "    }\n",
       "\n",
       "    .dataframe thead th {\n",
       "        text-align: right;\n",
       "    }\n",
       "</style>\n",
       "<table border=\"1\" class=\"dataframe\">\n",
       "  <thead>\n",
       "    <tr style=\"text-align: right;\">\n",
       "      <th></th>\n",
       "      <th>name</th>\n",
       "      <th>recipe_id</th>\n",
       "      <th>minutes</th>\n",
       "      <th>contributor_id</th>\n",
       "      <th>submitted</th>\n",
       "      <th>tags</th>\n",
       "      <th>nutrition</th>\n",
       "      <th>n_steps</th>\n",
       "      <th>steps</th>\n",
       "      <th>description</th>\n",
       "      <th>ingredients</th>\n",
       "      <th>n_ingredients</th>\n",
       "      <th>age</th>\n",
       "      <th>num_interactions</th>\n",
       "      <th>avg_rating</th>\n",
       "      <th>URL</th>\n",
       "    </tr>\n",
       "  </thead>\n",
       "  <tbody>\n",
       "    <tr>\n",
       "      <th>15</th>\n",
       "      <td>chicken lickin  good  pork chops</td>\n",
       "      <td>63986</td>\n",
       "      <td>500</td>\n",
       "      <td>14664</td>\n",
       "      <td>2003-06-06</td>\n",
       "      <td>['weeknight', 'time-to-make', 'course', 'main-...</td>\n",
       "      <td>[105.7, 8.0, 0.0, 26.0, 5.0, 4.0, 3.0]</td>\n",
       "      <td>5</td>\n",
       "      <td>['dredge pork chops in mixture of flour , salt...</td>\n",
       "      <td>here's and old standby i enjoy from time to ti...</td>\n",
       "      <td>lean pork chopsfloursaltdry mustardgarlic powd...</td>\n",
       "      <td>7</td>\n",
       "      <td>16.5</td>\n",
       "      <td>19</td>\n",
       "      <td>4.88</td>\n",
       "      <td>https://www.food.com/recipe/chicken-lickin-goo...</td>\n",
       "    </tr>\n",
       "    <tr>\n",
       "      <th>36</th>\n",
       "      <td>how i got my family to eat spinach  spinach ca...</td>\n",
       "      <td>25775</td>\n",
       "      <td>50</td>\n",
       "      <td>37305</td>\n",
       "      <td>2002-04-22</td>\n",
       "      <td>['60-minutes-or-less', 'time-to-make', 'course...</td>\n",
       "      <td>[166.1, 16.0, 6.0, 32.0, 19.0, 26.0, 3.0]</td>\n",
       "      <td>5</td>\n",
       "      <td>['preheat oven to 350 degrees', 'place spinach...</td>\n",
       "      <td>if spinach scares you, this is one recipe that...</td>\n",
       "      <td>frozen chopped spinacheggsaltblack pepperonion...</td>\n",
       "      <td>8</td>\n",
       "      <td>17.3</td>\n",
       "      <td>113</td>\n",
       "      <td>4.34</td>\n",
       "      <td>https://www.food.com/recipe/how-i-got-my-famil...</td>\n",
       "    </tr>\n",
       "    <tr>\n",
       "      <th>43</th>\n",
       "      <td>immoral  sandwich filling  loose meat</td>\n",
       "      <td>58224</td>\n",
       "      <td>35</td>\n",
       "      <td>37183</td>\n",
       "      <td>2003-04-04</td>\n",
       "      <td>['60-minutes-or-less', 'time-to-make', 'course...</td>\n",
       "      <td>[223.2, 22.0, 4.0, 7.0, 35.0, 30.0, 0.0]</td>\n",
       "      <td>6</td>\n",
       "      <td>['brown the meat &amp; drain fat', 'stir in sugar ...</td>\n",
       "      <td>just the thing for a day when you're wanton so...</td>\n",
       "      <td>ground beefsugarprepared yellow mustardbeercay...</td>\n",
       "      <td>8</td>\n",
       "      <td>16.3</td>\n",
       "      <td>21</td>\n",
       "      <td>4.20</td>\n",
       "      <td>https://www.food.com/recipe/immoral-sandwich-f...</td>\n",
       "    </tr>\n",
       "  </tbody>\n",
       "</table>\n",
       "</div>"
      ],
      "text/plain": [
       "                                                 name  recipe_id  minutes  \\\n",
       "15                   chicken lickin  good  pork chops      63986      500   \n",
       "36  how i got my family to eat spinach  spinach ca...      25775       50   \n",
       "43              immoral  sandwich filling  loose meat      58224       35   \n",
       "\n",
       "    contributor_id  submitted  \\\n",
       "15           14664 2003-06-06   \n",
       "36           37305 2002-04-22   \n",
       "43           37183 2003-04-04   \n",
       "\n",
       "                                                 tags  \\\n",
       "15  ['weeknight', 'time-to-make', 'course', 'main-...   \n",
       "36  ['60-minutes-or-less', 'time-to-make', 'course...   \n",
       "43  ['60-minutes-or-less', 'time-to-make', 'course...   \n",
       "\n",
       "                                    nutrition  n_steps  \\\n",
       "15     [105.7, 8.0, 0.0, 26.0, 5.0, 4.0, 3.0]        5   \n",
       "36  [166.1, 16.0, 6.0, 32.0, 19.0, 26.0, 3.0]        5   \n",
       "43   [223.2, 22.0, 4.0, 7.0, 35.0, 30.0, 0.0]        6   \n",
       "\n",
       "                                                steps  \\\n",
       "15  ['dredge pork chops in mixture of flour , salt...   \n",
       "36  ['preheat oven to 350 degrees', 'place spinach...   \n",
       "43  ['brown the meat & drain fat', 'stir in sugar ...   \n",
       "\n",
       "                                          description  \\\n",
       "15  here's and old standby i enjoy from time to ti...   \n",
       "36  if spinach scares you, this is one recipe that...   \n",
       "43  just the thing for a day when you're wanton so...   \n",
       "\n",
       "                                          ingredients  n_ingredients   age  \\\n",
       "15  lean pork chopsfloursaltdry mustardgarlic powd...              7  16.5   \n",
       "36  frozen chopped spinacheggsaltblack pepperonion...              8  17.3   \n",
       "43  ground beefsugarprepared yellow mustardbeercay...              8  16.3   \n",
       "\n",
       "    num_interactions  avg_rating  \\\n",
       "15                19        4.88   \n",
       "36               113        4.34   \n",
       "43                21        4.20   \n",
       "\n",
       "                                                  URL  \n",
       "15  https://www.food.com/recipe/chicken-lickin-goo...  \n",
       "36  https://www.food.com/recipe/how-i-got-my-famil...  \n",
       "43  https://www.food.com/recipe/immoral-sandwich-f...  "
      ]
     },
     "execution_count": 13,
     "metadata": {},
     "output_type": "execute_result"
    }
   ],
   "source": [
    "recipes_data.head(3)"
   ]
  },
  {
   "cell_type": "markdown",
   "metadata": {},
   "source": [
    "<a id='user-interaction'></a>\n",
    "### 1.3. Creating user-activity data & filtered interactions data"
   ]
  },
  {
   "cell_type": "markdown",
   "metadata": {},
   "source": [
    "Filter data flow:\n",
    "\n",
    "filter_interactions_data() -(calls)-> \n",
    "    (impute_average_rating(), (create_activity_data() \n",
    "                                        -(calls)-> get_user_activity_df())"
   ]
  },
  {
   "cell_type": "code",
   "execution_count": 112,
   "metadata": {},
   "outputs": [],
   "source": [
    "def impute_average_rating(row, df_uactivity):\n",
    "    if (row['rating'] == 0):\n",
    "        imputed_rating = round(df_uactivity.loc[df_uactivity.user_id == row.user_id, 'uavg_rating'].values[0], 0)\n",
    "        return imputed_rating\n",
    "    else:\n",
    "        return row.rating\n",
    "    \n",
    "def get_user_activity_df(interactions):\n",
    "    #Create a user activity dataframe\n",
    "    df_uactivity = interactions.groupby('user_id')['rating'].value_counts().unstack().fillna(0)\n",
    "    cols = list(df_uactivity)\n",
    "    df_uactivity['total_interactions'] = df_uactivity[cols].sum(axis=1)\n",
    "    df_uactivity['total_ratings'] = df_uactivity['total_interactions']-df_uactivity[0]\n",
    "    return df_uactivity\n",
    "\n",
    "def get_user_behavior(filtered_user_activity):\n",
    "    #calculate arithmetic mean of ratings for each user\n",
    "    filtered_user_activity['uavg_rating'] = filtered_user_activity.iloc[:,1:6].apply(\n",
    "        lambda row: np.round(np.ma.average(list(range(1,6)), \n",
    "                                           weights = (row[1], row[2], row[3], row[4], row[5])),1), axis = 1)\n",
    "    filtered_user_activity = filtered_user_activity.reset_index()\n",
    "    filtered_user_activity.columns.set_names(None, inplace = True)\n",
    "    return filtered_user_activity\n",
    "    \n",
    "def filter_users(interactions_df, thresh_high, thresh_low):\n",
    "    df_uactivity = get_user_activity_df(interactions_df[['recipe_id','user_id', 'rating']])\n",
    "    filtered_user_activity = df_uactivity.loc[(df_uactivity['total_interactions']>=thresh_low) &\n",
    "                                              (df_uactivity['total_interactions']<thresh_high), :]\n",
    "    \n",
    "    print(f'Number of users after filtering out users with less than {thresh_low} interactions: {len(filtered_user_activity)}')\n",
    "    \n",
    "    #drop users that only have only reviews but no ratings\n",
    "    filtered_user_activity.drop(filtered_user_activity[filtered_user_activity.total_ratings == 0].index, \n",
    "                                inplace=True, \n",
    "                                axis=0)\n",
    "    \n",
    "    #create average user ratings as behavior\n",
    "    filtered_user_activity = get_user_behavior(filtered_user_activity)\n",
    "    \n",
    "    return filtered_user_activity\n",
    "\n",
    "def filter_interactions_data(interactions_df, recipes_data, thresh_high, thresh_low):\n",
    "    \n",
    "    # 2. Filter interactions with active recipes -> Only interactions from active users and clean recipes remain\n",
    "    interactions = interactions_df[interactions_df.recipe_id.isin(recipes_data.recipe_id)]\n",
    "    \n",
    "    filtered_user_activity = filter_users(interactions, thresh_high, thresh_low)\n",
    "    # 1. Get user ids of active\n",
    "    #uids = filtered_user_activity.user_id.drop_duplicates().values\n",
    "    interactions = pd.merge(filtered_user_activity[['user_id', 'uavg_rating', 'total_interactions']], \n",
    "                                        interactions[['recipe_id','user_id', 'rating']], \n",
    "                                        how = 'left', on ='user_id')\n",
    "    \n",
    "    #interactions_data[interactions_data.user_id.isin(uids)]\n",
    "    \n",
    "#     pd.merge(recipes_data[['recipe_id']], \n",
    "#                             active_user_interactions[['recipe_id', 'user_id', 'rating', 'uavg_rating', 'total_interactions']], \n",
    "#                             on = 'recipe_id', \n",
    "#                             how ='left')\n",
    "    #impute ratings for interactions without ratings\n",
    "    zero_ratings = len(interactions.loc[interactions.rating==0])\n",
    "    interactions['rating'] = interactions.apply(lambda row: impute_average_rating(row, filtered_user_activity), axis=1)\n",
    "    print(f'Number of imputed ratings: {zero_ratings}')\n",
    "\n",
    "    return interactions[['user_id','recipe_id','rating','uavg_rating', 'total_interactions',]], filtered_user_activity"
   ]
  },
  {
   "cell_type": "code",
   "execution_count": 113,
   "metadata": {},
   "outputs": [
    {
     "name": "stdout",
     "output_type": "stream",
     "text": [
      "Number of users after filtering out users with less than 7 interactions: 10824\n"
     ]
    },
    {
     "name": "stderr",
     "output_type": "stream",
     "text": [
      "C:\\Users\\LiY140\\AppData\\Local\\Continuum\\anaconda3\\lib\\site-packages\\ipykernel_launcher.py:20: SettingWithCopyWarning: \n",
      "A value is trying to be set on a copy of a slice from a DataFrame.\n",
      "Try using .loc[row_indexer,col_indexer] = value instead\n",
      "\n",
      "See the caveats in the documentation: http://pandas.pydata.org/pandas-docs/stable/indexing.html#indexing-view-versus-copy\n"
     ]
    },
    {
     "name": "stdout",
     "output_type": "stream",
     "text": [
      "Number of imputed ratings: 6444\n"
     ]
    },
    {
     "data": {
      "text/html": [
       "<div>\n",
       "<style scoped>\n",
       "    .dataframe tbody tr th:only-of-type {\n",
       "        vertical-align: middle;\n",
       "    }\n",
       "\n",
       "    .dataframe tbody tr th {\n",
       "        vertical-align: top;\n",
       "    }\n",
       "\n",
       "    .dataframe thead th {\n",
       "        text-align: right;\n",
       "    }\n",
       "</style>\n",
       "<table border=\"1\" class=\"dataframe\">\n",
       "  <thead>\n",
       "    <tr style=\"text-align: right;\">\n",
       "      <th></th>\n",
       "      <th>user_id</th>\n",
       "      <th>recipe_id</th>\n",
       "      <th>rating</th>\n",
       "      <th>uavg_rating</th>\n",
       "      <th>total_interactions</th>\n",
       "    </tr>\n",
       "  </thead>\n",
       "  <tbody>\n",
       "    <tr>\n",
       "      <th>0</th>\n",
       "      <td>1533</td>\n",
       "      <td>96621</td>\n",
       "      <td>5.0</td>\n",
       "      <td>4.8</td>\n",
       "      <td>32.0</td>\n",
       "    </tr>\n",
       "    <tr>\n",
       "      <th>1</th>\n",
       "      <td>1533</td>\n",
       "      <td>2137</td>\n",
       "      <td>5.0</td>\n",
       "      <td>4.8</td>\n",
       "      <td>32.0</td>\n",
       "    </tr>\n",
       "    <tr>\n",
       "      <th>2</th>\n",
       "      <td>1533</td>\n",
       "      <td>132916</td>\n",
       "      <td>5.0</td>\n",
       "      <td>4.8</td>\n",
       "      <td>32.0</td>\n",
       "    </tr>\n",
       "    <tr>\n",
       "      <th>3</th>\n",
       "      <td>1533</td>\n",
       "      <td>13813</td>\n",
       "      <td>5.0</td>\n",
       "      <td>4.8</td>\n",
       "      <td>32.0</td>\n",
       "    </tr>\n",
       "    <tr>\n",
       "      <th>4</th>\n",
       "      <td>1533</td>\n",
       "      <td>57549</td>\n",
       "      <td>5.0</td>\n",
       "      <td>4.8</td>\n",
       "      <td>32.0</td>\n",
       "    </tr>\n",
       "  </tbody>\n",
       "</table>\n",
       "</div>"
      ],
      "text/plain": [
       "   user_id  recipe_id  rating  uavg_rating  total_interactions\n",
       "0     1533      96621     5.0          4.8                32.0\n",
       "1     1533       2137     5.0          4.8                32.0\n",
       "2     1533     132916     5.0          4.8                32.0\n",
       "3     1533      13813     5.0          4.8                32.0\n",
       "4     1533      57549     5.0          4.8                32.0"
      ]
     },
     "metadata": {},
     "output_type": "display_data"
    },
    {
     "name": "stdout",
     "output_type": "stream",
     "text": [
      "(222018, 5)\n"
     ]
    }
   ],
   "source": [
    "#filter interactions data such that only interaction with active users \n",
    "# and with recipes that were not filtered out before remain\n",
    "interactions, activity = filter_interactions_data(interactions_data, recipes_data, thresh_high=100, thresh_low=7)\n",
    "display(interactions.head())\n",
    "print(interactions.shape)"
   ]
  },
  {
   "cell_type": "code",
   "execution_count": 114,
   "metadata": {},
   "outputs": [
    {
     "name": "stdout",
     "output_type": "stream",
     "text": [
      "count    10818.000000\n",
      "mean        19.927343\n",
      "std         17.575824\n",
      "min          1.000000\n",
      "25%          9.000000\n",
      "50%         13.000000\n",
      "75%         23.000000\n",
      "max         99.000000\n",
      "Name: total_ratings, dtype: float64\n"
     ]
    },
    {
     "data": {
      "image/png": "[encoded data removed]",
      "text/plain": [
       "<Figure size 432x288 with 1 Axes>"
      ]
     },
     "metadata": {
      "needs_background": "light"
     },
     "output_type": "display_data"
    }
   ],
   "source": [
    "activity['total_ratings'].plot(kind='box', vert=False)\n",
    "print(activity.total_ratings.describe())"
   ]
  },
  {
   "cell_type": "code",
   "execution_count": 115,
   "metadata": {},
   "outputs": [
    {
     "name": "stdout",
     "output_type": "stream",
     "text": [
      "Percent of 5 star rating interactions: 79.31%\n",
      "Percent of 4 star rating interactions: 15.25%\n",
      "Percent of 3 star rating interactions: 3.59%\n",
      "Percent of 2 star rating interactions: 1.25%\n",
      "Percent of 1 star rating interactions: 0.61%\n"
     ]
    },
    {
     "data": {
      "image/png": "[encoded data removed]",
      "text/plain": [
       "<Figure size 432x288 with 1 Axes>"
      ]
     },
     "metadata": {
      "needs_background": "light"
     },
     "output_type": "display_data"
    }
   ],
   "source": [
    "#Let's look at the distribution of ratings\n",
    "get_rating_dist(interactions.rating)"
   ]
  },
  {
   "cell_type": "markdown",
   "metadata": {},
   "source": [
    "<a id='nlp-preprocessing'></a>\n",
    "### 1.4. NLP Preprocessing for recipe data"
   ]
  },
  {
   "cell_type": "code",
   "execution_count": 144,
   "metadata": {},
   "outputs": [
    {
     "name": "stderr",
     "output_type": "stream",
     "text": [
      "[nltk_data] Downloading package punkt to\n",
      "[nltk_data]     C:\\Users\\LiY140\\AppData\\Roaming\\nltk_data...\n",
      "[nltk_data]   Package punkt is already up-to-date!\n",
      "[nltk_data] Downloading package stopwords to\n",
      "[nltk_data]     C:\\Users\\LiY140\\AppData\\Roaming\\nltk_data...\n",
      "[nltk_data]   Package stopwords is already up-to-date!\n",
      "[nltk_data] Downloading package wordnet to\n",
      "[nltk_data]     C:\\Users\\LiY140\\AppData\\Roaming\\nltk_data...\n",
      "[nltk_data]   Package wordnet is already up-to-date!\n"
     ]
    },
    {
     "data": {
      "text/plain": [
       "True"
      ]
     },
     "execution_count": 144,
     "metadata": {},
     "output_type": "execute_result"
    }
   ],
   "source": [
    "nltk.download('punkt')\n",
    "nltk.download('stopwords')\n",
    "nltk.download('wordnet')"
   ]
  },
  {
   "cell_type": "code",
   "execution_count": 178,
   "metadata": {},
   "outputs": [],
   "source": [
    "def create_input (df, column_names):\n",
    "    df_content = df\n",
    "    df_content = df_content.assign(content= df.loc[:, (column_names)].apply(lambda texts: ' '.join(texts), axis=1))\n",
    "    df_content = df_content.drop(columns = column_names)\n",
    "    df_content['content']=df_content['content'].apply(lambda text: ' '.join(text.split()))\n",
    "    return df_content"
   ]
  },
  {
   "cell_type": "code",
   "execution_count": 183,
   "metadata": {},
   "outputs": [
    {
     "data": {
      "text/plain": [
       "(20371, 16)"
      ]
     },
     "execution_count": 183,
     "metadata": {},
     "output_type": "execute_result"
    }
   ],
   "source": [
    "#checking if all recipes are in interactions\n",
    "helper = pd.unique(interactions_data['recipe_id'])\n",
    "df_rfiltered = recipes_data[recipes_data.recipe_id.isin(helper)]\n",
    "df_rfiltered.shape"
   ]
  },
  {
   "cell_type": "code",
   "execution_count": 184,
   "metadata": {},
   "outputs": [
    {
     "data": {
      "text/html": [
       "<div>\n",
       "<style scoped>\n",
       "    .dataframe tbody tr th:only-of-type {\n",
       "        vertical-align: middle;\n",
       "    }\n",
       "\n",
       "    .dataframe tbody tr th {\n",
       "        vertical-align: top;\n",
       "    }\n",
       "\n",
       "    .dataframe thead th {\n",
       "        text-align: right;\n",
       "    }\n",
       "</style>\n",
       "<table border=\"1\" class=\"dataframe\">\n",
       "  <thead>\n",
       "    <tr style=\"text-align: right;\">\n",
       "      <th></th>\n",
       "      <th>recipe_id</th>\n",
       "      <th>content</th>\n",
       "    </tr>\n",
       "  </thead>\n",
       "  <tbody>\n",
       "    <tr>\n",
       "      <th>15</th>\n",
       "      <td>63986</td>\n",
       "      <td>chicken lickin good pork chops here's and old ...</td>\n",
       "    </tr>\n",
       "    <tr>\n",
       "      <th>17</th>\n",
       "      <td>23933</td>\n",
       "      <td>chinese candy a little different, and oh so go...</td>\n",
       "    </tr>\n",
       "    <tr>\n",
       "      <th>33</th>\n",
       "      <td>54100</td>\n",
       "      <td>grilled venison burgers delicious venison burg...</td>\n",
       "    </tr>\n",
       "    <tr>\n",
       "      <th>34</th>\n",
       "      <td>67664</td>\n",
       "      <td>healthy for them yogurt popsicles my children ...</td>\n",
       "    </tr>\n",
       "    <tr>\n",
       "      <th>36</th>\n",
       "      <td>25775</td>\n",
       "      <td>how i got my family to eat spinach spinach cas...</td>\n",
       "    </tr>\n",
       "  </tbody>\n",
       "</table>\n",
       "</div>"
      ],
      "text/plain": [
       "    recipe_id                                            content\n",
       "15      63986  chicken lickin good pork chops here's and old ...\n",
       "17      23933  chinese candy a little different, and oh so go...\n",
       "33      54100  grilled venison burgers delicious venison burg...\n",
       "34      67664  healthy for them yogurt popsicles my children ...\n",
       "36      25775  how i got my family to eat spinach spinach cas..."
      ]
     },
     "execution_count": 184,
     "metadata": {},
     "output_type": "execute_result"
    }
   ],
   "source": [
    "#flatten steps data\n",
    "df_rfiltered.steps = df_rfiltered.loc[:, ('steps')].str.replace(\"\\[\", \"\").str.replace(\"'\", \"\").str.replace(\"\\]\", \"\").str.replace(\",\",\"\").copy()\n",
    "\n",
    "#create content df\n",
    "df_rfiltered = create_input(df_rfiltered[['recipe_id', 'name', 'description', 'steps']], ['name', 'description', 'steps'])\n",
    "\n",
    "df_rfiltered.head()"
   ]
  },
  {
   "cell_type": "code",
   "execution_count": 185,
   "metadata": {},
   "outputs": [
    {
     "data": {
      "text/plain": [
       "(20371, 2)"
      ]
     },
     "execution_count": 185,
     "metadata": {},
     "output_type": "execute_result"
    }
   ],
   "source": [
    "#now process content\n",
    "content_processed = get_processed(df_rfiltered)\n",
    "content_processed.shape"
   ]
  },
  {
   "cell_type": "markdown",
   "metadata": {},
   "source": [
    "## Split data for evaluation"
   ]
  },
  {
   "cell_type": "code",
   "execution_count": 104,
   "metadata": {},
   "outputs": [
    {
     "data": {
      "text/plain": [
       "(199380, 5)"
      ]
     },
     "execution_count": 104,
     "metadata": {},
     "output_type": "execute_result"
    }
   ],
   "source": [
    "interactions.shape"
   ]
  },
  {
   "cell_type": "code",
   "execution_count": 138,
   "metadata": {},
   "outputs": [
    {
     "name": "stderr",
     "output_type": "stream",
     "text": [
      "C:\\Users\\LiY140\\AppData\\Local\\Continuum\\anaconda3\\lib\\site-packages\\ipykernel_launcher.py:20: FutureWarning: Sorting because non-concatenation axis is not aligned. A future version\n",
      "of pandas will change to not sort by default.\n",
      "\n",
      "To accept the future behavior, pass 'sort=False'.\n",
      "\n",
      "To retain the current behavior and silence the warning, pass 'sort=True'.\n",
      "\n"
     ]
    }
   ],
   "source": [
    "#Create train-test split of interaction data \n",
    "train_split, test_split = get_fixedN_test_train_split(interactions, 3)"
   ]
  },
  {
   "cell_type": "code",
   "execution_count": 141,
   "metadata": {
    "scrolled": true
   },
   "outputs": [
    {
     "data": {
      "text/plain": [
       "17.120339304931317"
      ]
     },
     "execution_count": 141,
     "metadata": {},
     "output_type": "execute_result"
    }
   ],
   "source": [
    "(len(test_split)/len(train_split))*100"
   ]
  },
  {
   "cell_type": "code",
   "execution_count": 140,
   "metadata": {},
   "outputs": [
    {
     "name": "stdout",
     "output_type": "stream",
     "text": [
      "Percent of 5 star rating interactions: 79.86%\n",
      "Percent of 4 star rating interactions: 14.54%\n",
      "Percent of 3 star rating interactions: 3.48%\n",
      "Percent of 2 star rating interactions: 1.41%\n",
      "Percent of 1 star rating interactions: 0.7%\n"
     ]
    },
    {
     "data": {
      "image/png": "[encoded data removed]",
      "text/plain": [
       "<Figure size 432x288 with 1 Axes>"
      ]
     },
     "metadata": {
      "needs_background": "light"
     },
     "output_type": "display_data"
    }
   ],
   "source": [
    "get_rating_dist(test_split.rating)"
   ]
  },
  {
   "cell_type": "code",
   "execution_count": 143,
   "metadata": {},
   "outputs": [
    {
     "name": "stdout",
     "output_type": "stream",
     "text": [
      "Percent of 5 star rating interactions: 79.21%\n",
      "Percent of 4 star rating interactions: 15.37%\n",
      "Percent of 3 star rating interactions: 3.6%\n",
      "Percent of 2 star rating interactions: 1.22%\n",
      "Percent of 1 star rating interactions: 0.59%\n"
     ]
    },
    {
     "data": {
      "image/png": "[encoded data removed]",
      "text/plain": [
       "<Figure size 432x288 with 1 Axes>"
      ]
     },
     "metadata": {
      "needs_background": "light"
     },
     "output_type": "display_data"
    }
   ],
   "source": [
    "get_rating_dist(train_split.rating)"
   ]
  },
  {
   "cell_type": "code",
   "execution_count": 137,
   "metadata": {},
   "outputs": [],
   "source": [
    "def get_fixedN_test_train_split(interactions, n):\n",
    "    \"\"\"\n",
    "    Parameters\n",
    "    ---------\n",
    "    \n",
    "    Returns\n",
    "    ---------\n",
    "    test_split: DataFrame\n",
    "        Interactions DataFrame containing only n interactions per user\n",
    "    train_split: DataFrame\n",
    "        Interactions DataFrame containing the rest of the interactions\n",
    "    \"\"\"\n",
    "    \n",
    "    test_split = pd.DataFrame(columns = ['user_id', 'recipe_id', 'rating'])\n",
    "    groups = interactions.groupby('user_id')\n",
    "    \n",
    "    #with progressbar.ProgressBar(max_value=len(interactions.user_id.drop_duplicates().values)) as bar:\n",
    "    for i, group in groups:\n",
    "        test_shard = group.sample(n=n, random_state=10)\n",
    "        test_split = pd.concat([test_split, test_shard], ignore_index=True)\n",
    "            \n",
    "    interactions = interactions.set_index(['user_id', 'recipe_id']).sort_index()    \n",
    "    test_split = test_split.set_index(['user_id', 'recipe_id']).sort_index()\n",
    "    train_split = interactions[~interactions.index.isin(test_split.index)]\n",
    "    \n",
    "    return train_split, test_split"
   ]
  },
  {
   "cell_type": "markdown",
   "metadata": {},
   "source": [
    "## Metrics functions"
   ]
  },
  {
   "cell_type": "code",
   "execution_count": 201,
   "metadata": {},
   "outputs": [],
   "source": [
    "def get_relevant_recipes(uid):\n",
    "    \"\"\"\n",
    "    Parameters:\n",
    "    --------\n",
    "    uid: \n",
    "    user id to fetch relevant recipes for\n",
    "    \n",
    "    Returns\n",
    "    --------\n",
    "    relevant_recipes: array\n",
    "    list of recipes the user has rated higher than 4\n",
    "    \"\"\"\n",
    "    user_interactions = interactions.loc[interactions['user_id']==uid, ['recipe_id', 'rating']]\n",
    "    relevant_recipes = user_interactions.loc[user_interactions.rating >= 4.0, 'recipe_id'].values\n",
    "    non_relevant_recipes = user_interactions.loc[user_interactions.rating < 4.0, 'recipe_id'].values\n",
    "    return relevant_recipes\n",
    "\n",
    "def get_hits(rec_dict):\n",
    "    \n",
    "    hits_total = [,,,,]\n",
    "    #loop over dict\n",
    "    \n",
    "    #for uid in rect_dict:\n",
    "        #get_relevant_recipes()\n",
    "        #hits = compare recs with relevant\n",
    "        # append(len(hits))\n",
    "    \n",
    "    return hits\n",
    "\n",
    "def get_avg_precision(hits_total, k):\n",
    "    \n",
    "    return avg_precision\n",
    "\n",
    "def get_avg_recall(hits_total, n):\n",
    "    \n",
    "    return avg_recall\n",
    "\n",
    "def get_f_one(precision, recall):\n",
    "    \n",
    "    return f_one\n",
    "\n",
    "def catalog_coverage(rec_dict, num_total_recipes):\n",
    "    #unique_recs = set union over all recommendations\n",
    "    #catalog_coverage = unique_recs\n",
    "    \n",
    "    return catalog_coverage\n",
    "\n",
    "def get_hits_old(uid, similarity, content, interactions, k):\n",
    "    \"\"\"\n",
    "    returns whether a recommendation was relevant or not\n",
    "    A recommendation is judged as relevant if it is part of the past ratings of the user and has been rated higher than 4.0\n",
    "    Parameters\n",
    "    ---------\n",
    "    recommendations: array\n",
    "    list of topk recipe ids for 1 user\n",
    "    \n",
    "    relevant_recipes: array\n",
    "    list of recipes the user has rated higher than 4\n",
    "    \n",
    "    Returns\n",
    "    ---------\n",
    "    \n",
    "    \"\"\"  \n",
    "    topk_recipes = pd.Series(get_topk_recipes_lean(uid, similarity, content, interactions, k))\n",
    "    \n",
    "    relevant_recipes = get_relevant_recipes(uid)\n",
    "    \n",
    "    hits = topk_recipes[topk_recipes.isin(relevant_recipes)]\n",
    "    \n",
    "    return hits\n",
    "\n",
    "def get_precision_old(uids, similarity, content, interactions, k):  \n",
    "    pbar = ProgressBar()\n",
    "    precision=[]\n",
    "    \n",
    "    for i in pbar(range(len(uids))):\n",
    "        hits = get_hits(uids[i], similarity, content, interactions, k)\n",
    "        prec = len(hits)/k\n",
    "        precision.append(prec)\n",
    "        \n",
    "    return precision"
   ]
  },
  {
   "cell_type": "code",
   "execution_count": 196,
   "metadata": {},
   "outputs": [
    {
     "name": "stderr",
     "output_type": "stream",
     "text": [
      "100% (16895 of 16895) |##################| Elapsed Time: 0:09:16 Time:  0:09:16\n"
     ]
    }
   ],
   "source": [
    "p = get_precision(interactions.user_id.drop_duplicates().values, cosine_sim, content_processed, interactions, 7)"
   ]
  },
  {
   "cell_type": "code",
   "execution_count": 209,
   "metadata": {},
   "outputs": [
    {
     "data": {
      "text/plain": [
       "0.013080793134063332"
      ]
     },
     "execution_count": 209,
     "metadata": {},
     "output_type": "execute_result"
    }
   ],
   "source": [
    "hitrate = sum(i > 0 for i in p)/len(p)\n",
    "hitrate"
   ]
  },
  {
   "cell_type": "code",
   "execution_count": 210,
   "metadata": {},
   "outputs": [],
   "source": [
    "average_precision = (sum(p)/len(p))*100"
   ]
  },
  {
   "cell_type": "code",
   "execution_count": 187,
   "metadata": {},
   "outputs": [
    {
     "data": {
      "text/plain": [
       "array([305776,  94164, 220846, 160432, 307882, 364964,  61591],\n",
       "      dtype=int64)"
      ]
     },
     "execution_count": 187,
     "metadata": {},
     "output_type": "execute_result"
    }
   ],
   "source": [
    "get_topk_recipes_lean(4470, cosine_sim, content_processed, interactions, 7)"
   ]
  },
  {
   "cell_type": "markdown",
   "metadata": {},
   "source": [
    "<a id='models'></a>\n",
    "## 2. Models"
   ]
  },
  {
   "cell_type": "markdown",
   "metadata": {},
   "source": [
    "<a id='general-functions'></a>\n",
    "### 2.0 General functions"
   ]
  },
  {
   "cell_type": "markdown",
   "metadata": {},
   "source": [
    "<a id='recommendation-functions'></a>\n",
    "#### 2.0.1 Recommendations functions for precision"
   ]
  },
  {
   "cell_type": "code",
   "execution_count": 191,
   "metadata": {},
   "outputs": [],
   "source": [
    "#return top k predicted ratings in readable form \n",
    "\n",
    "# IMPORTANT: must set the dataframe for recipe_info index == recipe_id!\n",
    "def get_user_recommendations(user_id, similarity, content, interactions, recipe_info, k):\n",
    "    \"\"\"\n",
    "     Returns\n",
    "    ----------\n",
    "    info:\n",
    "        HTML dataframe with recommendation information\n",
    "    \"\"\"\n",
    "    #get top k recipe ids\n",
    "    topk_recipes, predictions, recipeurls, imageurls = get_topk_recipes(user_id, similarity, content, interactions, k)\n",
    "    info = recipe_info.loc[topk_recipes]\n",
    "    info = info[['name', 'minutes', 'submitted', 'description']]\n",
    "    info['prediction'] = predictions\n",
    "    info['recipeurl'] = recipeurls\n",
    "    info['imageurl'] = imageurls\n",
    "    for index, row in info.iterrows():\n",
    "        info.at[index, 'recipeurl'] = '<a href=\"'+ row['recipeurl'] + '\">'+row['recipeurl'] +'</a>'\n",
    "        info.at[index, 'imageurl'] = '<a href=\"'+ row['imageurl'] + '\"> Image of recipe '+str(index)+'</a>'\n",
    "    info = HTML(info.to_html(escape=False))\n",
    "    return info\n",
    "\n",
    "def get_topk_recipes(user_id, similarity, content, interactions, k):\n",
    "    \"\"\"\n",
    "     Returns\n",
    "    ----------\n",
    "    topk_recipes:\n",
    "        array of top k recipe ids\n",
    "    predictions:\n",
    "        array with top k predictions\n",
    "    recipeurls:\n",
    "        array with top k recipe urls\n",
    "    imageurls:\n",
    "        array with top k recipe imageurls\n",
    "    \"\"\"\n",
    "    prediction_df = get_user_preference(user_id,similarity, content, interactions)\n",
    "    #take only the not yet seen recipes\n",
    "    #new_predictions = prediction_df[prediction_df['has_rated'] == False]\n",
    "    #sort predictions\n",
    "    ordered_predictions = new_predictions.sort_values(by='prediction', ascending=False)\n",
    "    #get recipe_id array\n",
    "    topk_recipes = ordered_predictions.index[:k].values\n",
    "    imageurls = []\n",
    "    recipeurls = []\n",
    "    for entry in topk_recipes:\n",
    "        recipeurls.append(\"https://www.food.com/recipe/\" + str(entry))\n",
    "        imageurls.append(get_image_source_url(entry))\n",
    "    predictions = ordered_predictions.prediction[:k].values\n",
    "    return topk_recipes, predictions, recipeurls, imageurls\n",
    "\n",
    "#return predictions for 1 user\n",
    "def get_user_preference(user_id, similarity, content, interactions_data):\n",
    "    \"\"\"\n",
    "     Returns\n",
    "    ----------\n",
    "    prediction_df:\n",
    "        DataFrame in with columns ['recipe_id','prediction', 'has_rated'] for 1 user\n",
    "    \"\"\"\n",
    "    #prepare similarity dataframe\n",
    "    sim = pd.DataFrame(similarity, index=content['recipe_id'].values, columns=content['recipe_id'].values)\n",
    "    #get already rated recipes of user\n",
    "    rated_recipes = interactions_data.loc[interactions_data['user_id']==user_id, 'recipe_id'].values\n",
    "    #get similarities of ALL recipes w/ already rated recipes of user\n",
    "    sim_rated_all = sim.loc[rated_recipes, :]\n",
    "    #get ratings of already rated recipes\n",
    "    ratings = get_reshaped_ratings(user_id, interactions_data)\n",
    "    \n",
    "    #compute weighted similarities between all recipes and already rated recipes\n",
    "    weighted_sim = np.dot(ratings,sim_rated_all)\n",
    "    #compute normalization constant\n",
    "    norm_const = np.array(np.abs(sim_rated_all).sum(axis=0))\n",
    "    #return sorted predictions\n",
    "    pref_predictions = weighted_sim/norm_const\n",
    "    \n",
    "    flat_predictions = [item for sublist in pref_predictions for item in sublist]\n",
    "    #return df with recipe id also\n",
    "    prediction_df = pd.DataFrame(flat_predictions, index=content['recipe_id'].values, columns =['prediction'])\n",
    "    #indicate the already tried recipes\n",
    "    prediction_df['has_rated'] = prediction_df.index.isin(rated_recipes)\n",
    "    #order predictions\n",
    "    return prediction_df\n",
    "\n",
    "#arrange ratings for matrix multiplication\n",
    "def get_reshaped_ratings(user_id, interactions_data):\n",
    "    ratings = interactions_data.loc[interactions_data['user_id']==user_id, :]\n",
    "    ratings.set_index('recipe_id', inplace=True)\n",
    "    ratings.index.set_names(None, inplace = True)\n",
    "    ratings = ratings.drop(columns='user_id')\n",
    "    ratings = ratings.transpose()\n",
    "    ratings.rename(index={'rating':user_id}, inplace=True)\n",
    "    return ratings.loc[ratings.index==user_id]"
   ]
  },
  {
   "cell_type": "code",
   "execution_count": 192,
   "metadata": {},
   "outputs": [],
   "source": [
    "def make_all_recommendations(user_ids, similarity, content, interactions, k):\n",
    "    \"\"\"\n",
    "    Params\n",
    "    --------\n",
    "    user_ids: Array\n",
    "        list of user ids\n",
    "    similarity: Array \n",
    "        similarity matrix with shape (#recipes, #recipes).\n",
    "    content: DataFrame\n",
    "        processed DataFrame with ['recipe_id', 'content'] used to fetch all recipes ids to make recommendations for \n",
    "        (=total training data)\n",
    "    interactions: DataFrame\n",
    "        preprocessed interactions DataFrame ['recipe_id', 'user_id', 'rating']     \n",
    "    k: integer\n",
    "        number of recommendations to make\n",
    "    Returns:\n",
    "    --------\n",
    "    nested_recommendations:\n",
    "        nested list of recommended recipe_ids for each user in param list\n",
    "        example:[[rid1, rid20, rid30...], [rid1, rid20, rid30...],[rid1, rid20, rid30...]]\n",
    "    \"\"\"\n",
    "    pbar = ProgressBar()\n",
    "    nested_recommendations={}\n",
    "    for i in pbar(range(len(user_ids))):\n",
    "        recs = get_topk_recipes_lean(user_ids[i], similarity, content, interactions, k)\n",
    "        nested_recommendations[user_ids[i]]:recs\n",
    "    return nested_recommendations\n",
    "\n",
    "def get_topk_recipes_lean(user_id, similarity, content, interactions, k):\n",
    "    \"\"\"\n",
    "     Returns\n",
    "    ----------\n",
    "    topk_recipes:\n",
    "        array of top k recipe ids\n",
    "    predictions:\n",
    "        array with top k predictions\n",
    "    recipeurls:\n",
    "        array with top k recipe urls\n",
    "    imageurls:\n",
    "        array with top k recipe imageurls\n",
    "    \"\"\"\n",
    "    prediction_df = get_user_preference(user_id, similarity, content, interactions)\n",
    "    #sort predictions\n",
    "    ordered_predictions = prediction_df.sort_values(by='prediction', ascending=False)\n",
    "    #get recipe_id array\n",
    "    topk_recipes = ordered_predictions.index[:k].values\n",
    "    predictions = ordered_predictions.prediction[:k].values\n",
    "    return topk_recipes"
   ]
  },
  {
   "cell_type": "code",
   "execution_count": 24,
   "metadata": {},
   "outputs": [],
   "source": [
    "#Source: https://github.com/statisticianinstilettos/recmetrics/\n",
    "import random\n",
    "import scipy.sparse as sp\n",
    "\n",
    "# # input = nested_recommendations from make_all_recommendations\n",
    "# def catalog_coverage(predicted, catalog, k):\n",
    "#     \"\"\"\n",
    "#     Computes the catalog coverage for k lists of recommendations\n",
    "#     Parameters\n",
    "#     ----------\n",
    "#     predicted : a list of lists\n",
    "#         Ordered predictions\n",
    "#         example: [['X', 'Y', 'Z'], ['X', 'Y', 'Z']]\n",
    "#     catalog: list\n",
    "#         A list of all unique items in the training data\n",
    "#         example: ['A', 'B', 'C', 'X', 'Y', Z]\n",
    "#     k: integer\n",
    "#         The number of observed recommendation lists\n",
    "#         which randomly choosed in our offline setup\n",
    "#     Returns\n",
    "#     ----------\n",
    "#     catalog_coverage:\n",
    "#         The catalog coverage of the recommendations as a percent\n",
    "#         rounded to 2 decimal places\n",
    "#     ----------    \n",
    "#     Metric Defintion:\n",
    "#     Ge, M., Delgado-Battenfeld, C., & Jannach, D. (2010, September).\n",
    "#     Beyond accuracy: evaluating recommender systems by coverage and serendipity.\n",
    "#     In Proceedings of the fourth ACM conference on Recommender systems (pp. 257-260). ACM.\n",
    "#     \"\"\"\n",
    "#     sampling = random.choices(predicted, k=k)\n",
    "#     predicted_flattened = [p for sublist in sampling for p in sublist]\n",
    "#     L_predictions = len(set(predicted_flattened))\n",
    "#     catalog_coverage = round(L_predictions/(len(catalog)*1.0)*100,2)\n",
    "#     return catalog_coverage\n",
    "\n",
    "# def personalization(predicted):\n",
    "#     \"\"\"\n",
    "#     Personalization measures recommendation similarity across users.\n",
    "#     A high score indicates good personalization (user's lists of recommendations are different).\n",
    "#     A low score indicates poor personalization (user's lists of recommendations are very similar).\n",
    "#     A model is \"personalizing\" well if the set of recommendations for each user is different.\n",
    "#     Parameters:\n",
    "#     ----------\n",
    "#     predicted : a list of lists\n",
    "#         Ordered predictions\n",
    "#         example: [['X', 'Y', 'Z'], ['X', 'Y', 'Z']]\n",
    "#     Returns:\n",
    "#     -------\n",
    "#         The personalization score for all recommendations.\n",
    "#     \"\"\"\n",
    "\n",
    "#     def make_rec_matrix(predicted):\n",
    "#         df = pd.DataFrame(data=predicted).reset_index().melt(\n",
    "#             id_vars='index', value_name='item',\n",
    "#         )\n",
    "#         df = df[['index', 'item']].pivot(index='index', columns='item', values='item')\n",
    "#         df = pd.notna(df)*1\n",
    "#         rec_matrix = sp.csr_matrix(df.values)\n",
    "#         return rec_matrix\n",
    "\n",
    "#     #create matrix for recommendations\n",
    "#     predicted = np.array(predicted)\n",
    "#     rec_matrix_sparse = make_rec_matrix(predicted)\n",
    "\n",
    "#     #calculate similarity for every user's recommendation list\n",
    "#     similarity = cosine_similarity(X=rec_matrix_sparse, dense_output=False)\n",
    "\n",
    "#     #get indicies for upper right triangle w/o diagonal\n",
    "#     upper_right = np.triu_indices(similarity.shape[0], k=1)\n",
    "\n",
    "#     #calculate average similarity\n",
    "#     personalization = np.mean(similarity[upper_right])\n",
    "#     return 1-personalization"
   ]
  },
  {
   "cell_type": "markdown",
   "metadata": {},
   "source": [
    "<a id='prediction-functions'></a>\n",
    "#### 2.0.2 Prediction function for RMSE"
   ]
  },
  {
   "cell_type": "code",
   "execution_count": 189,
   "metadata": {},
   "outputs": [],
   "source": [
    "#prediction for 1 already rated recipe based on similarities to other already rated recipes\n",
    "\n",
    "def get_one_prediction(similarity, content, interactions, user_id, recipe_id):\n",
    "    sim = pd.DataFrame(similarity, index=content['recipe_id'].values, columns=content['recipe_id'].values)\n",
    "    #get already rated recipes of user\n",
    "    rated_recipes = interactions[interactions['user_id']==user_id]['recipe_id'].values\n",
    "    #get similarities of to be predicted recipe rating with already rated recipes by user x\n",
    "    sim_rated = sim.loc[sim.index==recipe_id, rated_recipes].loc[recipe_id].values\n",
    "    #get ratings of rated recipes\n",
    "    ratings = interactions[interactions['user_id']==user_id]['rating'].values\n",
    "    \n",
    "    actual = interactions.loc[(interactions.user_id==user_id) & (interactions.recipe_id==recipe_id)]['rating'].values[0]\n",
    "    prediction = np.dot(ratings, sim_rated) /np.array([np.abs(sim_rated).sum(axis=0)])\n",
    "    return actual, prediction"
   ]
  },
  {
   "cell_type": "code",
   "execution_count": 193,
   "metadata": {},
   "outputs": [],
   "source": [
    "def make_all_predictions(num_interactions, similarity, content, interactions, uid_array, rids_array):\n",
    "    predictions_cos = []\n",
    "    actual_cos = []\n",
    "    pbar = ProgressBar()\n",
    "    \n",
    "    for i in pbar(range(num_interactions)):\n",
    "        act, pred = get_one_prediction(similarity, content, interactions, uid_array[i], rids_array[i])\n",
    "        predictions_cos.append(pred)\n",
    "        actual_cos.append(act)\n",
    "        \n",
    "    return predictions_cos, actual_cos\n"
   ]
  },
  {
   "cell_type": "code",
   "execution_count": 27,
   "metadata": {
    "pycharm": {
     "name": "#%%\n"
    }
   },
   "outputs": [],
   "source": [
    "#only relevant if there is a recipe sample\n",
    "\n",
    "# def get_interaction_processed(processed, interactions):\n",
    "#     #fetch only interactions in the preprocessed sample\n",
    "#     interactions_processed = interactions.loc[interactions.recipe_id.isin(processed.recipe_id)]\\\n",
    "#                            .reset_index()\\\n",
    "#                            .drop(columns=['index'])\n",
    "#     print(f'Interactions before processing: {len(interactions.index)}\\nInteractions covered in sample: {len(interactions_processed.index)}')\n",
    "#     return interactions_processed"
   ]
  },
  {
   "cell_type": "markdown",
   "metadata": {},
   "source": [
    "<a id='cosine'></a>\n",
    "### 2.1. Cosine similarity"
   ]
  },
  {
   "cell_type": "markdown",
   "metadata": {},
   "source": [
    "<a id='tfidf-svd'></a>\n",
    "#### 2.1.1 Tfidf & SVD"
   ]
  },
  {
   "cell_type": "code",
   "execution_count": 194,
   "metadata": {},
   "outputs": [],
   "source": [
    "from sklearn.feature_extraction.text import TfidfVectorizer\n",
    "from sklearn.decomposition import TruncatedSVD\n",
    "from sklearn.metrics.pairwise import cosine_similarity"
   ]
  },
  {
   "cell_type": "code",
   "execution_count": 195,
   "metadata": {},
   "outputs": [],
   "source": [
    "def get_cos_sim_matrix(processed, n_components):\n",
    "    tfidf = TfidfVectorizer(stop_words='english')\n",
    "    processed['content'] = processed['content'].fillna('')\n",
    "    tfidf_matrix = tfidf.fit_transform(processed['content'])\n",
    "    #reduce dimensionality of tfidf matrix\n",
    "    svd = TruncatedSVD(n_components=n_components, random_state=42)\n",
    "    tfidf_truncated = svd.fit_transform(tfidf_matrix) \n",
    "    cosine_sim = cosine_similarity(tfidf_truncated,tfidf_truncated)\n",
    "    return cosine_sim"
   ]
  },
  {
   "cell_type": "code",
   "execution_count": 41,
   "metadata": {},
   "outputs": [
    {
     "data": {
      "text/plain": [
       "(11090, 11090)"
      ]
     },
     "execution_count": 41,
     "metadata": {},
     "output_type": "execute_result"
    }
   ],
   "source": [
    "cosine_sim = get_cos_sim_matrix(content_processed, 10)\n",
    "cosine_sim.shape"
   ]
  },
  {
   "cell_type": "markdown",
   "metadata": {},
   "source": [
    "#### 2.1.1.3 Optimize n_components of tfidf/SVD"
   ]
  },
  {
   "cell_type": "code",
   "execution_count": 198,
   "metadata": {},
   "outputs": [],
   "source": [
    "def tuning_cos_rmse(n_components, content, interactions, uid_array, rids_array):\n",
    "    rmse_cos = []\n",
    "    \n",
    "    for n in n_components:\n",
    "        print(\"Computing predictions & recommendations for:\", n)\n",
    "        similarity = get_cos_sim_matrix(content, n)\n",
    "        \n",
    "        predictions, actuals = make_all_predictions(len(interactions), \n",
    "                                                    similarity, \n",
    "                                                    content, \n",
    "                                                    interactions, \n",
    "                                                    uid_array, \n",
    "                                                    rids_array)\n",
    "        rmse = mean_squared_error(predictions, actuals)**0.5\n",
    "        print(n, '=n_components', 'rmse:', rmse)\n",
    "        rmse_cos.append(rmse)\n",
    "        \n",
    "           \n",
    "    return rmse_cos"
   ]
  },
  {
   "cell_type": "code",
   "execution_count": null,
   "metadata": {},
   "outputs": [],
   "source": [
    "def tuning_cos_prec(n_components, content, interactions, uid_array, k):\n",
    "    coverage_cos = []\n",
    "    f_one_cos =[]\n",
    "    \n",
    "    for n in n_components:\n",
    "        print(\"Computing recommendations for:\", n)\n",
    "        similarity = get_cos_sim_matrix(content, n)\n",
    "\n",
    "        all_recommendations = make_all_recommendations(uid_array, \n",
    "                                                          similarity, \n",
    "                                                          content, \n",
    "                                                          interactions, \n",
    "                                                          k)\n",
    "        coverage = catalog_coverage(nested_recommendations, content.recipe_id.values, k)\n",
    "        pers = personalization(nested_recommendations)\n",
    "        \n",
    "        coverage_cos.append(coverage)\n",
    "        personalization_cos.append(pers)\n",
    "           \n",
    "    return coverage_cos, f_one_cos"
   ]
  },
  {
   "cell_type": "code",
   "execution_count": 202,
   "metadata": {},
   "outputs": [],
   "source": [
    "train_split = train_split.reset_index()"
   ]
  },
  {
   "cell_type": "code",
   "execution_count": 203,
   "metadata": {},
   "outputs": [
    {
     "name": "stdout",
     "output_type": "stream",
     "text": [
      "Computing predictions & recommendations for: 5\n"
     ]
    },
    {
     "name": "stderr",
     "output_type": "stream",
     "text": [
      "100% (189564 of 189564) |################| Elapsed Time: 0:34:38 Time:  0:34:38\n"
     ]
    },
    {
     "name": "stdout",
     "output_type": "stream",
     "text": [
      "5 =n_components rmse: 0.5623726854340171\n",
      "Computing predictions & recommendations for: 20\n"
     ]
    },
    {
     "name": "stderr",
     "output_type": "stream",
     "text": [
      "100% (189564 of 189564) |################| Elapsed Time: 0:34:57 Time:  0:34:57\n"
     ]
    },
    {
     "name": "stdout",
     "output_type": "stream",
     "text": [
      "20 =n_components rmse: 0.53260491635428\n",
      "Computing predictions & recommendations for: 50\n"
     ]
    },
    {
     "name": "stderr",
     "output_type": "stream",
     "text": [
      "100% (189564 of 189564) |################| Elapsed Time: 0:34:35 Time:  0:34:35\n"
     ]
    },
    {
     "name": "stdout",
     "output_type": "stream",
     "text": [
      "50 =n_components rmse: 0.5068724929752587\n",
      "Computing predictions & recommendations for: 100\n"
     ]
    },
    {
     "name": "stderr",
     "output_type": "stream",
     "text": [
      "100% (189564 of 189564) |################| Elapsed Time: 0:34:28 Time:  0:34:28\n"
     ]
    },
    {
     "name": "stdout",
     "output_type": "stream",
     "text": [
      "100 =n_components rmse: 0.48286413425270075\n"
     ]
    }
   ],
   "source": [
    "n_components=[5, 20, 50 , 100]\n",
    "\n",
    "rmse_cos_tune= tuning_cos_rmse(n_components,\n",
    "                                content_processed,\n",
    "                                train_split,\n",
    "                                train_split['user_id'].values,\n",
    "                                train_split['recipe_id'].values, \n",
    "                                )"
   ]
  },
  {
   "cell_type": "code",
   "execution_count": null,
   "metadata": {},
   "outputs": [],
   "source": [
    "n_components=[5, 20, 50 , 100]\n",
    "coverage_cos_tune, f_one_cos_tune= tuning_cos_rec(n_components,\n",
    "                                                  content_processed,\n",
    "                                                  interactions,\n",
    "                                                  interactions['user_id'].drop_duplicates().values,\n",
    "                                                  5)"
   ]
  },
  {
   "cell_type": "code",
   "execution_count": null,
   "metadata": {},
   "outputs": [],
   "source": [
    "# plt.plot(n_components, rmse_cos_tune)\n",
    "# plt.xlabel('n_components')\n",
    "# plt.ylabel('RMSE')\n",
    "# plt.title('RMSE for different tfidv/SVD models')\n",
    "# plt.plot([n_components_min], [rmse_cos_min], 'o')\n",
    "# plt.show()"
   ]
  },
  {
   "cell_type": "markdown",
   "metadata": {},
   "source": [
    "#### 2.1.1.1 Make all recommendations for tfidf/SVD"
   ]
  },
  {
   "cell_type": "code",
   "execution_count": 42,
   "metadata": {},
   "outputs": [
    {
     "name": "stderr",
     "output_type": "stream",
     "text": [
      "100% |########################################################################|\n"
     ]
    }
   ],
   "source": [
    "pd.set_option('mode.chained_assignment', None)\n",
    "\n",
    "nested_recommendations = make_all_recommendations(interactions['user_id'].drop_duplicates().values, cosine_sim, content_processed, interactions, 5)"
   ]
  },
  {
   "cell_type": "code",
   "execution_count": 43,
   "metadata": {},
   "outputs": [
    {
     "data": {
      "text/plain": [
       "0.23"
      ]
     },
     "execution_count": 43,
     "metadata": {},
     "output_type": "execute_result"
    }
   ],
   "source": [
    "catalog_coverage(nested_recommendations, content_processed.recipe_id.values, 5)"
   ]
  },
  {
   "cell_type": "code",
   "execution_count": 44,
   "metadata": {},
   "outputs": [
    {
     "data": {
      "text/plain": [
       "0.9965360944134543"
      ]
     },
     "execution_count": 44,
     "metadata": {},
     "output_type": "execute_result"
    }
   ],
   "source": [
    "personalization(nested_recommendations)"
   ]
  },
  {
   "cell_type": "markdown",
   "metadata": {},
   "source": [
    "#### 2.1.1.2 Make all predictions for tfidf/SVD"
   ]
  },
  {
   "cell_type": "code",
   "execution_count": null,
   "metadata": {},
   "outputs": [],
   "source": [
    "predictions_cos, actual_cos = make_all_predictions(len(interactions), cosine_sim, content_processed, interactions, \n",
    "                                            interactions['user_id'].values, interactions['recipe_id'].values)"
   ]
  },
  {
   "cell_type": "code",
   "execution_count": null,
   "metadata": {
    "pycharm": {
     "name": "#%%\n"
    }
   },
   "outputs": [],
   "source": [
    "rmse_cos = mean_squared_error(predictions_cos, actual_cos)**0.5\n",
    "mae_cos = mean_absolute_error(predictions_cos, actual_cos)\n",
    "print(f'RMSE: {rmse_cos}, MAE: {mae_cos}')"
   ]
  },
  {
   "cell_type": "code",
   "execution_count": null,
   "metadata": {},
   "outputs": [],
   "source": [
    "interactions['predicted_rating'] = [item for sublist in predictions_cos for item in sublist]\n",
    "get_rating_dist(round(interactions.predicted_rating))"
   ]
  },
  {
   "cell_type": "markdown",
   "metadata": {},
   "source": [
    "<a id='word-embeddings'></a>\n",
    "#### 2.1.2 WordEmbeddings"
   ]
  },
  {
   "cell_type": "code",
   "execution_count": 29,
   "metadata": {},
   "outputs": [],
   "source": [
    "content_comma_separated = [content_item.split(\" \") for content_item in content_processed[\"content\"]]"
   ]
  },
  {
   "cell_type": "markdown",
   "metadata": {},
   "source": [
    "#### Optimize size parameter"
   ]
  },
  {
   "cell_type": "code",
   "execution_count": 38,
   "metadata": {},
   "outputs": [],
   "source": [
    "from progressbar import ProgressBar\n",
    "\n",
    "def tuning_size_param(sizes, processed, content_comma_separated, interactions):\n",
    "    pbar = ProgressBar()\n",
    "    \n",
    "    rmse_word_emb = []\n",
    "\n",
    "    uids = interactions['user_id'].values\n",
    "    rids = interactions['recipe_id'].values\n",
    "\n",
    "    for size in pbar(sizes):\n",
    "        model = Word2Vec(content_comma_separated, size=size)\n",
    "        word2vector = dict(zip(model.wv.index2word, model.wv.vectors))\n",
    "        \n",
    "        tfidf = TfidfVectorizer(analyzer=lambda x: x)\n",
    "        tfidf.fit(content_comma_separated)\n",
    "\n",
    "        max_idf = max(tfidf.idf_)\n",
    "        word2word = collections.defaultdict(\n",
    "            lambda: max_idf,\n",
    "            [(w, tfidf.idf_[i]) for w, i in tfidf.vocabulary_.items()])\n",
    "\n",
    "        dim = len(word2vector.items())\n",
    "        tfidf_matrix = np.array([\n",
    "            np.mean([word2vector[w] * word2word[w]\n",
    "                     for w in words if w in word2vector] or\n",
    "                    [np.zeros(dim)], axis=0)\n",
    "            for words in content_comma_separated\n",
    "        ])\n",
    "        similarity_matrix = cosine_similarity(tfidf_matrix, tfidf_matrix)\n",
    "        \n",
    "        predictions_word_emb, actual_word_emb = [], []\n",
    "        pbar_single = ProgressBar()\n",
    "        for i in pbar_single(range(len(interactions_data))):\n",
    "            try:\n",
    "                act, pred = get_one_prediction(similarity_matrix, processed, interactions, uids[i], rids[i])\n",
    "                predictions_word_emb.append(pred)\n",
    "                actual_word_emb.append(act)         \n",
    "            except:\n",
    "                next\n",
    "        rmse = mean_squared_error(predictions_word_emb, actual_word_emb)**0.5\n",
    "        rmse_word_emb.append(rmse)\n",
    "            \n",
    "    return rmse_word_emb"
   ]
  },
  {
   "cell_type": "code",
   "execution_count": 39,
   "metadata": {},
   "outputs": [
    {
     "name": "stderr",
     "output_type": "stream",
     "text": [
      "100% |########################################################################|\n",
      "100% |########################################################################|\n",
      "100% |########################################################################|\n",
      "100% |########################################################################|\n",
      "100% |########################################################################|\n"
     ]
    },
    {
     "ename": "NameError",
     "evalue": "name 'lmbdas' is not defined",
     "output_type": "error",
     "traceback": [
      "\u001b[1;31m---------------------------------------------------------------------------\u001b[0m",
      "\u001b[1;31mNameError\u001b[0m                                 Traceback (most recent call last)",
      "\u001b[1;32m<ipython-input-39-121c05e90481>\u001b[0m in \u001b[0;36m<module>\u001b[1;34m\u001b[0m\n\u001b[0;32m      5\u001b[0m \u001b[0mrmse_word_emb_min\u001b[0m \u001b[1;33m=\u001b[0m \u001b[0mmin\u001b[0m\u001b[1;33m(\u001b[0m\u001b[0mrmse_word_emb_tune\u001b[0m\u001b[1;33m)\u001b[0m\u001b[1;33m\u001b[0m\u001b[1;33m\u001b[0m\u001b[0m\n\u001b[0;32m      6\u001b[0m \u001b[0mrmse_word_emb_min_idx\u001b[0m \u001b[1;33m=\u001b[0m \u001b[0mrmse_word_emb_tune\u001b[0m\u001b[1;33m.\u001b[0m\u001b[0mindex\u001b[0m\u001b[1;33m(\u001b[0m\u001b[0mrmse_word_emb_min\u001b[0m\u001b[1;33m)\u001b[0m\u001b[1;33m\u001b[0m\u001b[1;33m\u001b[0m\u001b[0m\n\u001b[1;32m----> 7\u001b[1;33m \u001b[0msize_min\u001b[0m \u001b[1;33m=\u001b[0m \u001b[0mlmbdas\u001b[0m\u001b[1;33m[\u001b[0m\u001b[0mrmse_word_emb_min_idx\u001b[0m\u001b[1;33m]\u001b[0m\u001b[1;33m\u001b[0m\u001b[1;33m\u001b[0m\u001b[0m\n\u001b[0m",
      "\u001b[1;31mNameError\u001b[0m: name 'lmbdas' is not defined"
     ]
    }
   ],
   "source": [
    "sizes = [100,200,300,400]\n",
    "rmse_word_emb_tune = tuning_size_param(sizes,\n",
    "                                 content_processed,\n",
    "                                 content_comma_separated,\n",
    "                                 interactions)\n",
    "rmse_word_emb_min = min(rmse_word_emb_tune)\n",
    "rmse_word_emb_min_idx = rmse_word_emb_tune.index(rmse_word_emb_min)\n",
    "size_min = sizes[rmse_word_emb_min_idx]"
   ]
  },
  {
   "cell_type": "code",
   "execution_count": 44,
   "metadata": {},
   "outputs": [
    {
     "data": {
      "image/png": "[encoded data removed]",
      "text/plain": [
       "<Figure size 432x288 with 1 Axes>"
      ]
     },
     "metadata": {
      "needs_background": "light"
     },
     "output_type": "display_data"
    }
   ],
   "source": [
    "import matplotlib.pyplot as plt\n",
    "\n",
    "plt.plot(sizes, rmse_word_emb_tune)\n",
    "plt.xlabel('Size')\n",
    "plt.ylabel('RMSE')\n",
    "plt.title('RMSE for different Word Embedding models')\n",
    "plt.plot([size_min], [rmse_word_emb_min], 'o')\n",
    "plt.show()"
   ]
  },
  {
   "cell_type": "markdown",
   "metadata": {},
   "source": [
    "#### Train Model"
   ]
  },
  {
   "cell_type": "code",
   "execution_count": 31,
   "metadata": {},
   "outputs": [],
   "source": [
    "from gensim.models import Word2Vec \n",
    "model = Word2Vec(content_comma_separated, size=size_min)\n",
    "word2vector = dict(zip(model.wv.index2word, model.wv.vectors))"
   ]
  },
  {
   "cell_type": "code",
   "execution_count": 32,
   "metadata": {},
   "outputs": [],
   "source": [
    "import collections\n",
    "\n",
    "# Calculate tfidf vector\n",
    "tfidf = TfidfVectorizer(analyzer=lambda x: x)\n",
    "tfidf.fit(content_comma_separated)\n",
    "\n",
    "# if a word was never seen - it must be at least as infrequent\n",
    "# as any of the known words - so the default idf is the max of \n",
    "# known idf's\n",
    "max_idf = max(tfidf.idf_)\n",
    "# Generate word2word matrix\n",
    "word2word = collections.defaultdict(\n",
    "    lambda: max_idf,\n",
    "    [(w, tfidf.idf_[i]) for w, i in tfidf.vocabulary_.items()])\n",
    "\n",
    "# if a text is empty we should return a vector of zeros\n",
    "# with the same dimensionality as all the other vectors\n",
    "dim = len(word2vector.items())\n",
    "# Generate tfidf matrix\n",
    "tfidf_matrix = np.array([\n",
    "    np.mean([word2vector[w] * word2word[w]\n",
    "             for w in words if w in word2vector] or\n",
    "            [np.zeros(dim)], axis=0)\n",
    "    for words in content_comma_separated\n",
    "])"
   ]
  },
  {
   "cell_type": "code",
   "execution_count": 33,
   "metadata": {},
   "outputs": [],
   "source": [
    "similarity_matrix = cosine_similarity(tfidf_matrix, tfidf_matrix)"
   ]
  },
  {
   "cell_type": "markdown",
   "metadata": {},
   "source": [
    "#### Make recommendations based on Word Embedding Model"
   ]
  },
  {
   "cell_type": "code",
   "execution_count": 34,
   "metadata": {},
   "outputs": [
    {
     "name": "stderr",
     "output_type": "stream",
     "text": [
      "100% |########################################################################|\n"
     ]
    }
   ],
   "source": [
    "pd.set_option('mode.chained_assignment', None)\n",
    "\n",
    "nested_recommendations = make_all_recommendations(interactions['user_id'].drop_duplicates().values, similarity_matrix, content_processed, interactions, 5)"
   ]
  },
  {
   "cell_type": "code",
   "execution_count": 35,
   "metadata": {},
   "outputs": [
    {
     "data": {
      "text/plain": [
       "0.23"
      ]
     },
     "execution_count": 35,
     "metadata": {},
     "output_type": "execute_result"
    }
   ],
   "source": [
    "catalog_coverage(nested_recommendations, content_processed.recipe_id.values, 5)"
   ]
  },
  {
   "cell_type": "code",
   "execution_count": 36,
   "metadata": {},
   "outputs": [
    {
     "data": {
      "text/plain": [
       "0.9988096009219541"
      ]
     },
     "execution_count": 36,
     "metadata": {},
     "output_type": "execute_result"
    }
   ],
   "source": [
    "personalization(nested_recommendations)"
   ]
  },
  {
   "cell_type": "markdown",
   "metadata": {},
   "source": [
    "#### Make predictions based on Word Embedding Model"
   ]
  },
  {
   "cell_type": "code",
   "execution_count": null,
   "metadata": {},
   "outputs": [],
   "source": [
    "pbar = ProgressBar()\n",
    "\n",
    "uids = interactions['user_id'].values\n",
    "rids = interactions['recipe_id'].values\n",
    "\n",
    "predictions_cos = []\n",
    "actual_cos = []\n",
    "\n",
    "#Make a prediction for each interaction in the interactions df\n",
    "for i in pbar(range(len(interactions))):\n",
    "    act, pred = get_one_prediction(similarity_matrix, content_processed, interactions, uids[i], rids[i])\n",
    "    predictions_cos.append(pred)\n",
    "    actual_cos.append(act)"
   ]
  },
  {
   "cell_type": "code",
   "execution_count": 215,
   "metadata": {},
   "outputs": [
    {
     "name": "stdout",
     "output_type": "stream",
     "text": [
      "RMSE: 0.6835017346501558, MAE: 0.43265248779172577\n"
     ]
    }
   ],
   "source": [
    "rmse_cos = mean_squared_error(predictions_cos, actual_cos)**0.5\n",
    "mae_cos = mean_absolute_error(predictions_cos, actual_cos)\n",
    "print(f'RMSE: {rmse_cos}, MAE: {mae_cos}')"
   ]
  },
  {
   "cell_type": "code",
   "execution_count": 216,
   "metadata": {},
   "outputs": [
    {
     "data": {
      "text/html": [
       "<div>\n",
       "<style scoped>\n",
       "    .dataframe tbody tr th:only-of-type {\n",
       "        vertical-align: middle;\n",
       "    }\n",
       "\n",
       "    .dataframe tbody tr th {\n",
       "        vertical-align: top;\n",
       "    }\n",
       "\n",
       "    .dataframe thead th {\n",
       "        text-align: right;\n",
       "    }\n",
       "</style>\n",
       "<table border=\"1\" class=\"dataframe\">\n",
       "  <thead>\n",
       "    <tr style=\"text-align: right;\">\n",
       "      <th></th>\n",
       "      <th>recipe_id</th>\n",
       "      <th>user_id</th>\n",
       "      <th>rating</th>\n",
       "      <th>predicted_rating</th>\n",
       "    </tr>\n",
       "  </thead>\n",
       "  <tbody>\n",
       "    <tr>\n",
       "      <th>0</th>\n",
       "      <td>63986</td>\n",
       "      <td>4470</td>\n",
       "      <td>5.0</td>\n",
       "      <td>4.949731</td>\n",
       "    </tr>\n",
       "    <tr>\n",
       "      <th>1</th>\n",
       "      <td>63986</td>\n",
       "      <td>28649</td>\n",
       "      <td>4.0</td>\n",
       "      <td>4.645231</td>\n",
       "    </tr>\n",
       "    <tr>\n",
       "      <th>2</th>\n",
       "      <td>63986</td>\n",
       "      <td>37471</td>\n",
       "      <td>5.0</td>\n",
       "      <td>4.879097</td>\n",
       "    </tr>\n",
       "    <tr>\n",
       "      <th>3</th>\n",
       "      <td>63986</td>\n",
       "      <td>60992</td>\n",
       "      <td>5.0</td>\n",
       "      <td>4.789671</td>\n",
       "    </tr>\n",
       "    <tr>\n",
       "      <th>4</th>\n",
       "      <td>63986</td>\n",
       "      <td>75497</td>\n",
       "      <td>5.0</td>\n",
       "      <td>4.152091</td>\n",
       "    </tr>\n",
       "  </tbody>\n",
       "</table>\n",
       "</div>"
      ],
      "text/plain": [
       "   recipe_id  user_id  rating  predicted_rating\n",
       "0      63986     4470     5.0          4.949731\n",
       "1      63986    28649     4.0          4.645231\n",
       "2      63986    37471     5.0          4.879097\n",
       "3      63986    60992     5.0          4.789671\n",
       "4      63986    75497     5.0          4.152091"
      ]
     },
     "execution_count": 216,
     "metadata": {},
     "output_type": "execute_result"
    }
   ],
   "source": [
    "interactions['predicted_rating'] = [item for sublist in predictions_cos for item in sublist]\n",
    "interactions.head()"
   ]
  },
  {
   "cell_type": "code",
   "execution_count": 217,
   "metadata": {},
   "outputs": [
    {
     "name": "stdout",
     "output_type": "stream",
     "text": [
      "Percent of 5 star rating interactions: 71.03%\n",
      "Percent of 4 star rating interactions: 25.96%\n",
      "Percent of 3 star rating interactions: 1.99%\n",
      "Percent of 2 star rating interactions: 0.58%\n",
      "Percent of 1 star rating interactions: 0.24%\n"
     ]
    },
    {
     "data": {
      "image/png": "[encoded data removed]",
      "text/plain": [
       "<Figure size 432x288 with 1 Axes>"
      ]
     },
     "metadata": {
      "needs_background": "light"
     },
     "output_type": "display_data"
    }
   ],
   "source": [
    "get_rating_dist(round(interactions.predicted_rating))"
   ]
  },
  {
   "cell_type": "markdown",
   "metadata": {},
   "source": [
    "Recommendation -> =/= already rated -> Coverage\n",
    "= recommend highest predicted rating NOT seen yet\n",
    "-> new prediction for ALL recipes for 1 user\n",
    "\n",
    "\n",
    "<-> Prediction -> RMSE "
   ]
  },
  {
   "cell_type": "markdown",
   "metadata": {},
   "source": [
    "<a id='mixture'></a>\n",
    "### 2.2. Mixture Model"
   ]
  },
  {
   "cell_type": "code",
   "execution_count": 41,
   "metadata": {},
   "outputs": [],
   "source": [
    "# reset index so recipe id is easily accessible\n",
    "recipes_data = recipes_data.reset_index()"
   ]
  },
  {
   "cell_type": "code",
   "execution_count": 42,
   "metadata": {},
   "outputs": [],
   "source": [
    "def get_mix_sim_matrix(processed, lmbda, df_rfiltered):\n",
    "    cos_sim = get_cos_sim_matrix(processed)\n",
    "    df_sub = df_rfiltered[['recipe_id', 'n_steps', 'minutes', 'n_ingredients']]\n",
    "    df_processed = df_sub[df_sub['recipe_id'].isin(processed['recipe_id'])]\\\n",
    "                                                             .set_index('recipe_id')\n",
    "    scaler = StandardScaler()\n",
    "    X = scaler.fit_transform(df_processed)\n",
    "    eucl_dis = euclidean_distances(X,X)\n",
    "    eucl_sim = 1/np.exp(eucl_dis)\n",
    "    mixed_sim = np.add(cos_sim*lmbda,eucl_sim*(1-lmbda)) # assume equally weighted\n",
    "    return mixed_sim"
   ]
  },
  {
   "cell_type": "code",
   "execution_count": 43,
   "metadata": {},
   "outputs": [
    {
     "data": {
      "text/plain": [
       "(11090, 11090)"
      ]
     },
     "execution_count": 43,
     "metadata": {},
     "output_type": "execute_result"
    }
   ],
   "source": [
    "# create similarity matrix of cosine similarity and euclidean distance\n",
    "# set lambda\n",
    "lmbda = 0.5\n",
    "mixed_sim = get_mix_sim_matrix(content_processed, lmbda, recipes_data)\n",
    "mixed_sim.shape"
   ]
  },
  {
   "cell_type": "markdown",
   "metadata": {},
   "source": [
    "<a id='mixture-recommendations'></a>\n",
    "#### 2.2.1. Make recommendations based on Mixture Model"
   ]
  },
  {
   "cell_type": "markdown",
   "metadata": {},
   "source": [
    "###### Make top k recommendations"
   ]
  },
  {
   "cell_type": "code",
   "execution_count": 44,
   "metadata": {},
   "outputs": [],
   "source": [
    "# Reset recipe id as index of recipes_data\n",
    "recipes_data.set_index('recipe_id', inplace=True)"
   ]
  },
  {
   "cell_type": "code",
   "execution_count": 45,
   "metadata": {},
   "outputs": [
    {
     "name": "stderr",
     "output_type": "stream",
     "text": [
      "C:\\Users\\LiY140\\AppData\\Local\\Continuum\\anaconda3\\lib\\site-packages\\pandas\\core\\frame.py:3940: SettingWithCopyWarning: \n",
      "A value is trying to be set on a copy of a slice from a DataFrame\n",
      "\n",
      "See the caveats in the documentation: http://pandas.pydata.org/pandas-docs/stable/indexing.html#indexing-view-versus-copy\n",
      "  errors=errors)\n"
     ]
    },
    {
     "data": {
      "text/html": [
       "<table border=\"1\" class=\"dataframe\">\n",
       "  <thead>\n",
       "    <tr style=\"text-align: right;\">\n",
       "      <th></th>\n",
       "      <th>name</th>\n",
       "      <th>minutes</th>\n",
       "      <th>submitted</th>\n",
       "      <th>description</th>\n",
       "      <th>prediction</th>\n",
       "      <th>recipeurl</th>\n",
       "      <th>imageurl</th>\n",
       "    </tr>\n",
       "    <tr>\n",
       "      <th>recipe_id</th>\n",
       "      <th></th>\n",
       "      <th></th>\n",
       "      <th></th>\n",
       "      <th></th>\n",
       "      <th></th>\n",
       "      <th></th>\n",
       "      <th></th>\n",
       "    </tr>\n",
       "  </thead>\n",
       "  <tbody>\n",
       "    <tr>\n",
       "      <th>52840</th>\n",
       "      <td>cocoa buttermilk cake</td>\n",
       "      <td>50</td>\n",
       "      <td>2003-01-30</td>\n",
       "      <td>i adopted this recipe 9/06.  it is incredible....</td>\n",
       "      <td>4.894781</td>\n",
       "      <td><a href=\"https://www.food.com/recipe/52840\">ht...</td>\n",
       "      <td><a href=\"https://img.sndimg.com:443/food/image...</td>\n",
       "    </tr>\n",
       "    <tr>\n",
       "      <th>24612</th>\n",
       "      <td>five flavor pound cake</td>\n",
       "      <td>110</td>\n",
       "      <td>2002-04-08</td>\n",
       "      <td>i just tried this cake for the first time at f...</td>\n",
       "      <td>4.894238</td>\n",
       "      <td><a href=\"https://www.food.com/recipe/24612\">ht...</td>\n",
       "      <td><a href=\"https://img.sndimg.com:443/food/image...</td>\n",
       "    </tr>\n",
       "    <tr>\n",
       "      <th>90203</th>\n",
       "      <td>dark chocolate cake with a raspberry filling</td>\n",
       "      <td>75</td>\n",
       "      <td>2004-04-30</td>\n",
       "      <td>this is a fudgey, brownie-like cake with a cho...</td>\n",
       "      <td>4.893381</td>\n",
       "      <td><a href=\"https://www.food.com/recipe/90203\">ht...</td>\n",
       "      <td><a href=\"https://img.sndimg.com:443/food/image...</td>\n",
       "    </tr>\n",
       "    <tr>\n",
       "      <th>113914</th>\n",
       "      <td>hershey s chocolate cake with frosting</td>\n",
       "      <td>70</td>\n",
       "      <td>2005-03-22</td>\n",
       "      <td>one night i was craving chocolate cake, but we...</td>\n",
       "      <td>4.892404</td>\n",
       "      <td><a href=\"https://www.food.com/recipe/113914\">h...</td>\n",
       "      <td><a href=\"https://img.sndimg.com:443/food/image...</td>\n",
       "    </tr>\n",
       "    <tr>\n",
       "      <th>49613</th>\n",
       "      <td>the best chocolate cake  really</td>\n",
       "      <td>75</td>\n",
       "      <td>2002-12-22</td>\n",
       "      <td>i made this cake for my little brother's 12th ...</td>\n",
       "      <td>4.891674</td>\n",
       "      <td><a href=\"https://www.food.com/recipe/49613\">ht...</td>\n",
       "      <td><a href=\"https://img.sndimg.com:443/food/image...</td>\n",
       "    </tr>\n",
       "  </tbody>\n",
       "</table>"
      ],
      "text/plain": [
       "<IPython.core.display.HTML object>"
      ]
     },
     "execution_count": 45,
     "metadata": {},
     "output_type": "execute_result"
    }
   ],
   "source": [
    "# Make recommendations for the top_k recipes based on user id of the user\n",
    "# Set number of recipes to receive\n",
    "k = 5\n",
    "# Set user_id of user you want to get prediction for\n",
    "user_id = 60992\n",
    "get_user_recommendations(user_id, mixed_sim, content_processed, interactions, recipes_data, k)"
   ]
  },
  {
   "cell_type": "markdown",
   "metadata": {},
   "source": [
    "###### Make all recommendations"
   ]
  },
  {
   "cell_type": "code",
   "execution_count": null,
   "metadata": {},
   "outputs": [],
   "source": [
    "pd.set_option('mode.chained_assignment', None)\n",
    "\n",
    "nested_recommendations_mixture = make_all_recommendations(interactions['user_id'].drop_duplicates().values, \n",
    "                                                          mixed_sim, \n",
    "                                                          content_processed, \n",
    "                                                          interactions, \n",
    "                                                          5)"
   ]
  },
  {
   "cell_type": "code",
   "execution_count": null,
   "metadata": {},
   "outputs": [],
   "source": [
    "# Calculcate catalog coverage for mixture model\n",
    "cc_mixture = catalog_coverage(nested_recommendations_mixture, content_processed.recipe_id.values, 5)\n",
    "print(\"The catalog coverage of the mixture model is \" + str(cc_mixture))"
   ]
  },
  {
   "cell_type": "code",
   "execution_count": null,
   "metadata": {},
   "outputs": [],
   "source": [
    "# Calculate personalization for mixture model\n",
    "pers_mixture = personalization(nested_recommendations_mixture)\n",
    "print(\"The catalog coverage of the mixture model is \" + str(pers_mixture))"
   ]
  },
  {
   "cell_type": "markdown",
   "metadata": {},
   "source": [
    "<a id='mixture-predictions'></a>\n",
    "#### 2.2.2. Make predictions based on Mixture Model"
   ]
  },
  {
   "cell_type": "code",
   "execution_count": null,
   "metadata": {},
   "outputs": [],
   "source": [
    "uid_array = interactions['user_id'].values\n",
    "rids_array = interactions['recipe_id'].values"
   ]
  },
  {
   "cell_type": "code",
   "execution_count": null,
   "metadata": {},
   "outputs": [],
   "source": [
    "predictions_mixed, actual_mixed = make_all_predictions(len(interactions), \n",
    "                                                       content_processed, \n",
    "                                                       interactions, \n",
    "                                                       uid_array, \n",
    "                                                       rids_array)"
   ]
  },
  {
   "cell_type": "code",
   "execution_count": null,
   "metadata": {},
   "outputs": [],
   "source": [
    "rmse_mixed = mean_squared_error(predictions_mixed, actual_mixed)**0.5\n",
    "mae_mixed = mean_absolute_error(predictions_mixed, actual_mixed)\n",
    "print(f'RMSE: {rmse_mixed}, MAE: {mae_mixed}')"
   ]
  },
  {
   "cell_type": "code",
   "execution_count": null,
   "metadata": {},
   "outputs": [],
   "source": [
    "interactions['predicted_rating_mixed'] = [item for sublist in predictions_mixed for item in sublist]\n",
    "interactions.head()"
   ]
  },
  {
   "cell_type": "code",
   "execution_count": null,
   "metadata": {},
   "outputs": [],
   "source": [
    "get_rating_dist(round(interactions.predicted_rating_mixed))"
   ]
  },
  {
   "cell_type": "markdown",
   "metadata": {},
   "source": [
    "<a id='optimize-lambda'></a>\n",
    "#### 2.2.2. Optimize lambda parameter"
   ]
  },
  {
   "cell_type": "code",
   "execution_count": null,
   "metadata": {},
   "outputs": [],
   "source": [
    "# reset index so recipe id is easily accessible\n",
    "recipes_data = recipes_data.reset_index()"
   ]
  },
  {
   "cell_type": "code",
   "execution_count": null,
   "metadata": {},
   "outputs": [],
   "source": [
    "def tuning_mix_param(lmbdas, content, interactions, uid_array, rids_array, k):\n",
    "    rmse_mix = []\n",
    "    coverage_mix = []\n",
    "    personalization_mix =[]\n",
    "    \n",
    "    for lmbda in lmbdas:\n",
    "        similarity = get_mix_sim_matrix(content, lmbda, recipes_data)\n",
    "        \n",
    "        predictions, actuals = make_all_predictions(len(interactions), similarity, content, interactions, uid_array, rids_array)\n",
    "        rmse = mean_squared_error(predictions, actuals)**0.5\n",
    "        rmse_mix.append(rmse)\n",
    "        \n",
    "        nested_recommendations = make_all_recommendations(interactions['user_id'].drop_duplicates().values, \n",
    "                                                          similarity, \n",
    "                                                          content, \n",
    "                                                          interactions, \n",
    "                                                          k)\n",
    "        \n",
    "\n",
    "        coverage = catalog_coverage(nested_recommendations, content.recipe_id.values, k)\n",
    "        pers = personalization(nested_recommendations)\n",
    "        \n",
    "        coverage_mix.append(coverage)\n",
    "        personalization_mix.append(pers)\n",
    "           \n",
    "    return rmse_mix, coverage_mix, personalization_mix"
   ]
  },
  {
   "cell_type": "code",
   "execution_count": null,
   "metadata": {},
   "outputs": [],
   "source": [
    "# Create different values of lambda\n",
    "lmbdas = np.linspace(0,1,5)"
   ]
  },
  {
   "cell_type": "code",
   "execution_count": null,
   "metadata": {},
   "outputs": [],
   "source": [
    "rmse_mix_tune, coverage_mix_tune, personalization_mix = tuning_mix_param(lmbdas, \n",
    "                                                                         content_processed, \n",
    "                                                                         interactions, \n",
    "                                                                         uid_array,\n",
    "                                                                         rids_array,\n",
    "                                                                         5)\n",
    "rmse_mix_min = min(rmse_mix_tune)\n",
    "rmse_mix_min_idx = rmse_mix_tune.index(rmse_mix_min)\n",
    "lmbda_min = lmbdas[rmse_mix_min_idx]"
   ]
  },
  {
   "cell_type": "code",
   "execution_count": null,
   "metadata": {},
   "outputs": [],
   "source": [
    "plt.plot(lmbdas, rmse_mix_tune)\n",
    "plt.xlabel('lambda')\n",
    "plt.ylabel('RMSE')\n",
    "plt.title('RMSE for different mixture models')\n",
    "plt.plot([lmbda_min], [rmse_mix_min], 'o')\n",
    "plt.show()"
   ]
  },
  {
   "cell_type": "markdown",
   "metadata": {},
   "source": [
    "<a id='interpretation_evaluation'></a>\n",
    "## 3. Interpretation and Evaluation"
   ]
  }
 ],
 "metadata": {
  "kernelspec": {
   "display_name": "Python 3",
   "language": "python",
   "name": "python3"
  },
  "language_info": {
   "codemirror_mode": {
    "name": "ipython",
    "version": 3
   },
   "file_extension": ".py",
   "mimetype": "text/x-python",
   "name": "python",
   "nbconvert_exporter": "python",
   "pygments_lexer": "ipython3",
   "version": "3.7.3"
  }
 },
 "nbformat": 4,
 "nbformat_minor": 2
}
