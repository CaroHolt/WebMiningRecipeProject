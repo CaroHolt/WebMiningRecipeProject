{
 "cells": [
  {
   "cell_type": "markdown",
   "metadata": {},
   "source": [
    "# Recommender System for Recipes"
   ]
  },
  {
   "cell_type": "markdown",
   "metadata": {},
   "source": [
    "## Table of Contents\n",
    "[1. Data Preprocessing and Imports](#preprocessing) <br>\n",
    "    [1.1. Provisory recipe filter/sampler ](#sampling) <br>\n",
    "    [1.2. Keyword extraction and ingredient preprocessing](#keywords) <br>\n",
    "    [1.3. Creating user-activity data & filtered interactions data](#user-interaction) <br>\n",
    "    [1.4. NLP Preprocessing](#nlp-preprocessing) <br>\n",
    "[2. Models](#models) <br>\n",
    "    [2.0. General functions](#general-functions) <br>\n",
    "        [2.0.1. Recommendations functions for Coverage & Personalization](#recommendation-functions) <br>\n",
    "        [2.0.2. Prediction function for RMSE](#prediction-functions) <br>\n",
    "    [2.1. Cosine Similarity](#cosine) <br>\n",
    "        [2.1.1 Tfidf & SVD](#tfidf-svd) <br>\n",
    "        [2.1.2 WordEmbeddings](#word-embeddings) <br>\n",
    "    [2.2. Mixture Model](#mixture) <br>\n",
    "        [2.2.1. Make recommendations based on Mixture Model](#mixture-recommendations) <br>\n",
    "        [2.2.2. Make predictions based on Mixture Model](#mixture-predictions) <br>\n",
    "        [2.2.3. Optimize lambda parameter](#optimize-lambda) <br>\n",
    "[3. Interpretation and Evaluation](#interpretation_evaluation) <br>"
   ]
  },
  {
   "cell_type": "markdown",
   "metadata": {},
   "source": [
    "<a id='preprocessing'></a>\n",
    "## 0. Imports"
   ]
  },
  {
   "cell_type": "markdown",
   "metadata": {},
   "source": [
    "##### Packages to install in cmd upfront:\n",
    "\n",
    "conda install -c conda-forge selenium <br>\n",
    "conda install -c anaconda nltk <br>\n",
    "conda install -c conda-forge progressbar <br>\n",
    "pip install rake-nltk"
   ]
  },
  {
   "cell_type": "code",
   "execution_count": 28,
   "metadata": {},
   "outputs": [
    {
     "name": "stderr",
     "output_type": "stream",
     "text": [
      "[nltk_data] Downloading package punkt to\n",
      "[nltk_data]     C:\\Users\\LiY140\\AppData\\Roaming\\nltk_data...\n",
      "[nltk_data]   Package punkt is already up-to-date!\n",
      "[nltk_data] Downloading package stopwords to\n",
      "[nltk_data]     C:\\Users\\LiY140\\AppData\\Roaming\\nltk_data...\n",
      "[nltk_data]   Package stopwords is already up-to-date!\n",
      "[nltk_data] Downloading package wordnet to\n",
      "[nltk_data]     C:\\Users\\LiY140\\AppData\\Roaming\\nltk_data...\n",
      "[nltk_data]   Package wordnet is already up-to-date!\n"
     ]
    }
   ],
   "source": [
    "import pandas as pd\n",
    "import numpy as np\n",
    "import nltk\n",
    "import inflect\n",
    "import datetime\n",
    "import time\n",
    "import re, string, unicodedata\n",
    "import progressbar\n",
    "import collections\n",
    "from collections import defaultdict\n",
    "import matplotlib.pyplot as plt\n",
    "from IPython.display import HTML\n",
    "from datetime import datetime\n",
    "from progressbar import ProgressBar\n",
    "from nltk.corpus import stopwords\n",
    "from nltk.tokenize import word_tokenize, sent_tokenize\n",
    "from nltk.corpus import stopwords\n",
    "from nltk import SnowballStemmer\n",
    "from nltk.stem import LancasterStemmer, WordNetLemmatizer\n",
    "from gensim.models import Word2Vec \n",
    "from sklearn.metrics import jaccard_score, pairwise_distances_chunked, mean_squared_error, mean_absolute_error\n",
    "from sklearn.preprocessing import StandardScaler\n",
    "from sklearn.metrics.pairwise import euclidean_distances\n",
    "from surprise import SVD, NMF, KNNBasic, KNNWithMeans, KNNWithZScore, KNNBaseline, NormalPredictor, BaselineOnly, CoClustering, SlopeOne\n",
    "from surprise import Dataset, Reader, accuracy, Trainset\n",
    "from surprise.model_selection import cross_validate, GridSearchCV, ShuffleSplit\n",
    "import gensim.downloader as api\n",
    "\n",
    "nltk.download('punkt')\n",
    "nltk.download('stopwords')\n",
    "nltk.download('wordnet')\n",
    "\n",
    "import warnings\n",
    "warnings.filterwarnings('ignore')"
   ]
  },
  {
   "cell_type": "code",
   "execution_count": 39,
   "metadata": {},
   "outputs": [],
   "source": [
    "# Import functions module\n",
    "%run functions.py\n",
    "pd.set_option('display.max_colwidth', None)"
   ]
  },
  {
   "cell_type": "markdown",
   "metadata": {},
   "source": [
    "<a id='preprocessing'></a>\n",
    "## 1. Preprocessing"
   ]
  },
  {
   "cell_type": "code",
   "execution_count": 40,
   "metadata": {},
   "outputs": [],
   "source": [
    "#load data\n",
    "interactions_raw = pd.read_csv(\n",
    "        './Data/RAW_interactions.csv')\n",
    "recipes_raw = pd.read_csv(\n",
    "        './Data/RAW_recipes.csv', parse_dates=['submitted'], infer_datetime_format=True)"
   ]
  },
  {
   "cell_type": "code",
   "execution_count": 41,
   "metadata": {},
   "outputs": [],
   "source": [
    "#make copies so that we don't have to reload the data after mistakes\n",
    "interactions_data = interactions_raw.copy()\n",
    "recipes_data = recipes_raw.copy()"
   ]
  },
  {
   "cell_type": "code",
   "execution_count": 42,
   "metadata": {},
   "outputs": [],
   "source": [
    "# Rename column in recipe data frame to have matching column names for the recipe id between recipe dataframe and\n",
    "# interaction data frame\n",
    "recipes_data.rename(columns={\"id\": \"recipe_id\"}, inplace=True)"
   ]
  },
  {
   "cell_type": "code",
   "execution_count": 43,
   "metadata": {},
   "outputs": [],
   "source": [
    "# Deal with missing values and errors in data set\n",
    "# - Drop recipes without title\n",
    "# - Replace missing descriptions with empty string\n",
    "# - Replace missing minutes of a recipe if those can be found in the text\n",
    "# - Drop fake recipes (e.g. \"How to preserve a husband\")\n",
    "deal_with_NAs(recipes_data)"
   ]
  },
  {
   "cell_type": "markdown",
   "metadata": {},
   "source": [
    "<a id='filter_recipes'></a>\n",
    "### 1.1. Filter recipes"
   ]
  },
  {
   "cell_type": "code",
   "execution_count": 44,
   "metadata": {},
   "outputs": [
    {
     "name": "stdout",
     "output_type": "stream",
     "text": [
      "Shape after filtering recipes with less than 10 interactions and older than 10 years old: (48605, 15)\n",
      "Shape after filtering recipes with less than 5 interactions and younger than 10 years old: (20487, 15)\n",
      "Shape after removing 1 step recipes w/ low interactions: (20487, 15)\n",
      "Shape after removing recipes w/o ratings: (20487, 15)\n",
      "Shape after removing 0 minutes interaction w/ low interactions: (20397, 15)\n",
      "Shape after dropping duplicates: (20371, 15)\n",
      "URLs created for each of the 20371 recipes\n"
     ]
    }
   ],
   "source": [
    "# Filter the recipes (filtering is carried out inplace)\n",
    "\n",
    "# Add age and average rating required for filtering\n",
    "recipes_data['age'] = round((2019-recipes_data.submitted.dt.year)+recipes_data.submitted.dt.month/12, 1)\n",
    "recipes_data = get_avg_recipe_rating(interactions_data, recipes_data)\n",
    "# Filter based on number of interactions\n",
    "# Recipes older than 10 years need to have at least ten ratings\n",
    "filter_byinteractions(10,10,recipes_data, older=True)\n",
    "# Recipes younger than ten years need to have at least 5 ratings\n",
    "filter_byinteractions(5,10,recipes_data, older=False)\n",
    "# Filter based on qualitative criteria\n",
    "filter_byquality(recipes_data)\n",
    "# Remove recipes that have the same title\n",
    "remove_duplicates(recipes_data)\n",
    "# Generate the URL to the foods.com website for remaining recipes\n",
    "recipes_data = generate_URL(recipes_data)"
   ]
  },
  {
   "cell_type": "code",
   "execution_count": 45,
   "metadata": {},
   "outputs": [
    {
     "data": {
      "text/plain": [
       "(20371, 16)"
      ]
     },
     "execution_count": 45,
     "metadata": {},
     "output_type": "execute_result"
    }
   ],
   "source": [
    "recipes_data.shape"
   ]
  },
  {
   "cell_type": "markdown",
   "metadata": {},
   "source": [
    "<a id='filter_users'></a>\n",
    "### 1.2 Filter users"
   ]
  },
  {
   "cell_type": "markdown",
   "metadata": {},
   "source": [
    "Filter data flow:\n",
    "\n",
    "filter_interactions_data() -(calls)-> \n",
    "    (impute_average_rating(), (create_activity_data() \n",
    "                                        -(calls)-> get_user_activity_df())"
   ]
  },
  {
   "cell_type": "code",
   "execution_count": 46,
   "metadata": {},
   "outputs": [],
   "source": [
    "def impute_average_rating(row, df_uactivity):\n",
    "    if (row['rating'] == 0):\n",
    "        imputed_rating = round(df_uactivity.loc[df_uactivity.user_id == row.user_id, 'uavg_rating'].values[0], 0)\n",
    "        return imputed_rating\n",
    "    else:\n",
    "        return row.rating\n",
    "    \n",
    "def get_user_activity_df(interactions):\n",
    "    #Create a user activity dataframe\n",
    "    df_uactivity = interactions.groupby('user_id')['rating'].value_counts().unstack().fillna(0)\n",
    "    cols = list(df_uactivity)\n",
    "    df_uactivity['total_interactions'] = df_uactivity[cols].sum(axis=1)\n",
    "    df_uactivity['total_ratings'] = df_uactivity['total_interactions']-df_uactivity[0]\n",
    "    return df_uactivity\n",
    "\n",
    "def get_user_behavior(filtered_user_activity):\n",
    "    #calculate arithmetic mean of ratings for each user\n",
    "    filtered_user_activity['uavg_rating'] = filtered_user_activity.iloc[:,1:6].apply(\n",
    "        lambda row: np.round(np.ma.average(list(range(1,6)), \n",
    "                                           weights = (row[1], row[2], row[3], row[4], row[5])),1), axis = 1)\n",
    "    filtered_user_activity = filtered_user_activity.reset_index()\n",
    "    filtered_user_activity.columns.set_names(None, inplace = True)\n",
    "    return filtered_user_activity\n",
    "    \n",
    "def filter_users(interactions_df, thresh_high, thresh_low):\n",
    "    df_uactivity = get_user_activity_df(interactions_df[['recipe_id','user_id', 'rating']])\n",
    "    filtered_user_activity = df_uactivity.loc[(df_uactivity['total_interactions']>=thresh_low) &\n",
    "                                              (df_uactivity['total_interactions']<thresh_high), :]\n",
    "    \n",
    "    print(f'Number of users after filtering out users with less than {thresh_low} interactions: {len(filtered_user_activity)}')\n",
    "    \n",
    "    #drop users that only have only reviews but no ratings\n",
    "    filtered_user_activity.drop(filtered_user_activity[filtered_user_activity.total_ratings == 0].index, \n",
    "                                inplace=True, \n",
    "                                axis=0)\n",
    "    \n",
    "    #create average user ratings as behavior\n",
    "    filtered_user_activity = get_user_behavior(filtered_user_activity)\n",
    "    \n",
    "    return filtered_user_activity\n",
    "\n",
    "def filter_interactions_data(interactions_df, recipes_data, thresh_high, thresh_low):\n",
    "    \n",
    "    # 2. Filter interactions with active recipes -> Only interactions from active users and clean recipes remain\n",
    "    interactions = interactions_df[interactions_df.recipe_id.isin(recipes_data.recipe_id)]\n",
    "    \n",
    "    filtered_user_activity = filter_users(interactions, thresh_high, thresh_low)\n",
    "    # 1. Get user ids of active\n",
    "    #uids = filtered_user_activity.user_id.drop_duplicates().values\n",
    "    interactions = pd.merge(filtered_user_activity[['user_id', 'uavg_rating', 'total_interactions']], \n",
    "                                        interactions[['recipe_id','user_id', 'rating']], \n",
    "                                        how = 'left', on ='user_id')\n",
    "    \n",
    "    #interactions_data[interactions_data.user_id.isin(uids)]\n",
    "    \n",
    "#     pd.merge(recipes_data[['recipe_id']], \n",
    "#                             active_user_interactions[['recipe_id', 'user_id', 'rating', 'uavg_rating', 'total_interactions']], \n",
    "#                             on = 'recipe_id', \n",
    "#                             how ='left')\n",
    "    #impute ratings for interactions without ratings\n",
    "    zero_ratings = len(interactions.loc[interactions.rating==0])\n",
    "    interactions['rating'] = interactions.apply(lambda row: impute_average_rating(row, filtered_user_activity), axis=1)\n",
    "    print(f'Number of imputed ratings: {zero_ratings}')\n",
    "\n",
    "    return interactions[['user_id','recipe_id','rating','uavg_rating', 'total_interactions',]], filtered_user_activity"
   ]
  },
  {
   "cell_type": "code",
   "execution_count": 47,
   "metadata": {},
   "outputs": [
    {
     "name": "stdout",
     "output_type": "stream",
     "text": [
      "Number of users after filtering out users with less than 9 interactions: 8436\n",
      "Number of imputed ratings: 5709\n"
     ]
    },
    {
     "data": {
      "text/html": [
       "<div>\n",
       "<style scoped>\n",
       "    .dataframe tbody tr th:only-of-type {\n",
       "        vertical-align: middle;\n",
       "    }\n",
       "\n",
       "    .dataframe tbody tr th {\n",
       "        vertical-align: top;\n",
       "    }\n",
       "\n",
       "    .dataframe thead th {\n",
       "        text-align: right;\n",
       "    }\n",
       "</style>\n",
       "<table border=\"1\" class=\"dataframe\">\n",
       "  <thead>\n",
       "    <tr style=\"text-align: right;\">\n",
       "      <th></th>\n",
       "      <th>user_id</th>\n",
       "      <th>recipe_id</th>\n",
       "      <th>rating</th>\n",
       "      <th>uavg_rating</th>\n",
       "      <th>total_interactions</th>\n",
       "    </tr>\n",
       "  </thead>\n",
       "  <tbody>\n",
       "    <tr>\n",
       "      <th>0</th>\n",
       "      <td>1533</td>\n",
       "      <td>96621</td>\n",
       "      <td>5.0</td>\n",
       "      <td>4.8</td>\n",
       "      <td>32.0</td>\n",
       "    </tr>\n",
       "    <tr>\n",
       "      <th>1</th>\n",
       "      <td>1533</td>\n",
       "      <td>2137</td>\n",
       "      <td>5.0</td>\n",
       "      <td>4.8</td>\n",
       "      <td>32.0</td>\n",
       "    </tr>\n",
       "    <tr>\n",
       "      <th>2</th>\n",
       "      <td>1533</td>\n",
       "      <td>132916</td>\n",
       "      <td>5.0</td>\n",
       "      <td>4.8</td>\n",
       "      <td>32.0</td>\n",
       "    </tr>\n",
       "    <tr>\n",
       "      <th>3</th>\n",
       "      <td>1533</td>\n",
       "      <td>13813</td>\n",
       "      <td>5.0</td>\n",
       "      <td>4.8</td>\n",
       "      <td>32.0</td>\n",
       "    </tr>\n",
       "    <tr>\n",
       "      <th>4</th>\n",
       "      <td>1533</td>\n",
       "      <td>57549</td>\n",
       "      <td>5.0</td>\n",
       "      <td>4.8</td>\n",
       "      <td>32.0</td>\n",
       "    </tr>\n",
       "  </tbody>\n",
       "</table>\n",
       "</div>"
      ],
      "text/plain": [
       "   user_id  recipe_id  rating  uavg_rating  total_interactions\n",
       "0     1533      96621     5.0          4.8                32.0\n",
       "1     1533       2137     5.0          4.8                32.0\n",
       "2     1533     132916     5.0          4.8                32.0\n",
       "3     1533      13813     5.0          4.8                32.0\n",
       "4     1533      57549     5.0          4.8                32.0"
      ]
     },
     "metadata": {},
     "output_type": "display_data"
    },
    {
     "name": "stdout",
     "output_type": "stream",
     "text": [
      "(204223, 5)\n"
     ]
    }
   ],
   "source": [
    "# Filter interactions data such that only interaction with active users (at least 7 ratings, but not more than 100) \n",
    "# and with recipes that were not filtered out before remain\n",
    "interactions, activity = filter_interactions_data(interactions_data, recipes_data, thresh_high=100, thresh_low=9)\n",
    "display(interactions.head())\n",
    "print(interactions.shape)"
   ]
  },
  {
   "cell_type": "code",
   "execution_count": 48,
   "metadata": {},
   "outputs": [
    {
     "name": "stdout",
     "output_type": "stream",
     "text": [
      "count    8431.000000\n",
      "mean       23.545724\n",
      "std        18.353140\n",
      "min         2.000000\n",
      "25%        11.000000\n",
      "50%        16.000000\n",
      "75%        29.000000\n",
      "max        99.000000\n",
      "Name: total_ratings, dtype: float64\n"
     ]
    },
    {
     "data": {
      "image/png": "[encoded data removed]",
      "text/plain": [
       "<Figure size 432x288 with 1 Axes>"
      ]
     },
     "metadata": {
      "needs_background": "light"
     },
     "output_type": "display_data"
    }
   ],
   "source": [
    "# Check the distribution of number of ratings per user, to validate the upper limit of ratings for filtering the users\n",
    "activity['total_ratings'].plot(kind='box', vert=False)\n",
    "print(activity.total_ratings.describe())"
   ]
  },
  {
   "cell_type": "code",
   "execution_count": 49,
   "metadata": {},
   "outputs": [
    {
     "name": "stdout",
     "output_type": "stream",
     "text": [
      "Percent of 5 star rating interactions: 79.22%\n",
      "Percent of 4 star rating interactions: 15.36%\n",
      "Percent of 3 star rating interactions: 3.6%\n",
      "Percent of 2 star rating interactions: 1.23%\n",
      "Percent of 1 star rating interactions: 0.59%\n"
     ]
    },
    {
     "data": {
      "image/png": "[encoded data removed]",
      "text/plain": [
       "<Figure size 432x288 with 1 Axes>"
      ]
     },
     "metadata": {
      "needs_background": "light"
     },
     "output_type": "display_data"
    }
   ],
   "source": [
    "#Let's look at the distribution of ratings\n",
    "get_rating_dist(interactions.rating)"
   ]
  },
  {
   "cell_type": "markdown",
   "metadata": {},
   "source": [
    "<a id='nlp-preprocessing'></a>\n",
    "### 1.4. Preprocessing for recipe data"
   ]
  },
  {
   "cell_type": "code",
   "execution_count": 50,
   "metadata": {},
   "outputs": [],
   "source": [
    "# Function to concatenate the textual data per recipe to one string used for the content based approach\n",
    "def create_input (df, column_names):\n",
    "    df_content = df\n",
    "    df_content = df_content.assign(content= df.loc[:, (column_names)].apply(lambda texts: ' '.join(texts), axis=1))\n",
    "    df_content = df_content.drop(columns = column_names)\n",
    "    df_content['content']=df_content['content'].apply(lambda text: ' '.join(text.split()))\n",
    "    return df_content"
   ]
  },
  {
   "cell_type": "code",
   "execution_count": 51,
   "metadata": {},
   "outputs": [
    {
     "data": {
      "text/html": [
       "<div>\n",
       "<style scoped>\n",
       "    .dataframe tbody tr th:only-of-type {\n",
       "        vertical-align: middle;\n",
       "    }\n",
       "\n",
       "    .dataframe tbody tr th {\n",
       "        vertical-align: top;\n",
       "    }\n",
       "\n",
       "    .dataframe thead th {\n",
       "        text-align: right;\n",
       "    }\n",
       "</style>\n",
       "<table border=\"1\" class=\"dataframe\">\n",
       "  <thead>\n",
       "    <tr style=\"text-align: right;\">\n",
       "      <th></th>\n",
       "      <th>recipe_id</th>\n",
       "      <th>content</th>\n",
       "    </tr>\n",
       "  </thead>\n",
       "  <tbody>\n",
       "    <tr>\n",
       "      <th>15</th>\n",
       "      <td>63986</td>\n",
       "      <td>chicken lickin good pork chops here's and old ...</td>\n",
       "    </tr>\n",
       "    <tr>\n",
       "      <th>17</th>\n",
       "      <td>23933</td>\n",
       "      <td>chinese candy a little different, and oh so go...</td>\n",
       "    </tr>\n",
       "    <tr>\n",
       "      <th>33</th>\n",
       "      <td>54100</td>\n",
       "      <td>grilled venison burgers delicious venison burg...</td>\n",
       "    </tr>\n",
       "    <tr>\n",
       "      <th>34</th>\n",
       "      <td>67664</td>\n",
       "      <td>healthy for them yogurt popsicles my children ...</td>\n",
       "    </tr>\n",
       "    <tr>\n",
       "      <th>36</th>\n",
       "      <td>25775</td>\n",
       "      <td>how i got my family to eat spinach spinach cas...</td>\n",
       "    </tr>\n",
       "  </tbody>\n",
       "</table>\n",
       "</div>"
      ],
      "text/plain": [
       "    recipe_id                                            content\n",
       "15      63986  chicken lickin good pork chops here's and old ...\n",
       "17      23933  chinese candy a little different, and oh so go...\n",
       "33      54100  grilled venison burgers delicious venison burg...\n",
       "34      67664  healthy for them yogurt popsicles my children ...\n",
       "36      25775  how i got my family to eat spinach spinach cas..."
      ]
     },
     "execution_count": 51,
     "metadata": {},
     "output_type": "execute_result"
    }
   ],
   "source": [
    "# Flatten recipe´s steps\n",
    "content_processed = recipes_data.copy()\n",
    "content_processed.steps = content_processed.loc[:, ('steps')].str.replace(\"\\[\", \"\").str.replace(\"'\", \"\").str.replace(\"\\]\", \"\").str.replace(\",\",\"\").copy()\n",
    "\n",
    "# Concatenate recipe name, description and steps to one string per recipe\n",
    "content_processed = create_input(content_processed[['recipe_id', 'name', 'description', 'steps']], ['name', 'description', 'steps'])\n",
    "\n",
    "content_processed.head()"
   ]
  },
  {
   "cell_type": "code",
   "execution_count": 52,
   "metadata": {},
   "outputs": [
    {
     "data": {
      "text/plain": [
       "(20371, 2)"
      ]
     },
     "execution_count": 52,
     "metadata": {},
     "output_type": "execute_result"
    }
   ],
   "source": [
    "# Run NLP-preprocessing on the recipe content\n",
    "content_processed = get_processed(content_processed)\n",
    "content_processed.shape"
   ]
  },
  {
   "cell_type": "markdown",
   "metadata": {},
   "source": [
    "<a id='summary_preprocessing'></a>\n",
    "### 1.5 Remaining data size"
   ]
  },
  {
   "cell_type": "code",
   "execution_count": 53,
   "metadata": {},
   "outputs": [
    {
     "name": "stdout",
     "output_type": "stream",
     "text": [
      "Number of recipes: 20371\n",
      "Number of users: 8431\n",
      "Number of interactions: 204223\n"
     ]
    }
   ],
   "source": [
    "n_recipes = len(content_processed)\n",
    "n_users = len(interactions.user_id.unique())\n",
    "print(f'Number of recipes: {n_recipes}')\n",
    "print(f'Number of users: {n_users}')\n",
    "print(f'Number of interactions: {len(interactions)}')\n",
    "\n",
    "# Free some memory\n",
    "del interactions_raw, recipes_raw, interactions_data"
   ]
  },
  {
   "cell_type": "markdown",
   "metadata": {},
   "source": [
    "## 2. Train-Test-Split"
   ]
  },
  {
   "cell_type": "code",
   "execution_count": 54,
   "metadata": {},
   "outputs": [],
   "source": [
    "def get_fixedN_test_train_split(interactions, n):\n",
    "    \"\"\"\n",
    "    Parameters\n",
    "    ---------\n",
    "    \n",
    "    Returns\n",
    "    ---------\n",
    "    test_split: DataFrame\n",
    "        Interactions DataFrame containing only n interactions per user\n",
    "    train_split: DataFrame\n",
    "        Interactions DataFrame containing the rest of the interactions\n",
    "    \"\"\"\n",
    "    \n",
    "    test_split = pd.DataFrame(columns = ['user_id', 'recipe_id', 'rating'])\n",
    "    groups = interactions.groupby('user_id')\n",
    "    \n",
    "    #with progressbar.ProgressBar(max_value=len(interactions.user_id.drop_duplicates().values)) as bar:\n",
    "    for i, group in groups:\n",
    "        test_shard = group.sample(n=n, random_state=10)\n",
    "        test_split = pd.concat([test_split, test_shard], ignore_index=True)\n",
    "            \n",
    "    interactions = interactions.set_index(['user_id', 'recipe_id']).sort_index()    \n",
    "    test_split = test_split.set_index(['user_id', 'recipe_id']).sort_index()\n",
    "    train_split = interactions[~interactions.index.isin(test_split.index)]\n",
    "    \n",
    "    train_split.reset_index(inplace=True)\n",
    "    test_split.reset_index(inplace=True)\n",
    "    \n",
    "    \n",
    "    return train_split, test_split"
   ]
  },
  {
   "cell_type": "code",
   "execution_count": 55,
   "metadata": {},
   "outputs": [],
   "source": [
    "#Create train-test split of interaction data by keeping a fixed number of interactions per user for testing\n",
    "fixed_n_test = 3\n",
    "train_split, test_split = get_fixedN_test_train_split(interactions, fixed_n_test)"
   ]
  },
  {
   "cell_type": "code",
   "execution_count": 56,
   "metadata": {
    "scrolled": true
   },
   "outputs": [
    {
     "name": "stdout",
     "output_type": "stream",
     "text": [
      "Test size: 14.14% \n",
      "\n",
      "Rating distribution in test set \n",
      "\n",
      "Percent of 5 star rating interactions: 79.6%\n",
      "Percent of 4 star rating interactions: 14.72%\n",
      "Percent of 3 star rating interactions: 3.61%\n",
      "Percent of 2 star rating interactions: 1.41%\n",
      "Percent of 1 star rating interactions: 0.66%\n"
     ]
    },
    {
     "data": {
      "image/png": "[encoded data removed]",
      "text/plain": [
       "<Figure size 432x288 with 1 Axes>"
      ]
     },
     "metadata": {
      "needs_background": "light"
     },
     "output_type": "display_data"
    }
   ],
   "source": [
    "# Validate quality of train-test split\n",
    "print(f'Test size: {round((len(test_split)/len(train_split))*100,2)}% \\n')\n",
    "print('Rating distribution in test set \\n')\n",
    "get_rating_dist(test_split.rating)"
   ]
  },
  {
   "cell_type": "markdown",
   "metadata": {},
   "source": [
    "<a id='models'></a>\n",
    "## 3. Models"
   ]
  },
  {
   "cell_type": "markdown",
   "metadata": {},
   "source": [
    "<a id='general-functions'></a>\n",
    "###  General functions"
   ]
  },
  {
   "cell_type": "markdown",
   "metadata": {},
   "source": [
    "<a id='recommendation-functions'></a>\n",
    "#### Recommendations functions for precision"
   ]
  },
  {
   "cell_type": "code",
   "execution_count": 57,
   "metadata": {},
   "outputs": [],
   "source": [
    "#return top k predicted ratings in readable form \n",
    "\n",
    "# IMPORTANT: must set the dataframe for recipe_info index == recipe_id!\n",
    "def get_user_recommendations(user_id, similarity, content, interactions, recipe_info, k):\n",
    "    \"\"\"\n",
    "     Returns\n",
    "    ----------\n",
    "    info:\n",
    "        HTML dataframe with recommendation information\n",
    "    \"\"\"\n",
    "    #get top k recipe ids\n",
    "    topk_recipes, predictions, recipeurls, imageurls = get_topk_recipes(user_id, similarity, content, interactions, k)\n",
    "    info = recipe_info.loc[topk_recipes]\n",
    "    info = info[['name', 'minutes', 'submitted', 'description']]\n",
    "    info['prediction'] = predictions\n",
    "    info['recipeurl'] = recipeurls\n",
    "    info['imageurl'] = imageurls\n",
    "    for index, row in info.iterrows():\n",
    "        info.at[index, 'recipeurl'] = '<a href=\"'+ row['recipeurl'] + '\">'+row['recipeurl'] +'</a>'\n",
    "        info.at[index, 'imageurl'] = '<a href=\"'+ row['imageurl'] + '\"> Image of recipe '+str(index)+'</a>'\n",
    "    info = HTML(info.to_html(escape=False))\n",
    "    return info\n",
    "\n",
    "def get_topk_recipes(user_id, similarity, content, interactions, k):\n",
    "    \"\"\"\n",
    "     Returns\n",
    "    ----------\n",
    "    topk_recipes:\n",
    "        array of top k recipe ids\n",
    "    predictions:\n",
    "        array with top k predictions\n",
    "    recipeurls:\n",
    "        array with top k recipe urls\n",
    "    imageurls:\n",
    "        array with top k recipe imageurls\n",
    "    \"\"\"\n",
    "    prediction_df = get_user_preference(user_id,similarity, content, interactions)\n",
    "    #take only the not yet seen recipes\n",
    "    #new_predictions = prediction_df[prediction_df['has_rated'] == False]\n",
    "    #sort predictions\n",
    "    ordered_predictions = new_predictions.sort_values(by='prediction', ascending=False)\n",
    "    #get recipe_id array\n",
    "    topk_recipes = ordered_predictions.index[:k].values\n",
    "    imageurls = []\n",
    "    recipeurls = []\n",
    "    for entry in topk_recipes:\n",
    "        recipeurls.append(\"https://www.food.com/recipe/\" + str(entry))\n",
    "        imageurls.append(get_image_source_url(entry))\n",
    "    predictions = ordered_predictions.prediction[:k].values\n",
    "    return topk_recipes, predictions, recipeurls, imageurls\n",
    "\n",
    "#return predictions for 1 user\n",
    "def get_user_preference(user_id, similarity, content, interactions_data):\n",
    "    \"\"\"\n",
    "     Returns\n",
    "    ----------\n",
    "    prediction_df:\n",
    "        DataFrame in with columns ['recipe_id','prediction', 'has_rated'] for 1 user\n",
    "    \"\"\"\n",
    "    #prepare similarity dataframe\n",
    "    sim = pd.DataFrame(similarity, index=content['recipe_id'].values, columns=content['recipe_id'].values)\n",
    "    #get already rated recipes of user\n",
    "    rated_recipes = interactions_data.loc[interactions_data['user_id']==user_id, 'recipe_id'].values\n",
    "    #get similarities of ALL recipes w/ already rated recipes of user\n",
    "    sim_rated_all = sim.loc[rated_recipes, :]\n",
    "    #get ratings of already rated recipes\n",
    "    ratings = get_reshaped_ratings(user_id, interactions_data)\n",
    "    \n",
    "    #compute weighted similarities between all recipes and already rated recipes\n",
    "    weighted_sim = np.dot(ratings,sim_rated_all)\n",
    "    #compute normalization constant\n",
    "    norm_const = np.array(np.abs(sim_rated_all).sum(axis=0))\n",
    "    #return sorted predictions\n",
    "    pref_predictions = weighted_sim/norm_const\n",
    "    \n",
    "    flat_predictions = [item for sublist in pref_predictions for item in sublist]\n",
    "    #return df with recipe id also\n",
    "    prediction_df = pd.DataFrame(flat_predictions, index=content['recipe_id'].values, columns =['prediction'])\n",
    "    #indicate the already tried recipes\n",
    "    prediction_df['has_rated'] = prediction_df.index.isin(rated_recipes)\n",
    "    #order predictions\n",
    "    return prediction_df\n",
    "\n",
    "#arrange ratings for matrix multiplication\n",
    "def get_reshaped_ratings(user_id, interactions_data):\n",
    "    ratings = interactions_data.loc[interactions_data['user_id']==user_id, :]\n",
    "    ratings.set_index('recipe_id', inplace=True)\n",
    "    ratings.index.set_names(None, inplace = True)\n",
    "    ratings = ratings.drop(columns='user_id')\n",
    "    ratings = ratings.transpose()\n",
    "    ratings.rename(index={'rating':user_id}, inplace=True)\n",
    "    return ratings.loc[ratings.index==user_id]"
   ]
  },
  {
   "cell_type": "code",
   "execution_count": 58,
   "metadata": {},
   "outputs": [],
   "source": [
    "def make_all_recommendations(user_ids, similarity, content, interactions, k):\n",
    "    \"\"\"\n",
    "    Params\n",
    "    --------\n",
    "    user_ids: Array\n",
    "        list of user ids\n",
    "    similarity: Array \n",
    "        similarity matrix with shape (#recipes, #recipes).\n",
    "    content: DataFrame\n",
    "        processed DataFrame with ['recipe_id', 'content'] used to fetch all recipes ids to make recommendations for \n",
    "        (=total training data)\n",
    "    interactions: DataFrame\n",
    "        preprocessed interactions DataFrame ['recipe_id', 'user_id', 'rating']     \n",
    "    k: integer\n",
    "        number of recommendations to make\n",
    "    Returns:\n",
    "    --------\n",
    "    nested_recommendations:\n",
    "        nested list of recommended recipe_ids for each user in param list\n",
    "        example:[[rid1, rid20, rid30...], [rid1, rid20, rid30...],[rid1, rid20, rid30...]]\n",
    "    \"\"\"\n",
    "    pbar = ProgressBar()\n",
    "    nested_recommendations={}\n",
    "    for i in pbar(range(len(user_ids))):\n",
    "        recs = get_topk_recipes_lean(user_ids[i], similarity, content, interactions, k)\n",
    "        nested_recommendations[user_ids[i]] = recs\n",
    "    return nested_recommendations\n",
    "\n",
    "def get_topk_recipes_lean(user_id, similarity, content, interactions, k):\n",
    "    \"\"\"\n",
    "     Returns\n",
    "    ----------\n",
    "    topk_recipes:\n",
    "        array of top k recipe ids\n",
    "    predictions:\n",
    "        array with top k predictions\n",
    "    recipeurls:\n",
    "        array with top k recipe urls\n",
    "    imageurls:\n",
    "        array with top k recipe imageurls\n",
    "    \"\"\"\n",
    "    prediction_df = get_user_preference(user_id, similarity, content, interactions)\n",
    "    #filter the already rated recipes (we do not recommend those)\n",
    "    prediction_df = prediction_df.loc[prediction_df.has_rated == False]\n",
    "    #sort predictions\n",
    "    ordered_predictions = prediction_df.sort_values(by='prediction', ascending=False)\n",
    "    #get recipe_id array\n",
    "    topk_recipes = ordered_predictions.index[:k].tolist()\n",
    "    predictions = ordered_predictions.prediction[:k].tolist()\n",
    "    return topk_recipes"
   ]
  },
  {
   "cell_type": "markdown",
   "metadata": {},
   "source": [
    "<a id='prediction-functions'></a>\n",
    "#### Prediction function for RMSE"
   ]
  },
  {
   "cell_type": "code",
   "execution_count": 59,
   "metadata": {},
   "outputs": [],
   "source": [
    "#prediction for 1 already rated recipe based on similarities to other already rated recipes\n",
    "\n",
    "def get_one_prediction(similarity, content, interactions, user_id, recipe_id):\n",
    "    sim = pd.DataFrame(similarity, index=content['recipe_id'].values, columns=content['recipe_id'].values)\n",
    "    #get already rated recipes of user\n",
    "    rated_recipes = interactions[interactions['user_id']==user_id]['recipe_id'].values\n",
    "    #get similarities of to be predicted recipe rating with already rated recipes by user x\n",
    "    sim_rated = sim.loc[sim.index==recipe_id, rated_recipes].loc[recipe_id].values\n",
    "    #get ratings of rated recipes\n",
    "    ratings = interactions[interactions['user_id']==user_id]['rating'].values\n",
    "    \n",
    "    actual = interactions.loc[(interactions.user_id==user_id) & (interactions.recipe_id==recipe_id)]['rating'].values[0]\n",
    "    prediction = np.dot(ratings, sim_rated)/np.array([np.abs(sim_rated).sum(axis=0)])\n",
    "    return actual, prediction"
   ]
  },
  {
   "cell_type": "code",
   "execution_count": 60,
   "metadata": {},
   "outputs": [],
   "source": [
    "def make_all_predictions(num_interactions, similarity, content, interactions, uid_array, rids_array):\n",
    "    predictions_cos = []\n",
    "    actual_cos = []\n",
    "    pbar = ProgressBar()\n",
    "    \n",
    "    for i in pbar(range(num_interactions)):\n",
    "        act, pred = get_one_prediction(similarity, content, interactions, uid_array[i], rids_array[i])\n",
    "        predictions_cos.append(pred)\n",
    "        actual_cos.append(act)\n",
    "        \n",
    "    return predictions_cos, actual_cos"
   ]
  },
  {
   "cell_type": "markdown",
   "metadata": {},
   "source": [
    "### 3.1 Content-Based Models"
   ]
  },
  {
   "cell_type": "markdown",
   "metadata": {},
   "source": [
    "<a id='cosine'></a>\n",
    "### 3.1.1 Cosine similarity"
   ]
  },
  {
   "cell_type": "markdown",
   "metadata": {},
   "source": [
    "<a id='tfidf-svd'></a>\n",
    "#### Proximity Matrix (TFIDF/SVD)"
   ]
  },
  {
   "cell_type": "code",
   "execution_count": 61,
   "metadata": {},
   "outputs": [],
   "source": [
    "from sklearn.feature_extraction.text import TfidfVectorizer\n",
    "from sklearn.decomposition import TruncatedSVD\n",
    "from sklearn.metrics.pairwise import cosine_similarity"
   ]
  },
  {
   "cell_type": "code",
   "execution_count": 62,
   "metadata": {},
   "outputs": [],
   "source": [
    "def get_cos_sim_matrix(processed, n_components=10, use_svd = True):\n",
    "    '''\n",
    "    Compute the cosine similarity matrix based on TF-IDF and SVD truncation\n",
    "    '''\n",
    "    tfidf = TfidfVectorizer(stop_words='english')\n",
    "    processed['content'] = processed['content'].fillna('')\n",
    "    tfidf_matrix = tfidf.fit_transform(processed['content'])\n",
    "    if use_svd:\n",
    "        #reduce dimensionality of tfidf matrix\n",
    "        svd = TruncatedSVD(n_components=n_components, random_state=42)\n",
    "        tfidf_truncated = svd.fit_transform(tfidf_matrix)\n",
    "    else:\n",
    "        tfidf_truncated = tfidf_matrix\n",
    "    cosine_sim = cosine_similarity(tfidf_truncated, tfidf_truncated)\n",
    "    return cosine_sim"
   ]
  },
  {
   "cell_type": "markdown",
   "metadata": {},
   "source": [
    "#### Hyperparameter Tuning"
   ]
  },
  {
   "cell_type": "code",
   "execution_count": 26,
   "metadata": {},
   "outputs": [],
   "source": [
    "def tuning_cos_rmse(n_components, content, interactions, uid_array, rids_array):\n",
    "    '''\n",
    "    Function computes the RMSE for different number of components for the used SVD\n",
    "    '''\n",
    "    rmse_cos = []\n",
    "    \n",
    "    for n in n_components:\n",
    "        print(\"Computing predictions & recommendations for:\", n)\n",
    "        similarity = get_cos_sim_matrix(content, n)\n",
    "        \n",
    "        predictions, actuals = make_all_predictions(len(interactions), \n",
    "                                                    similarity, \n",
    "                                                    content, \n",
    "                                                    interactions, \n",
    "                                                    uid_array, \n",
    "                                                    rids_array)\n",
    "        rmse = mean_squared_error(predictions, actuals)**0.5\n",
    "        print(n, '=n_components', 'rmse:', rmse)\n",
    "        rmse_cos.append(rmse)\n",
    "        \n",
    "           \n",
    "    return rmse_cos"
   ]
  },
  {
   "cell_type": "code",
   "execution_count": 27,
   "metadata": {},
   "outputs": [
    {
     "name": "stdout",
     "output_type": "stream",
     "text": [
      "Computing predictions & recommendations for: 50\n"
     ]
    },
    {
     "name": "stderr",
     "output_type": "stream",
     "text": [
      "100% |########################################################################|\n"
     ]
    },
    {
     "name": "stdout",
     "output_type": "stream",
     "text": [
      "50 =n_components rmse: 0.5148120450645992\n",
      "Computing predictions & recommendations for: 100\n"
     ]
    },
    {
     "name": "stderr",
     "output_type": "stream",
     "text": [
      "100% |########################################################################|\n"
     ]
    },
    {
     "name": "stdout",
     "output_type": "stream",
     "text": [
      "100 =n_components rmse: 0.4915429457275646\n",
      "Computing predictions & recommendations for: 200\n"
     ]
    },
    {
     "name": "stderr",
     "output_type": "stream",
     "text": [
      "100% |########################################################################|\n"
     ]
    },
    {
     "name": "stdout",
     "output_type": "stream",
     "text": [
      "200 =n_components rmse: 0.4662183252029529\n"
     ]
    }
   ],
   "source": [
    "# Define a suitable parameter range for the components of the SVD\n",
    "n_components=[50, 100, 200]\n",
    "# Tune the actual hyperparameters\n",
    "rmse_cos_tune= tuning_cos_rmse(n_components,\n",
    "                               content_processed,\n",
    "                               train_split,\n",
    "                               train_split['user_id'].values,\n",
    "                               train_split['recipe_id'].values, \n",
    "                               )\n",
    "# Get the hyperparameter with the lowest RMSE on the dev set\n",
    "rmse_cos_tune_min = min(rmse_cos_tune)\n",
    "rmse_cos_tune_min_idx = rmse_cos_tune.index(rmse_cos_tune_min)\n",
    "n_components_min = n_components[rmse_cos_tune_min_idx]"
   ]
  },
  {
   "cell_type": "code",
   "execution_count": 28,
   "metadata": {},
   "outputs": [
    {
     "data": {
      "image/png": "[encoded data removed]",
      "text/plain": [
       "<Figure size 432x288 with 1 Axes>"
      ]
     },
     "metadata": {
      "needs_background": "light"
     },
     "output_type": "display_data"
    }
   ],
   "source": [
    "# Plot the RMSE for different numbers of components\n",
    "plt.plot(n_components, rmse_cos_tune)\n",
    "plt.xlabel('n_components')\n",
    "plt.ylabel('RMSE')\n",
    "plt.title('RMSE for different tfidf/SVD models')\n",
    "plt.plot([n_components_min], [rmse_cos_tune_min], 'o')\n",
    "plt.show()"
   ]
  },
  {
   "cell_type": "markdown",
   "metadata": {},
   "source": [
    "#### Fit the models"
   ]
  },
  {
   "cell_type": "code",
   "execution_count": 29,
   "metadata": {},
   "outputs": [],
   "source": [
    "# Proximity matrix of the TFIDF-SVD model\n",
    "similarity_matrix_svd = get_cos_sim_matrix(content_processed, n_components_min, use_svd=True)"
   ]
  },
  {
   "cell_type": "code",
   "execution_count": 30,
   "metadata": {},
   "outputs": [],
   "source": [
    "# Proximity matrix for the plain TFIDF model\n",
    "similarity_matrix = get_cos_sim_matrix(content_processed, n_components_min, use_svd=False)"
   ]
  },
  {
   "cell_type": "markdown",
   "metadata": {},
   "source": [
    "<a id='word-embeddings'></a>\n",
    "### 3.1.2 WordEmbeddings"
   ]
  },
  {
   "cell_type": "markdown",
   "metadata": {},
   "source": [
    "#### Proximity Matrix"
   ]
  },
  {
   "cell_type": "code",
   "execution_count": 34,
   "metadata": {},
   "outputs": [],
   "source": [
    "def normalize_tfidf(tfidf_vector, weights):\n",
    "    return(np.average(tfidf_vector, weights=weights, axis=0))\n",
    "\n",
    "def get_tfidf_wordembedding_matrix(content_separated, vocabulary_name):\n",
    "    # Load pre-trained vocabulary\n",
    "    model = api.load(vocabulary_name) # glove-wiki-gigaword-100 glove-wiki-gigaword-200 glove-wiki-gigaword-300\n",
    "    word2vector = dict(zip(model.wv.index2word, model.wv.vectors))\n",
    "\n",
    "    # Compute tf-idf vector\n",
    "    tfidf = TfidfVectorizer(analyzer=lambda x: x)\n",
    "    tfidf.fit(content_separated)\n",
    "\n",
    "    # create dictionary with all vocabulary items and their tf-idf distance\n",
    "    max_idf = max(tfidf.idf_)\n",
    "    word2word = collections.defaultdict(\n",
    "        lambda: max_idf,\n",
    "        [(w, tfidf.idf_[i]) for w, i in tfidf.vocabulary_.items()])\n",
    "\n",
    "    # get representation of contents as tf-idf (second dimension used for weights)\n",
    "    dim = len(word2vector.items())\n",
    "    tfidf_matrix = np.array([\n",
    "        normalize_tfidf([word2vector[w] * word2word[w] for w in words if w in word2vector]\n",
    "                        or [np.zeros(dim)], [word2word[w] for w in words if w in word2vector or 0])\n",
    "        for words in content_separated\n",
    "    ])\n",
    "    \n",
    "    return tfidf_matrix"
   ]
  },
  {
   "cell_type": "markdown",
   "metadata": {},
   "source": [
    "#### Hyperparameter Tuning"
   ]
  },
  {
   "cell_type": "code",
   "execution_count": 36,
   "metadata": {},
   "outputs": [],
   "source": [
    "def tuning_emb_vocab_size(vocabulary_names, content, content_seperated, interactions, uid_array, rids_array):\n",
    "    rmse_emb = []\n",
    "    \n",
    "    for vocabulary_name in vocabulary_names:\n",
    "        tfidf_matrix = get_tfidf_wordembedding_matrix(content_seperated, vocabulary_name)\n",
    "        similarity = cosine_similarity(tfidf_matrix, tfidf_matrix)\n",
    "        \n",
    "        predictions, actuals = make_all_predictions(len(interactions), similarity, content, interactions, uid_array, rids_array)\n",
    "        rmse = mean_squared_error(predictions, actuals)**0.5\n",
    "        rmse_emb.append(rmse)\n",
    "\n",
    "    return rmse_emb"
   ]
  },
  {
   "cell_type": "code",
   "execution_count": 37,
   "metadata": {},
   "outputs": [
    {
     "name": "stderr",
     "output_type": "stream",
     "text": [
      "100% |########################################################################|\n",
      "100% |########################################################################|\n",
      "100% |########################################################################|\n",
      "100% |########################################################################|\n"
     ]
    }
   ],
   "source": [
    "# Parameter space for the word embedding model, parameters represent size of embedding\n",
    "vocabulary_names = [\"glove-wiki-gigaword-50\", \"glove-wiki-gigaword-100\", \"glove-wiki-gigaword-200\", \"glove-wiki-gigaword-300\"]\n",
    "# Tokenized content required to tune the parameters\n",
    "content_tokenized = [content_item.split(\" \") for content_item in content_processed[\"content\"]]\n",
    "# Choose the size with the smallest RMSE on the dev set\n",
    "rmse_emb_tune = tuning_emb_vocab_size(vocabulary_names,\n",
    "                                      content_processed,\n",
    "                                      content_tokenized,\n",
    "                                      train_split,\n",
    "                                      train_split['user_id'].values,\n",
    "                                      train_split['recipe_id'].values)\n",
    "rmse_emb_min = min(rmse_emb_tune)\n",
    "rmse_emb_min_idx = rmse_emb_tune.index(rmse_emb_min)\n",
    "vocabulary_name_min = vocabulary_names[rmse_emb_min_idx]"
   ]
  },
  {
   "cell_type": "code",
   "execution_count": 38,
   "metadata": {},
   "outputs": [
    {
     "data": {
      "image/png": "[encoded data removed]",
      "text/plain": [
       "<Figure size 432x288 with 1 Axes>"
      ]
     },
     "metadata": {
      "needs_background": "light"
     },
     "output_type": "display_data"
    }
   ],
   "source": [
    "# Plot the RMSE for different sizes of word embeddings\n",
    "plt.plot(vocabulary_names, rmse_emb_tune)\n",
    "plt.xlabel('Vocabulary Name')\n",
    "plt.ylabel('RMSE')\n",
    "plt.title('RMSE for different Word Embeddding models')\n",
    "plt.plot([vocabulary_name_min], [rmse_emb_min], 'o')\n",
    "plt.show()"
   ]
  },
  {
   "cell_type": "markdown",
   "metadata": {},
   "source": [
    "#### Fit the model"
   ]
  },
  {
   "cell_type": "code",
   "execution_count": 39,
   "metadata": {},
   "outputs": [],
   "source": [
    "# Proximity matrix of the embedded model\n",
    "tfidf_matrix = get_tfidf_wordembedding_matrix(content_tokenized, vocabulary_name_min)\n",
    "similarity_matrix_embedded = cosine_similarity(tfidf_matrix, tfidf_matrix)"
   ]
  },
  {
   "cell_type": "markdown",
   "metadata": {},
   "source": [
    "<a id='mixture'></a>\n",
    "### 3.1.3 Mixture Model"
   ]
  },
  {
   "cell_type": "markdown",
   "metadata": {},
   "source": [
    "#### Proximity Matrix"
   ]
  },
  {
   "cell_type": "code",
   "execution_count": 40,
   "metadata": {},
   "outputs": [],
   "source": [
    "def get_mix_sim_matrix(processed, lmbda, df_rfiltered):\n",
    "    '''\n",
    "    Function to compute proximity matrix for the mixture model\n",
    "    '''\n",
    "    cos_sim = get_cos_sim_matrix(processed, n_components_min, False)\n",
    "    df_sub = df_rfiltered[['recipe_id', 'n_steps', 'minutes', 'n_ingredients']]\n",
    "    df_processed = df_sub[df_sub['recipe_id'].isin(processed['recipe_id'])]\\\n",
    "                                                             .set_index('recipe_id')\n",
    "    scaler = StandardScaler()\n",
    "    X = scaler.fit_transform(df_processed)\n",
    "    eucl_dis = euclidean_distances(X,X)\n",
    "    eucl_sim = 1/np.exp(eucl_dis)\n",
    "    mixed_sim = np.add(cos_sim*lmbda, eucl_sim*(1-lmbda)) # assume equally weighted\n",
    "    return mixed_sim"
   ]
  },
  {
   "cell_type": "markdown",
   "metadata": {},
   "source": [
    "<a id='optimize-lambda'></a>\n",
    "#### Hyperparamter Tuning"
   ]
  },
  {
   "cell_type": "code",
   "execution_count": 41,
   "metadata": {},
   "outputs": [],
   "source": [
    "def tuning_mix_param(lmbdas, content, df_rfiltered, interactions, uid_array, rids_array):\n",
    "    '''\n",
    "    Function computes the RMSE for different sizes of lambda (weighting parameter of the mixture model)\n",
    "    '''\n",
    "    rmse_mix = []\n",
    "    \n",
    "    for lmbda in lmbdas:\n",
    "        similarity = get_mix_sim_matrix(content, lmbda, df_rfiltered)\n",
    "        \n",
    "        predictions, actuals = make_all_predictions(len(interactions), \n",
    "                                                    similarity, \n",
    "                                                    content, interactions, \n",
    "                                                    uid_array, \n",
    "                                                    rids_array)\n",
    "        rmse = mean_squared_error(predictions, actuals)**0.5\n",
    "        rmse_mix.append(rmse)\n",
    "           \n",
    "    return rmse_mix"
   ]
  },
  {
   "cell_type": "code",
   "execution_count": 42,
   "metadata": {},
   "outputs": [
    {
     "name": "stderr",
     "output_type": "stream",
     "text": [
      "100% |########################################################################|\n",
      "100% |########################################################################|\n",
      "100% |########################################################################|\n",
      "100% |########################################################################|\n",
      "100% |########################################################################|\n"
     ]
    }
   ],
   "source": [
    "# Set a suitable parameter range for lambda\n",
    "lmbdas = np.linspace(0,1,5)\n",
    "# Compute the RMSE for different lambdas (weighting paramtere)\n",
    "rmse_mix_tune = tuning_mix_param(lmbdas, \n",
    "                                 content_processed,\n",
    "                                 recipes_data,\n",
    "                                 train_split, \n",
    "                                 train_split['user_id'].values, \n",
    "                                 train_split['recipe_id'].values)\n",
    "rmse_mix_min = min(rmse_mix_tune)\n",
    "rmse_mix_min_idx = rmse_mix_tune.index(rmse_mix_min)\n",
    "lmbda_min = lmbdas[rmse_mix_min_idx]"
   ]
  },
  {
   "cell_type": "code",
   "execution_count": 43,
   "metadata": {},
   "outputs": [
    {
     "data": {
      "image/png": "[encoded data removed]",
      "text/plain": [
       "<Figure size 432x288 with 1 Axes>"
      ]
     },
     "metadata": {
      "needs_background": "light"
     },
     "output_type": "display_data"
    }
   ],
   "source": [
    "# Plot the RMSE for different sizes of lambda\n",
    "plt.plot(lmbdas, rmse_mix_tune)\n",
    "plt.xlabel('lambda')\n",
    "plt.ylabel('RMSE')\n",
    "plt.title('RMSE for different mixture models')\n",
    "plt.plot([lmbda_min], [rmse_mix_min], 'o')\n",
    "plt.show()"
   ]
  },
  {
   "cell_type": "markdown",
   "metadata": {},
   "source": [
    "#### Fit the model"
   ]
  },
  {
   "cell_type": "code",
   "execution_count": 44,
   "metadata": {},
   "outputs": [],
   "source": [
    "# Proximity matrix of the mixture model\n",
    "similarity_matrix_mixed = get_mix_sim_matrix(content_processed, lmbda_min, recipes_data)"
   ]
  },
  {
   "cell_type": "markdown",
   "metadata": {},
   "source": [
    "### 3.2 Collaborative Filtering Models"
   ]
  },
  {
   "cell_type": "code",
   "execution_count": 45,
   "metadata": {},
   "outputs": [],
   "source": [
    "def create_pivot_table(pd_df):\n",
    "    data = pd_df.values\n",
    "    #print(data.shape)\n",
    "    rows, row_pos = np.unique(data[:, 0], return_inverse=True) #Retrieves sorted array of unqiue values of pd_df and the corresponding inverse in order to reconstruct the original array\n",
    "    cols, col_pos = np.unique(data[:, 1], return_inverse=True) #Retrieves sorted array of unqiue values of pd_df and the corresponding inverse in order to reconstruct the original array\n",
    "    pivot_matrix = np.zeros((len(rows), len(cols)), dtype=data.dtype)\n",
    "    pivot_matrix[row_pos, col_pos] = data[:, 2] #Matrix is column wise filled by the original positions of movieId and userId\n",
    "    #print(pivot_matrix.shape)\n",
    "    return pivot_matrix"
   ]
  },
  {
   "cell_type": "code",
   "execution_count": 46,
   "metadata": {},
   "outputs": [],
   "source": [
    "def get_top_k(algo, trainset, neighbors, data_set, recipe_ids, k):\n",
    "    \"\"\"\n",
    "    Function returns the a dict of users in which the values are lists of the recommended recipes\n",
    "    \"\"\"\n",
    "    start = time.time()\n",
    "\n",
    "    # Get the number of users and number of recipes\n",
    "    n_users = len(data_set.user_id.unique())\n",
    "    n_recipes = len(recipe_ids)\n",
    "    \n",
    "    # Get users we need a predicition for (assume that we have all users by now)\n",
    "    user_ids = data_set.user_id.unique()\n",
    "    user_ids.sort()\n",
    "    # Get all recipes we need a predicition for\n",
    "    all_recipes = np.array(recipe_ids, dtype=int)\n",
    "    all_recipes.sort()\n",
    "    # Get all recipes that are in the train set\n",
    "    recipes_train = data_set.recipe_id.unique()\n",
    "    # Get the baselines for users and items\n",
    "    bu, bi = algo.compute_baselines()\n",
    "\n",
    "    # Mapping between our user id and inner user id ==> suprise package uses inner id\n",
    "    # We always have all possible item ids due to our train-dev-test-split\n",
    "    our_user_ids = []\n",
    "    inner_user_ids = []\n",
    "    for uid in user_ids:\n",
    "        try:\n",
    "            # Collect the corresponding inner id\n",
    "            iid = trainset.to_inner_uid(uid)\n",
    "            inner_user_ids.append(iid)\n",
    "        except:\n",
    "            pass\n",
    "        # Collect the corresponding our id\n",
    "        our_user_ids.append(uid)\n",
    "    mapping_uid = pd.DataFrame({'inner_user_id': inner_user_ids, 'bu': bu}, index=our_user_ids)\n",
    "    mapping_uid.sort_index(inplace=True)\n",
    "    mapping_uid.index.name='user_id'\n",
    "    mapping_uid.reset_index(inplace=True)\n",
    "    \n",
    "    # Check whether inner user ids are sorted the same way our user ids are sorted\n",
    "    if mapping_uid.inner_user_id.is_monotonic is False:\n",
    "        raise Exception(\"Train split is not sorted by user id\")\n",
    "    \n",
    "    # Important: Our user ids are sorted by the inner user ids (ascending) ==> can rely on implicit sorting\n",
    "\n",
    "    # Mapping between our recipe id and inner recipe id ==> suprise package uses inner id\n",
    "    # Get the item ids that exist in the data ses.\n",
    "    our_recipe_ids = []\n",
    "    inner_recipe_ids = []\n",
    "    for rid in recipes_train:\n",
    "        try:\n",
    "            # Collect the corresponding inner id\n",
    "            iid = trainset.to_inner_iid(rid)\n",
    "            inner_recipe_ids.append(iid)\n",
    "        except:\n",
    "            pass\n",
    "        # Collect the corresponding our id\n",
    "        our_recipe_ids.append(rid)\n",
    "    # Build the data frame with the mapping\n",
    "    mapping_iid = pd.DataFrame({'inner_recipe_id': inner_recipe_ids, 'bi': bi}, index=our_recipe_ids)\n",
    "    \n",
    "    # Add missing items to the mapping iid dataframe, that were lost because of our train test split\n",
    "    all_recipe_ids_index = pd.Index(all_recipes)\n",
    "    mapping_iid_all = mapping_iid.reindex(all_recipe_ids_index)\n",
    "    mapping_iid_all.sort_index(inplace=True)\n",
    "    # Fill missing values for baseline\n",
    "    mapping_iid_all.bi.fillna(0, inplace=True)\n",
    "    # Reset index to get recipe ids back in columns\n",
    "    mapping_iid.index.name = 'recipe_id'\n",
    "    mapping_iid.reset_index(inplace=True)\n",
    "    \n",
    "    ### Important: Our recipe ids are not sorted by the inner recipe ids ==> always check for match, do not rely on implicit sorting\n",
    "\n",
    "    # Creating an array of shape n_users x n_recipes with all the recipe baselines\n",
    "    ### Sorted ascending by our user id\n",
    "    bi_matrix = np.tile(mapping_iid_all.bi.to_numpy(), (n_users, 1))\n",
    "    # Creating an array of shape n_users x n_recipes with all the user baselines\n",
    "    ### Sorted ascending by our recipe id\n",
    "    bu_matrix = np.tile(mapping_uid.bu.to_numpy(), (n_recipes,1)).T\n",
    "    \n",
    "    # Build matrix of n_users x n_recipes with the already rated items to mask the estimation matrix \n",
    "    # ==> we only want to recommend recipes that are not already rated\n",
    "    # We need to make sure that all recipes are in the in our dataframe before we build the pivot, \n",
    "    # thus we will add dummy rows for one user that contain all missing recipes with rating 0\n",
    "    missing_recipe_ids = all_recipes[np.isin(all_recipes, recipes_train, invert=True)]\n",
    "    dummy_interactions = pd.DataFrame({'user_id': np.repeat(user_ids[0], len(missing_recipe_ids)), \n",
    "                                       'recipe_id': missing_recipe_ids, \n",
    "                                       'rating': np.repeat(0, len(missing_recipe_ids))}, columns=['user_id', 'recipe_id', 'rating'])\n",
    "    data_set_extend = data_set[['user_id', 'recipe_id', 'rating']].append(dummy_interactions)\n",
    "    \n",
    "    # Pivot ensures ascending sorting of the user ids in rows and of the item ids in columns\n",
    "    user_recipe_ratings_pivot = create_pivot_table(data_set_extend)\n",
    "    \n",
    "    # Estimate the ratings depending on model\n",
    "    if type(algo) is BaselineOnly:\n",
    "        print('Estimate BaselineOnly')\n",
    "        # Compute the estimation\n",
    "        est = bi_matrix + bu_matrix + trainset.global_mean\n",
    "        \n",
    "    elif type(algo) is KNNBaseline:\n",
    "        print('Estimate KNNBaseline')\n",
    "        # Get the user item baseline matrix\n",
    "        bui_matrix = bi_matrix + bu_matrix + trainset.global_mean\n",
    "        # Get the user item matrix masked by the user item pivot of actual ratings\n",
    "        bui_matrix_masked = np.where(user_recipe_ratings_pivot == 0, 0, bui_matrix)\n",
    "        \n",
    "        if algo.sim_options['user_based']:\n",
    "            ## User Based\n",
    "            # Get the similarity matrix\n",
    "            similarity = algo.compute_similarities()\n",
    "            # Maske the similarity matrix by k neighbors\n",
    "            for i in range(0, len(similarity)):\n",
    "                # Get the sorted unique values and the indices of the former array\n",
    "                values, indices = np.unique(similarity[i], return_inverse=True)\n",
    "                # Set everything to zero except from the top k+1 neighbors (+1 for the similarity to the own user which is 1)\n",
    "                values[:-(k+1)] = 0\n",
    "                # Get the sorting of former array back and replace in similarity matrix\n",
    "                similarity[i] = values[indices]\n",
    "\n",
    "            # Compute the estimation\n",
    "            ratings_diff = np.matmul((user_recipe_ratings_pivot - bui_matrix_masked).T, similarity)\n",
    "            # Normalize by the sum of weights-1 (as the own user is in the axis with a similarity of 1)\n",
    "            # Add the user-item baseline ==> Set the est to zero in case there are not similar users\n",
    "            est = (ratings_diff / np.array([np.abs(similarity).sum(axis=1)-1])).T\n",
    "            # Workaround for division by 0\n",
    "            est[est == np.inf] = 0\n",
    "            est[est == np.NINF] = 0\n",
    "            # Add user item baseline matrix\n",
    "            est += bui_matrix\n",
    "        else:\n",
    "            raise Exception(\"Item based mass prediction not implemented\")\n",
    "    elif type(algo) is SVD:\n",
    "            # Get item x factor matrix\n",
    "            qi = algo.qi\n",
    "            # Get user x factor matrix\n",
    "            pu = algo.pu\n",
    "            # Get user x items baseline matrix\n",
    "            bui_matrix = bi_matrix + bu_matrix + trainset.global_mean\n",
    "            # Get user x item factor matrix\n",
    "            factor_matrix = np.matmul(pu, qi.T)\n",
    "            est = np.zeros(bui_matrix.shape)\n",
    "            # Cop whole bui matrix to get predictions even for user item combinations we did not see in training \n",
    "            est = bui_matrix\n",
    "            # Add the factor matrix to all combinations we did see in training\n",
    "            est[:,np.isin(all_recipes, mapping_iid.recipe_id.to_numpy())] = bui_matrix[:,np.isin(all_recipes, mapping_iid.recipe_id.to_numpy())] + factor_matrix \n",
    "    ###\n",
    "    \n",
    "    # Setting the estimation of the already rated recipes to zero, so that those end up at the end during sorting\n",
    "    est_masked = np.where(user_recipe_ratings_pivot == 0, est, 0)\n",
    "\n",
    "    # Build results\n",
    "    rec_dict = {}\n",
    "\n",
    "    # Get the top k recipes per user and put them in a dict\n",
    "    for i in range(0, n_users):\n",
    "        uid = data_set.user_id.unique()[i]\n",
    "        ratings_per_user = pd.DataFrame({'recipe_id': all_recipes, 'rating': est_masked[i]})\n",
    "        ratings_per_user.sort_values('rating', ascending=False, inplace=True)\n",
    "        rec_dict[uid] = ratings_per_user.recipe_id.iloc[:k].to_numpy()\n",
    "\n",
    "    end = time.time()\n",
    "    print(f'Runtime prediction of all ratings: {round(end-start, 2)}')\n",
    "    \n",
    "    return rec_dict"
   ]
  },
  {
   "cell_type": "code",
   "execution_count": 47,
   "metadata": {},
   "outputs": [],
   "source": [
    "# def get_top_n(predictions, n=10):\n",
    "#     '''Return the top-N recommendation for each user from a set of predictions.\n",
    "\n",
    "#     Args:\n",
    "#         predictions(list of Prediction objects): The list of predictions, as\n",
    "#             returned by the test method of an algorithm.\n",
    "#         n(int): The number of recommendation to output for each user. Default\n",
    "#             is 10.\n",
    "\n",
    "#     Returns:\n",
    "#     A dict where keys are user (raw) ids and values are lists of tuples:\n",
    "#         [(raw item id, rating estimation), ...] of size n.\n",
    "#     '''\n",
    "\n",
    "#     # First map the predictions to each user.\n",
    "#     top_n = defaultdict(list)\n",
    "#     for uid, iid, true_r, est, _ in predictions:\n",
    "#         top_n[uid].append((iid, est))\n",
    "\n",
    "#     # Then sort the predictions for each user and retrieve the k highest ones.\n",
    "#     for uid, user_ratings in top_n.items():\n",
    "#         user_ratings.sort(key=lambda x: x[1], reverse=True)\n",
    "#         top_n[uid] = user_ratings[:n]\n",
    "\n",
    "#     # Just keep the recipe ids\n",
    "#     for uid, user_ratings in top_n.items():\n",
    "#         recommended_recipes = []\n",
    "#         for user_rating in user_ratings:\n",
    "#             recommended_recipes.append(user_rating[0])\n",
    "#         top_n[uid] = recommended_recipes\n",
    "\n",
    "#     return top_n"
   ]
  },
  {
   "cell_type": "markdown",
   "metadata": {},
   "source": [
    "#### Preselection of algorithms"
   ]
  },
  {
   "cell_type": "code",
   "execution_count": 48,
   "metadata": {},
   "outputs": [
    {
     "data": {
      "text/html": [
       "<div>\n",
       "<style scoped>\n",
       "    .dataframe tbody tr th:only-of-type {\n",
       "        vertical-align: middle;\n",
       "    }\n",
       "\n",
       "    .dataframe tbody tr th {\n",
       "        vertical-align: top;\n",
       "    }\n",
       "\n",
       "    .dataframe thead th {\n",
       "        text-align: right;\n",
       "    }\n",
       "</style>\n",
       "<table border=\"1\" class=\"dataframe\">\n",
       "  <thead>\n",
       "    <tr style=\"text-align: right;\">\n",
       "      <th></th>\n",
       "      <th>DevRMSE</th>\n",
       "    </tr>\n",
       "  </thead>\n",
       "  <tbody>\n",
       "    <tr>\n",
       "      <th>NormalPredictor</th>\n",
       "      <td>0.812151</td>\n",
       "    </tr>\n",
       "    <tr>\n",
       "      <th>BaselineOnly</th>\n",
       "      <td>0.607315</td>\n",
       "    </tr>\n",
       "    <tr>\n",
       "      <th>KNNBasic</th>\n",
       "      <td>0.720058</td>\n",
       "    </tr>\n",
       "    <tr>\n",
       "      <th>KNNWithMeans</th>\n",
       "      <td>0.670449</td>\n",
       "    </tr>\n",
       "    <tr>\n",
       "      <th>KNNWithZScore</th>\n",
       "      <td>0.678394</td>\n",
       "    </tr>\n",
       "    <tr>\n",
       "      <th>KNNBaseline</th>\n",
       "      <td>0.672243</td>\n",
       "    </tr>\n",
       "    <tr>\n",
       "      <th>SVD</th>\n",
       "      <td>0.611829</td>\n",
       "    </tr>\n",
       "  </tbody>\n",
       "</table>\n",
       "</div>"
      ],
      "text/plain": [
       "                  DevRMSE\n",
       "NormalPredictor  0.812151\n",
       "BaselineOnly     0.607315\n",
       "KNNBasic         0.720058\n",
       "KNNWithMeans     0.670449\n",
       "KNNWithZScore    0.678394\n",
       "KNNBaseline      0.672243\n",
       "SVD              0.611829"
      ]
     },
     "execution_count": 48,
     "metadata": {},
     "output_type": "execute_result"
    }
   ],
   "source": [
    "# Compare Results of default algorihms on the problem to identify most promising once\n",
    "\n",
    "algos = {\n",
    "    'NormalPredictor': NormalPredictor, \n",
    "    'BaselineOnly': BaselineOnly, \n",
    "    'KNNBasic': KNNBasic, \n",
    "    'KNNWithMeans': KNNWithMeans,\n",
    "    'KNNWithZScore': KNNWithZScore,\n",
    "    'KNNBaseline': KNNBaseline,\n",
    "    'SVD': SVD,\n",
    "}\n",
    "\n",
    "# Build cross validation split\n",
    "cv_cf = ShuffleSplit(n_splits = 10, test_size = 0.3, random_state=42, shuffle=True)\n",
    "\n",
    "# Create dataset objects from the train-test-split which is required for suprise package \n",
    "trainset = Dataset.load_from_df(train_split[['user_id','recipe_id', 'rating']], Reader())\n",
    "# Results dict\n",
    "results_algos_cf = {}\n",
    "\n",
    "# Evaluate each algorithm with default settings\n",
    "for name, algo in algos.items():\n",
    "    cs = cross_validate(algo(), trainset, cv=cv_cf, n_jobs=-1)\n",
    "    results_algos_cf.update({name: [np.mean(cs.get('test_rmse'))]})\n",
    "\n",
    "results_algos_cf_df = pd.DataFrame.from_dict(results_algos_cf, orient='index', columns=['DevRMSE'])\n",
    "results_algos_cf_df"
   ]
  },
  {
   "cell_type": "markdown",
   "metadata": {},
   "source": [
    "#### Hyperparameter Tuning"
   ]
  },
  {
   "cell_type": "code",
   "execution_count": 49,
   "metadata": {},
   "outputs": [
    {
     "name": "stdout",
     "output_type": "stream",
     "text": [
      "BaselineOnly\n",
      "Estimating biases using als...\n",
      "Estimating biases using als...\n",
      "Estimating biases using als...\n",
      "Estimating biases using als...\n",
      "Estimating biases using als...\n",
      "Estimating biases using als...\n",
      "Estimating biases using als...\n",
      "Estimating biases using als...\n",
      "Estimating biases using als...\n",
      "Estimating biases using als...\n",
      "GridSearch: 10.23s\n",
      "KNNBaseline\n",
      "Estimating biases using als...\n",
      "Computing the cosine similarity matrix...\n",
      "Done computing similarity matrix.\n",
      "Estimating biases using als...\n",
      "Computing the cosine similarity matrix...\n",
      "Done computing similarity matrix.\n",
      "Estimating biases using als...\n",
      "Computing the cosine similarity matrix...\n",
      "Done computing similarity matrix.\n",
      "Estimating biases using als...\n",
      "Computing the cosine similarity matrix...\n",
      "Done computing similarity matrix.\n",
      "Estimating biases using als...\n",
      "Computing the cosine similarity matrix...\n",
      "Done computing similarity matrix.\n",
      "Estimating biases using als...\n",
      "Computing the cosine similarity matrix...\n",
      "Done computing similarity matrix.\n",
      "Estimating biases using als...\n",
      "Computing the cosine similarity matrix...\n",
      "Done computing similarity matrix.\n",
      "Estimating biases using als...\n",
      "Computing the cosine similarity matrix...\n",
      "Done computing similarity matrix.\n",
      "Estimating biases using als...\n",
      "Computing the cosine similarity matrix...\n",
      "Done computing similarity matrix.\n",
      "Estimating biases using als...\n",
      "Computing the cosine similarity matrix...\n",
      "Done computing similarity matrix.\n",
      "Estimating biases using als...\n",
      "Computing the msd similarity matrix...\n",
      "Done computing similarity matrix.\n",
      "Estimating biases using als...\n",
      "Computing the msd similarity matrix...\n",
      "Done computing similarity matrix.\n",
      "Estimating biases using als...\n",
      "Computing the msd similarity matrix...\n",
      "Done computing similarity matrix.\n",
      "Estimating biases using als...\n",
      "Computing the msd similarity matrix...\n",
      "Done computing similarity matrix.\n",
      "Estimating biases using als...\n",
      "Computing the msd similarity matrix...\n",
      "Done computing similarity matrix.\n",
      "Estimating biases using als...\n",
      "Computing the msd similarity matrix...\n",
      "Done computing similarity matrix.\n",
      "Estimating biases using als...\n",
      "Computing the msd similarity matrix...\n",
      "Done computing similarity matrix.\n",
      "Estimating biases using als...\n",
      "Computing the msd similarity matrix...\n",
      "Done computing similarity matrix.\n",
      "Estimating biases using als...\n",
      "Computing the msd similarity matrix...\n",
      "Done computing similarity matrix.\n",
      "Estimating biases using als...\n",
      "Computing the msd similarity matrix...\n",
      "Done computing similarity matrix.\n",
      "Estimating biases using als...\n",
      "Computing the pearson similarity matrix...\n",
      "Done computing similarity matrix.\n",
      "Estimating biases using als...\n",
      "Computing the pearson similarity matrix...\n",
      "Done computing similarity matrix.\n",
      "Estimating biases using als...\n",
      "Computing the pearson similarity matrix...\n",
      "Done computing similarity matrix.\n",
      "Estimating biases using als...\n",
      "Computing the pearson similarity matrix...\n",
      "Done computing similarity matrix.\n",
      "Estimating biases using als...\n",
      "Computing the pearson similarity matrix...\n",
      "Done computing similarity matrix.\n",
      "Estimating biases using als...\n",
      "Computing the pearson similarity matrix...\n",
      "Done computing similarity matrix.\n",
      "Estimating biases using als...\n",
      "Computing the pearson similarity matrix...\n",
      "Done computing similarity matrix.\n",
      "Estimating biases using als...\n",
      "Computing the pearson similarity matrix...\n",
      "Done computing similarity matrix.\n",
      "Estimating biases using als...\n",
      "Computing the pearson similarity matrix...\n",
      "Done computing similarity matrix.\n",
      "Estimating biases using als...\n",
      "Computing the pearson similarity matrix...\n",
      "Done computing similarity matrix.\n",
      "Estimating biases using als...\n",
      "Computing the cosine similarity matrix...\n",
      "Done computing similarity matrix.\n",
      "Estimating biases using als...\n",
      "Computing the cosine similarity matrix...\n",
      "Done computing similarity matrix.\n",
      "Estimating biases using als...\n",
      "Computing the cosine similarity matrix...\n",
      "Done computing similarity matrix.\n",
      "Estimating biases using als...\n",
      "Computing the cosine similarity matrix...\n",
      "Done computing similarity matrix.\n",
      "Estimating biases using als...\n",
      "Computing the cosine similarity matrix...\n",
      "Done computing similarity matrix.\n",
      "Estimating biases using als...\n",
      "Computing the cosine similarity matrix...\n",
      "Done computing similarity matrix.\n",
      "Estimating biases using als...\n",
      "Computing the cosine similarity matrix...\n",
      "Done computing similarity matrix.\n",
      "Estimating biases using als...\n",
      "Computing the cosine similarity matrix...\n",
      "Done computing similarity matrix.\n",
      "Estimating biases using als...\n",
      "Computing the cosine similarity matrix...\n",
      "Done computing similarity matrix.\n",
      "Estimating biases using als...\n",
      "Computing the cosine similarity matrix...\n",
      "Done computing similarity matrix.\n",
      "Estimating biases using als...\n",
      "Computing the msd similarity matrix...\n",
      "Done computing similarity matrix.\n",
      "Estimating biases using als...\n",
      "Computing the msd similarity matrix...\n",
      "Done computing similarity matrix.\n",
      "Estimating biases using als...\n",
      "Computing the msd similarity matrix...\n",
      "Done computing similarity matrix.\n",
      "Estimating biases using als...\n",
      "Computing the msd similarity matrix...\n",
      "Done computing similarity matrix.\n",
      "Estimating biases using als...\n",
      "Computing the msd similarity matrix...\n",
      "Done computing similarity matrix.\n",
      "Estimating biases using als...\n",
      "Computing the msd similarity matrix...\n",
      "Done computing similarity matrix.\n",
      "Estimating biases using als...\n",
      "Computing the msd similarity matrix...\n",
      "Done computing similarity matrix.\n",
      "Estimating biases using als...\n",
      "Computing the msd similarity matrix...\n",
      "Done computing similarity matrix.\n",
      "Estimating biases using als...\n",
      "Computing the msd similarity matrix...\n",
      "Done computing similarity matrix.\n",
      "Estimating biases using als...\n",
      "Computing the msd similarity matrix...\n",
      "Done computing similarity matrix.\n",
      "Estimating biases using als...\n",
      "Computing the pearson similarity matrix...\n",
      "Done computing similarity matrix.\n",
      "Estimating biases using als...\n",
      "Computing the pearson similarity matrix...\n",
      "Done computing similarity matrix.\n",
      "Estimating biases using als...\n",
      "Computing the pearson similarity matrix...\n",
      "Done computing similarity matrix.\n",
      "Estimating biases using als...\n",
      "Computing the pearson similarity matrix...\n",
      "Done computing similarity matrix.\n",
      "Estimating biases using als...\n",
      "Computing the pearson similarity matrix...\n",
      "Done computing similarity matrix.\n",
      "Estimating biases using als...\n",
      "Computing the pearson similarity matrix...\n",
      "Done computing similarity matrix.\n",
      "Estimating biases using als...\n",
      "Computing the pearson similarity matrix...\n",
      "Done computing similarity matrix.\n",
      "Estimating biases using als...\n",
      "Computing the pearson similarity matrix...\n",
      "Done computing similarity matrix.\n",
      "Estimating biases using als...\n",
      "Computing the pearson similarity matrix...\n",
      "Done computing similarity matrix.\n",
      "Estimating biases using als...\n",
      "Computing the pearson similarity matrix...\n",
      "Done computing similarity matrix.\n",
      "Estimating biases using als...\n",
      "Computing the cosine similarity matrix...\n",
      "Done computing similarity matrix.\n",
      "Estimating biases using als...\n",
      "Computing the cosine similarity matrix...\n",
      "Done computing similarity matrix.\n",
      "Estimating biases using als...\n",
      "Computing the cosine similarity matrix...\n",
      "Done computing similarity matrix.\n",
      "Estimating biases using als...\n",
      "Computing the cosine similarity matrix...\n",
      "Done computing similarity matrix.\n",
      "Estimating biases using als...\n",
      "Computing the cosine similarity matrix...\n",
      "Done computing similarity matrix.\n",
      "Estimating biases using als...\n",
      "Computing the cosine similarity matrix...\n",
      "Done computing similarity matrix.\n",
      "Estimating biases using als...\n",
      "Computing the cosine similarity matrix...\n",
      "Done computing similarity matrix.\n",
      "Estimating biases using als...\n",
      "Computing the cosine similarity matrix...\n",
      "Done computing similarity matrix.\n",
      "Estimating biases using als...\n",
      "Computing the cosine similarity matrix...\n",
      "Done computing similarity matrix.\n",
      "Estimating biases using als...\n",
      "Computing the cosine similarity matrix...\n",
      "Done computing similarity matrix.\n",
      "Estimating biases using als...\n",
      "Computing the msd similarity matrix...\n",
      "Done computing similarity matrix.\n",
      "Estimating biases using als...\n",
      "Computing the msd similarity matrix...\n",
      "Done computing similarity matrix.\n",
      "Estimating biases using als...\n",
      "Computing the msd similarity matrix...\n",
      "Done computing similarity matrix.\n",
      "Estimating biases using als...\n",
      "Computing the msd similarity matrix...\n",
      "Done computing similarity matrix.\n"
     ]
    },
    {
     "name": "stdout",
     "output_type": "stream",
     "text": [
      "Estimating biases using als...\n",
      "Computing the msd similarity matrix...\n",
      "Done computing similarity matrix.\n",
      "Estimating biases using als...\n",
      "Computing the msd similarity matrix...\n",
      "Done computing similarity matrix.\n",
      "Estimating biases using als...\n",
      "Computing the msd similarity matrix...\n",
      "Done computing similarity matrix.\n",
      "Estimating biases using als...\n",
      "Computing the msd similarity matrix...\n",
      "Done computing similarity matrix.\n",
      "Estimating biases using als...\n",
      "Computing the msd similarity matrix...\n",
      "Done computing similarity matrix.\n",
      "Estimating biases using als...\n",
      "Computing the msd similarity matrix...\n",
      "Done computing similarity matrix.\n",
      "Estimating biases using als...\n",
      "Computing the pearson similarity matrix...\n",
      "Done computing similarity matrix.\n",
      "Estimating biases using als...\n",
      "Computing the pearson similarity matrix...\n",
      "Done computing similarity matrix.\n",
      "Estimating biases using als...\n",
      "Computing the pearson similarity matrix...\n",
      "Done computing similarity matrix.\n",
      "Estimating biases using als...\n",
      "Computing the pearson similarity matrix...\n",
      "Done computing similarity matrix.\n",
      "Estimating biases using als...\n",
      "Computing the pearson similarity matrix...\n",
      "Done computing similarity matrix.\n",
      "Estimating biases using als...\n",
      "Computing the pearson similarity matrix...\n",
      "Done computing similarity matrix.\n",
      "Estimating biases using als...\n",
      "Computing the pearson similarity matrix...\n",
      "Done computing similarity matrix.\n",
      "Estimating biases using als...\n",
      "Computing the pearson similarity matrix...\n",
      "Done computing similarity matrix.\n",
      "Estimating biases using als...\n",
      "Computing the pearson similarity matrix...\n",
      "Done computing similarity matrix.\n",
      "Estimating biases using als...\n",
      "Computing the pearson similarity matrix...\n",
      "Done computing similarity matrix.\n",
      "Estimating biases using als...\n",
      "Computing the cosine similarity matrix...\n",
      "Done computing similarity matrix.\n",
      "Estimating biases using als...\n",
      "Computing the cosine similarity matrix...\n",
      "Done computing similarity matrix.\n",
      "Estimating biases using als...\n",
      "Computing the cosine similarity matrix...\n",
      "Done computing similarity matrix.\n",
      "Estimating biases using als...\n",
      "Computing the cosine similarity matrix...\n",
      "Done computing similarity matrix.\n",
      "Estimating biases using als...\n",
      "Computing the cosine similarity matrix...\n",
      "Done computing similarity matrix.\n",
      "Estimating biases using als...\n",
      "Computing the cosine similarity matrix...\n",
      "Done computing similarity matrix.\n",
      "Estimating biases using als...\n",
      "Computing the cosine similarity matrix...\n",
      "Done computing similarity matrix.\n",
      "Estimating biases using als...\n",
      "Computing the cosine similarity matrix...\n",
      "Done computing similarity matrix.\n",
      "Estimating biases using als...\n",
      "Computing the cosine similarity matrix...\n",
      "Done computing similarity matrix.\n",
      "Estimating biases using als...\n",
      "Computing the cosine similarity matrix...\n",
      "Done computing similarity matrix.\n",
      "Estimating biases using als...\n",
      "Computing the msd similarity matrix...\n",
      "Done computing similarity matrix.\n",
      "Estimating biases using als...\n",
      "Computing the msd similarity matrix...\n",
      "Done computing similarity matrix.\n",
      "Estimating biases using als...\n",
      "Computing the msd similarity matrix...\n",
      "Done computing similarity matrix.\n",
      "Estimating biases using als...\n",
      "Computing the msd similarity matrix...\n",
      "Done computing similarity matrix.\n",
      "Estimating biases using als...\n",
      "Computing the msd similarity matrix...\n",
      "Done computing similarity matrix.\n",
      "Estimating biases using als...\n",
      "Computing the msd similarity matrix...\n",
      "Done computing similarity matrix.\n",
      "Estimating biases using als...\n",
      "Computing the msd similarity matrix...\n",
      "Done computing similarity matrix.\n",
      "Estimating biases using als...\n",
      "Computing the msd similarity matrix...\n",
      "Done computing similarity matrix.\n",
      "Estimating biases using als...\n",
      "Computing the msd similarity matrix...\n",
      "Done computing similarity matrix.\n",
      "Estimating biases using als...\n",
      "Computing the msd similarity matrix...\n",
      "Done computing similarity matrix.\n",
      "Estimating biases using als...\n",
      "Computing the pearson similarity matrix...\n",
      "Done computing similarity matrix.\n",
      "Estimating biases using als...\n",
      "Computing the pearson similarity matrix...\n",
      "Done computing similarity matrix.\n",
      "Estimating biases using als...\n",
      "Computing the pearson similarity matrix...\n",
      "Done computing similarity matrix.\n",
      "Estimating biases using als...\n",
      "Computing the pearson similarity matrix...\n",
      "Done computing similarity matrix.\n",
      "Estimating biases using als...\n",
      "Computing the pearson similarity matrix...\n",
      "Done computing similarity matrix.\n",
      "Estimating biases using als...\n",
      "Computing the pearson similarity matrix...\n",
      "Done computing similarity matrix.\n",
      "Estimating biases using als...\n",
      "Computing the pearson similarity matrix...\n",
      "Done computing similarity matrix.\n",
      "Estimating biases using als...\n",
      "Computing the pearson similarity matrix...\n",
      "Done computing similarity matrix.\n",
      "Estimating biases using als...\n",
      "Computing the pearson similarity matrix...\n",
      "Done computing similarity matrix.\n",
      "Estimating biases using als...\n",
      "Computing the pearson similarity matrix...\n",
      "Done computing similarity matrix.\n",
      "Estimating biases using als...\n",
      "Computing the cosine similarity matrix...\n",
      "Done computing similarity matrix.\n",
      "Estimating biases using als...\n",
      "Computing the cosine similarity matrix...\n",
      "Done computing similarity matrix.\n",
      "Estimating biases using als...\n",
      "Computing the cosine similarity matrix...\n",
      "Done computing similarity matrix.\n",
      "Estimating biases using als...\n",
      "Computing the cosine similarity matrix...\n",
      "Done computing similarity matrix.\n",
      "Estimating biases using als...\n",
      "Computing the cosine similarity matrix...\n",
      "Done computing similarity matrix.\n",
      "Estimating biases using als...\n",
      "Computing the cosine similarity matrix...\n",
      "Done computing similarity matrix.\n",
      "Estimating biases using als...\n",
      "Computing the cosine similarity matrix...\n",
      "Done computing similarity matrix.\n",
      "Estimating biases using als...\n",
      "Computing the cosine similarity matrix...\n",
      "Done computing similarity matrix.\n",
      "Estimating biases using als...\n",
      "Computing the cosine similarity matrix...\n",
      "Done computing similarity matrix.\n",
      "Estimating biases using als...\n",
      "Computing the cosine similarity matrix...\n",
      "Done computing similarity matrix.\n",
      "Estimating biases using als...\n",
      "Computing the msd similarity matrix...\n",
      "Done computing similarity matrix.\n",
      "Estimating biases using als...\n",
      "Computing the msd similarity matrix...\n",
      "Done computing similarity matrix.\n",
      "Estimating biases using als...\n",
      "Computing the msd similarity matrix...\n",
      "Done computing similarity matrix.\n",
      "Estimating biases using als...\n",
      "Computing the msd similarity matrix...\n",
      "Done computing similarity matrix.\n",
      "Estimating biases using als...\n",
      "Computing the msd similarity matrix...\n",
      "Done computing similarity matrix.\n",
      "Estimating biases using als...\n",
      "Computing the msd similarity matrix...\n",
      "Done computing similarity matrix.\n",
      "Estimating biases using als...\n",
      "Computing the msd similarity matrix...\n",
      "Done computing similarity matrix.\n",
      "Estimating biases using als...\n",
      "Computing the msd similarity matrix...\n",
      "Done computing similarity matrix.\n",
      "Estimating biases using als...\n",
      "Computing the msd similarity matrix...\n",
      "Done computing similarity matrix.\n",
      "Estimating biases using als...\n",
      "Computing the msd similarity matrix...\n",
      "Done computing similarity matrix.\n",
      "Estimating biases using als...\n",
      "Computing the pearson similarity matrix...\n",
      "Done computing similarity matrix.\n",
      "Estimating biases using als...\n",
      "Computing the pearson similarity matrix...\n",
      "Done computing similarity matrix.\n",
      "Estimating biases using als...\n",
      "Computing the pearson similarity matrix...\n",
      "Done computing similarity matrix.\n",
      "Estimating biases using als...\n",
      "Computing the pearson similarity matrix...\n",
      "Done computing similarity matrix.\n",
      "Estimating biases using als...\n",
      "Computing the pearson similarity matrix...\n",
      "Done computing similarity matrix.\n",
      "Estimating biases using als...\n",
      "Computing the pearson similarity matrix...\n",
      "Done computing similarity matrix.\n",
      "Estimating biases using als...\n",
      "Computing the pearson similarity matrix...\n",
      "Done computing similarity matrix.\n",
      "Estimating biases using als...\n",
      "Computing the pearson similarity matrix...\n",
      "Done computing similarity matrix.\n",
      "Estimating biases using als...\n",
      "Computing the pearson similarity matrix...\n",
      "Done computing similarity matrix.\n",
      "Estimating biases using als...\n",
      "Computing the pearson similarity matrix...\n",
      "Done computing similarity matrix.\n",
      "Estimating biases using als...\n",
      "Computing the cosine similarity matrix...\n",
      "Done computing similarity matrix.\n",
      "Estimating biases using als...\n"
     ]
    },
    {
     "name": "stdout",
     "output_type": "stream",
     "text": [
      "Computing the cosine similarity matrix...\n",
      "Done computing similarity matrix.\n",
      "Estimating biases using als...\n",
      "Computing the cosine similarity matrix...\n",
      "Done computing similarity matrix.\n",
      "Estimating biases using als...\n",
      "Computing the cosine similarity matrix...\n",
      "Done computing similarity matrix.\n",
      "Estimating biases using als...\n",
      "Computing the cosine similarity matrix...\n",
      "Done computing similarity matrix.\n",
      "Estimating biases using als...\n",
      "Computing the cosine similarity matrix...\n",
      "Done computing similarity matrix.\n",
      "Estimating biases using als...\n",
      "Computing the cosine similarity matrix...\n",
      "Done computing similarity matrix.\n",
      "Estimating biases using als...\n",
      "Computing the cosine similarity matrix...\n",
      "Done computing similarity matrix.\n",
      "Estimating biases using als...\n",
      "Computing the cosine similarity matrix...\n",
      "Done computing similarity matrix.\n",
      "Estimating biases using als...\n",
      "Computing the cosine similarity matrix...\n",
      "Done computing similarity matrix.\n",
      "Estimating biases using als...\n",
      "Computing the msd similarity matrix...\n",
      "Done computing similarity matrix.\n",
      "Estimating biases using als...\n",
      "Computing the msd similarity matrix...\n",
      "Done computing similarity matrix.\n",
      "Estimating biases using als...\n",
      "Computing the msd similarity matrix...\n",
      "Done computing similarity matrix.\n",
      "Estimating biases using als...\n",
      "Computing the msd similarity matrix...\n",
      "Done computing similarity matrix.\n",
      "Estimating biases using als...\n",
      "Computing the msd similarity matrix...\n",
      "Done computing similarity matrix.\n",
      "Estimating biases using als...\n",
      "Computing the msd similarity matrix...\n",
      "Done computing similarity matrix.\n",
      "Estimating biases using als...\n",
      "Computing the msd similarity matrix...\n",
      "Done computing similarity matrix.\n",
      "Estimating biases using als...\n",
      "Computing the msd similarity matrix...\n",
      "Done computing similarity matrix.\n",
      "Estimating biases using als...\n",
      "Computing the msd similarity matrix...\n",
      "Done computing similarity matrix.\n",
      "Estimating biases using als...\n",
      "Computing the msd similarity matrix...\n",
      "Done computing similarity matrix.\n",
      "Estimating biases using als...\n",
      "Computing the pearson similarity matrix...\n",
      "Done computing similarity matrix.\n",
      "Estimating biases using als...\n",
      "Computing the pearson similarity matrix...\n",
      "Done computing similarity matrix.\n",
      "Estimating biases using als...\n",
      "Computing the pearson similarity matrix...\n",
      "Done computing similarity matrix.\n",
      "Estimating biases using als...\n",
      "Computing the pearson similarity matrix...\n",
      "Done computing similarity matrix.\n",
      "Estimating biases using als...\n",
      "Computing the pearson similarity matrix...\n",
      "Done computing similarity matrix.\n",
      "Estimating biases using als...\n",
      "Computing the pearson similarity matrix...\n",
      "Done computing similarity matrix.\n",
      "Estimating biases using als...\n",
      "Computing the pearson similarity matrix...\n",
      "Done computing similarity matrix.\n",
      "Estimating biases using als...\n",
      "Computing the pearson similarity matrix...\n",
      "Done computing similarity matrix.\n",
      "Estimating biases using als...\n",
      "Computing the pearson similarity matrix...\n",
      "Done computing similarity matrix.\n",
      "Estimating biases using als...\n",
      "Computing the pearson similarity matrix...\n",
      "Done computing similarity matrix.\n",
      "GridSearch: 1959.84s\n",
      "SVD\n",
      "GridSearch: 1123.07s\n"
     ]
    },
    {
     "data": {
      "text/html": [
       "<div>\n",
       "<style scoped>\n",
       "    .dataframe tbody tr th:only-of-type {\n",
       "        vertical-align: middle;\n",
       "    }\n",
       "\n",
       "    .dataframe tbody tr th {\n",
       "        vertical-align: top;\n",
       "    }\n",
       "\n",
       "    .dataframe thead th {\n",
       "        text-align: right;\n",
       "    }\n",
       "</style>\n",
       "<table border=\"1\" class=\"dataframe\">\n",
       "  <thead>\n",
       "    <tr style=\"text-align: right;\">\n",
       "      <th></th>\n",
       "      <th>DevRMSE</th>\n",
       "      <th>BestParams</th>\n",
       "    </tr>\n",
       "    <tr>\n",
       "      <th>Algorithm</th>\n",
       "      <th></th>\n",
       "      <th></th>\n",
       "    </tr>\n",
       "  </thead>\n",
       "  <tbody>\n",
       "    <tr>\n",
       "      <th>SVD</th>\n",
       "      <td>0.605200</td>\n",
       "      <td>{'n_factors': 5, 'lr_all': 0.005, 'reg_all': 0.04}</td>\n",
       "    </tr>\n",
       "    <tr>\n",
       "      <th>BaselineOnly</th>\n",
       "      <td>0.607315</td>\n",
       "      <td>{}</td>\n",
       "    </tr>\n",
       "    <tr>\n",
       "      <th>KNNBaseline</th>\n",
       "      <td>0.619317</td>\n",
       "      <td>{'k': 10, 'sim_options': {'user_based': True, 'name': 'pearson'}}</td>\n",
       "    </tr>\n",
       "  </tbody>\n",
       "</table>\n",
       "</div>"
      ],
      "text/plain": [
       "               DevRMSE  \\\n",
       "Algorithm                \n",
       "SVD           0.605200   \n",
       "BaselineOnly  0.607315   \n",
       "KNNBaseline   0.619317   \n",
       "\n",
       "                                                                     BestParams  \n",
       "Algorithm                                                                        \n",
       "SVD                          {'n_factors': 5, 'lr_all': 0.005, 'reg_all': 0.04}  \n",
       "BaselineOnly                                                                 {}  \n",
       "KNNBaseline   {'k': 10, 'sim_options': {'user_based': True, 'name': 'pearson'}}  "
      ]
     },
     "execution_count": 49,
     "metadata": {},
     "output_type": "execute_result"
    }
   ],
   "source": [
    "# Evaluate each algorithm with tuned parameters\n",
    "algos = { \n",
    "    'BaselineOnly': BaselineOnly,\n",
    "    'KNNBaseline': KNNBaseline,\n",
    "    'SVD': SVD,\n",
    "}\n",
    "\n",
    "# Store the fitted algorithms for later use\n",
    "fitted_algos = {}\n",
    "\n",
    "# List to store the final results for the estimators in\n",
    "benchmark = []\n",
    "\n",
    "# Define the parameter grid\n",
    "param_grid = {\n",
    "    \"KNNBaseline\" : {\n",
    "        \"k\" : [10, 20, 40],\n",
    "        \"sim_options\" : {\n",
    "            'user_based': [True, False],\n",
    "            \"name\" : ['cosine', 'msd', 'pearson']\n",
    "        },\n",
    "    },     \n",
    "    \"SVD\" : {\n",
    "        \"n_factors\" : [5, 10, 100],\n",
    "        \"lr_all\": [0.0025, 0.005, 0.01],\n",
    "        \"reg_all\": [0.01, 0.02, 0.04]\n",
    "    },\n",
    "    \"BaselineOnly\" : {}\n",
    "}\n",
    "\n",
    "for name, algo in algos.items():\n",
    "    print(name)\n",
    "    gs = GridSearchCV(algo, param_grid.get(name), measures=['rmse'], cv=cv_cf, refit=False)\n",
    "    \n",
    "    start_gs = time.time()\n",
    "    # Fit the estimator\n",
    "    gs.fit(trainset)\n",
    "    end_gs = time.time()\n",
    "    print(f'GridSearch: {round(end_gs-start_gs, 2)}s')\n",
    "    \n",
    "    # Get the best results per estimator\n",
    "    best_index_rmse = gs.best_index['rmse']\n",
    "    best_params_rmse = gs.best_params['rmse']\n",
    "    rmse = gs.cv_results['mean_test_rmse'][best_index_rmse]\n",
    "    \n",
    "    # Store the results\n",
    "    benchmark.append([name, rmse, best_params_rmse])\n",
    "\n",
    "# Display the results\n",
    "results_cf_df = pd.DataFrame(benchmark, columns=[\"Algorithm\", \"DevRMSE\", \"BestParams\"])\n",
    "results_cf_df.set_index([\"Algorithm\"], inplace=True)\n",
    "results_cf_df.sort_values('DevRMSE', inplace=True)\n",
    "results_cf_df"
   ]
  },
  {
   "cell_type": "markdown",
   "metadata": {},
   "source": [
    "<a id='evaluation'></a>\n",
    "## 4. Evaluation"
   ]
  },
  {
   "cell_type": "markdown",
   "metadata": {},
   "source": [
    "### 4.1 Single Algorithms Classification Metrics"
   ]
  },
  {
   "cell_type": "code",
   "execution_count": 65,
   "metadata": {},
   "outputs": [
    {
     "ename": "KeyboardInterrupt",
     "evalue": "",
     "output_type": "error",
     "traceback": [
      "\u001b[1;31m---------------------------------------------------------------------------\u001b[0m",
      "\u001b[1;31mKeyboardInterrupt\u001b[0m                         Traceback (most recent call last)",
      "\u001b[1;32m<ipython-input-65-646c56089588>\u001b[0m in \u001b[0;36m<module>\u001b[1;34m\u001b[0m\n\u001b[0;32m      3\u001b[0m \u001b[1;31m# To compare the classification metrics, we have to use the same split\u001b[0m\u001b[1;33m\u001b[0m\u001b[1;33m\u001b[0m\u001b[1;33m\u001b[0m\u001b[0m\n\u001b[0;32m      4\u001b[0m \u001b[0mfixed_n_dev\u001b[0m \u001b[1;33m=\u001b[0m \u001b[1;36m3\u001b[0m\u001b[1;33m\u001b[0m\u001b[1;33m\u001b[0m\u001b[0m\n\u001b[1;32m----> 5\u001b[1;33m \u001b[0mtrain_split\u001b[0m\u001b[1;33m,\u001b[0m \u001b[0mdev_split\u001b[0m \u001b[1;33m=\u001b[0m \u001b[0mget_fixedN_test_train_split\u001b[0m\u001b[1;33m(\u001b[0m\u001b[0mtrain_split\u001b[0m\u001b[1;33m,\u001b[0m \u001b[0mfixed_n_dev\u001b[0m\u001b[1;33m)\u001b[0m\u001b[1;33m\u001b[0m\u001b[1;33m\u001b[0m\u001b[0m\n\u001b[0m\u001b[0;32m      6\u001b[0m \u001b[1;31m# Validate quality of train-dev split\u001b[0m\u001b[1;33m\u001b[0m\u001b[1;33m\u001b[0m\u001b[1;33m\u001b[0m\u001b[0m\n\u001b[0;32m      7\u001b[0m \u001b[0mprint\u001b[0m\u001b[1;33m(\u001b[0m\u001b[1;34mf'Test size: {round((len(dev_split)/len(train_split))*100, 2)}% \\n'\u001b[0m\u001b[1;33m)\u001b[0m\u001b[1;33m\u001b[0m\u001b[1;33m\u001b[0m\u001b[0m\n",
      "\u001b[1;32m<ipython-input-54-30593743a108>\u001b[0m in \u001b[0;36mget_fixedN_test_train_split\u001b[1;34m(interactions, n)\u001b[0m\n\u001b[0;32m     18\u001b[0m     \u001b[1;32mfor\u001b[0m \u001b[0mi\u001b[0m\u001b[1;33m,\u001b[0m \u001b[0mgroup\u001b[0m \u001b[1;32min\u001b[0m \u001b[0mgroups\u001b[0m\u001b[1;33m:\u001b[0m\u001b[1;33m\u001b[0m\u001b[1;33m\u001b[0m\u001b[0m\n\u001b[0;32m     19\u001b[0m         \u001b[0mtest_shard\u001b[0m \u001b[1;33m=\u001b[0m \u001b[0mgroup\u001b[0m\u001b[1;33m.\u001b[0m\u001b[0msample\u001b[0m\u001b[1;33m(\u001b[0m\u001b[0mn\u001b[0m\u001b[1;33m=\u001b[0m\u001b[0mn\u001b[0m\u001b[1;33m,\u001b[0m \u001b[0mrandom_state\u001b[0m\u001b[1;33m=\u001b[0m\u001b[1;36m10\u001b[0m\u001b[1;33m)\u001b[0m\u001b[1;33m\u001b[0m\u001b[1;33m\u001b[0m\u001b[0m\n\u001b[1;32m---> 20\u001b[1;33m         \u001b[0mtest_split\u001b[0m \u001b[1;33m=\u001b[0m \u001b[0mpd\u001b[0m\u001b[1;33m.\u001b[0m\u001b[0mconcat\u001b[0m\u001b[1;33m(\u001b[0m\u001b[1;33m[\u001b[0m\u001b[0mtest_split\u001b[0m\u001b[1;33m,\u001b[0m \u001b[0mtest_shard\u001b[0m\u001b[1;33m]\u001b[0m\u001b[1;33m,\u001b[0m \u001b[0mignore_index\u001b[0m\u001b[1;33m=\u001b[0m\u001b[1;32mTrue\u001b[0m\u001b[1;33m)\u001b[0m\u001b[1;33m\u001b[0m\u001b[1;33m\u001b[0m\u001b[0m\n\u001b[0m\u001b[0;32m     21\u001b[0m \u001b[1;33m\u001b[0m\u001b[0m\n\u001b[0;32m     22\u001b[0m     \u001b[0minteractions\u001b[0m \u001b[1;33m=\u001b[0m \u001b[0minteractions\u001b[0m\u001b[1;33m.\u001b[0m\u001b[0mset_index\u001b[0m\u001b[1;33m(\u001b[0m\u001b[1;33m[\u001b[0m\u001b[1;34m'user_id'\u001b[0m\u001b[1;33m,\u001b[0m \u001b[1;34m'recipe_id'\u001b[0m\u001b[1;33m]\u001b[0m\u001b[1;33m)\u001b[0m\u001b[1;33m.\u001b[0m\u001b[0msort_index\u001b[0m\u001b[1;33m(\u001b[0m\u001b[1;33m)\u001b[0m\u001b[1;33m\u001b[0m\u001b[1;33m\u001b[0m\u001b[0m\n",
      "\u001b[1;32m~\\AppData\\Local\\Continuum\\anaconda3\\lib\\site-packages\\pandas\\core\\reshape\\concat.py\u001b[0m in \u001b[0;36mconcat\u001b[1;34m(objs, axis, join, join_axes, ignore_index, keys, levels, names, verify_integrity, sort, copy)\u001b[0m\n\u001b[0;32m    227\u001b[0m                        \u001b[0mverify_integrity\u001b[0m\u001b[1;33m=\u001b[0m\u001b[0mverify_integrity\u001b[0m\u001b[1;33m,\u001b[0m\u001b[1;33m\u001b[0m\u001b[1;33m\u001b[0m\u001b[0m\n\u001b[0;32m    228\u001b[0m                        copy=copy, sort=sort)\n\u001b[1;32m--> 229\u001b[1;33m     \u001b[1;32mreturn\u001b[0m \u001b[0mop\u001b[0m\u001b[1;33m.\u001b[0m\u001b[0mget_result\u001b[0m\u001b[1;33m(\u001b[0m\u001b[1;33m)\u001b[0m\u001b[1;33m\u001b[0m\u001b[1;33m\u001b[0m\u001b[0m\n\u001b[0m\u001b[0;32m    230\u001b[0m \u001b[1;33m\u001b[0m\u001b[0m\n\u001b[0;32m    231\u001b[0m \u001b[1;33m\u001b[0m\u001b[0m\n",
      "\u001b[1;32m~\\AppData\\Local\\Continuum\\anaconda3\\lib\\site-packages\\pandas\\core\\reshape\\concat.py\u001b[0m in \u001b[0;36mget_result\u001b[1;34m(self)\u001b[0m\n\u001b[0;32m    424\u001b[0m             new_data = concatenate_block_managers(\n\u001b[0;32m    425\u001b[0m                 \u001b[0mmgrs_indexers\u001b[0m\u001b[1;33m,\u001b[0m \u001b[0mself\u001b[0m\u001b[1;33m.\u001b[0m\u001b[0mnew_axes\u001b[0m\u001b[1;33m,\u001b[0m \u001b[0mconcat_axis\u001b[0m\u001b[1;33m=\u001b[0m\u001b[0mself\u001b[0m\u001b[1;33m.\u001b[0m\u001b[0maxis\u001b[0m\u001b[1;33m,\u001b[0m\u001b[1;33m\u001b[0m\u001b[1;33m\u001b[0m\u001b[0m\n\u001b[1;32m--> 426\u001b[1;33m                 copy=self.copy)\n\u001b[0m\u001b[0;32m    427\u001b[0m             \u001b[1;32mif\u001b[0m \u001b[1;32mnot\u001b[0m \u001b[0mself\u001b[0m\u001b[1;33m.\u001b[0m\u001b[0mcopy\u001b[0m\u001b[1;33m:\u001b[0m\u001b[1;33m\u001b[0m\u001b[1;33m\u001b[0m\u001b[0m\n\u001b[0;32m    428\u001b[0m                 \u001b[0mnew_data\u001b[0m\u001b[1;33m.\u001b[0m\u001b[0m_consolidate_inplace\u001b[0m\u001b[1;33m(\u001b[0m\u001b[1;33m)\u001b[0m\u001b[1;33m\u001b[0m\u001b[1;33m\u001b[0m\u001b[0m\n",
      "\u001b[1;32m~\\AppData\\Local\\Continuum\\anaconda3\\lib\\site-packages\\pandas\\core\\internals\\managers.py\u001b[0m in \u001b[0;36mconcatenate_block_managers\u001b[1;34m(mgrs_indexers, axes, concat_axis, copy)\u001b[0m\n\u001b[0;32m   2059\u001b[0m         \u001b[1;32melse\u001b[0m\u001b[1;33m:\u001b[0m\u001b[1;33m\u001b[0m\u001b[1;33m\u001b[0m\u001b[0m\n\u001b[0;32m   2060\u001b[0m             b = make_block(\n\u001b[1;32m-> 2061\u001b[1;33m                 \u001b[0mconcatenate_join_units\u001b[0m\u001b[1;33m(\u001b[0m\u001b[0mjoin_units\u001b[0m\u001b[1;33m,\u001b[0m \u001b[0mconcat_axis\u001b[0m\u001b[1;33m,\u001b[0m \u001b[0mcopy\u001b[0m\u001b[1;33m=\u001b[0m\u001b[0mcopy\u001b[0m\u001b[1;33m)\u001b[0m\u001b[1;33m,\u001b[0m\u001b[1;33m\u001b[0m\u001b[1;33m\u001b[0m\u001b[0m\n\u001b[0m\u001b[0;32m   2062\u001b[0m                 placement=placement)\n\u001b[0;32m   2063\u001b[0m         \u001b[0mblocks\u001b[0m\u001b[1;33m.\u001b[0m\u001b[0mappend\u001b[0m\u001b[1;33m(\u001b[0m\u001b[0mb\u001b[0m\u001b[1;33m)\u001b[0m\u001b[1;33m\u001b[0m\u001b[1;33m\u001b[0m\u001b[0m\n",
      "\u001b[1;32m~\\AppData\\Local\\Continuum\\anaconda3\\lib\\site-packages\\pandas\\core\\internals\\concat.py\u001b[0m in \u001b[0;36mconcatenate_join_units\u001b[1;34m(join_units, concat_axis, copy)\u001b[0m\n\u001b[0;32m    254\u001b[0m                 \u001b[0mconcat_values\u001b[0m \u001b[1;33m=\u001b[0m \u001b[0mconcat_values\u001b[0m\u001b[1;33m.\u001b[0m\u001b[0mcopy\u001b[0m\u001b[1;33m(\u001b[0m\u001b[1;33m)\u001b[0m\u001b[1;33m\u001b[0m\u001b[1;33m\u001b[0m\u001b[0m\n\u001b[0;32m    255\u001b[0m     \u001b[1;32melse\u001b[0m\u001b[1;33m:\u001b[0m\u001b[1;33m\u001b[0m\u001b[1;33m\u001b[0m\u001b[0m\n\u001b[1;32m--> 256\u001b[1;33m         \u001b[0mconcat_values\u001b[0m \u001b[1;33m=\u001b[0m \u001b[0m_concat\u001b[0m\u001b[1;33m.\u001b[0m\u001b[0m_concat_compat\u001b[0m\u001b[1;33m(\u001b[0m\u001b[0mto_concat\u001b[0m\u001b[1;33m,\u001b[0m \u001b[0maxis\u001b[0m\u001b[1;33m=\u001b[0m\u001b[0mconcat_axis\u001b[0m\u001b[1;33m)\u001b[0m\u001b[1;33m\u001b[0m\u001b[1;33m\u001b[0m\u001b[0m\n\u001b[0m\u001b[0;32m    257\u001b[0m \u001b[1;33m\u001b[0m\u001b[0m\n\u001b[0;32m    258\u001b[0m     \u001b[1;32mreturn\u001b[0m \u001b[0mconcat_values\u001b[0m\u001b[1;33m\u001b[0m\u001b[1;33m\u001b[0m\u001b[0m\n",
      "\u001b[1;32m~\\AppData\\Local\\Continuum\\anaconda3\\lib\\site-packages\\pandas\\core\\dtypes\\concat.py\u001b[0m in \u001b[0;36m_concat_compat\u001b[1;34m(to_concat, axis)\u001b[0m\n\u001b[0;32m    168\u001b[0m                 \u001b[0mto_concat\u001b[0m \u001b[1;33m=\u001b[0m \u001b[1;33m[\u001b[0m\u001b[0mx\u001b[0m\u001b[1;33m.\u001b[0m\u001b[0mastype\u001b[0m\u001b[1;33m(\u001b[0m\u001b[1;34m'object'\u001b[0m\u001b[1;33m)\u001b[0m \u001b[1;32mfor\u001b[0m \u001b[0mx\u001b[0m \u001b[1;32min\u001b[0m \u001b[0mto_concat\u001b[0m\u001b[1;33m]\u001b[0m\u001b[1;33m\u001b[0m\u001b[1;33m\u001b[0m\u001b[0m\n\u001b[0;32m    169\u001b[0m \u001b[1;33m\u001b[0m\u001b[0m\n\u001b[1;32m--> 170\u001b[1;33m     \u001b[1;32mreturn\u001b[0m \u001b[0mnp\u001b[0m\u001b[1;33m.\u001b[0m\u001b[0mconcatenate\u001b[0m\u001b[1;33m(\u001b[0m\u001b[0mto_concat\u001b[0m\u001b[1;33m,\u001b[0m \u001b[0maxis\u001b[0m\u001b[1;33m=\u001b[0m\u001b[0maxis\u001b[0m\u001b[1;33m)\u001b[0m\u001b[1;33m\u001b[0m\u001b[1;33m\u001b[0m\u001b[0m\n\u001b[0m\u001b[0;32m    171\u001b[0m \u001b[1;33m\u001b[0m\u001b[0m\n\u001b[0;32m    172\u001b[0m \u001b[1;33m\u001b[0m\u001b[0m\n",
      "\u001b[1;32m<__array_function__ internals>\u001b[0m in \u001b[0;36mconcatenate\u001b[1;34m(*args, **kwargs)\u001b[0m\n",
      "\u001b[1;31mKeyboardInterrupt\u001b[0m: "
     ]
    }
   ],
   "source": [
    "# Create a train dev split the same way we created the train test split (only single possible) ==> Fixed N\n",
    "# Required as we used different splits for hyperparameter tuning for content based and collaborative filtering\n",
    "# To compare the classification metrics, we have to use the same split\n",
    "fixed_n_dev = 3\n",
    "train_split, dev_split = get_fixedN_test_train_split(train_split, fixed_n_dev)\n",
    "# Validate quality of train-dev split\n",
    "print(f'Test size: {round((len(dev_split)/len(train_split))*100, 2)}% \\n')\n",
    "print('Rating distribution in test set \\n')\n",
    "get_rating_dist(dev_split.rating)"
   ]
  },
  {
   "cell_type": "code",
   "execution_count": 54,
   "metadata": {},
   "outputs": [
    {
     "name": "stderr",
     "output_type": "stream",
     "text": [
      "100% |########################################################################|\n",
      "100% |########################################################################|\n",
      "100% |########################################################################|\n",
      "100% |########################################################################|\n"
     ]
    },
    {
     "name": "stdout",
     "output_type": "stream",
     "text": [
      "BaselineOnly\n",
      "Train Started\n",
      "Estimating biases using als...\n",
      "Prediction Started\n",
      "Runtime prediction of ratings in dev set: 0.09\n",
      "Estimate BaselineOnly\n",
      "Runtime prediction of all ratings: 54.96\n",
      "KNNBaseline\n",
      "Train Started\n",
      "Estimating biases using als...\n",
      "Computing the pearson similarity matrix...\n",
      "Done computing similarity matrix.\n",
      "Prediction Started\n",
      "Runtime prediction of ratings in dev set: 5.41\n",
      "Estimate KNNBaseline\n",
      "Computing the pearson similarity matrix...\n",
      "Done computing similarity matrix.\n",
      "Runtime prediction of all ratings: 87.18\n",
      "SVD\n",
      "Train Started\n",
      "Prediction Started\n",
      "Runtime prediction of ratings in dev set: 0.75\n",
      "Runtime prediction of all ratings: 48.87\n"
     ]
    },
    {
     "data": {
      "text/html": [
       "<div>\n",
       "<style scoped>\n",
       "    .dataframe tbody tr th:only-of-type {\n",
       "        vertical-align: middle;\n",
       "    }\n",
       "\n",
       "    .dataframe tbody tr th {\n",
       "        vertical-align: top;\n",
       "    }\n",
       "\n",
       "    .dataframe thead th {\n",
       "        text-align: right;\n",
       "    }\n",
       "</style>\n",
       "<table border=\"1\" class=\"dataframe\">\n",
       "  <thead>\n",
       "    <tr style=\"text-align: right;\">\n",
       "      <th></th>\n",
       "      <th>Catalog Coverage</th>\n",
       "      <th>Precision</th>\n",
       "      <th>Recall</th>\n",
       "      <th>f1</th>\n",
       "      <th>Hitrate</th>\n",
       "    </tr>\n",
       "    <tr>\n",
       "      <th>Model</th>\n",
       "      <th></th>\n",
       "      <th></th>\n",
       "      <th></th>\n",
       "      <th></th>\n",
       "      <th></th>\n",
       "    </tr>\n",
       "  </thead>\n",
       "  <tbody>\n",
       "    <tr>\n",
       "      <th>Cosine SVD Model</th>\n",
       "      <td>0.843454</td>\n",
       "      <td>0.000190</td>\n",
       "      <td>0.000633</td>\n",
       "      <td>0.000292</td>\n",
       "      <td>0.001898</td>\n",
       "    </tr>\n",
       "    <tr>\n",
       "      <th>Cosine Plain Model</th>\n",
       "      <td>0.759806</td>\n",
       "      <td>0.000154</td>\n",
       "      <td>0.000514</td>\n",
       "      <td>0.000237</td>\n",
       "      <td>0.001542</td>\n",
       "    </tr>\n",
       "    <tr>\n",
       "      <th>Embedded Cosine Model</th>\n",
       "      <td>0.691768</td>\n",
       "      <td>0.000095</td>\n",
       "      <td>0.000316</td>\n",
       "      <td>0.000146</td>\n",
       "      <td>0.000949</td>\n",
       "    </tr>\n",
       "    <tr>\n",
       "      <th>Mixture Model</th>\n",
       "      <td>0.759806</td>\n",
       "      <td>0.000154</td>\n",
       "      <td>0.000514</td>\n",
       "      <td>0.000237</td>\n",
       "      <td>0.001542</td>\n",
       "    </tr>\n",
       "    <tr>\n",
       "      <th>BaselineOnly</th>\n",
       "      <td>0.000638</td>\n",
       "      <td>0.001044</td>\n",
       "      <td>0.003479</td>\n",
       "      <td>0.001606</td>\n",
       "      <td>0.010438</td>\n",
       "    </tr>\n",
       "    <tr>\n",
       "      <th>KNNBaseline</th>\n",
       "      <td>0.600412</td>\n",
       "      <td>0.000676</td>\n",
       "      <td>0.002254</td>\n",
       "      <td>0.001040</td>\n",
       "      <td>0.006642</td>\n",
       "    </tr>\n",
       "    <tr>\n",
       "      <th>SVD</th>\n",
       "      <td>0.006234</td>\n",
       "      <td>0.000617</td>\n",
       "      <td>0.002056</td>\n",
       "      <td>0.000949</td>\n",
       "      <td>0.006168</td>\n",
       "    </tr>\n",
       "  </tbody>\n",
       "</table>\n",
       "</div>"
      ],
      "text/plain": [
       "                       Catalog Coverage  Precision    Recall        f1  \\\n",
       "Model                                                                    \n",
       "Cosine SVD Model               0.843454   0.000190  0.000633  0.000292   \n",
       "Cosine Plain Model             0.759806   0.000154  0.000514  0.000237   \n",
       "Embedded Cosine Model          0.691768   0.000095  0.000316  0.000146   \n",
       "Mixture Model                  0.759806   0.000154  0.000514  0.000237   \n",
       "BaselineOnly                   0.000638   0.001044  0.003479  0.001606   \n",
       "KNNBaseline                    0.600412   0.000676  0.002254  0.001040   \n",
       "SVD                            0.006234   0.000617  0.002056  0.000949   \n",
       "\n",
       "                        Hitrate  \n",
       "Model                            \n",
       "Cosine SVD Model       0.001898  \n",
       "Cosine Plain Model     0.001542  \n",
       "Embedded Cosine Model  0.000949  \n",
       "Mixture Model          0.001542  \n",
       "BaselineOnly           0.010438  \n",
       "KNNBaseline            0.006642  \n",
       "SVD                    0.006168  "
      ]
     },
     "execution_count": 54,
     "metadata": {},
     "output_type": "execute_result"
    }
   ],
   "source": [
    "# Define k for the number of Top recipes\n",
    "k = 10\n",
    "\n",
    "# Store the resuls of the different models\n",
    "benchmark = []\n",
    "\n",
    "# Calculate scores for content based models\n",
    "content_based_models = {\n",
    "    'Cosine SVD Model': similarity_matrix_svd,\n",
    "    'Cosine Plain Model': similarity_matrix,\n",
    "    'Embedded Cosine Model': similarity_matrix_embedded,\n",
    "    'Mixture Model': similarity_matrix_mixed\n",
    "}\n",
    "\n",
    "for m_name, model in content_based_models.items():\n",
    "    rec_dict = make_all_recommendations(dev_split.user_id.unique(), model, content_processed, train_split, k)\n",
    "\n",
    "    # Compute metrics\n",
    "    # Catalog coverage\n",
    "    cat_cov = catalog_coverage(rec_dict, n_recipes)\n",
    "    # Get hits per user (required for other metrics)\n",
    "    n_hits_per_user = get_hits(rec_dict, dev_split)\n",
    "    # Average precision\n",
    "    precision = get_avg_precision(n_hits_per_user, k)\n",
    "    # Average recall\n",
    "    recall = get_avg_recall(n_hits_per_user, fixed_n_dev)\n",
    "    # f1-score\n",
    "    f_one = get_f_one(precision, recall)\n",
    "    # Hitrate\n",
    "    hitr = hitrate(n_hits_per_user)\n",
    "    \n",
    "    benchmark.append([m_name, cat_cov, precision, recall, f_one ,hitr])\n",
    "\n",
    "\n",
    "# Prepare train and dev set for algos\n",
    "# Create dataset objects from the train-test-split which is required for suprise package\n",
    "trainset = Dataset.load_from_df(train_split[['user_id','recipe_id', 'rating']], Reader()).build_full_trainset()\n",
    "devset = Dataset.load_from_df(dev_split[['user_id','recipe_id', 'rating']], Reader()).build_full_trainset().build_testset()\n",
    "\n",
    "# Hard coded backup of best parameters\n",
    "# algos = { \n",
    "#     'BaselineOnly': BaselineOnly(),\n",
    "#     'KNNBaseline': KNNBaseline(k=10, sim_options={'user_based': True, 'name': 'pearson'}),\n",
    "#     'SVD': SVD(n_factors=10, lr_all=0.005, reg_all=0.04),\n",
    "# }\n",
    "\n",
    "# Get all recipes we need a prediction for\n",
    "recipe_ids = list((set().union(train_split.recipe_id.unique(), dev_split.recipe_id.unique())))\n",
    "\n",
    "for name, algo in algos.items():\n",
    "    print(name)\n",
    "    algo = algo(**results_cf_df.loc[name, 'BestParams'])\n",
    "    print(\"Train Started\")\n",
    "    # Fit the algorithm on the train set\n",
    "    algo.fit(trainset)\n",
    "    print(\"Prediction Started\")\n",
    "    start = time.time()\n",
    "    # Get predictions on dev set\n",
    "    predictions = algo.test(devset)\n",
    "    end = time.time()\n",
    "    print(f'Runtime prediction of ratings in dev set: {round(end-start,2)}')\n",
    "    # Get Top k recipes\n",
    "    rec_dict = get_top_k(algo, trainset, 10, train_split, recipe_ids, k)\n",
    "    # Catalog coverage\n",
    "    cat_cov = catalog_coverage(rec_dict, n_recipes)\n",
    "    # Get hits per user (required for other metrics)\n",
    "    n_hits_per_user = get_hits(rec_dict, dev_split)\n",
    "    # Average precision\n",
    "    precision = get_avg_precision(n_hits_per_user, k)\n",
    "    # Average recall\n",
    "    recall = get_avg_recall(n_hits_per_user, fixed_n_dev)\n",
    "    # f1-score\n",
    "    f_one = get_f_one(precision, recall)\n",
    "    # Hitrate\n",
    "    hitr = hitrate(n_hits_per_user)\n",
    "    \n",
    "    benchmark.append([name, cat_cov, precision, recall, f_one, hitr])\n",
    "    \n",
    "benchmark_df = pd.DataFrame(benchmark, columns=['Model', 'Catalog Coverage', 'Precision', 'Recall', 'f1' ,'Hitrate'])\n",
    "benchmark_df.set_index('Model', inplace = True)\n",
    "benchmark_df"
   ]
  },
  {
   "cell_type": "markdown",
   "metadata": {},
   "source": [
    "### 4.2 Hybrid Model"
   ]
  },
  {
   "cell_type": "markdown",
   "metadata": {},
   "source": [
    "Helper functions "
   ]
  },
  {
   "cell_type": "code",
   "execution_count": 74,
   "metadata": {},
   "outputs": [],
   "source": [
    "def get_user_preference_cb_for_hybrid(user_id, similarity, content, interactions_data):\n",
    "    \"\"\"\n",
    "     Returns\n",
    "    ----------\n",
    "    prediction_df:\n",
    "        DataFrame in with columns ['recipe_id','prediction', 'has_rated'] for 1 user\n",
    "    \"\"\"\n",
    "    #prepare similarity dataframe\n",
    "    sim = pd.DataFrame(similarity, index=content['recipe_id'].values, columns=content['recipe_id'].values)\n",
    "    #get already rated recipes of user\n",
    "    rated_recipes = interactions_data.loc[interactions_data['user_id']==user_id, 'recipe_id'].values\n",
    "    #get similarities of ALL recipes w/ already rated recipes of user\n",
    "    sim_rated_all = sim.loc[rated_recipes, :]\n",
    "    #get ratings of already rated recipes\n",
    "    ratings = get_reshaped_ratings(user_id, interactions_data)\n",
    "    \n",
    "    #compute weighted similarities between all recipes and already rated recipes\n",
    "    weighted_sim = np.dot(ratings,sim_rated_all)\n",
    "    #compute normalization constant\n",
    "    norm_const = np.array(np.abs(sim_rated_all).sum(axis=0))\n",
    "    #return sorted predictions\n",
    "    pref_predictions = weighted_sim/norm_const\n",
    "    \n",
    "    flat_predictions = [item for sublist in pref_predictions for item in sublist]\n",
    "    #return df with recipe id also\n",
    "    prediction_df = pd.DataFrame(flat_predictions, index=content['recipe_id'].values, columns =['prediction'])\n",
    "    #indicate the already tried recipes\n",
    "    prediction_df['has_rated'] = prediction_df.index.isin(rated_recipes)\n",
    "    #order predictions\n",
    "    prediction_df['prediction'] = prediction_df.apply(lambda x: 0 if x.has_rated==True else x.prediction, axis=1)\n",
    "    \n",
    "    return prediction_df.prediction.to_numpy()"
   ]
  },
  {
   "cell_type": "code",
   "execution_count": 64,
   "metadata": {},
   "outputs": [],
   "source": [
    "cosine_sim = get_cos_sim_matrix(content_processed, 200, use_svd=True)"
   ]
  },
  {
   "cell_type": "code",
   "execution_count": 75,
   "metadata": {},
   "outputs": [
    {
     "data": {
      "text/plain": [
       "array([4.80197209, 4.86562676, 4.8455391 , ..., 4.70978577, 4.8424817 ,\n",
       "       4.7024583 ])"
      ]
     },
     "execution_count": 75,
     "metadata": {},
     "output_type": "execute_result"
    }
   ],
   "source": [
    "test = get_user_preference_cb_for_hybrid(1533, cosine_sim, content_processed, interactions)\n",
    "test"
   ]
  },
  {
   "cell_type": "markdown",
   "metadata": {},
   "source": [
    "#### Tune hyperparameters"
   ]
  },
  {
   "cell_type": "code",
   "execution_count": null,
   "metadata": {},
   "outputs": [],
   "source": []
  },
  {
   "cell_type": "markdown",
   "metadata": {},
   "source": [
    "#### Fit the hybrid model"
   ]
  },
  {
   "cell_type": "code",
   "execution_count": null,
   "metadata": {},
   "outputs": [],
   "source": []
  },
  {
   "cell_type": "markdown",
   "metadata": {},
   "source": [
    "### 4.3 Final Scores"
   ]
  },
  {
   "cell_type": "code",
   "execution_count": 52,
   "metadata": {},
   "outputs": [],
   "source": [
    "# Test set for suprise package\n",
    "testset = Dataset.load_from_df(test_split[['user_id','recipe_id', 'rating']], Reader()).build_full_trainset().build_testset()"
   ]
  }
 ],
 "metadata": {
  "kernelspec": {
   "display_name": "Python 3",
   "language": "python",
   "name": "python3"
  },
  "language_info": {
   "codemirror_mode": {
    "name": "ipython",
    "version": 3
   },
   "file_extension": ".py",
   "mimetype": "text/x-python",
   "name": "python",
   "nbconvert_exporter": "python",
   "pygments_lexer": "ipython3",
   "version": "3.7.3"
  }
 },
 "nbformat": 4,
 "nbformat_minor": 2
}
