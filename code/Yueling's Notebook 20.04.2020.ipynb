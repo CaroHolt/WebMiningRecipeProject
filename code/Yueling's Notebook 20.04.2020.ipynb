{
 "cells": [
  {
   "cell_type": "markdown",
   "metadata": {},
   "source": [
    "### Loading the data"
   ]
  },
  {
   "cell_type": "code",
   "execution_count": 322,
   "metadata": {},
   "outputs": [],
   "source": [
    "import pandas as pd\n",
    "import numpy as np\n",
    "import matplotlib.pyplot as plt\n",
    "import seaborn as sns\n",
    "import math\n",
    "from IPython.core.display import display\n",
    "from sklearn.feature_extraction import stop_words\n",
    "from sklearn.metrics import jaccard_score, pairwise_distances_chunked, mean_squared_error, mean_absolute_error"
   ]
  },
  {
   "cell_type": "code",
   "execution_count": 323,
   "metadata": {},
   "outputs": [],
   "source": [
    "#importing the raw data\n",
    "recipes_raw = pd.read_csv(\"./Data/RAW_recipes.csv\")\n",
    "interactions_raw = pd.read_csv(\"./Data/RAW_interactions.csv\")"
   ]
  },
  {
   "cell_type": "code",
   "execution_count": 324,
   "metadata": {},
   "outputs": [
    {
     "data": {
      "text/plain": "                                         name      id  minutes  \\\n0  arriba   baked winter squash mexican style  137739       55   \n1            a bit different  breakfast pizza   31490       30   \n2                   all in the kitchen  chili  112140      130   \n3                          alouette  potatoes   59389       45   \n4          amish  tomato ketchup  for canning   44061      190   \n\n   contributor_id   submitted  \\\n0           47892  2005-09-16   \n1           26278  2002-06-17   \n2          196586  2005-02-25   \n3           68585  2003-04-14   \n4           41706  2002-10-25   \n\n                                                tags  \\\n0  ['60-minutes-or-less', 'time-to-make', 'course...   \n1  ['30-minutes-or-less', 'time-to-make', 'course...   \n2  ['time-to-make', 'course', 'preparation', 'mai...   \n3  ['60-minutes-or-less', 'time-to-make', 'course...   \n4  ['weeknight', 'time-to-make', 'course', 'main-...   \n\n                                    nutrition  n_steps  \\\n0       [51.5, 0.0, 13.0, 0.0, 2.0, 0.0, 4.0]       11   \n1   [173.4, 18.0, 0.0, 17.0, 22.0, 35.0, 1.0]        9   \n2  [269.8, 22.0, 32.0, 48.0, 39.0, 27.0, 5.0]        6   \n3   [368.1, 17.0, 10.0, 2.0, 14.0, 8.0, 20.0]       11   \n4   [352.9, 1.0, 337.0, 23.0, 3.0, 0.0, 28.0]        5   \n\n                                               steps  \\\n0  ['make a choice and proceed with recipe', 'dep...   \n1  ['preheat oven to 425 degrees f', 'press dough...   \n2  ['brown ground beef in large pot', 'add choppe...   \n3  ['place potatoes in a large pot of lightly sal...   \n4  ['mix all ingredients& boil for 2 1 / 2 hours ...   \n\n                                         description  \\\n0  autumn is my favorite time of year to cook! th...   \n1  this recipe calls for the crust to be prebaked...   \n2  this modified version of 'mom's' chili was a h...   \n3  this is a super easy, great tasting, make ahea...   \n4  my dh's amish mother raised him on this recipe...   \n\n                                         ingredients  n_ingredients  \n0  ['winter squash', 'mexican seasoning', 'mixed ...              7  \n1  ['prepared pizza crust', 'sausage patty', 'egg...              6  \n2  ['ground beef', 'yellow onions', 'diced tomato...             13  \n3  ['spreadable cheese with garlic and herbs', 'n...             11  \n4  ['tomato juice', 'apple cider vinegar', 'sugar...              8  ",
      "text/html": "<div>\n<style scoped>\n    .dataframe tbody tr th:only-of-type {\n        vertical-align: middle;\n    }\n\n    .dataframe tbody tr th {\n        vertical-align: top;\n    }\n\n    .dataframe thead th {\n        text-align: right;\n    }\n</style>\n<table border=\"1\" class=\"dataframe\">\n  <thead>\n    <tr style=\"text-align: right;\">\n      <th></th>\n      <th>name</th>\n      <th>id</th>\n      <th>minutes</th>\n      <th>contributor_id</th>\n      <th>submitted</th>\n      <th>tags</th>\n      <th>nutrition</th>\n      <th>n_steps</th>\n      <th>steps</th>\n      <th>description</th>\n      <th>ingredients</th>\n      <th>n_ingredients</th>\n    </tr>\n  </thead>\n  <tbody>\n    <tr>\n      <th>0</th>\n      <td>arriba   baked winter squash mexican style</td>\n      <td>137739</td>\n      <td>55</td>\n      <td>47892</td>\n      <td>2005-09-16</td>\n      <td>['60-minutes-or-less', 'time-to-make', 'course...</td>\n      <td>[51.5, 0.0, 13.0, 0.0, 2.0, 0.0, 4.0]</td>\n      <td>11</td>\n      <td>['make a choice and proceed with recipe', 'dep...</td>\n      <td>autumn is my favorite time of year to cook! th...</td>\n      <td>['winter squash', 'mexican seasoning', 'mixed ...</td>\n      <td>7</td>\n    </tr>\n    <tr>\n      <th>1</th>\n      <td>a bit different  breakfast pizza</td>\n      <td>31490</td>\n      <td>30</td>\n      <td>26278</td>\n      <td>2002-06-17</td>\n      <td>['30-minutes-or-less', 'time-to-make', 'course...</td>\n      <td>[173.4, 18.0, 0.0, 17.0, 22.0, 35.0, 1.0]</td>\n      <td>9</td>\n      <td>['preheat oven to 425 degrees f', 'press dough...</td>\n      <td>this recipe calls for the crust to be prebaked...</td>\n      <td>['prepared pizza crust', 'sausage patty', 'egg...</td>\n      <td>6</td>\n    </tr>\n    <tr>\n      <th>2</th>\n      <td>all in the kitchen  chili</td>\n      <td>112140</td>\n      <td>130</td>\n      <td>196586</td>\n      <td>2005-02-25</td>\n      <td>['time-to-make', 'course', 'preparation', 'mai...</td>\n      <td>[269.8, 22.0, 32.0, 48.0, 39.0, 27.0, 5.0]</td>\n      <td>6</td>\n      <td>['brown ground beef in large pot', 'add choppe...</td>\n      <td>this modified version of 'mom's' chili was a h...</td>\n      <td>['ground beef', 'yellow onions', 'diced tomato...</td>\n      <td>13</td>\n    </tr>\n    <tr>\n      <th>3</th>\n      <td>alouette  potatoes</td>\n      <td>59389</td>\n      <td>45</td>\n      <td>68585</td>\n      <td>2003-04-14</td>\n      <td>['60-minutes-or-less', 'time-to-make', 'course...</td>\n      <td>[368.1, 17.0, 10.0, 2.0, 14.0, 8.0, 20.0]</td>\n      <td>11</td>\n      <td>['place potatoes in a large pot of lightly sal...</td>\n      <td>this is a super easy, great tasting, make ahea...</td>\n      <td>['spreadable cheese with garlic and herbs', 'n...</td>\n      <td>11</td>\n    </tr>\n    <tr>\n      <th>4</th>\n      <td>amish  tomato ketchup  for canning</td>\n      <td>44061</td>\n      <td>190</td>\n      <td>41706</td>\n      <td>2002-10-25</td>\n      <td>['weeknight', 'time-to-make', 'course', 'main-...</td>\n      <td>[352.9, 1.0, 337.0, 23.0, 3.0, 0.0, 28.0]</td>\n      <td>5</td>\n      <td>['mix all ingredients&amp; boil for 2 1 / 2 hours ...</td>\n      <td>my dh's amish mother raised him on this recipe...</td>\n      <td>['tomato juice', 'apple cider vinegar', 'sugar...</td>\n      <td>8</td>\n    </tr>\n  </tbody>\n</table>\n</div>"
     },
     "metadata": {},
     "output_type": "display_data"
    },
    {
     "name": "stdout",
     "output_type": "stream",
     "text": [
      "shape: (231637, 12)\n",
      "shape: (1132367, 5)\n"
     ]
    },
    {
     "data": {
      "text/plain": "   user_id  recipe_id        date  rating  \\\n0    38094      40893  2003-02-17       4   \n1  1293707      40893  2011-12-21       5   \n2     8937      44394  2002-12-01       4   \n3   126440      85009  2010-02-27       5   \n4    57222      85009  2011-10-01       5   \n\n                                              review  \n0  Great with a salad. Cooked on top of stove for...  \n1  So simple, so delicious! Great for chilly fall...  \n2  This worked very well and is EASY.  I used not...  \n3  I made the Mexican topping and took it to bunk...  \n4  Made the cheddar bacon topping, adding a sprin...  ",
      "text/html": "<div>\n<style scoped>\n    .dataframe tbody tr th:only-of-type {\n        vertical-align: middle;\n    }\n\n    .dataframe tbody tr th {\n        vertical-align: top;\n    }\n\n    .dataframe thead th {\n        text-align: right;\n    }\n</style>\n<table border=\"1\" class=\"dataframe\">\n  <thead>\n    <tr style=\"text-align: right;\">\n      <th></th>\n      <th>user_id</th>\n      <th>recipe_id</th>\n      <th>date</th>\n      <th>rating</th>\n      <th>review</th>\n    </tr>\n  </thead>\n  <tbody>\n    <tr>\n      <th>0</th>\n      <td>38094</td>\n      <td>40893</td>\n      <td>2003-02-17</td>\n      <td>4</td>\n      <td>Great with a salad. Cooked on top of stove for...</td>\n    </tr>\n    <tr>\n      <th>1</th>\n      <td>1293707</td>\n      <td>40893</td>\n      <td>2011-12-21</td>\n      <td>5</td>\n      <td>So simple, so delicious! Great for chilly fall...</td>\n    </tr>\n    <tr>\n      <th>2</th>\n      <td>8937</td>\n      <td>44394</td>\n      <td>2002-12-01</td>\n      <td>4</td>\n      <td>This worked very well and is EASY.  I used not...</td>\n    </tr>\n    <tr>\n      <th>3</th>\n      <td>126440</td>\n      <td>85009</td>\n      <td>2010-02-27</td>\n      <td>5</td>\n      <td>I made the Mexican topping and took it to bunk...</td>\n    </tr>\n    <tr>\n      <th>4</th>\n      <td>57222</td>\n      <td>85009</td>\n      <td>2011-10-01</td>\n      <td>5</td>\n      <td>Made the cheddar bacon topping, adding a sprin...</td>\n    </tr>\n  </tbody>\n</table>\n</div>"
     },
     "metadata": {},
     "output_type": "display_data"
    }
   ],
   "source": [
    "display(recipes_raw.head(5))\n",
    "print(\"shape:\",recipes_raw.shape)\n",
    "\n",
    "display(interactions_raw.head(5))\n",
    "print(\"shape:\",interactions_raw.shape)"
   ]
  },
  {
   "cell_type": "code",
   "execution_count": 325,
   "metadata": {},
   "outputs": [],
   "source": [
    "#make copies so that we don't have to reload the data\n",
    "\n",
    "df_r = recipes_raw.copy()\n",
    "df_i = interactions_raw.copy()\n",
    "\n",
    "df_r = df_r.rename({\"id\": \"recipe_id\"}, axis = 1)\n",
    "#df_r = df_r.set_index(\"recipe_id\")"
   ]
  },
  {
   "cell_type": "markdown",
   "metadata": {},
   "source": [
    "## Exploratory data analysis and preprocessing"
   ]
  },
  {
   "cell_type": "code",
   "execution_count": 326,
   "metadata": {},
   "outputs": [
    {
     "data": {
      "text/plain": "             sum_na\nname              1\ndescription    4979",
      "text/html": "<div>\n<style scoped>\n    .dataframe tbody tr th:only-of-type {\n        vertical-align: middle;\n    }\n\n    .dataframe tbody tr th {\n        vertical-align: top;\n    }\n\n    .dataframe thead th {\n        text-align: right;\n    }\n</style>\n<table border=\"1\" class=\"dataframe\">\n  <thead>\n    <tr style=\"text-align: right;\">\n      <th></th>\n      <th>sum_na</th>\n    </tr>\n  </thead>\n  <tbody>\n    <tr>\n      <th>name</th>\n      <td>1</td>\n    </tr>\n    <tr>\n      <th>description</th>\n      <td>4979</td>\n    </tr>\n  </tbody>\n</table>\n</div>"
     },
     "metadata": {},
     "output_type": "display_data"
    }
   ],
   "source": [
    "#looking at missing data\n",
    "\n",
    "is_na = pd.DataFrame((df_r.isna().sum()), columns =[\"sum_na\"])\n",
    "display(is_na[is_na[\"sum_na\"]!=0])"
   ]
  },
  {
   "cell_type": "code",
   "execution_count": 327,
   "metadata": {},
   "outputs": [
    {
     "data": {
      "text/plain": "(231636, 12)"
     },
     "execution_count": 327,
     "metadata": {},
     "output_type": "execute_result"
    }
   ],
   "source": [
    "#drop the one na row where the title of the recipe is missing\n",
    "df_r.drop(df_r[df_r[\"name\"].isna()].index, inplace =True)\n",
    "df_r.shape"
   ]
  },
  {
   "cell_type": "code",
   "execution_count": 328,
   "metadata": {},
   "outputs": [
    {
     "name": "stdout",
     "output_type": "stream",
     "text": [
      "# rows where description is missing: 4979 || No mistakes? True\n"
     ]
    }
   ],
   "source": [
    "# add dummy variable to indicate missing descriptions\n",
    "df_r[\"description_na\"] = df_r[\"description\"].isna().apply(lambda x: 1 if x == True else 0)\n",
    "\n",
    "df_r[\"description\"] = df_r[\"description\"].fillna(\"NA\")\n",
    "\n",
    "print(\"# rows where description is missing:\", len(df_r[df_r[\"description_na\"] == 1]), \"|| No mistakes?\", len(df_r[df_r[\"description_na\"] == 1]) == len(df_r[df_r[\"description\"] == \"NA\"]))"
   ]
  },
  {
   "cell_type": "markdown",
   "metadata": {},
   "source": [
    "#### Preprocess Minutes column"
   ]
  },
  {
   "cell_type": "code",
   "execution_count": 329,
   "metadata": {
    "scrolled": true
   },
   "outputs": [
    {
     "data": {
      "text/plain": "                                     name  recipe_id  minutes  contributor_id  \\\n5                 apple a day  milk shake       5289        0            1533   \n2451                 acorn magic delights       1712        0            1534   \n3079                       albanian byrek       4880        0            1534   \n3193             alfredo sauce with pasta       3258        0            1534   \n3259                    alice s doughnuts       2284        0            1752   \n...                                   ...        ...      ...             ...   \n230372         zesty beef and bean wedges       2681        0            1552   \n230714                  zippy cauliflower       7970        0           34879   \n230761                 zippy tomato sauce       8035        0           56112   \n230854        zucchini   tomato casserole       7971        0           28649   \n231325  zucchini potato and parmesan soup      29783        0           25045   \n\n         submitted                                               tags  \\\n5       1999-12-06  ['15-minutes-or-less', 'time-to-make', 'course...   \n2451    1999-10-01  ['15-minutes-or-less', 'time-to-make', 'course...   \n3079    1999-11-24  ['15-minutes-or-less', 'time-to-make', 'course...   \n3193    1999-10-10  ['15-minutes-or-less', 'time-to-make', 'course...   \n3259    1999-10-18  ['15-minutes-or-less', 'time-to-make', 'course...   \n...            ...                                                ...   \n230372  1999-09-10  ['15-minutes-or-less', 'time-to-make', 'main-i...   \n230714  2000-03-13  ['15-minutes-or-less', 'time-to-make', 'main-i...   \n230761  2000-03-13  ['15-minutes-or-less', 'time-to-make', 'course...   \n230854  2000-03-13  ['15-minutes-or-less', 'time-to-make', 'course...   \n231325  2002-05-30  ['15-minutes-or-less', 'time-to-make', 'course...   \n\n                                             nutrition  n_steps  \\\n5             [160.2, 10.0, 55.0, 3.0, 9.0, 20.0, 7.0]        4   \n2451          [148.4, 15.0, 28.0, 2.0, 3.0, 21.0, 4.0]       13   \n3079        [354.4, 42.0, 25.0, 59.0, 37.0, 37.0, 2.0]       14   \n3193    [1902.9, 287.0, 5.0, 140.0, 104.0, 583.0, 3.0]        8   \n3259           [107.3, 6.0, 20.0, 3.0, 3.0, 10.0, 4.0]       17   \n...                                                ...      ...   \n230372        [290.9, 34.0, 0.0, 3.0, 39.0, 43.0, 0.0]        9   \n230714           [66.0, 1.0, 6.0, 9.0, 10.0, 2.0, 3.0]       12   \n230761          [73.8, 4.0, 21.0, 27.0, 2.0, 3.0, 3.0]        5   \n230854           [49.9, 1.0, 19.0, 2.0, 8.0, 2.0, 2.0]        7   \n231325        [208.7, 9.0, 53.0, 30.0, 26.0, 8.0, 8.0]        9   \n\n                                                    steps  \\\n5       ['combine ingredients in blender', 'cover and ...   \n2451    ['melt the butter or margarine over low heat',...   \n3079    ['prepare the dough with flour , 1 and a half ...   \n3193    ['cook noodles or fettuccine according to pack...   \n3259    ['in a large bowl , beat the eggs until foamy'...   \n...                                                   ...   \n230372  ['heat oven to 375', 'combine beef , beans , m...   \n230714  ['preheat oven to 350f', 'steam cauliflower ju...   \n230761  ['melt margarine in a small saucepan', 'add gr...   \n230854  ['preheat oven to 350f', 'steam zucchini until...   \n231325  ['heat oil in a large pot over medium heat , a...   \n\n                                              description  \\\n5                                                      NA   \n2451                                                   NA   \n3079    the directions to this are vague, but maybe yo...   \n3193                                                   NA   \n3259                                                   NA   \n...                                                   ...   \n230372  this was in my local paper today which was sub...   \n230714                                                 NA   \n230761  this is one of my adopted recipes.  i have not...   \n230854                                                 NA   \n231325  this soup is really great tasting. it is from ...   \n\n                                              ingredients  n_ingredients  \\\n5       ['milk', 'vanilla ice cream', 'frozen apple ju...              4   \n2451    ['butter', 'brown sugar', 'pecans', 'all-purpo...              7   \n3079    ['flour', 'water', 'oil', 'vinegar', 'salt', '...              9   \n3193    ['butter', 'heavy cream', 'parmesan cheese', '...              6   \n3259    ['eggs', 'sugar', 'milk', 'shortening', 'vanil...              9   \n...                                                   ...            ...   \n230372  ['ground round', 'chili hot beans', 'southwest...              8   \n230714  ['cauliflower', 'low-fat margarine', 'all-purp...             10   \n230761  ['margarine', 'green bell pepper', 'onion', 't...              7   \n230854  ['zucchini', 'pepper', 'chives', 'low-fat marg...              7   \n231325  ['extra virgin olive oil', 'onion', 'celery ri...             11   \n\n        description_na  \n5                    1  \n2451                 1  \n3079                 0  \n3193                 1  \n3259                 1  \n...                ...  \n230372               0  \n230714               1  \n230761               0  \n230854               1  \n231325               0  \n\n[1094 rows x 13 columns]",
      "text/html": "<div>\n<style scoped>\n    .dataframe tbody tr th:only-of-type {\n        vertical-align: middle;\n    }\n\n    .dataframe tbody tr th {\n        vertical-align: top;\n    }\n\n    .dataframe thead th {\n        text-align: right;\n    }\n</style>\n<table border=\"1\" class=\"dataframe\">\n  <thead>\n    <tr style=\"text-align: right;\">\n      <th></th>\n      <th>name</th>\n      <th>recipe_id</th>\n      <th>minutes</th>\n      <th>contributor_id</th>\n      <th>submitted</th>\n      <th>tags</th>\n      <th>nutrition</th>\n      <th>n_steps</th>\n      <th>steps</th>\n      <th>description</th>\n      <th>ingredients</th>\n      <th>n_ingredients</th>\n      <th>description_na</th>\n    </tr>\n  </thead>\n  <tbody>\n    <tr>\n      <th>5</th>\n      <td>apple a day  milk shake</td>\n      <td>5289</td>\n      <td>0</td>\n      <td>1533</td>\n      <td>1999-12-06</td>\n      <td>['15-minutes-or-less', 'time-to-make', 'course...</td>\n      <td>[160.2, 10.0, 55.0, 3.0, 9.0, 20.0, 7.0]</td>\n      <td>4</td>\n      <td>['combine ingredients in blender', 'cover and ...</td>\n      <td>NA</td>\n      <td>['milk', 'vanilla ice cream', 'frozen apple ju...</td>\n      <td>4</td>\n      <td>1</td>\n    </tr>\n    <tr>\n      <th>2451</th>\n      <td>acorn magic delights</td>\n      <td>1712</td>\n      <td>0</td>\n      <td>1534</td>\n      <td>1999-10-01</td>\n      <td>['15-minutes-or-less', 'time-to-make', 'course...</td>\n      <td>[148.4, 15.0, 28.0, 2.0, 3.0, 21.0, 4.0]</td>\n      <td>13</td>\n      <td>['melt the butter or margarine over low heat',...</td>\n      <td>NA</td>\n      <td>['butter', 'brown sugar', 'pecans', 'all-purpo...</td>\n      <td>7</td>\n      <td>1</td>\n    </tr>\n    <tr>\n      <th>3079</th>\n      <td>albanian byrek</td>\n      <td>4880</td>\n      <td>0</td>\n      <td>1534</td>\n      <td>1999-11-24</td>\n      <td>['15-minutes-or-less', 'time-to-make', 'course...</td>\n      <td>[354.4, 42.0, 25.0, 59.0, 37.0, 37.0, 2.0]</td>\n      <td>14</td>\n      <td>['prepare the dough with flour , 1 and a half ...</td>\n      <td>the directions to this are vague, but maybe yo...</td>\n      <td>['flour', 'water', 'oil', 'vinegar', 'salt', '...</td>\n      <td>9</td>\n      <td>0</td>\n    </tr>\n    <tr>\n      <th>3193</th>\n      <td>alfredo sauce with pasta</td>\n      <td>3258</td>\n      <td>0</td>\n      <td>1534</td>\n      <td>1999-10-10</td>\n      <td>['15-minutes-or-less', 'time-to-make', 'course...</td>\n      <td>[1902.9, 287.0, 5.0, 140.0, 104.0, 583.0, 3.0]</td>\n      <td>8</td>\n      <td>['cook noodles or fettuccine according to pack...</td>\n      <td>NA</td>\n      <td>['butter', 'heavy cream', 'parmesan cheese', '...</td>\n      <td>6</td>\n      <td>1</td>\n    </tr>\n    <tr>\n      <th>3259</th>\n      <td>alice s doughnuts</td>\n      <td>2284</td>\n      <td>0</td>\n      <td>1752</td>\n      <td>1999-10-18</td>\n      <td>['15-minutes-or-less', 'time-to-make', 'course...</td>\n      <td>[107.3, 6.0, 20.0, 3.0, 3.0, 10.0, 4.0]</td>\n      <td>17</td>\n      <td>['in a large bowl , beat the eggs until foamy'...</td>\n      <td>NA</td>\n      <td>['eggs', 'sugar', 'milk', 'shortening', 'vanil...</td>\n      <td>9</td>\n      <td>1</td>\n    </tr>\n    <tr>\n      <th>...</th>\n      <td>...</td>\n      <td>...</td>\n      <td>...</td>\n      <td>...</td>\n      <td>...</td>\n      <td>...</td>\n      <td>...</td>\n      <td>...</td>\n      <td>...</td>\n      <td>...</td>\n      <td>...</td>\n      <td>...</td>\n      <td>...</td>\n    </tr>\n    <tr>\n      <th>230372</th>\n      <td>zesty beef and bean wedges</td>\n      <td>2681</td>\n      <td>0</td>\n      <td>1552</td>\n      <td>1999-09-10</td>\n      <td>['15-minutes-or-less', 'time-to-make', 'main-i...</td>\n      <td>[290.9, 34.0, 0.0, 3.0, 39.0, 43.0, 0.0]</td>\n      <td>9</td>\n      <td>['heat oven to 375', 'combine beef , beans , m...</td>\n      <td>this was in my local paper today which was sub...</td>\n      <td>['ground round', 'chili hot beans', 'southwest...</td>\n      <td>8</td>\n      <td>0</td>\n    </tr>\n    <tr>\n      <th>230714</th>\n      <td>zippy cauliflower</td>\n      <td>7970</td>\n      <td>0</td>\n      <td>34879</td>\n      <td>2000-03-13</td>\n      <td>['15-minutes-or-less', 'time-to-make', 'main-i...</td>\n      <td>[66.0, 1.0, 6.0, 9.0, 10.0, 2.0, 3.0]</td>\n      <td>12</td>\n      <td>['preheat oven to 350f', 'steam cauliflower ju...</td>\n      <td>NA</td>\n      <td>['cauliflower', 'low-fat margarine', 'all-purp...</td>\n      <td>10</td>\n      <td>1</td>\n    </tr>\n    <tr>\n      <th>230761</th>\n      <td>zippy tomato sauce</td>\n      <td>8035</td>\n      <td>0</td>\n      <td>56112</td>\n      <td>2000-03-13</td>\n      <td>['15-minutes-or-less', 'time-to-make', 'course...</td>\n      <td>[73.8, 4.0, 21.0, 27.0, 2.0, 3.0, 3.0]</td>\n      <td>5</td>\n      <td>['melt margarine in a small saucepan', 'add gr...</td>\n      <td>this is one of my adopted recipes.  i have not...</td>\n      <td>['margarine', 'green bell pepper', 'onion', 't...</td>\n      <td>7</td>\n      <td>0</td>\n    </tr>\n    <tr>\n      <th>230854</th>\n      <td>zucchini   tomato casserole</td>\n      <td>7971</td>\n      <td>0</td>\n      <td>28649</td>\n      <td>2000-03-13</td>\n      <td>['15-minutes-or-less', 'time-to-make', 'course...</td>\n      <td>[49.9, 1.0, 19.0, 2.0, 8.0, 2.0, 2.0]</td>\n      <td>7</td>\n      <td>['preheat oven to 350f', 'steam zucchini until...</td>\n      <td>NA</td>\n      <td>['zucchini', 'pepper', 'chives', 'low-fat marg...</td>\n      <td>7</td>\n      <td>1</td>\n    </tr>\n    <tr>\n      <th>231325</th>\n      <td>zucchini potato and parmesan soup</td>\n      <td>29783</td>\n      <td>0</td>\n      <td>25045</td>\n      <td>2002-05-30</td>\n      <td>['15-minutes-or-less', 'time-to-make', 'course...</td>\n      <td>[208.7, 9.0, 53.0, 30.0, 26.0, 8.0, 8.0]</td>\n      <td>9</td>\n      <td>['heat oil in a large pot over medium heat , a...</td>\n      <td>this soup is really great tasting. it is from ...</td>\n      <td>['extra virgin olive oil', 'onion', 'celery ri...</td>\n      <td>11</td>\n      <td>0</td>\n    </tr>\n  </tbody>\n</table>\n<p>1094 rows × 13 columns</p>\n</div>"
     },
     "metadata": {},
     "output_type": "display_data"
    },
    {
     "data": {
      "text/plain": "                                                 name  recipe_id     minutes  \\\n144074                          no bake granola balls     261647  2147483647   \n109624                      how to preserve a husband     447963     1051200   \n106563                         homemade fruit liquers     291571      288000   \n38116   celtic druid s honey mead   meade   metheglin     216215      259260   \n106963                               homemade vanilla     425681      259205   \n155044                                   peach brandy      98912      216015   \n5497                                 angelica liqueur      70551      201610   \n177906                                        rumtopf      12931      187200   \n170999                              raspberry liqueur     172114      172810   \n53721                                cinnamon extract     153634      172800   \n\n        contributor_id   submitted  \\\n144074          464080  2007-10-26   \n109624          576273  2011-02-01   \n106563          553251  2008-03-12   \n38116           242729  2007-03-11   \n106963           28177  2010-05-16   \n155044           34146  2004-09-01   \n5497             59064  2003-09-04   \n177906            5060  2001-10-20   \n170999           83093  2006-06-09   \n53721           208121  2006-01-30   \n\n                                                     tags  \\\n144074  ['60-minutes-or-less', 'time-to-make', 'course...   \n109624  ['time-to-make', 'course', 'preparation', 'for...   \n106563  ['time-to-make', 'course', 'main-ingredient', ...   \n38116   ['time-to-make', 'course', 'main-ingredient', ...   \n106963  ['time-to-make', 'preparation', '5-ingredients...   \n155044  ['time-to-make', 'course', 'main-ingredient', ...   \n5497    ['weeknight', 'time-to-make', 'course', 'cuisi...   \n177906  ['weeknight', 'time-to-make', 'course', 'main-...   \n170999  ['time-to-make', 'course', 'main-ingredient', ...   \n53721   ['time-to-make', 'course', 'preparation', 'for...   \n\n                                             nutrition  n_steps  \\\n144074     [330.3, 23.0, 110.0, 4.0, 15.0, 24.0, 15.0]        9   \n109624       [407.4, 57.0, 50.0, 1.0, 7.0, 115.0, 5.0]        9   \n106563        [836.2, 0.0, 333.0, 0.0, 0.0, 0.0, 27.0]       12   \n38116         [531.0, 0.0, 561.0, 1.0, 1.0, 0.0, 47.0]       18   \n106963            [69.4, 0.0, 0.0, 0.0, 0.0, 0.0, 0.0]        9   \n155044    [3645.3, 3.0, 2040.0, 0.0, 16.0, 0.0, 173.0]        9   \n5497          [891.8, 0.0, 906.0, 0.0, 1.0, 0.0, 76.0]        7   \n177906  [11510.6, 10.0, 6543.0, 2.0, 51.0, 5.0, 579.0]       16   \n170999           [91.5, 0.0, 35.0, 0.0, 0.0, 0.0, 3.0]        7   \n53721             [14.3, 0.0, 0.0, 0.0, 0.0, 0.0, 0.0]        5   \n\n                                                    steps  \\\n144074  ['preheat the oven to 350 degrees', 'spread oa...   \n109624  ['be careful in your selection', \"don't choose...   \n106563  ['rinse the fruit or berries , fruit must be c...   \n38116   ['equipement:', 'very large pan - to hold 12 p...   \n106963  ['slice the vanilla beans length-wise and scra...   \n155044  ['use only fully ripened , unblemished fruit',...   \n5497    ['crush the fennel , aniseed , coriander seeds...   \n177906  ['in a 8 quart stockpot , combine sugar and wa...   \n170999  ['rinse the berries & cut into small pieces or...   \n53721   ['put ingredients in container', 'combine', 'p...   \n\n                                              description  \\\n144074  healthy snacks that kids (and grown ups) will ...   \n109624  found this in a local wyoming cookbook \"a coll...   \n106563  this should be a nice easy project for those w...   \n38116   mead, made from fermented honey, was the earli...   \n106963  found this recipe on tammy's blog (http://www....   \n155044    posted in reply to a message board request for    \n5497    finish off a large meal with a tiny glass of t...   \n177906  rumtopf is a traditional german delicious frui...   \n170999  if you love chambord as i do but suffer sticke...   \n53721   a no brainer.. so why didn't i think of it? \\r...   \n\n                                              ingredients  n_ingredients  \\\n144074  ['rolled oats', 'unsweetened dried shredded co...              8   \n109624                                 ['cream', 'peach']              2   \n106563           ['berries', 'vodka', 'granulated sugar']              3   \n38116   ['gingerroot', 'lemons, juice and rind of', 'w...              7   \n106963                         ['vanilla beans', 'vodka']              2   \n155044  ['fresh peaches', 'granulated sugar', 'honey',...              4   \n5497    ['fennel seed', 'anise seed', 'coriander seeds...              7   \n177906  ['sugar', 'water', 'golden rum', 'peaches', 'g...              8   \n170999         ['fresh raspberry', 'vodka', 'fine sugar']              3   \n53721                        ['cinnamon sticks', 'vodka']              2   \n\n        description_na  \n144074               0  \n109624               0  \n106563               0  \n38116                0  \n106963               0  \n155044               0  \n5497                 0  \n177906               0  \n170999               0  \n53721                0  ",
      "text/html": "<div>\n<style scoped>\n    .dataframe tbody tr th:only-of-type {\n        vertical-align: middle;\n    }\n\n    .dataframe tbody tr th {\n        vertical-align: top;\n    }\n\n    .dataframe thead th {\n        text-align: right;\n    }\n</style>\n<table border=\"1\" class=\"dataframe\">\n  <thead>\n    <tr style=\"text-align: right;\">\n      <th></th>\n      <th>name</th>\n      <th>recipe_id</th>\n      <th>minutes</th>\n      <th>contributor_id</th>\n      <th>submitted</th>\n      <th>tags</th>\n      <th>nutrition</th>\n      <th>n_steps</th>\n      <th>steps</th>\n      <th>description</th>\n      <th>ingredients</th>\n      <th>n_ingredients</th>\n      <th>description_na</th>\n    </tr>\n  </thead>\n  <tbody>\n    <tr>\n      <th>144074</th>\n      <td>no bake granola balls</td>\n      <td>261647</td>\n      <td>2147483647</td>\n      <td>464080</td>\n      <td>2007-10-26</td>\n      <td>['60-minutes-or-less', 'time-to-make', 'course...</td>\n      <td>[330.3, 23.0, 110.0, 4.0, 15.0, 24.0, 15.0]</td>\n      <td>9</td>\n      <td>['preheat the oven to 350 degrees', 'spread oa...</td>\n      <td>healthy snacks that kids (and grown ups) will ...</td>\n      <td>['rolled oats', 'unsweetened dried shredded co...</td>\n      <td>8</td>\n      <td>0</td>\n    </tr>\n    <tr>\n      <th>109624</th>\n      <td>how to preserve a husband</td>\n      <td>447963</td>\n      <td>1051200</td>\n      <td>576273</td>\n      <td>2011-02-01</td>\n      <td>['time-to-make', 'course', 'preparation', 'for...</td>\n      <td>[407.4, 57.0, 50.0, 1.0, 7.0, 115.0, 5.0]</td>\n      <td>9</td>\n      <td>['be careful in your selection', \"don't choose...</td>\n      <td>found this in a local wyoming cookbook \"a coll...</td>\n      <td>['cream', 'peach']</td>\n      <td>2</td>\n      <td>0</td>\n    </tr>\n    <tr>\n      <th>106563</th>\n      <td>homemade fruit liquers</td>\n      <td>291571</td>\n      <td>288000</td>\n      <td>553251</td>\n      <td>2008-03-12</td>\n      <td>['time-to-make', 'course', 'main-ingredient', ...</td>\n      <td>[836.2, 0.0, 333.0, 0.0, 0.0, 0.0, 27.0]</td>\n      <td>12</td>\n      <td>['rinse the fruit or berries , fruit must be c...</td>\n      <td>this should be a nice easy project for those w...</td>\n      <td>['berries', 'vodka', 'granulated sugar']</td>\n      <td>3</td>\n      <td>0</td>\n    </tr>\n    <tr>\n      <th>38116</th>\n      <td>celtic druid s honey mead   meade   metheglin</td>\n      <td>216215</td>\n      <td>259260</td>\n      <td>242729</td>\n      <td>2007-03-11</td>\n      <td>['time-to-make', 'course', 'main-ingredient', ...</td>\n      <td>[531.0, 0.0, 561.0, 1.0, 1.0, 0.0, 47.0]</td>\n      <td>18</td>\n      <td>['equipement:', 'very large pan - to hold 12 p...</td>\n      <td>mead, made from fermented honey, was the earli...</td>\n      <td>['gingerroot', 'lemons, juice and rind of', 'w...</td>\n      <td>7</td>\n      <td>0</td>\n    </tr>\n    <tr>\n      <th>106963</th>\n      <td>homemade vanilla</td>\n      <td>425681</td>\n      <td>259205</td>\n      <td>28177</td>\n      <td>2010-05-16</td>\n      <td>['time-to-make', 'preparation', '5-ingredients...</td>\n      <td>[69.4, 0.0, 0.0, 0.0, 0.0, 0.0, 0.0]</td>\n      <td>9</td>\n      <td>['slice the vanilla beans length-wise and scra...</td>\n      <td>found this recipe on tammy's blog (http://www....</td>\n      <td>['vanilla beans', 'vodka']</td>\n      <td>2</td>\n      <td>0</td>\n    </tr>\n    <tr>\n      <th>155044</th>\n      <td>peach brandy</td>\n      <td>98912</td>\n      <td>216015</td>\n      <td>34146</td>\n      <td>2004-09-01</td>\n      <td>['time-to-make', 'course', 'main-ingredient', ...</td>\n      <td>[3645.3, 3.0, 2040.0, 0.0, 16.0, 0.0, 173.0]</td>\n      <td>9</td>\n      <td>['use only fully ripened , unblemished fruit',...</td>\n      <td>posted in reply to a message board request for</td>\n      <td>['fresh peaches', 'granulated sugar', 'honey',...</td>\n      <td>4</td>\n      <td>0</td>\n    </tr>\n    <tr>\n      <th>5497</th>\n      <td>angelica liqueur</td>\n      <td>70551</td>\n      <td>201610</td>\n      <td>59064</td>\n      <td>2003-09-04</td>\n      <td>['weeknight', 'time-to-make', 'course', 'cuisi...</td>\n      <td>[891.8, 0.0, 906.0, 0.0, 1.0, 0.0, 76.0]</td>\n      <td>7</td>\n      <td>['crush the fennel , aniseed , coriander seeds...</td>\n      <td>finish off a large meal with a tiny glass of t...</td>\n      <td>['fennel seed', 'anise seed', 'coriander seeds...</td>\n      <td>7</td>\n      <td>0</td>\n    </tr>\n    <tr>\n      <th>177906</th>\n      <td>rumtopf</td>\n      <td>12931</td>\n      <td>187200</td>\n      <td>5060</td>\n      <td>2001-10-20</td>\n      <td>['weeknight', 'time-to-make', 'course', 'main-...</td>\n      <td>[11510.6, 10.0, 6543.0, 2.0, 51.0, 5.0, 579.0]</td>\n      <td>16</td>\n      <td>['in a 8 quart stockpot , combine sugar and wa...</td>\n      <td>rumtopf is a traditional german delicious frui...</td>\n      <td>['sugar', 'water', 'golden rum', 'peaches', 'g...</td>\n      <td>8</td>\n      <td>0</td>\n    </tr>\n    <tr>\n      <th>170999</th>\n      <td>raspberry liqueur</td>\n      <td>172114</td>\n      <td>172810</td>\n      <td>83093</td>\n      <td>2006-06-09</td>\n      <td>['time-to-make', 'course', 'main-ingredient', ...</td>\n      <td>[91.5, 0.0, 35.0, 0.0, 0.0, 0.0, 3.0]</td>\n      <td>7</td>\n      <td>['rinse the berries &amp; cut into small pieces or...</td>\n      <td>if you love chambord as i do but suffer sticke...</td>\n      <td>['fresh raspberry', 'vodka', 'fine sugar']</td>\n      <td>3</td>\n      <td>0</td>\n    </tr>\n    <tr>\n      <th>53721</th>\n      <td>cinnamon extract</td>\n      <td>153634</td>\n      <td>172800</td>\n      <td>208121</td>\n      <td>2006-01-30</td>\n      <td>['time-to-make', 'course', 'preparation', 'for...</td>\n      <td>[14.3, 0.0, 0.0, 0.0, 0.0, 0.0, 0.0]</td>\n      <td>5</td>\n      <td>['put ingredients in container', 'combine', 'p...</td>\n      <td>a no brainer.. so why didn't i think of it? \\r...</td>\n      <td>['cinnamon sticks', 'vodka']</td>\n      <td>2</td>\n      <td>0</td>\n    </tr>\n  </tbody>\n</table>\n</div>"
     },
     "metadata": {},
     "output_type": "display_data"
    }
   ],
   "source": [
    "display(df_r[df_r[\"minutes\"]==df_r[\"minutes\"].min()])\n",
    "display(df_r.nlargest(10, 'minutes'))\n",
    "\n",
    "# let's deal with the 1094 recipes which don't have any minutes later"
   ]
  },
  {
   "cell_type": "code",
   "execution_count": 330,
   "metadata": {},
   "outputs": [
    {
     "data": {
      "text/plain": "                                         name  recipe_id  minutes  \\\n0  arriba   baked winter squash mexican style     137739       55   \n1            a bit different  breakfast pizza      31490       30   \n2                   all in the kitchen  chili     112140      130   \n3                          alouette  potatoes      59389       45   \n4          amish  tomato ketchup  for canning      44061      190   \n\n   contributor_id   submitted  \\\n0           47892  2005-09-16   \n1           26278  2002-06-17   \n2          196586  2005-02-25   \n3           68585  2003-04-14   \n4           41706  2002-10-25   \n\n                                                tags  \\\n0  ['60-minutes-or-less', 'time-to-make', 'course...   \n1  ['30-minutes-or-less', 'time-to-make', 'course...   \n2  ['time-to-make', 'course', 'preparation', 'mai...   \n3  ['60-minutes-or-less', 'time-to-make', 'course...   \n4  ['weeknight', 'time-to-make', 'course', 'main-...   \n\n                                    nutrition  n_steps  \\\n0       [51.5, 0.0, 13.0, 0.0, 2.0, 0.0, 4.0]       11   \n1   [173.4, 18.0, 0.0, 17.0, 22.0, 35.0, 1.0]        9   \n2  [269.8, 22.0, 32.0, 48.0, 39.0, 27.0, 5.0]        6   \n3   [368.1, 17.0, 10.0, 2.0, 14.0, 8.0, 20.0]       11   \n4   [352.9, 1.0, 337.0, 23.0, 3.0, 0.0, 28.0]        5   \n\n                                               steps  \\\n0  ['make a choice and proceed with recipe', 'dep...   \n1  ['preheat oven to 425 degrees f', 'press dough...   \n2  ['brown ground beef in large pot', 'add choppe...   \n3  ['place potatoes in a large pot of lightly sal...   \n4  ['mix all ingredients& boil for 2 1 / 2 hours ...   \n\n                                         description  \\\n0  autumn is my favorite time of year to cook! th...   \n1  this recipe calls for the crust to be prebaked...   \n2  this modified version of 'mom's' chili was a h...   \n3  this is a super easy, great tasting, make ahea...   \n4  my dh's amish mother raised him on this recipe...   \n\n                                         ingredients  n_ingredients  \\\n0  ['winter squash', 'mexican seasoning', 'mixed ...              7   \n1  ['prepared pizza crust', 'sausage patty', 'egg...              6   \n2  ['ground beef', 'yellow onions', 'diced tomato...             13   \n3  ['spreadable cheese with garlic and herbs', 'n...             11   \n4  ['tomato juice', 'apple cider vinegar', 'sugar...              8   \n\n   description_na     hours  \n0               0  0.916667  \n1               0  0.500000  \n2               0  2.166667  \n3               0  0.750000  \n4               0  3.166667  ",
      "text/html": "<div>\n<style scoped>\n    .dataframe tbody tr th:only-of-type {\n        vertical-align: middle;\n    }\n\n    .dataframe tbody tr th {\n        vertical-align: top;\n    }\n\n    .dataframe thead th {\n        text-align: right;\n    }\n</style>\n<table border=\"1\" class=\"dataframe\">\n  <thead>\n    <tr style=\"text-align: right;\">\n      <th></th>\n      <th>name</th>\n      <th>recipe_id</th>\n      <th>minutes</th>\n      <th>contributor_id</th>\n      <th>submitted</th>\n      <th>tags</th>\n      <th>nutrition</th>\n      <th>n_steps</th>\n      <th>steps</th>\n      <th>description</th>\n      <th>ingredients</th>\n      <th>n_ingredients</th>\n      <th>description_na</th>\n      <th>hours</th>\n    </tr>\n  </thead>\n  <tbody>\n    <tr>\n      <th>0</th>\n      <td>arriba   baked winter squash mexican style</td>\n      <td>137739</td>\n      <td>55</td>\n      <td>47892</td>\n      <td>2005-09-16</td>\n      <td>['60-minutes-or-less', 'time-to-make', 'course...</td>\n      <td>[51.5, 0.0, 13.0, 0.0, 2.0, 0.0, 4.0]</td>\n      <td>11</td>\n      <td>['make a choice and proceed with recipe', 'dep...</td>\n      <td>autumn is my favorite time of year to cook! th...</td>\n      <td>['winter squash', 'mexican seasoning', 'mixed ...</td>\n      <td>7</td>\n      <td>0</td>\n      <td>0.916667</td>\n    </tr>\n    <tr>\n      <th>1</th>\n      <td>a bit different  breakfast pizza</td>\n      <td>31490</td>\n      <td>30</td>\n      <td>26278</td>\n      <td>2002-06-17</td>\n      <td>['30-minutes-or-less', 'time-to-make', 'course...</td>\n      <td>[173.4, 18.0, 0.0, 17.0, 22.0, 35.0, 1.0]</td>\n      <td>9</td>\n      <td>['preheat oven to 425 degrees f', 'press dough...</td>\n      <td>this recipe calls for the crust to be prebaked...</td>\n      <td>['prepared pizza crust', 'sausage patty', 'egg...</td>\n      <td>6</td>\n      <td>0</td>\n      <td>0.500000</td>\n    </tr>\n    <tr>\n      <th>2</th>\n      <td>all in the kitchen  chili</td>\n      <td>112140</td>\n      <td>130</td>\n      <td>196586</td>\n      <td>2005-02-25</td>\n      <td>['time-to-make', 'course', 'preparation', 'mai...</td>\n      <td>[269.8, 22.0, 32.0, 48.0, 39.0, 27.0, 5.0]</td>\n      <td>6</td>\n      <td>['brown ground beef in large pot', 'add choppe...</td>\n      <td>this modified version of 'mom's' chili was a h...</td>\n      <td>['ground beef', 'yellow onions', 'diced tomato...</td>\n      <td>13</td>\n      <td>0</td>\n      <td>2.166667</td>\n    </tr>\n    <tr>\n      <th>3</th>\n      <td>alouette  potatoes</td>\n      <td>59389</td>\n      <td>45</td>\n      <td>68585</td>\n      <td>2003-04-14</td>\n      <td>['60-minutes-or-less', 'time-to-make', 'course...</td>\n      <td>[368.1, 17.0, 10.0, 2.0, 14.0, 8.0, 20.0]</td>\n      <td>11</td>\n      <td>['place potatoes in a large pot of lightly sal...</td>\n      <td>this is a super easy, great tasting, make ahea...</td>\n      <td>['spreadable cheese with garlic and herbs', 'n...</td>\n      <td>11</td>\n      <td>0</td>\n      <td>0.750000</td>\n    </tr>\n    <tr>\n      <th>4</th>\n      <td>amish  tomato ketchup  for canning</td>\n      <td>44061</td>\n      <td>190</td>\n      <td>41706</td>\n      <td>2002-10-25</td>\n      <td>['weeknight', 'time-to-make', 'course', 'main-...</td>\n      <td>[352.9, 1.0, 337.0, 23.0, 3.0, 0.0, 28.0]</td>\n      <td>5</td>\n      <td>['mix all ingredients&amp; boil for 2 1 / 2 hours ...</td>\n      <td>my dh's amish mother raised him on this recipe...</td>\n      <td>['tomato juice', 'apple cider vinegar', 'sugar...</td>\n      <td>8</td>\n      <td>0</td>\n      <td>3.166667</td>\n    </tr>\n  </tbody>\n</table>\n</div>"
     },
     "execution_count": 330,
     "metadata": {},
     "output_type": "execute_result"
    }
   ],
   "source": [
    "#minutes -> hours to get a better feeling for the time\n",
    "\n",
    "df_r[\"hours\"] = df_r[\"minutes\"]/60\n",
    "\n",
    "df_r.head()"
   ]
  },
  {
   "cell_type": "code",
   "execution_count": 331,
   "metadata": {},
   "outputs": [
    {
     "data": {
      "text/plain": "11                better than sex  strawberries\n12              better then bush s  baked beans\n50        keep it going  german friendship cake\n58                           marijuana  vinegar\n81                          red  macaroni salad\n                          ...                  \n230506                       zesty lemon olives\n230741              zippy london broil marinade\n230913               zucchini and cheese damper\n231355                   zucchini salsa  canned\n231573                zuni caf zucchini pickles\nName: name, Length: 2000, dtype: object"
     },
     "execution_count": 331,
     "metadata": {},
     "output_type": "execute_result"
    }
   ],
   "source": [
    "#let's have a look at the really long recipes\n",
    "\n",
    "df_r[df_r[\"hours\"]>24].name\n",
    "\n",
    "#we see that there are legit recipes which are very long"
   ]
  },
  {
   "cell_type": "code",
   "execution_count": 332,
   "metadata": {},
   "outputs": [
    {
     "data": {
      "text/plain": "(231635, 14)"
     },
     "execution_count": 332,
     "metadata": {},
     "output_type": "execute_result"
    }
   ],
   "source": [
    "#Correct some obvious outliers, but rest of the large recipes are liquors that take months to make\n",
    "\n",
    "df_r.loc[144074, \"minutes\"]= 25\n",
    "df_r.drop(df_r[df_r[\"name\"]==\"how to preserve a husband\"].index, inplace=True)\n",
    "df_r.shape"
   ]
  },
  {
   "cell_type": "code",
   "execution_count": 333,
   "metadata": {},
   "outputs": [
    {
     "data": {
      "text/plain": "(array([2.31634e+05, 0.00000e+00, 0.00000e+00, 0.00000e+00, 0.00000e+00,\n        0.00000e+00, 0.00000e+00, 0.00000e+00, 0.00000e+00, 1.00000e+00]),\n array([       0.        ,  3579139.41166667,  7158278.82333333,\n        10737418.235     , 14316557.64666667, 17895697.05833333,\n        21474836.47      , 25053975.88166667, 28633115.29333333,\n        32212254.705     , 35791394.11666667]),\n <a list of 10 Patch objects>)"
     },
     "execution_count": 333,
     "metadata": {},
     "output_type": "execute_result"
    },
    {
     "data": {
      "text/plain": "<Figure size 720x360 with 1 Axes>",
      "image/png": "[encoded data removed]"
     },
     "metadata": {
      "needs_background": "light"
     },
     "output_type": "display_data"
    }
   ],
   "source": [
    "#minutes\n",
    "plt.figure(figsize=(10,5))\n",
    "plt.hist(df_r[\"hours\"], log=True)\n"
   ]
  },
  {
   "cell_type": "markdown",
   "metadata": {},
   "source": [
    "#### Checking out n_ingredients"
   ]
  },
  {
   "cell_type": "code",
   "execution_count": 334,
   "metadata": {},
   "outputs": [
    {
     "data": {
      "text/plain": "count    231635.000000\nmean          9.051180\nstd           3.734783\nmin           1.000000\n25%           6.000000\n50%           9.000000\n75%          11.000000\nmax          43.000000\nName: n_ingredients, dtype: float64"
     },
     "metadata": {},
     "output_type": "display_data"
    },
    {
     "data": {
      "text/plain": "<matplotlib.axes._subplots.AxesSubplot at 0x22a030a74a8>"
     },
     "execution_count": 334,
     "metadata": {},
     "output_type": "execute_result"
    },
    {
     "data": {
      "text/plain": "<Figure size 1152x144 with 1 Axes>",
      "image/png": "[encoded data removed]"
     },
     "metadata": {
      "needs_background": "light"
     },
     "output_type": "display_data"
    }
   ],
   "source": [
    "#check number of ingredients\n",
    "display(df_r.n_ingredients.describe())\n",
    "df_r[\"n_ingredients\"].plot(kind=\"box\", vert =False, figsize=(16,2))"
   ]
  },
  {
   "cell_type": "code",
   "execution_count": 335,
   "metadata": {},
   "outputs": [
    {
     "data": {
      "text/plain": "                                            name  recipe_id  minutes  \\\n6499                       apple cider reduction     521756      155   \n13958                      baked corn on the cob     434212       35   \n49173                            chocolate  dirt     425260        5   \n55087                              clotted cream       9043      900   \n74549                    easter hard boiled eggs     354371       12   \n76587                               easy granita     233253        5   \n86040                              freezing eggs     153034       35   \n103771                   healthy salt substitute     134711       10   \n106369                           homemade butter        310      395   \n106735     homemade panko  japanese bread crumbs     376622        5   \n106736               homemade panko bread crumbs     167729       23   \n109572             how to choose and cut a mango     516377        5   \n114835    jelly belly banana split    tasty dish     250967        1   \n118205  kittencal s method for oven cooked bacon     367843       27   \n127894                      macadamia nut butter     371048        5   \n128405               magic bullet powdered sugar     298040        5   \n133374                               melba toast      24802       15   \n133565        melted sugar glue for candy houses     442917        9   \n147822               one ingredient soft caramel      17568      240   \n148440                 open pesky pistachio nuts     431072        1   \n166112                        proper melba toast      40247       20   \n204197                  super easy  baking bacon     355130       95   \n204198                super easy  baking sausage     373812       30   \n213958                              toasted nuts     189399        7   \n227680             wine reduction   frozen cubes     343266      125   \n\n        contributor_id   submitted  \\\n6499            171084  2015-04-19   \n13958           542159  2010-08-04   \n49173           730126  2010-05-13   \n55087             6258  2001-05-19   \n74549          1119236  2009-02-06   \n76587           226066  2007-06-07   \n86040           249074  2006-01-23   \n103771          193499  2005-08-24   \n106369            1551  1999-09-07   \n106735          157167  2009-06-10   \n106736          108843  2006-05-11   \n109572         2549237  2014-06-03   \n114835           47892  2007-09-04   \n118205           89831  2009-04-25   \n127894          482933  2009-05-09   \n128405          385999  2008-04-11   \n133374           23302  2002-04-09   \n133565          593927  2010-11-27   \n147822           23302  2002-01-19   \n148440          593927  2010-06-26   \n166112           52448  2002-09-15   \n204197          804550  2009-02-10   \n204198          804550  2009-05-22   \n213958          162888  2006-10-06   \n227680          546010  2008-12-13   \n\n                                                     tags  \\\n6499    ['time-to-make', 'course', 'preparation', 'low...   \n13958   ['60-minutes-or-less', 'time-to-make', 'main-i...   \n49173   ['15-minutes-or-less', 'time-to-make', 'course...   \n55087   ['weeknight', 'time-to-make', 'cuisine', 'prep...   \n74549   ['15-minutes-or-less', 'time-to-make', 'course...   \n76587   ['15-minutes-or-less', 'time-to-make', 'main-i...   \n86040   ['60-minutes-or-less', 'time-to-make', 'main-i...   \n103771  ['15-minutes-or-less', 'time-to-make', 'course...   \n106369  ['weeknight', 'time-to-make', 'course', 'main-...   \n106735  ['15-minutes-or-less', 'time-to-make', 'cuisin...   \n106736  ['30-minutes-or-less', 'time-to-make', 'course...   \n109572  ['15-minutes-or-less', 'time-to-make', 'main-i...   \n114835  ['15-minutes-or-less', 'time-to-make', 'course...   \n118205  ['bacon', '30-minutes-or-less', 'time-to-make'...   \n127894  ['15-minutes-or-less', 'time-to-make', 'course...   \n128405  ['15-minutes-or-less', 'time-to-make', 'course...   \n133374  ['15-minutes-or-less', 'time-to-make', 'course...   \n133565  ['lactose', '15-minutes-or-less', 'time-to-mak...   \n147822  ['weeknight', 'time-to-make', 'course', 'main-...   \n148440  ['15-minutes-or-less', 'time-to-make', 'prepar...   \n166112  ['30-minutes-or-less', 'time-to-make', 'course...   \n204197  ['bacon', 'time-to-make', 'course', 'main-ingr...   \n204198  ['30-minutes-or-less', 'time-to-make', 'course...   \n213958  ['15-minutes-or-less', 'time-to-make', 'course...   \n227680  ['time-to-make', 'course', 'preparation', 'low...   \n\n                                             nutrition  n_steps  \\\n6499              [14.4, 0.0, 0.0, 8.0, 0.0, 0.0, 1.0]       13   \n13958           [113.3, 2.0, 21.0, 0.0, 8.0, 1.0, 8.0]        2   \n49173         [201.2, 19.0, 91.0, 0.0, 3.0, 37.0, 8.0]        3   \n55087         [410.6, 67.0, 0.0, 1.0, 4.0, 137.0, 1.0]        6   \n74549            [68.9, 7.0, 0.0, 2.0, 12.0, 7.0, 0.0]        9   \n76587            [55.2, 0.0, 49.0, 0.0, 1.0, 0.0, 4.0]        4   \n86040             [11.9, 1.0, 0.0, 0.0, 2.0, 1.0, 0.0]       37   \n103771      [230.4, 3.0, 105.0, 48.0, 19.0, 3.0, 14.0]        4   \n106369          [68.4, 11.0, 0.0, 0.0, 0.0, 22.0, 0.0]       10   \n106735       [199.5, 3.0, 12.0, 21.0, 11.0, 2.0, 12.0]        5   \n106736       [354.7, 6.0, 23.0, 28.0, 20.0, 4.0, 22.0]        6   \n109572       [403.2, 3.0, 367.0, 0.0, 11.0, 3.0, 33.0]       20   \n114835           [73.5, 0.0, 54.0, 0.0, 0.0, 0.0, 6.0]        2   \n118205  [3116.2, 471.0, 0.0, 236.0, 157.0, 510.0, 1.0]        7   \n127894   [3590.2, 582.0, 91.0, 1.0, 79.0, 301.0, 23.0]        2   \n128405           [72.6, 0.0, 74.0, 0.0, 0.0, 0.0, 6.0]        4   \n133374          [133.0, 2.0, 8.0, 10.0, 7.0, 1.0, 8.0]        5   \n133565        [774.0, 0.0, 798.0, 0.0, 0.0, 0.0, 66.0]        4   \n147822        [171.7, 7.0, 116.0, 2.0, 8.0, 14.0, 9.0]       20   \n148440             [7.8, 0.0, 0.0, 0.0, 0.0, 0.0, 0.0]        4   \n166112            [33.2, 0.0, 2.0, 2.0, 1.0, 0.0, 2.0]        8   \n204197    [1038.7, 157.0, 0.0, 78.0, 52.0, 170.0, 0.0]       10   \n204198       [230.0, 30.0, 0.0, 20.0, 22.0, 33.0, 0.0]       11   \n213958      [765.2, 117.0, 12.0, 0.0, 35.0, 35.0, 5.0]        6   \n227680           [175.1, 0.0, 5.0, 0.0, 0.0, 0.0, 1.0]       12   \n\n                                                    steps  \\\n6499    ['in 6-8 quart stock pan , measure out 2 cups ...   \n13958   ['in an oven heated at 350 f , cook corn in hu...   \n49173   ['place chips in a coffee grinder', 'grind unt...   \n55087   ['cook cream in top of double boiler over simm...   \n74549   ['place the eggs in a pot with enough cold sal...   \n76587   ['place the grapes or strawberries in the free...   \n86040   ['items needed:', 'eggs', 'ziplock bags , vari...   \n103771  ['cut up the celery into fairly small pieces',...   \n106369  ['place the bowl and blade of a food processor...   \n106735  ['carefully trim only the brown crust from fre...   \n106736  ['push chunks of white bread through the shred...   \n109572  ['how to choose a ripe mango:', 'press your th...   \n114835  ['put the jelly beans together in a bowl', 'ea...   \n118205  ['preheat oven to 400 degrees f', 'for easy cl...   \n127894  ['simply place the nuts in a heavy-duty food p...   \n128405  ['using the small cup and the cross blade on t...   \n133374  ['preheat the broiler to high and toast the br...   \n133565  ['pour sugar into a heavy pot', 'place over me...   \n147822  ['for an easy caramel topping or dip , simply ...   \n148440  ['take the blunt knife and stick it into the e...   \n166112  ['toast the bread slices on both sides , under...   \n204197  ['preheat oven to 400 degrees f', 'line a 10\"x...   \n204198  ['preheat oven to 400 degrees f', 'line a 10\"x...   \n213958  ['preheat oven to 350 degrees fahrenheit', 'sp...   \n227680  ['heat wine to a boil in a large non-aluminum ...   \n\n                                              description  \\\n6499    i saw a post about this on facebook and gave i...   \n13958   one of my neighbors was telling me this is her...   \n49173   this chocolate \"dirt\" is perfect for dusting c...   \n55087          this recipe comes close to the real thing.   \n74549   a gruszecki tradition and now ours, is that ea...   \n76587                       from weight watchers website.   \n86040   a tried & true method to have eggs in your hou...   \n103771  i need to change this description again.  at f...   \n106369                                                 NA   \n106735  i was cooking with a japanese friend, and she ...   \n106736  this recipe is from bellaonline.com. i don't u...   \n109572  i am often afraid of trying new produce becaus...   \n114835  i found this recipe off the website jellybelly...   \n118205  when i make this i make lots and then freeze i...   \n127894  many recipes call for it and it's not readily ...   \n128405  i ran out of powdered sugar today and decided ...   \n133374  homemade melba toast has the edge on the bough...   \n133565  to hold the pieces together instead of icing, ...   \n147822  this is, without a doubt, the easiest way on e...   \n148440  why break your nails to open the hard ones? no...   \n166112  this is easy and well worth the effort. serve ...   \n204197  my daughter taught me to cook bacon with no sp...   \n204198  my daughter taught me to cook bacon with no sp...   \n213958  bring out the rich nutty flavour of your walnu...   \n227680  if you cook with wine, this is a great trick. ...   \n\n                         ingredients  n_ingredients  description_na      hours  \n6499                 ['apple cider']              1               0   2.583333  \n13958                       ['corn']              1               0   0.583333  \n49173       ['dark chocolate chips']              1               0   0.083333  \n55087                ['heavy cream']              1               0  15.000000  \n74549                        ['egg']              1               0   0.200000  \n76587        ['red seedless grapes']              1               0   0.083333  \n86040                        ['egg']              1               0   0.583333  \n103771                    ['celery']              1               0   0.166667  \n106369               ['heavy cream']              1               1   6.583333  \n106735               ['white bread']              1               0   0.083333  \n106736               ['white bread']              1               0   0.383333  \n109572                     ['mango']              1               0   0.083333  \n114835               ['jelly beans']              1               0   0.016667  \n118205                     ['bacon']              1               0   0.450000  \n127894            ['macadamia nuts']              1               0   0.083333  \n128405                     ['sugar']              1               0   0.083333  \n133374               ['white bread']              1               0   0.250000  \n133565               ['white sugar']              1               0   0.150000  \n147822  ['sweetened condensed milk']              1               0   4.000000  \n148440             ['pistachio nut']              1               0   0.016667  \n166112               ['white bread']              1               0   0.333333  \n204197                     ['bacon']              1               0   1.583333  \n204198   ['breakfast sausage links']              1               0   0.500000  \n213958                   ['walnuts']              1               0   0.116667  \n227680                  ['red wine']              1               0   2.083333  ",
      "text/html": "<div>\n<style scoped>\n    .dataframe tbody tr th:only-of-type {\n        vertical-align: middle;\n    }\n\n    .dataframe tbody tr th {\n        vertical-align: top;\n    }\n\n    .dataframe thead th {\n        text-align: right;\n    }\n</style>\n<table border=\"1\" class=\"dataframe\">\n  <thead>\n    <tr style=\"text-align: right;\">\n      <th></th>\n      <th>name</th>\n      <th>recipe_id</th>\n      <th>minutes</th>\n      <th>contributor_id</th>\n      <th>submitted</th>\n      <th>tags</th>\n      <th>nutrition</th>\n      <th>n_steps</th>\n      <th>steps</th>\n      <th>description</th>\n      <th>ingredients</th>\n      <th>n_ingredients</th>\n      <th>description_na</th>\n      <th>hours</th>\n    </tr>\n  </thead>\n  <tbody>\n    <tr>\n      <th>6499</th>\n      <td>apple cider reduction</td>\n      <td>521756</td>\n      <td>155</td>\n      <td>171084</td>\n      <td>2015-04-19</td>\n      <td>['time-to-make', 'course', 'preparation', 'low...</td>\n      <td>[14.4, 0.0, 0.0, 8.0, 0.0, 0.0, 1.0]</td>\n      <td>13</td>\n      <td>['in 6-8 quart stock pan , measure out 2 cups ...</td>\n      <td>i saw a post about this on facebook and gave i...</td>\n      <td>['apple cider']</td>\n      <td>1</td>\n      <td>0</td>\n      <td>2.583333</td>\n    </tr>\n    <tr>\n      <th>13958</th>\n      <td>baked corn on the cob</td>\n      <td>434212</td>\n      <td>35</td>\n      <td>542159</td>\n      <td>2010-08-04</td>\n      <td>['60-minutes-or-less', 'time-to-make', 'main-i...</td>\n      <td>[113.3, 2.0, 21.0, 0.0, 8.0, 1.0, 8.0]</td>\n      <td>2</td>\n      <td>['in an oven heated at 350 f , cook corn in hu...</td>\n      <td>one of my neighbors was telling me this is her...</td>\n      <td>['corn']</td>\n      <td>1</td>\n      <td>0</td>\n      <td>0.583333</td>\n    </tr>\n    <tr>\n      <th>49173</th>\n      <td>chocolate  dirt</td>\n      <td>425260</td>\n      <td>5</td>\n      <td>730126</td>\n      <td>2010-05-13</td>\n      <td>['15-minutes-or-less', 'time-to-make', 'course...</td>\n      <td>[201.2, 19.0, 91.0, 0.0, 3.0, 37.0, 8.0]</td>\n      <td>3</td>\n      <td>['place chips in a coffee grinder', 'grind unt...</td>\n      <td>this chocolate \"dirt\" is perfect for dusting c...</td>\n      <td>['dark chocolate chips']</td>\n      <td>1</td>\n      <td>0</td>\n      <td>0.083333</td>\n    </tr>\n    <tr>\n      <th>55087</th>\n      <td>clotted cream</td>\n      <td>9043</td>\n      <td>900</td>\n      <td>6258</td>\n      <td>2001-05-19</td>\n      <td>['weeknight', 'time-to-make', 'cuisine', 'prep...</td>\n      <td>[410.6, 67.0, 0.0, 1.0, 4.0, 137.0, 1.0]</td>\n      <td>6</td>\n      <td>['cook cream in top of double boiler over simm...</td>\n      <td>this recipe comes close to the real thing.</td>\n      <td>['heavy cream']</td>\n      <td>1</td>\n      <td>0</td>\n      <td>15.000000</td>\n    </tr>\n    <tr>\n      <th>74549</th>\n      <td>easter hard boiled eggs</td>\n      <td>354371</td>\n      <td>12</td>\n      <td>1119236</td>\n      <td>2009-02-06</td>\n      <td>['15-minutes-or-less', 'time-to-make', 'course...</td>\n      <td>[68.9, 7.0, 0.0, 2.0, 12.0, 7.0, 0.0]</td>\n      <td>9</td>\n      <td>['place the eggs in a pot with enough cold sal...</td>\n      <td>a gruszecki tradition and now ours, is that ea...</td>\n      <td>['egg']</td>\n      <td>1</td>\n      <td>0</td>\n      <td>0.200000</td>\n    </tr>\n    <tr>\n      <th>76587</th>\n      <td>easy granita</td>\n      <td>233253</td>\n      <td>5</td>\n      <td>226066</td>\n      <td>2007-06-07</td>\n      <td>['15-minutes-or-less', 'time-to-make', 'main-i...</td>\n      <td>[55.2, 0.0, 49.0, 0.0, 1.0, 0.0, 4.0]</td>\n      <td>4</td>\n      <td>['place the grapes or strawberries in the free...</td>\n      <td>from weight watchers website.</td>\n      <td>['red seedless grapes']</td>\n      <td>1</td>\n      <td>0</td>\n      <td>0.083333</td>\n    </tr>\n    <tr>\n      <th>86040</th>\n      <td>freezing eggs</td>\n      <td>153034</td>\n      <td>35</td>\n      <td>249074</td>\n      <td>2006-01-23</td>\n      <td>['60-minutes-or-less', 'time-to-make', 'main-i...</td>\n      <td>[11.9, 1.0, 0.0, 0.0, 2.0, 1.0, 0.0]</td>\n      <td>37</td>\n      <td>['items needed:', 'eggs', 'ziplock bags , vari...</td>\n      <td>a tried &amp; true method to have eggs in your hou...</td>\n      <td>['egg']</td>\n      <td>1</td>\n      <td>0</td>\n      <td>0.583333</td>\n    </tr>\n    <tr>\n      <th>103771</th>\n      <td>healthy salt substitute</td>\n      <td>134711</td>\n      <td>10</td>\n      <td>193499</td>\n      <td>2005-08-24</td>\n      <td>['15-minutes-or-less', 'time-to-make', 'course...</td>\n      <td>[230.4, 3.0, 105.0, 48.0, 19.0, 3.0, 14.0]</td>\n      <td>4</td>\n      <td>['cut up the celery into fairly small pieces',...</td>\n      <td>i need to change this description again.  at f...</td>\n      <td>['celery']</td>\n      <td>1</td>\n      <td>0</td>\n      <td>0.166667</td>\n    </tr>\n    <tr>\n      <th>106369</th>\n      <td>homemade butter</td>\n      <td>310</td>\n      <td>395</td>\n      <td>1551</td>\n      <td>1999-09-07</td>\n      <td>['weeknight', 'time-to-make', 'course', 'main-...</td>\n      <td>[68.4, 11.0, 0.0, 0.0, 0.0, 22.0, 0.0]</td>\n      <td>10</td>\n      <td>['place the bowl and blade of a food processor...</td>\n      <td>NA</td>\n      <td>['heavy cream']</td>\n      <td>1</td>\n      <td>1</td>\n      <td>6.583333</td>\n    </tr>\n    <tr>\n      <th>106735</th>\n      <td>homemade panko  japanese bread crumbs</td>\n      <td>376622</td>\n      <td>5</td>\n      <td>157167</td>\n      <td>2009-06-10</td>\n      <td>['15-minutes-or-less', 'time-to-make', 'cuisin...</td>\n      <td>[199.5, 3.0, 12.0, 21.0, 11.0, 2.0, 12.0]</td>\n      <td>5</td>\n      <td>['carefully trim only the brown crust from fre...</td>\n      <td>i was cooking with a japanese friend, and she ...</td>\n      <td>['white bread']</td>\n      <td>1</td>\n      <td>0</td>\n      <td>0.083333</td>\n    </tr>\n    <tr>\n      <th>106736</th>\n      <td>homemade panko bread crumbs</td>\n      <td>167729</td>\n      <td>23</td>\n      <td>108843</td>\n      <td>2006-05-11</td>\n      <td>['30-minutes-or-less', 'time-to-make', 'course...</td>\n      <td>[354.7, 6.0, 23.0, 28.0, 20.0, 4.0, 22.0]</td>\n      <td>6</td>\n      <td>['push chunks of white bread through the shred...</td>\n      <td>this recipe is from bellaonline.com. i don't u...</td>\n      <td>['white bread']</td>\n      <td>1</td>\n      <td>0</td>\n      <td>0.383333</td>\n    </tr>\n    <tr>\n      <th>109572</th>\n      <td>how to choose and cut a mango</td>\n      <td>516377</td>\n      <td>5</td>\n      <td>2549237</td>\n      <td>2014-06-03</td>\n      <td>['15-minutes-or-less', 'time-to-make', 'main-i...</td>\n      <td>[403.2, 3.0, 367.0, 0.0, 11.0, 3.0, 33.0]</td>\n      <td>20</td>\n      <td>['how to choose a ripe mango:', 'press your th...</td>\n      <td>i am often afraid of trying new produce becaus...</td>\n      <td>['mango']</td>\n      <td>1</td>\n      <td>0</td>\n      <td>0.083333</td>\n    </tr>\n    <tr>\n      <th>114835</th>\n      <td>jelly belly banana split    tasty dish</td>\n      <td>250967</td>\n      <td>1</td>\n      <td>47892</td>\n      <td>2007-09-04</td>\n      <td>['15-minutes-or-less', 'time-to-make', 'course...</td>\n      <td>[73.5, 0.0, 54.0, 0.0, 0.0, 0.0, 6.0]</td>\n      <td>2</td>\n      <td>['put the jelly beans together in a bowl', 'ea...</td>\n      <td>i found this recipe off the website jellybelly...</td>\n      <td>['jelly beans']</td>\n      <td>1</td>\n      <td>0</td>\n      <td>0.016667</td>\n    </tr>\n    <tr>\n      <th>118205</th>\n      <td>kittencal s method for oven cooked bacon</td>\n      <td>367843</td>\n      <td>27</td>\n      <td>89831</td>\n      <td>2009-04-25</td>\n      <td>['bacon', '30-minutes-or-less', 'time-to-make'...</td>\n      <td>[3116.2, 471.0, 0.0, 236.0, 157.0, 510.0, 1.0]</td>\n      <td>7</td>\n      <td>['preheat oven to 400 degrees f', 'for easy cl...</td>\n      <td>when i make this i make lots and then freeze i...</td>\n      <td>['bacon']</td>\n      <td>1</td>\n      <td>0</td>\n      <td>0.450000</td>\n    </tr>\n    <tr>\n      <th>127894</th>\n      <td>macadamia nut butter</td>\n      <td>371048</td>\n      <td>5</td>\n      <td>482933</td>\n      <td>2009-05-09</td>\n      <td>['15-minutes-or-less', 'time-to-make', 'course...</td>\n      <td>[3590.2, 582.0, 91.0, 1.0, 79.0, 301.0, 23.0]</td>\n      <td>2</td>\n      <td>['simply place the nuts in a heavy-duty food p...</td>\n      <td>many recipes call for it and it's not readily ...</td>\n      <td>['macadamia nuts']</td>\n      <td>1</td>\n      <td>0</td>\n      <td>0.083333</td>\n    </tr>\n    <tr>\n      <th>128405</th>\n      <td>magic bullet powdered sugar</td>\n      <td>298040</td>\n      <td>5</td>\n      <td>385999</td>\n      <td>2008-04-11</td>\n      <td>['15-minutes-or-less', 'time-to-make', 'course...</td>\n      <td>[72.6, 0.0, 74.0, 0.0, 0.0, 0.0, 6.0]</td>\n      <td>4</td>\n      <td>['using the small cup and the cross blade on t...</td>\n      <td>i ran out of powdered sugar today and decided ...</td>\n      <td>['sugar']</td>\n      <td>1</td>\n      <td>0</td>\n      <td>0.083333</td>\n    </tr>\n    <tr>\n      <th>133374</th>\n      <td>melba toast</td>\n      <td>24802</td>\n      <td>15</td>\n      <td>23302</td>\n      <td>2002-04-09</td>\n      <td>['15-minutes-or-less', 'time-to-make', 'course...</td>\n      <td>[133.0, 2.0, 8.0, 10.0, 7.0, 1.0, 8.0]</td>\n      <td>5</td>\n      <td>['preheat the broiler to high and toast the br...</td>\n      <td>homemade melba toast has the edge on the bough...</td>\n      <td>['white bread']</td>\n      <td>1</td>\n      <td>0</td>\n      <td>0.250000</td>\n    </tr>\n    <tr>\n      <th>133565</th>\n      <td>melted sugar glue for candy houses</td>\n      <td>442917</td>\n      <td>9</td>\n      <td>593927</td>\n      <td>2010-11-27</td>\n      <td>['lactose', '15-minutes-or-less', 'time-to-mak...</td>\n      <td>[774.0, 0.0, 798.0, 0.0, 0.0, 0.0, 66.0]</td>\n      <td>4</td>\n      <td>['pour sugar into a heavy pot', 'place over me...</td>\n      <td>to hold the pieces together instead of icing, ...</td>\n      <td>['white sugar']</td>\n      <td>1</td>\n      <td>0</td>\n      <td>0.150000</td>\n    </tr>\n    <tr>\n      <th>147822</th>\n      <td>one ingredient soft caramel</td>\n      <td>17568</td>\n      <td>240</td>\n      <td>23302</td>\n      <td>2002-01-19</td>\n      <td>['weeknight', 'time-to-make', 'course', 'main-...</td>\n      <td>[171.7, 7.0, 116.0, 2.0, 8.0, 14.0, 9.0]</td>\n      <td>20</td>\n      <td>['for an easy caramel topping or dip , simply ...</td>\n      <td>this is, without a doubt, the easiest way on e...</td>\n      <td>['sweetened condensed milk']</td>\n      <td>1</td>\n      <td>0</td>\n      <td>4.000000</td>\n    </tr>\n    <tr>\n      <th>148440</th>\n      <td>open pesky pistachio nuts</td>\n      <td>431072</td>\n      <td>1</td>\n      <td>593927</td>\n      <td>2010-06-26</td>\n      <td>['15-minutes-or-less', 'time-to-make', 'prepar...</td>\n      <td>[7.8, 0.0, 0.0, 0.0, 0.0, 0.0, 0.0]</td>\n      <td>4</td>\n      <td>['take the blunt knife and stick it into the e...</td>\n      <td>why break your nails to open the hard ones? no...</td>\n      <td>['pistachio nut']</td>\n      <td>1</td>\n      <td>0</td>\n      <td>0.016667</td>\n    </tr>\n    <tr>\n      <th>166112</th>\n      <td>proper melba toast</td>\n      <td>40247</td>\n      <td>20</td>\n      <td>52448</td>\n      <td>2002-09-15</td>\n      <td>['30-minutes-or-less', 'time-to-make', 'course...</td>\n      <td>[33.2, 0.0, 2.0, 2.0, 1.0, 0.0, 2.0]</td>\n      <td>8</td>\n      <td>['toast the bread slices on both sides , under...</td>\n      <td>this is easy and well worth the effort. serve ...</td>\n      <td>['white bread']</td>\n      <td>1</td>\n      <td>0</td>\n      <td>0.333333</td>\n    </tr>\n    <tr>\n      <th>204197</th>\n      <td>super easy  baking bacon</td>\n      <td>355130</td>\n      <td>95</td>\n      <td>804550</td>\n      <td>2009-02-10</td>\n      <td>['bacon', 'time-to-make', 'course', 'main-ingr...</td>\n      <td>[1038.7, 157.0, 0.0, 78.0, 52.0, 170.0, 0.0]</td>\n      <td>10</td>\n      <td>['preheat oven to 400 degrees f', 'line a 10\"x...</td>\n      <td>my daughter taught me to cook bacon with no sp...</td>\n      <td>['bacon']</td>\n      <td>1</td>\n      <td>0</td>\n      <td>1.583333</td>\n    </tr>\n    <tr>\n      <th>204198</th>\n      <td>super easy  baking sausage</td>\n      <td>373812</td>\n      <td>30</td>\n      <td>804550</td>\n      <td>2009-05-22</td>\n      <td>['30-minutes-or-less', 'time-to-make', 'course...</td>\n      <td>[230.0, 30.0, 0.0, 20.0, 22.0, 33.0, 0.0]</td>\n      <td>11</td>\n      <td>['preheat oven to 400 degrees f', 'line a 10\"x...</td>\n      <td>my daughter taught me to cook bacon with no sp...</td>\n      <td>['breakfast sausage links']</td>\n      <td>1</td>\n      <td>0</td>\n      <td>0.500000</td>\n    </tr>\n    <tr>\n      <th>213958</th>\n      <td>toasted nuts</td>\n      <td>189399</td>\n      <td>7</td>\n      <td>162888</td>\n      <td>2006-10-06</td>\n      <td>['15-minutes-or-less', 'time-to-make', 'course...</td>\n      <td>[765.2, 117.0, 12.0, 0.0, 35.0, 35.0, 5.0]</td>\n      <td>6</td>\n      <td>['preheat oven to 350 degrees fahrenheit', 'sp...</td>\n      <td>bring out the rich nutty flavour of your walnu...</td>\n      <td>['walnuts']</td>\n      <td>1</td>\n      <td>0</td>\n      <td>0.116667</td>\n    </tr>\n    <tr>\n      <th>227680</th>\n      <td>wine reduction   frozen cubes</td>\n      <td>343266</td>\n      <td>125</td>\n      <td>546010</td>\n      <td>2008-12-13</td>\n      <td>['time-to-make', 'course', 'preparation', 'low...</td>\n      <td>[175.1, 0.0, 5.0, 0.0, 0.0, 0.0, 1.0]</td>\n      <td>12</td>\n      <td>['heat wine to a boil in a large non-aluminum ...</td>\n      <td>if you cook with wine, this is a great trick. ...</td>\n      <td>['red wine']</td>\n      <td>1</td>\n      <td>0</td>\n      <td>2.083333</td>\n    </tr>\n  </tbody>\n</table>\n</div>"
     },
     "execution_count": 335,
     "metadata": {},
     "output_type": "execute_result"
    }
   ],
   "source": [
    "df_r[df_r['n_ingredients']<=1]"
   ]
  },
  {
   "cell_type": "markdown",
   "metadata": {},
   "source": [
    "### Include average ratings into recipe df"
   ]
  },
  {
   "cell_type": "code",
   "execution_count": 336,
   "metadata": {
    "scrolled": true
   },
   "outputs": [
    {
     "name": "stdout",
     "output_type": "stream",
     "text": [
      "# of recipes involved in interactions: (231637, 4)\n"
     ]
    }
   ],
   "source": [
    "test = pd.DataFrame(df_i.groupby(\"recipe_id\").count())\n",
    "test[test[\"review\"]==0]\n",
    "\n",
    "print(\"# of recipes involved in interactions:\", test.shape)"
   ]
  },
  {
   "cell_type": "code",
   "execution_count": 337,
   "metadata": {},
   "outputs": [
    {
     "name": "stdout",
     "output_type": "stream",
     "text": [
      "# interactions w/o rating, only review: 60847\n"
     ]
    }
   ],
   "source": [
    "#check how many reviews where given w/o a rating\n",
    "print(\"# interactions w/o rating, only review:\",len(df_i[df_i[\"rating\"]==0]))"
   ]
  },
  {
   "cell_type": "code",
   "execution_count": 338,
   "metadata": {},
   "outputs": [
    {
     "name": "stdout",
     "output_type": "stream",
     "text": [
      "shape after merging: (231635, 16)\n"
     ]
    },
    {
     "data": {
      "text/plain": "                                         name  recipe_id  minutes  \\\n0  arriba   baked winter squash mexican style     137739       55   \n1            a bit different  breakfast pizza      31490       30   \n2                   all in the kitchen  chili     112140      130   \n3                          alouette  potatoes      59389       45   \n4          amish  tomato ketchup  for canning      44061      190   \n\n   contributor_id   submitted  \\\n0           47892  2005-09-16   \n1           26278  2002-06-17   \n2          196586  2005-02-25   \n3           68585  2003-04-14   \n4           41706  2002-10-25   \n\n                                                tags  \\\n0  ['60-minutes-or-less', 'time-to-make', 'course...   \n1  ['30-minutes-or-less', 'time-to-make', 'course...   \n2  ['time-to-make', 'course', 'preparation', 'mai...   \n3  ['60-minutes-or-less', 'time-to-make', 'course...   \n4  ['weeknight', 'time-to-make', 'course', 'main-...   \n\n                                    nutrition  n_steps  \\\n0       [51.5, 0.0, 13.0, 0.0, 2.0, 0.0, 4.0]       11   \n1   [173.4, 18.0, 0.0, 17.0, 22.0, 35.0, 1.0]        9   \n2  [269.8, 22.0, 32.0, 48.0, 39.0, 27.0, 5.0]        6   \n3   [368.1, 17.0, 10.0, 2.0, 14.0, 8.0, 20.0]       11   \n4   [352.9, 1.0, 337.0, 23.0, 3.0, 0.0, 28.0]        5   \n\n                                               steps  \\\n0  ['make a choice and proceed with recipe', 'dep...   \n1  ['preheat oven to 425 degrees f', 'press dough...   \n2  ['brown ground beef in large pot', 'add choppe...   \n3  ['place potatoes in a large pot of lightly sal...   \n4  ['mix all ingredients& boil for 2 1 / 2 hours ...   \n\n                                         description  \\\n0  autumn is my favorite time of year to cook! th...   \n1  this recipe calls for the crust to be prebaked...   \n2  this modified version of 'mom's' chili was a h...   \n3  this is a super easy, great tasting, make ahea...   \n4  my dh's amish mother raised him on this recipe...   \n\n                                         ingredients  n_ingredients  \\\n0  ['winter squash', 'mexican seasoning', 'mixed ...              7   \n1  ['prepared pizza crust', 'sausage patty', 'egg...              6   \n2  ['ground beef', 'yellow onions', 'diced tomato...             13   \n3  ['spreadable cheese with garlic and herbs', 'n...             11   \n4  ['tomato juice', 'apple cider vinegar', 'sugar...              8   \n\n   description_na     hours  num_interactions  avg_rating  \n0               0  0.916667                 3    5.000000  \n1               0  0.500000                 4    4.666667  \n2               0  2.166667                 1    4.000000  \n3               0  0.750000                 2    4.500000  \n4               0  3.166667                 1    5.000000  ",
      "text/html": "<div>\n<style scoped>\n    .dataframe tbody tr th:only-of-type {\n        vertical-align: middle;\n    }\n\n    .dataframe tbody tr th {\n        vertical-align: top;\n    }\n\n    .dataframe thead th {\n        text-align: right;\n    }\n</style>\n<table border=\"1\" class=\"dataframe\">\n  <thead>\n    <tr style=\"text-align: right;\">\n      <th></th>\n      <th>name</th>\n      <th>recipe_id</th>\n      <th>minutes</th>\n      <th>contributor_id</th>\n      <th>submitted</th>\n      <th>tags</th>\n      <th>nutrition</th>\n      <th>n_steps</th>\n      <th>steps</th>\n      <th>description</th>\n      <th>ingredients</th>\n      <th>n_ingredients</th>\n      <th>description_na</th>\n      <th>hours</th>\n      <th>num_interactions</th>\n      <th>avg_rating</th>\n    </tr>\n  </thead>\n  <tbody>\n    <tr>\n      <th>0</th>\n      <td>arriba   baked winter squash mexican style</td>\n      <td>137739</td>\n      <td>55</td>\n      <td>47892</td>\n      <td>2005-09-16</td>\n      <td>['60-minutes-or-less', 'time-to-make', 'course...</td>\n      <td>[51.5, 0.0, 13.0, 0.0, 2.0, 0.0, 4.0]</td>\n      <td>11</td>\n      <td>['make a choice and proceed with recipe', 'dep...</td>\n      <td>autumn is my favorite time of year to cook! th...</td>\n      <td>['winter squash', 'mexican seasoning', 'mixed ...</td>\n      <td>7</td>\n      <td>0</td>\n      <td>0.916667</td>\n      <td>3</td>\n      <td>5.000000</td>\n    </tr>\n    <tr>\n      <th>1</th>\n      <td>a bit different  breakfast pizza</td>\n      <td>31490</td>\n      <td>30</td>\n      <td>26278</td>\n      <td>2002-06-17</td>\n      <td>['30-minutes-or-less', 'time-to-make', 'course...</td>\n      <td>[173.4, 18.0, 0.0, 17.0, 22.0, 35.0, 1.0]</td>\n      <td>9</td>\n      <td>['preheat oven to 425 degrees f', 'press dough...</td>\n      <td>this recipe calls for the crust to be prebaked...</td>\n      <td>['prepared pizza crust', 'sausage patty', 'egg...</td>\n      <td>6</td>\n      <td>0</td>\n      <td>0.500000</td>\n      <td>4</td>\n      <td>4.666667</td>\n    </tr>\n    <tr>\n      <th>2</th>\n      <td>all in the kitchen  chili</td>\n      <td>112140</td>\n      <td>130</td>\n      <td>196586</td>\n      <td>2005-02-25</td>\n      <td>['time-to-make', 'course', 'preparation', 'mai...</td>\n      <td>[269.8, 22.0, 32.0, 48.0, 39.0, 27.0, 5.0]</td>\n      <td>6</td>\n      <td>['brown ground beef in large pot', 'add choppe...</td>\n      <td>this modified version of 'mom's' chili was a h...</td>\n      <td>['ground beef', 'yellow onions', 'diced tomato...</td>\n      <td>13</td>\n      <td>0</td>\n      <td>2.166667</td>\n      <td>1</td>\n      <td>4.000000</td>\n    </tr>\n    <tr>\n      <th>3</th>\n      <td>alouette  potatoes</td>\n      <td>59389</td>\n      <td>45</td>\n      <td>68585</td>\n      <td>2003-04-14</td>\n      <td>['60-minutes-or-less', 'time-to-make', 'course...</td>\n      <td>[368.1, 17.0, 10.0, 2.0, 14.0, 8.0, 20.0]</td>\n      <td>11</td>\n      <td>['place potatoes in a large pot of lightly sal...</td>\n      <td>this is a super easy, great tasting, make ahea...</td>\n      <td>['spreadable cheese with garlic and herbs', 'n...</td>\n      <td>11</td>\n      <td>0</td>\n      <td>0.750000</td>\n      <td>2</td>\n      <td>4.500000</td>\n    </tr>\n    <tr>\n      <th>4</th>\n      <td>amish  tomato ketchup  for canning</td>\n      <td>44061</td>\n      <td>190</td>\n      <td>41706</td>\n      <td>2002-10-25</td>\n      <td>['weeknight', 'time-to-make', 'course', 'main-...</td>\n      <td>[352.9, 1.0, 337.0, 23.0, 3.0, 0.0, 28.0]</td>\n      <td>5</td>\n      <td>['mix all ingredients&amp; boil for 2 1 / 2 hours ...</td>\n      <td>my dh's amish mother raised him on this recipe...</td>\n      <td>['tomato juice', 'apple cider vinegar', 'sugar...</td>\n      <td>8</td>\n      <td>0</td>\n      <td>3.166667</td>\n      <td>1</td>\n      <td>5.000000</td>\n    </tr>\n  </tbody>\n</table>\n</div>"
     },
     "execution_count": 338,
     "metadata": {},
     "output_type": "execute_result"
    }
   ],
   "source": [
    "#create num_interactions & average ratings column\n",
    "\n",
    "num_interactions = df_i.groupby(\"recipe_id\")[\"date\"].count()\n",
    "#only consider the ratings (>0) into the mean, not the reviews w/o ratings\n",
    "mean_ratings = df_i[df_i[\"rating\"]!=0].groupby(\"recipe_id\")[\"rating\"].mean()\n",
    "\n",
    "df_rmerged = df_r.join(num_interactions, how=\"left\", on=\"recipe_id\").join(mean_ratings, how=\"left\", on=\"recipe_id\")\n",
    "\n",
    "\n",
    "print(\"shape after merging:\", df_rmerged.shape)\n",
    "\n",
    "df_rmerged = df_rmerged.rename(columns ={\"date\":\"num_interactions\", \"rating\":\"avg_rating\"})\n",
    "df_rmerged.head()"
   ]
  },
  {
   "cell_type": "markdown",
   "metadata": {},
   "source": [
    "### Create columns for year, month & age"
   ]
  },
  {
   "cell_type": "code",
   "execution_count": 339,
   "metadata": {},
   "outputs": [],
   "source": [
    "#Preprocess the \"submitted\" column\n",
    "df_rmerged[\"submitted\"] = df_rmerged[\"submitted\"].astype(str)\n",
    "\n",
    "dates = pd.DataFrame(df_rmerged[\"submitted\"].apply(lambda date: date.split(\"-\")).tolist(), index = df_rmerged.index,columns =[\"year\", \"month\", \"day\"])\n",
    "\n",
    "df_rmerged[\"year\"] = dates [\"year\"]\n",
    "df_rmerged[\"month\"] = dates[\"month\"]\n",
    "\n",
    "#create an age column for the recipes\n",
    "df_rmerged[\"year\"]= df_rmerged[\"year\"].astype(int)\n",
    "df_rmerged[\"month\"]=df_rmerged[\"month\"].astype(int)\n",
    "df_rmerged[\"age\"] = (2019-df_rmerged.year)+ df_rmerged.month/12"
   ]
  },
  {
   "cell_type": "code",
   "execution_count": 340,
   "metadata": {},
   "outputs": [
    {
     "data": {
      "text/plain": "           recipe_id        minutes  contributor_id        n_steps  \\\ncount  231635.000000  231635.000000    2.316350e+05  231635.000000   \nmean   222013.102187     123.108209    5.534927e+06       9.765519   \nstd    141206.137870    1977.767901    9.979184e+07       5.995149   \nmin        38.000000       0.000000    2.700000e+01       0.000000   \n25%     99943.500000      20.000000    5.690500e+04       6.000000   \n50%    207248.000000      40.000000    1.736140e+05       9.000000   \n75%    333814.000000      65.000000    3.982750e+05      12.000000   \nmax    537716.000000  288000.000000    2.002290e+09     145.000000   \n\n       n_ingredients  description_na         hours  num_interactions  \\\ncount  231635.000000   231635.000000  2.316350e+05     231635.000000   \nmean        9.051180        0.021495  1.565681e+02          4.888570   \nstd         3.734783        0.145028  7.436636e+04         17.532554   \nmin         1.000000        0.000000  0.000000e+00          1.000000   \n25%         6.000000        0.000000  3.333333e-01          1.000000   \n50%         9.000000        0.000000  6.666667e-01          2.000000   \n75%        11.000000        0.000000  1.083333e+00          4.000000   \nmax        43.000000        1.000000  3.579139e+07       1613.000000   \n\n          avg_rating           year          month            age  \ncount  226589.000000  231635.000000  231635.000000  231635.000000  \nmean        4.580776    2006.388007       6.310709      13.137885  \nstd         0.629448       2.996761       3.429703       3.040214  \nmin         1.000000    1999.000000       1.000000       1.083333  \n25%         4.333333    2004.000000       3.000000      11.166667  \n50%         4.888889    2007.000000       6.000000      13.000000  \n75%         5.000000    2008.000000       9.000000      15.250000  \nmax         5.000000    2018.000000      12.000000      21.000000  ",
      "text/html": "<div>\n<style scoped>\n    .dataframe tbody tr th:only-of-type {\n        vertical-align: middle;\n    }\n\n    .dataframe tbody tr th {\n        vertical-align: top;\n    }\n\n    .dataframe thead th {\n        text-align: right;\n    }\n</style>\n<table border=\"1\" class=\"dataframe\">\n  <thead>\n    <tr style=\"text-align: right;\">\n      <th></th>\n      <th>recipe_id</th>\n      <th>minutes</th>\n      <th>contributor_id</th>\n      <th>n_steps</th>\n      <th>n_ingredients</th>\n      <th>description_na</th>\n      <th>hours</th>\n      <th>num_interactions</th>\n      <th>avg_rating</th>\n      <th>year</th>\n      <th>month</th>\n      <th>age</th>\n    </tr>\n  </thead>\n  <tbody>\n    <tr>\n      <th>count</th>\n      <td>231635.000000</td>\n      <td>231635.000000</td>\n      <td>2.316350e+05</td>\n      <td>231635.000000</td>\n      <td>231635.000000</td>\n      <td>231635.000000</td>\n      <td>2.316350e+05</td>\n      <td>231635.000000</td>\n      <td>226589.000000</td>\n      <td>231635.000000</td>\n      <td>231635.000000</td>\n      <td>231635.000000</td>\n    </tr>\n    <tr>\n      <th>mean</th>\n      <td>222013.102187</td>\n      <td>123.108209</td>\n      <td>5.534927e+06</td>\n      <td>9.765519</td>\n      <td>9.051180</td>\n      <td>0.021495</td>\n      <td>1.565681e+02</td>\n      <td>4.888570</td>\n      <td>4.580776</td>\n      <td>2006.388007</td>\n      <td>6.310709</td>\n      <td>13.137885</td>\n    </tr>\n    <tr>\n      <th>std</th>\n      <td>141206.137870</td>\n      <td>1977.767901</td>\n      <td>9.979184e+07</td>\n      <td>5.995149</td>\n      <td>3.734783</td>\n      <td>0.145028</td>\n      <td>7.436636e+04</td>\n      <td>17.532554</td>\n      <td>0.629448</td>\n      <td>2.996761</td>\n      <td>3.429703</td>\n      <td>3.040214</td>\n    </tr>\n    <tr>\n      <th>min</th>\n      <td>38.000000</td>\n      <td>0.000000</td>\n      <td>2.700000e+01</td>\n      <td>0.000000</td>\n      <td>1.000000</td>\n      <td>0.000000</td>\n      <td>0.000000e+00</td>\n      <td>1.000000</td>\n      <td>1.000000</td>\n      <td>1999.000000</td>\n      <td>1.000000</td>\n      <td>1.083333</td>\n    </tr>\n    <tr>\n      <th>25%</th>\n      <td>99943.500000</td>\n      <td>20.000000</td>\n      <td>5.690500e+04</td>\n      <td>6.000000</td>\n      <td>6.000000</td>\n      <td>0.000000</td>\n      <td>3.333333e-01</td>\n      <td>1.000000</td>\n      <td>4.333333</td>\n      <td>2004.000000</td>\n      <td>3.000000</td>\n      <td>11.166667</td>\n    </tr>\n    <tr>\n      <th>50%</th>\n      <td>207248.000000</td>\n      <td>40.000000</td>\n      <td>1.736140e+05</td>\n      <td>9.000000</td>\n      <td>9.000000</td>\n      <td>0.000000</td>\n      <td>6.666667e-01</td>\n      <td>2.000000</td>\n      <td>4.888889</td>\n      <td>2007.000000</td>\n      <td>6.000000</td>\n      <td>13.000000</td>\n    </tr>\n    <tr>\n      <th>75%</th>\n      <td>333814.000000</td>\n      <td>65.000000</td>\n      <td>3.982750e+05</td>\n      <td>12.000000</td>\n      <td>11.000000</td>\n      <td>0.000000</td>\n      <td>1.083333e+00</td>\n      <td>4.000000</td>\n      <td>5.000000</td>\n      <td>2008.000000</td>\n      <td>9.000000</td>\n      <td>15.250000</td>\n    </tr>\n    <tr>\n      <th>max</th>\n      <td>537716.000000</td>\n      <td>288000.000000</td>\n      <td>2.002290e+09</td>\n      <td>145.000000</td>\n      <td>43.000000</td>\n      <td>1.000000</td>\n      <td>3.579139e+07</td>\n      <td>1613.000000</td>\n      <td>5.000000</td>\n      <td>2018.000000</td>\n      <td>12.000000</td>\n      <td>21.000000</td>\n    </tr>\n  </tbody>\n</table>\n</div>"
     },
     "metadata": {},
     "output_type": "display_data"
    },
    {
     "data": {
      "text/plain": "<matplotlib.axes._subplots.AxesSubplot at 0x228fd2b5e10>"
     },
     "execution_count": 340,
     "metadata": {},
     "output_type": "execute_result"
    },
    {
     "data": {
      "text/plain": "<Figure size 1152x144 with 1 Axes>",
      "image/png": "[encoded data removed]"
     },
     "metadata": {
      "needs_background": "light"
     },
     "output_type": "display_data"
    }
   ],
   "source": [
    "#show most popular recipes\n",
    "\n",
    "display(df_rmerged.describe())\n",
    "\n",
    "#display(df_rmerged.nlargest(10, 'num_interactions'))\n",
    "\n",
    "#One can see that the most popular recipes are also very old\n",
    "df_rmerged[\"num_interactions\"].plot(kind=\"box\", vert =False, figsize=(16,2))"
   ]
  },
  {
   "cell_type": "markdown",
   "metadata": {},
   "source": [
    "#### Check out n_steps\n",
    "\n",
    "n_steps has little outliers. Most of 1step recipes just forgot to add paragraphs in their steps description. We can still use text descriptions for NLP -> don't delete"
   ]
  },
  {
   "cell_type": "code",
   "execution_count": 341,
   "metadata": {},
   "outputs": [
    {
     "data": {
      "text/plain": "                  name  recipe_id  minutes  contributor_id   submitted  \\\n3381  all season bread     176767       90          331268  2006-07-10   \n\n                                                   tags  \\\n3381  ['time-to-make', 'course', 'main-ingredient', ...   \n\n                                      nutrition  n_steps steps  \\\n3381  [198.8, 11.0, 70.0, 18.0, 5.0, 5.0, 10.0]        0    []   \n\n                                            description  \\\n3381  just change the fruit/vegetable in this recipe...   \n\n                                            ingredients  n_ingredients  \\\n3381  ['flour', 'baking soda', 'salt', 'baking powde...             12   \n\n      description_na  hours  num_interactions  avg_rating  year  month  \\\n3381               0    1.5                 2         4.5  2006      7   \n\n            age  \n3381  13.583333  ",
      "text/html": "<div>\n<style scoped>\n    .dataframe tbody tr th:only-of-type {\n        vertical-align: middle;\n    }\n\n    .dataframe tbody tr th {\n        vertical-align: top;\n    }\n\n    .dataframe thead th {\n        text-align: right;\n    }\n</style>\n<table border=\"1\" class=\"dataframe\">\n  <thead>\n    <tr style=\"text-align: right;\">\n      <th></th>\n      <th>name</th>\n      <th>recipe_id</th>\n      <th>minutes</th>\n      <th>contributor_id</th>\n      <th>submitted</th>\n      <th>tags</th>\n      <th>nutrition</th>\n      <th>n_steps</th>\n      <th>steps</th>\n      <th>description</th>\n      <th>ingredients</th>\n      <th>n_ingredients</th>\n      <th>description_na</th>\n      <th>hours</th>\n      <th>num_interactions</th>\n      <th>avg_rating</th>\n      <th>year</th>\n      <th>month</th>\n      <th>age</th>\n    </tr>\n  </thead>\n  <tbody>\n    <tr>\n      <th>3381</th>\n      <td>all season bread</td>\n      <td>176767</td>\n      <td>90</td>\n      <td>331268</td>\n      <td>2006-07-10</td>\n      <td>['time-to-make', 'course', 'main-ingredient', ...</td>\n      <td>[198.8, 11.0, 70.0, 18.0, 5.0, 5.0, 10.0]</td>\n      <td>0</td>\n      <td>[]</td>\n      <td>just change the fruit/vegetable in this recipe...</td>\n      <td>['flour', 'baking soda', 'salt', 'baking powde...</td>\n      <td>12</td>\n      <td>0</td>\n      <td>1.5</td>\n      <td>2</td>\n      <td>4.5</td>\n      <td>2006</td>\n      <td>7</td>\n      <td>13.583333</td>\n    </tr>\n  </tbody>\n</table>\n</div>"
     },
     "execution_count": 341,
     "metadata": {},
     "output_type": "execute_result"
    }
   ],
   "source": [
    "df_rmerged[df_rmerged['n_steps']==0]"
   ]
  },
  {
   "cell_type": "markdown",
   "metadata": {},
   "source": [
    "### Eliminating low quality/low interaction/duplicate recipes"
   ]
  },
  {
   "cell_type": "code",
   "execution_count": 342,
   "metadata": {},
   "outputs": [],
   "source": [
    "#We want some quality in our recommended systems, no description of steps is bad\n",
    "df_rmerged.drop(df_rmerged[df_rmerged['n_steps']==0].index, inplace=True)"
   ]
  },
  {
   "cell_type": "code",
   "execution_count": 343,
   "metadata": {},
   "outputs": [
    {
     "name": "stdout",
     "output_type": "stream",
     "text": [
      "Shape after removing old & inactive recipes: (21913, 19)\n",
      "Shape after removing newer & inactive recipes: (11151, 19)\n"
     ]
    }
   ],
   "source": [
    "#remove all recipes which are older/younger than 8 years and have less than 15/10 interactions\n",
    "\n",
    "index_remove= df_rmerged[(df_rmerged[\"num_interactions\"]<=15) & (df_rmerged[\"age\"]>8.0)][\"recipe_id\"].index\n",
    "\n",
    "df_rmerged.drop(index_remove, axis=0, inplace=True)\n",
    "\n",
    "print(\"Shape after removing old & inactive recipes:\", df_rmerged.shape)\n",
    "\n",
    "index_remove= df_rmerged[(df_rmerged[\"num_interactions\"]<=10)& (df_rmerged[\"age\"]<=8.0)][\"recipe_id\"].index\n",
    "\n",
    "df_rmerged.drop(index_remove, axis=0, inplace=True)\n",
    "\n",
    "print(\"Shape after removing newer & inactive recipes:\", df_rmerged.shape)"
   ]
  },
  {
   "cell_type": "code",
   "execution_count": 344,
   "metadata": {},
   "outputs": [
    {
     "name": "stdout",
     "output_type": "stream",
     "text": [
      "Shape after removing 1 step recipes w/ low interactions: (11151, 19)\n"
     ]
    }
   ],
   "source": [
    "#1 step recipes are not inherently bad, often they are just all steps written into one field, but let's filter by interactions\n",
    "\n",
    "df_rmerged.drop(df_rmerged[(df_rmerged[\"n_steps\"]==1)&(df_rmerged[\"num_interactions\"]==1)].index, axis=0, inplace =True)\n",
    "print(\"Shape after removing 1 step recipes w/ low interactions:\", df_rmerged.shape)"
   ]
  },
  {
   "cell_type": "code",
   "execution_count": 345,
   "metadata": {},
   "outputs": [
    {
     "name": "stdout",
     "output_type": "stream",
     "text": [
      "Shape after removing 0 minutes interaction w/ low interactions: (11103, 19)\n"
     ]
    }
   ],
   "source": [
    "# same for recipes which don't have any time instructions\n",
    "\n",
    "df_rmerged.drop(df_rmerged[(df_rmerged['minutes']==0)].index, axis=0, inplace=True)\n",
    "print('Shape after removing 0 minutes interaction w/ low interactions:', df_rmerged.shape)"
   ]
  },
  {
   "cell_type": "code",
   "execution_count": 346,
   "metadata": {},
   "outputs": [
    {
     "name": "stdout",
     "output_type": "stream",
     "text": [
      "# duplicate recipe titles: 13\n"
     ]
    }
   ],
   "source": [
    "#eliminate duplicate recipes through ratings\n",
    "\n",
    "#do we have duplicate recipe titles?\n",
    "print(\"# duplicate recipe titles:\",len(df_rmerged[\"name\"])-len(df_rmerged[\"name\"].unique()))"
   ]
  },
  {
   "cell_type": "code",
   "execution_count": 347,
   "metadata": {},
   "outputs": [],
   "source": [
    "def choose_best(interactions, ratings, n_dupl):\n",
    "    # number of interaction are different -> there exists a maximum\n",
    "    if((len(interactions) != len(set(interactions)))) :\n",
    "        return interactions.idxmax(axis=1)\n",
    "    else:# return the maximum rating or any of the duplicate recipes\n",
    "        return ratings.idxmax(axis=1)"
   ]
  },
  {
   "cell_type": "code",
   "execution_count": 348,
   "metadata": {},
   "outputs": [
    {
     "name": "stdout",
     "output_type": "stream",
     "text": [
      "Shape after dropping duplicates: (11090, 19)\n"
     ]
    }
   ],
   "source": [
    "dupl_recipes = pd.DataFrame(df_rmerged[df_rmerged[\"name\"].duplicated(keep=False)])\n",
    "dupl_rgrouped= dupl_recipes.groupby('name').groups\n",
    "\n",
    "to_keep = []\n",
    "\n",
    "for name in dupl_rgrouped:\n",
    "    n_dupl = len(dupl_rgrouped[name])\n",
    "    if(n_dupl == 2):\n",
    "        index1=dupl_rgrouped[name][0]\n",
    "        index2=dupl_rgrouped[name][1]\n",
    "        \n",
    "        interactions = dupl_recipes.loc[[index1, index2], ['num_interactions']].num_interactions\n",
    "        ratings = dupl_recipes.loc[[index1, index2], ['avg_rating']].avg_rating\n",
    "        \n",
    "        to_keep.append(choose_best(interactions, ratings, n_dupl))\n",
    "    elif (n_dupl==3):\n",
    "        index1=dupl_rgrouped[name][0]\n",
    "        index2=dupl_rgrouped[name][1]\n",
    "        index3=dupl_rgrouped[name][2]\n",
    "        \n",
    "        interactions = dupl_recipes.loc[[index1, index2, index3], ['num_interactions']].num_interactions\n",
    "        ratings = dupl_recipes.loc[[index1, index2, index3], ['avg_rating']].avg_rating\n",
    "        to_keep.append(choose_best(interactions, ratings, n_dupl))\n",
    "    else:\n",
    "        print(\"Error\")\n",
    "        break \n",
    "\n",
    "df_rmerged.drop(df_rmerged.index.intersection(to_keep), axis=0, inplace=True)\n",
    "print('Shape after dropping duplicates:', df_rmerged.shape)"
   ]
  },
  {
   "cell_type": "code",
   "execution_count": 349,
   "metadata": {},
   "outputs": [
    {
     "name": "stdout",
     "output_type": "stream",
     "text": [
      "is 0 ratings: Empty DataFrame\n",
      "Columns: [name, recipe_id, minutes, contributor_id, submitted, tags, nutrition, n_steps, steps, description, ingredients, n_ingredients, description_na, hours, num_interactions, avg_rating, year, month, age]\n",
      "Index: []\n"
     ]
    }
   ],
   "source": [
    "#there are no recipes with an average rating of 0\n",
    "print(\"is 0 ratings:\", df_rmerged[df_rmerged[\"avg_rating\"]==0])"
   ]
  },
  {
   "cell_type": "code",
   "execution_count": 350,
   "metadata": {},
   "outputs": [
    {
     "name": "stdout",
     "output_type": "stream",
     "text": [
      "is na ratings: 0\n",
      "Shape after removing recipes w/o ratings: (11090, 19)\n"
     ]
    }
   ],
   "source": [
    "#how many recipes don't have any ratings?\n",
    "print(\"is na ratings:\", df_rmerged[\"avg_rating\"].isna().sum())\n",
    "\n",
    "df_rmerged.drop(df_rmerged[df_rmerged[\"avg_rating\"].isna()].index, axis=0, inplace =True)\n",
    "print(\"Shape after removing recipes w/o ratings:\", df_rmerged.shape)"
   ]
  },
  {
   "cell_type": "code",
   "execution_count": 351,
   "metadata": {},
   "outputs": [
    {
     "data": {
      "text/plain": "           recipe_id        minutes  contributor_id       n_steps  \\\ncount   11090.000000   11090.000000    1.109000e+04  11090.000000   \nmean   129217.704328     117.280523    3.310630e+06      9.488638   \nstd    112826.619288    1565.250045    7.590735e+07      5.753003   \nmin        49.000000       1.000000    2.700000e+01      1.000000   \n25%     44069.000000      22.000000    3.150550e+04      6.000000   \n50%     96990.000000      40.000000    6.871500e+04      8.000000   \n75%    179187.250000      70.000000    1.839640e+05     12.000000   \nmax    533699.000000  115230.000000    2.001593e+09     82.000000   \n\n       n_ingredients  description_na         hours  num_interactions  \\\ncount   11090.000000    11090.000000  1.109000e+04      11090.000000   \nmean        8.802976        0.020198  3.229312e+03         43.231380   \nstd         3.664785        0.140685  3.398700e+05         68.649388   \nmin         1.000000        0.000000  1.666667e-02         11.000000   \n25%         6.000000        0.000000  3.666667e-01         19.000000   \n50%         8.000000        0.000000  6.666667e-01         25.000000   \n75%        11.000000        0.000000  1.166667e+00         41.000000   \nmax        43.000000        1.000000  3.579139e+07       1613.000000   \n\n         avg_rating          year         month           age  \ncount  11090.000000  11090.000000  11090.000000  11090.000000  \nmean       4.699969   2004.445987      6.249594     15.074812  \nstd        0.234700      2.642736      3.457341      2.697202  \nmin        2.133333   1999.000000      1.000000      2.083333  \n25%        4.592593   2002.000000      3.000000     13.416667  \n50%        4.750000   2004.000000      6.000000     15.416667  \n75%        4.863636   2006.000000      9.000000     17.166667  \nmax        5.000000   2017.000000     12.000000     21.000000  ",
      "text/html": "<div>\n<style scoped>\n    .dataframe tbody tr th:only-of-type {\n        vertical-align: middle;\n    }\n\n    .dataframe tbody tr th {\n        vertical-align: top;\n    }\n\n    .dataframe thead th {\n        text-align: right;\n    }\n</style>\n<table border=\"1\" class=\"dataframe\">\n  <thead>\n    <tr style=\"text-align: right;\">\n      <th></th>\n      <th>recipe_id</th>\n      <th>minutes</th>\n      <th>contributor_id</th>\n      <th>n_steps</th>\n      <th>n_ingredients</th>\n      <th>description_na</th>\n      <th>hours</th>\n      <th>num_interactions</th>\n      <th>avg_rating</th>\n      <th>year</th>\n      <th>month</th>\n      <th>age</th>\n    </tr>\n  </thead>\n  <tbody>\n    <tr>\n      <th>count</th>\n      <td>11090.000000</td>\n      <td>11090.000000</td>\n      <td>1.109000e+04</td>\n      <td>11090.000000</td>\n      <td>11090.000000</td>\n      <td>11090.000000</td>\n      <td>1.109000e+04</td>\n      <td>11090.000000</td>\n      <td>11090.000000</td>\n      <td>11090.000000</td>\n      <td>11090.000000</td>\n      <td>11090.000000</td>\n    </tr>\n    <tr>\n      <th>mean</th>\n      <td>129217.704328</td>\n      <td>117.280523</td>\n      <td>3.310630e+06</td>\n      <td>9.488638</td>\n      <td>8.802976</td>\n      <td>0.020198</td>\n      <td>3.229312e+03</td>\n      <td>43.231380</td>\n      <td>4.699969</td>\n      <td>2004.445987</td>\n      <td>6.249594</td>\n      <td>15.074812</td>\n    </tr>\n    <tr>\n      <th>std</th>\n      <td>112826.619288</td>\n      <td>1565.250045</td>\n      <td>7.590735e+07</td>\n      <td>5.753003</td>\n      <td>3.664785</td>\n      <td>0.140685</td>\n      <td>3.398700e+05</td>\n      <td>68.649388</td>\n      <td>0.234700</td>\n      <td>2.642736</td>\n      <td>3.457341</td>\n      <td>2.697202</td>\n    </tr>\n    <tr>\n      <th>min</th>\n      <td>49.000000</td>\n      <td>1.000000</td>\n      <td>2.700000e+01</td>\n      <td>1.000000</td>\n      <td>1.000000</td>\n      <td>0.000000</td>\n      <td>1.666667e-02</td>\n      <td>11.000000</td>\n      <td>2.133333</td>\n      <td>1999.000000</td>\n      <td>1.000000</td>\n      <td>2.083333</td>\n    </tr>\n    <tr>\n      <th>25%</th>\n      <td>44069.000000</td>\n      <td>22.000000</td>\n      <td>3.150550e+04</td>\n      <td>6.000000</td>\n      <td>6.000000</td>\n      <td>0.000000</td>\n      <td>3.666667e-01</td>\n      <td>19.000000</td>\n      <td>4.592593</td>\n      <td>2002.000000</td>\n      <td>3.000000</td>\n      <td>13.416667</td>\n    </tr>\n    <tr>\n      <th>50%</th>\n      <td>96990.000000</td>\n      <td>40.000000</td>\n      <td>6.871500e+04</td>\n      <td>8.000000</td>\n      <td>8.000000</td>\n      <td>0.000000</td>\n      <td>6.666667e-01</td>\n      <td>25.000000</td>\n      <td>4.750000</td>\n      <td>2004.000000</td>\n      <td>6.000000</td>\n      <td>15.416667</td>\n    </tr>\n    <tr>\n      <th>75%</th>\n      <td>179187.250000</td>\n      <td>70.000000</td>\n      <td>1.839640e+05</td>\n      <td>12.000000</td>\n      <td>11.000000</td>\n      <td>0.000000</td>\n      <td>1.166667e+00</td>\n      <td>41.000000</td>\n      <td>4.863636</td>\n      <td>2006.000000</td>\n      <td>9.000000</td>\n      <td>17.166667</td>\n    </tr>\n    <tr>\n      <th>max</th>\n      <td>533699.000000</td>\n      <td>115230.000000</td>\n      <td>2.001593e+09</td>\n      <td>82.000000</td>\n      <td>43.000000</td>\n      <td>1.000000</td>\n      <td>3.579139e+07</td>\n      <td>1613.000000</td>\n      <td>5.000000</td>\n      <td>2017.000000</td>\n      <td>12.000000</td>\n      <td>21.000000</td>\n    </tr>\n  </tbody>\n</table>\n</div>"
     },
     "metadata": {},
     "output_type": "display_data"
    }
   ],
   "source": [
    "display(df_rmerged.describe())"
   ]
  },
  {
   "cell_type": "markdown",
   "metadata": {},
   "source": [
    "### Generate an URL for every recipe"
   ]
  },
  {
   "cell_type": "code",
   "execution_count": 352,
   "metadata": {},
   "outputs": [],
   "source": [
    "df_r[\"URL\"] = df_r.apply(lambda row: \"https://www.food.com/recipe/\"+\" \".join(row[\"name\"].split()).replace(\" \", \"-\") \n",
    "                         +\"-\"+str(row[\"recipe_id\"]), axis=1)"
   ]
  },
  {
   "cell_type": "code",
   "execution_count": 353,
   "metadata": {},
   "outputs": [],
   "source": [
    "#Check if website exists\n",
    "# import requests\n",
    "# from time import sleep\n",
    "\n",
    "# def website_exists(url):\n",
    "#     try:\n",
    "#         request = requests.get(url)\n",
    "#         if request.status_code == 200:\n",
    "#             return 1\n",
    "#         else:\n",
    "#             return 0\n",
    "#     except NewConnectionError:\n",
    "#         return 0\n",
    "#     except MaxRetryError:\n",
    "#         print(\"Max\")"
   ]
  },
  {
   "cell_type": "markdown",
   "metadata": {},
   "source": [
    "### Incuding users into the mix: Creating user-interaction data"
   ]
  },
  {
   "cell_type": "code",
   "execution_count": 354,
   "metadata": {},
   "outputs": [],
   "source": [
    "df_uactivity = df_i[['recipe_id','user_id', 'rating']]"
   ]
  },
  {
   "cell_type": "code",
   "execution_count": 355,
   "metadata": {},
   "outputs": [
    {
     "data": {
      "text/plain": "rating     0    1     2     3      4      5  total_interactions  total_ratings\nuser_id                                                                       \n1533     0.0  2.0   5.0   1.0   12.0  108.0               128.0          128.0\n1535     6.0  1.0  10.0  53.0  248.0  476.0               794.0          788.0\n1581     0.0  0.0   0.0   0.0    0.0    1.0                 1.0            1.0\n1634     9.0  0.0   2.0   7.0   18.0   24.0                60.0           51.0\n1676     0.0  1.0   0.0   2.0    2.0   26.0                31.0           31.0",
      "text/html": "<div>\n<style scoped>\n    .dataframe tbody tr th:only-of-type {\n        vertical-align: middle;\n    }\n\n    .dataframe tbody tr th {\n        vertical-align: top;\n    }\n\n    .dataframe thead th {\n        text-align: right;\n    }\n</style>\n<table border=\"1\" class=\"dataframe\">\n  <thead>\n    <tr style=\"text-align: right;\">\n      <th>rating</th>\n      <th>0</th>\n      <th>1</th>\n      <th>2</th>\n      <th>3</th>\n      <th>4</th>\n      <th>5</th>\n      <th>total_interactions</th>\n      <th>total_ratings</th>\n    </tr>\n    <tr>\n      <th>user_id</th>\n      <th></th>\n      <th></th>\n      <th></th>\n      <th></th>\n      <th></th>\n      <th></th>\n      <th></th>\n      <th></th>\n    </tr>\n  </thead>\n  <tbody>\n    <tr>\n      <th>1533</th>\n      <td>0.0</td>\n      <td>2.0</td>\n      <td>5.0</td>\n      <td>1.0</td>\n      <td>12.0</td>\n      <td>108.0</td>\n      <td>128.0</td>\n      <td>128.0</td>\n    </tr>\n    <tr>\n      <th>1535</th>\n      <td>6.0</td>\n      <td>1.0</td>\n      <td>10.0</td>\n      <td>53.0</td>\n      <td>248.0</td>\n      <td>476.0</td>\n      <td>794.0</td>\n      <td>788.0</td>\n    </tr>\n    <tr>\n      <th>1581</th>\n      <td>0.0</td>\n      <td>0.0</td>\n      <td>0.0</td>\n      <td>0.0</td>\n      <td>0.0</td>\n      <td>1.0</td>\n      <td>1.0</td>\n      <td>1.0</td>\n    </tr>\n    <tr>\n      <th>1634</th>\n      <td>9.0</td>\n      <td>0.0</td>\n      <td>2.0</td>\n      <td>7.0</td>\n      <td>18.0</td>\n      <td>24.0</td>\n      <td>60.0</td>\n      <td>51.0</td>\n    </tr>\n    <tr>\n      <th>1676</th>\n      <td>0.0</td>\n      <td>1.0</td>\n      <td>0.0</td>\n      <td>2.0</td>\n      <td>2.0</td>\n      <td>26.0</td>\n      <td>31.0</td>\n      <td>31.0</td>\n    </tr>\n  </tbody>\n</table>\n</div>"
     },
     "execution_count": 355,
     "metadata": {},
     "output_type": "execute_result"
    }
   ],
   "source": [
    "#Create a user activity dataframe\n",
    "\n",
    "df_uactivity = df_uactivity.groupby('user_id')['rating'].value_counts().unstack().fillna(0)\n",
    "\n",
    "cols = list(df_uactivity)\n",
    "df_uactivity['total_interactions'] = df_uactivity[cols].sum(axis=1)\n",
    "df_uactivity['total_ratings'] = df_uactivity['total_interactions']-df_uactivity[0]\n",
    "\n",
    "df_uactivity.head()\n"
   ]
  },
  {
   "cell_type": "markdown",
   "metadata": {},
   "source": [
    "### Filter out inactive users"
   ]
  },
  {
   "cell_type": "code",
   "execution_count": 356,
   "metadata": {},
   "outputs": [
    {
     "data": {
      "text/plain": "(17099, 8)"
     },
     "execution_count": 356,
     "metadata": {},
     "output_type": "execute_result"
    }
   ],
   "source": [
    "df_uactivity = df_uactivity[df_uactivity['total_interactions']>=7]\n",
    "df_uactivity.shape"
   ]
  },
  {
   "cell_type": "markdown",
   "metadata": {},
   "source": [
    "#### Create average rating per user"
   ]
  },
  {
   "cell_type": "code",
   "execution_count": 357,
   "metadata": {},
   "outputs": [
    {
     "name": "stderr",
     "output_type": "stream",
     "text": [
      "c:\\users\\andi\\desktop\\data science\\mmds\\web mining\\lab\\project\\food\\webminingrecipeproject\\venv\\lib\\site-packages\\numpy\\ma\\extras.py:631: RuntimeWarning: invalid value encountered in double_scalars\n",
      "  avg = np.multiply(a, wgt, dtype=result_dtype).sum(axis)/scl\n"
     ]
    },
    {
     "data": {
      "text/plain": "rating     0    1     2     3      4      5  total_interactions  \\\nuser_id                                                           \n1533     0.0  2.0   5.0   1.0   12.0  108.0               128.0   \n1535     6.0  1.0  10.0  53.0  248.0  476.0               794.0   \n1634     9.0  0.0   2.0   7.0   18.0   24.0                60.0   \n1676     0.0  1.0   0.0   2.0    2.0   26.0                31.0   \n1792     0.0  0.0   0.0   5.0    5.0   21.0                31.0   \n\nrating   total_ratings  uavg_rating  \nuser_id                              \n1533             128.0          4.7  \n1535             788.0          4.5  \n1634              51.0          4.3  \n1676              31.0          4.7  \n1792              31.0          4.5  ",
      "text/html": "<div>\n<style scoped>\n    .dataframe tbody tr th:only-of-type {\n        vertical-align: middle;\n    }\n\n    .dataframe tbody tr th {\n        vertical-align: top;\n    }\n\n    .dataframe thead th {\n        text-align: right;\n    }\n</style>\n<table border=\"1\" class=\"dataframe\">\n  <thead>\n    <tr style=\"text-align: right;\">\n      <th>rating</th>\n      <th>0</th>\n      <th>1</th>\n      <th>2</th>\n      <th>3</th>\n      <th>4</th>\n      <th>5</th>\n      <th>total_interactions</th>\n      <th>total_ratings</th>\n      <th>uavg_rating</th>\n    </tr>\n    <tr>\n      <th>user_id</th>\n      <th></th>\n      <th></th>\n      <th></th>\n      <th></th>\n      <th></th>\n      <th></th>\n      <th></th>\n      <th></th>\n      <th></th>\n    </tr>\n  </thead>\n  <tbody>\n    <tr>\n      <th>1533</th>\n      <td>0.0</td>\n      <td>2.0</td>\n      <td>5.0</td>\n      <td>1.0</td>\n      <td>12.0</td>\n      <td>108.0</td>\n      <td>128.0</td>\n      <td>128.0</td>\n      <td>4.7</td>\n    </tr>\n    <tr>\n      <th>1535</th>\n      <td>6.0</td>\n      <td>1.0</td>\n      <td>10.0</td>\n      <td>53.0</td>\n      <td>248.0</td>\n      <td>476.0</td>\n      <td>794.0</td>\n      <td>788.0</td>\n      <td>4.5</td>\n    </tr>\n    <tr>\n      <th>1634</th>\n      <td>9.0</td>\n      <td>0.0</td>\n      <td>2.0</td>\n      <td>7.0</td>\n      <td>18.0</td>\n      <td>24.0</td>\n      <td>60.0</td>\n      <td>51.0</td>\n      <td>4.3</td>\n    </tr>\n    <tr>\n      <th>1676</th>\n      <td>0.0</td>\n      <td>1.0</td>\n      <td>0.0</td>\n      <td>2.0</td>\n      <td>2.0</td>\n      <td>26.0</td>\n      <td>31.0</td>\n      <td>31.0</td>\n      <td>4.7</td>\n    </tr>\n    <tr>\n      <th>1792</th>\n      <td>0.0</td>\n      <td>0.0</td>\n      <td>0.0</td>\n      <td>5.0</td>\n      <td>5.0</td>\n      <td>21.0</td>\n      <td>31.0</td>\n      <td>31.0</td>\n      <td>4.5</td>\n    </tr>\n  </tbody>\n</table>\n</div>"
     },
     "metadata": {},
     "output_type": "display_data"
    },
    {
     "data": {
      "text/plain": "(17099, 9)"
     },
     "execution_count": 357,
     "metadata": {},
     "output_type": "execute_result"
    }
   ],
   "source": [
    "df_uactivity['uavg_rating'] = df_uactivity.iloc[:,1:6].apply(\n",
    "    lambda row: np.round(np.ma.average(list(range(1,6)), weights = (row[1], row[2], row[3], row[4], row[5])),1), axis = 1)\n",
    "display(df_uactivity.head())\n",
    "df_uactivity.shape"
   ]
  },
  {
   "cell_type": "code",
   "execution_count": 358,
   "metadata": {},
   "outputs": [],
   "source": [
    "df_uactivity = df_uactivity.reset_index()\n",
    "df_uactivity.columns.set_names(None, inplace = True)"
   ]
  },
  {
   "cell_type": "markdown",
   "metadata": {},
   "source": [
    "### Create filtered interactions df"
   ]
  },
  {
   "cell_type": "code",
   "execution_count": 359,
   "metadata": {},
   "outputs": [
    {
     "data": {
      "text/plain": "   user_id  recipe_id  rating\n0     1533     116345       5\n1     1533      32907       5\n2     1533      14750       5\n3     1533      24136       5\n4     1533      63598       4",
      "text/html": "<div>\n<style scoped>\n    .dataframe tbody tr th:only-of-type {\n        vertical-align: middle;\n    }\n\n    .dataframe tbody tr th {\n        vertical-align: top;\n    }\n\n    .dataframe thead th {\n        text-align: right;\n    }\n</style>\n<table border=\"1\" class=\"dataframe\">\n  <thead>\n    <tr style=\"text-align: right;\">\n      <th></th>\n      <th>user_id</th>\n      <th>recipe_id</th>\n      <th>rating</th>\n    </tr>\n  </thead>\n  <tbody>\n    <tr>\n      <th>0</th>\n      <td>1533</td>\n      <td>116345</td>\n      <td>5</td>\n    </tr>\n    <tr>\n      <th>1</th>\n      <td>1533</td>\n      <td>32907</td>\n      <td>5</td>\n    </tr>\n    <tr>\n      <th>2</th>\n      <td>1533</td>\n      <td>14750</td>\n      <td>5</td>\n    </tr>\n    <tr>\n      <th>3</th>\n      <td>1533</td>\n      <td>24136</td>\n      <td>5</td>\n    </tr>\n    <tr>\n      <th>4</th>\n      <td>1533</td>\n      <td>63598</td>\n      <td>4</td>\n    </tr>\n  </tbody>\n</table>\n</div>"
     },
     "metadata": {},
     "output_type": "display_data"
    },
    {
     "data": {
      "text/plain": "(839520, 3)"
     },
     "execution_count": 359,
     "metadata": {},
     "output_type": "execute_result"
    }
   ],
   "source": [
    "# 1. Create Filter for interations with filtered df_uactivity -> Only interactions from active users remain\n",
    "\n",
    "user_filter = pd.merge(df_uactivity[['user_id']], df_i[['recipe_id','user_id', 'rating']], how = 'left', on ='user_id')\n",
    "\n",
    "display(user_filter.head())\n",
    "user_filter.shape"
   ]
  },
  {
   "cell_type": "code",
   "execution_count": 360,
   "metadata": {},
   "outputs": [
    {
     "data": {
      "text/plain": "   recipe_id  user_id  rating\n0      63986     4470       5\n1      63986    28649       4\n2      63986    37471       5\n3      63986    60992       5\n4      63986    75497       5",
      "text/html": "<div>\n<style scoped>\n    .dataframe tbody tr th:only-of-type {\n        vertical-align: middle;\n    }\n\n    .dataframe tbody tr th {\n        vertical-align: top;\n    }\n\n    .dataframe thead th {\n        text-align: right;\n    }\n</style>\n<table border=\"1\" class=\"dataframe\">\n  <thead>\n    <tr style=\"text-align: right;\">\n      <th></th>\n      <th>recipe_id</th>\n      <th>user_id</th>\n      <th>rating</th>\n    </tr>\n  </thead>\n  <tbody>\n    <tr>\n      <th>0</th>\n      <td>63986</td>\n      <td>4470</td>\n      <td>5</td>\n    </tr>\n    <tr>\n      <th>1</th>\n      <td>63986</td>\n      <td>28649</td>\n      <td>4</td>\n    </tr>\n    <tr>\n      <th>2</th>\n      <td>63986</td>\n      <td>37471</td>\n      <td>5</td>\n    </tr>\n    <tr>\n      <th>3</th>\n      <td>63986</td>\n      <td>60992</td>\n      <td>5</td>\n    </tr>\n    <tr>\n      <th>4</th>\n      <td>63986</td>\n      <td>75497</td>\n      <td>5</td>\n    </tr>\n  </tbody>\n</table>\n</div>"
     },
     "metadata": {},
     "output_type": "display_data"
    },
    {
     "data": {
      "text/plain": "(328795, 3)"
     },
     "execution_count": 360,
     "metadata": {},
     "output_type": "execute_result"
    }
   ],
   "source": [
    "# 2. Filter interactions with active recipes -> Only interactions from active users and recipes remain\n",
    "\n",
    "interactions = pd.merge(df_rmerged[['recipe_id']], user_filter[['recipe_id', 'user_id', 'rating']], on = 'recipe_id', how ='inner')\n",
    "display(interactions.head())\n",
    "interactions.shape"
   ]
  },
  {
   "cell_type": "code",
   "execution_count": 361,
   "metadata": {},
   "outputs": [
    {
     "name": "stdout",
     "output_type": "stream",
     "text": [
      "Percent of 5 star rating interactions: 77.91%\n",
      "Percent of 4 star rating interactions: 14.83%\n",
      "Percent of 3 star rating interactions: 3.27%\n",
      "Percent of 2 star rating interactions: 1.01%\n",
      "Percent of 1 star rating interactions: 0.47%\n",
      "Percent of interactions w/ ratings: 2.5%\n"
     ]
    },
    {
     "data": {
      "text/plain": "<Figure size 432x288 with 1 Axes>",
      "image/png": "[encoded data removed]"
     },
     "metadata": {
      "needs_background": "light"
     },
     "output_type": "display_data"
    }
   ],
   "source": [
    "ratings_dist = pd.Series(interactions.rating.value_counts())\n",
    "ratings_dist.plot.bar()\n",
    "print(f'Percent of 5 star rating interactions: {round((ratings_dist.loc[5]/len(interactions)*100),2)}%')\n",
    "print(f'Percent of 4 star rating interactions: {round((ratings_dist.loc[4]/len(interactions)*100),2)}%')\n",
    "print(f'Percent of 3 star rating interactions: {round((ratings_dist.loc[3]/len(interactions)*100),2)}%')\n",
    "print(f'Percent of 2 star rating interactions: {round((ratings_dist.loc[2]/len(interactions)*100),2)}%')\n",
    "print(f'Percent of 1 star rating interactions: {round((ratings_dist.loc[1]/len(interactions)*100),2)}%')\n",
    "print(f'Percent of interactions w/ ratings: {round((ratings_dist.loc[0]/len(interactions)*100),2)}%')"
   ]
  },
  {
   "cell_type": "code",
   "execution_count": 362,
   "metadata": {},
   "outputs": [
    {
     "data": {
      "text/plain": "   recipe_id  user_id  rating\n0      63986    60992       5\n1      63986    95743       5\n2      63986    37471       5\n3      63986    92641       5\n4      63986     4470       5",
      "text/html": "<div>\n<style scoped>\n    .dataframe tbody tr th:only-of-type {\n        vertical-align: middle;\n    }\n\n    .dataframe tbody tr th {\n        vertical-align: top;\n    }\n\n    .dataframe thead th {\n        text-align: right;\n    }\n</style>\n<table border=\"1\" class=\"dataframe\">\n  <thead>\n    <tr style=\"text-align: right;\">\n      <th></th>\n      <th>recipe_id</th>\n      <th>user_id</th>\n      <th>rating</th>\n    </tr>\n  </thead>\n  <tbody>\n    <tr>\n      <th>0</th>\n      <td>63986</td>\n      <td>60992</td>\n      <td>5</td>\n    </tr>\n    <tr>\n      <th>1</th>\n      <td>63986</td>\n      <td>95743</td>\n      <td>5</td>\n    </tr>\n    <tr>\n      <th>2</th>\n      <td>63986</td>\n      <td>37471</td>\n      <td>5</td>\n    </tr>\n    <tr>\n      <th>3</th>\n      <td>63986</td>\n      <td>92641</td>\n      <td>5</td>\n    </tr>\n    <tr>\n      <th>4</th>\n      <td>63986</td>\n      <td>4470</td>\n      <td>5</td>\n    </tr>\n  </tbody>\n</table>\n</div>"
     },
     "metadata": {},
     "output_type": "display_data"
    },
    {
     "data": {
      "text/plain": "(479436, 3)"
     },
     "execution_count": 362,
     "metadata": {},
     "output_type": "execute_result"
    }
   ],
   "source": [
    "#Comparison: Interactions w/o filtering by users\n",
    "\n",
    "#merge recipes dataframe with the filtered user interactions -> result: interactions only with active recipes and active users\n",
    "\n",
    "interactions1= pd.merge(df_rmerged[['recipe_id']], df_i[['recipe_id', 'user_id', 'rating']], on='recipe_id', how='left')\n",
    "display(interactions1.head())\n",
    "interactions1.shape"
   ]
  },
  {
   "cell_type": "code",
   "execution_count": 363,
   "metadata": {},
   "outputs": [
    {
     "name": "stdout",
     "output_type": "stream",
     "text": [
      "Percent of 5 star rating interactions: 75.33%\n",
      "Percent of 4 star rating interactions: 13.35%\n",
      "Percent of 3 star rating interactions: 3.13%\n",
      "Percent of 2 star rating interactions: 1.25%\n",
      "Percent of 1 star rating interactions: 1.12%\n",
      "Percent of interactions w/ ratings: 5.81%\n"
     ]
    },
    {
     "data": {
      "text/plain": "<Figure size 432x288 with 1 Axes>",
      "image/png": "[encoded data removed]"
     },
     "metadata": {
      "needs_background": "light"
     },
     "output_type": "display_data"
    }
   ],
   "source": [
    "ratings_dist1 = pd.Series(interactions1.rating.value_counts())\n",
    "ratings_dist1.plot.bar()\n",
    "print(f'Percent of 5 star rating interactions: {round((ratings_dist1.loc[5]/len(interactions1)*100),2)}%')\n",
    "print(f'Percent of 4 star rating interactions: {round((ratings_dist1.loc[4]/len(interactions1)*100),2)}%')\n",
    "print(f'Percent of 3 star rating interactions: {round((ratings_dist1.loc[3]/len(interactions1)*100),2)}%')\n",
    "print(f'Percent of 2 star rating interactions: {round((ratings_dist1.loc[2]/len(interactions1)*100),2)}%')\n",
    "print(f'Percent of 1 star rating interactions: {round((ratings_dist1.loc[1]/len(interactions1)*100),2)}%')\n",
    "print(f'Percent of interactions w/ ratings: {round((ratings_dist1.loc[0]/len(interactions1)*100),2)}%')"
   ]
  },
  {
   "cell_type": "code",
   "execution_count": 364,
   "metadata": {},
   "outputs": [],
   "source": [
    "def get_rating_dist(ratings_series, length):\n",
    "    ratings_series.plot.bar()\n",
    "    print(f'Percent of 5 star rating interactions: {round((ratings_series.loc[5]/len(length)*100),2)}%')\n",
    "    print(f'Percent of 4 star rating interactions: {round((ratings_series.loc[4]/len(length)*100),2)}%')\n",
    "    print(f'Percent of 3 star rating interactions: {round((ratings_series.loc[3]/len(length)*100),2)}%')\n",
    "    print(f'Percent of 2 star rating interactions: {round((ratings_series.loc[2]/len(length)*100),2)}%')\n",
    "    print(f'Percent of 1 star rating interactions: {round((ratings_series.loc[1]/len(length)*100),2)}%')\n",
    "    print(f'Percent of interactions w/ ratings: {round((ratings_series.loc[0]/len(length)*100),2)}%')"
   ]
  },
  {
   "cell_type": "markdown",
   "metadata": {},
   "source": [
    "### Creating recipe_id/user_id sparse matrix"
   ]
  },
  {
   "cell_type": "code",
   "execution_count": 365,
   "metadata": {},
   "outputs": [],
   "source": [
    "#function to avoid running out of memory (adapted from Chia Chien)\n",
    "\n",
    "def create_pivot_table(pd_df):\n",
    "    data = pd_df.values\n",
    "    #rows = recipes\n",
    "    rows, row_pos = np.unique(data[:, 0], return_inverse=True)\n",
    "    #columns = users\n",
    "    cols, col_pos = np.unique(data[:, 1], return_inverse=True)\n",
    "    pivot_matrix = np.zeros((len(rows), len(cols)), dtype=data.dtype)\n",
    "    pivot_matrix[row_pos, col_pos] = data[:, 2]\n",
    "    print('Matrix shape:', pivot_matrix.shape)\n",
    "    df_matrix = pd.DataFrame(pivot_matrix, index = rows, columns = cols)\n",
    "    return df_matrix"
   ]
  },
  {
   "cell_type": "code",
   "execution_count": 366,
   "metadata": {
    "scrolled": true
   },
   "outputs": [
    {
     "name": "stdout",
     "output_type": "stream",
     "text": [
      "Matrix shape: (11050, 16905)\n"
     ]
    },
    {
     "data": {
      "text/plain": "        1533        1535        1634        1676        1792        \\\n49               0           0           0           0           0   \n62               0           0           0           0           0   \n66               0           0           0           0           0   \n142              0           0           0           0           0   \n153              0           5           0           0           0   \n...            ...         ...         ...         ...         ...   \n524958           0           0           0           0           0   \n524960           0           0           0           0           0   \n528131           0           0           0           0           0   \n530004           0           0           0           0           0   \n530478           0           0           0           0           0   \n\n        1891        1962        2046        2059        2148        ...  \\\n49               0           0           0           0           0  ...   \n62               0           0           0           0           0  ...   \n66               0           0           0           0           0  ...   \n142              0           0           0           0           0  ...   \n153              0           0           0           0           0  ...   \n...            ...         ...         ...         ...         ...  ...   \n524958           0           0           0           0           0  ...   \n524960           0           0           0           0           0  ...   \n528131           0           0           0           0           0  ...   \n530004           0           0           0           0           0  ...   \n530478           0           0           0           0           0  ...   \n\n        2001898367  2001906623  2001987473  2002015205  2002084712  \\\n49               0           0           0           0           0   \n62               0           0           0           0           0   \n66               0           0           0           0           0   \n142              0           0           0           0           0   \n153              0           0           0           0           0   \n...            ...         ...         ...         ...         ...   \n524958           0           0           0           0           0   \n524960           0           0           0           0           0   \n528131           0           0           0           0           0   \n530004           0           0           0           0           0   \n530478           0           0           0           0           0   \n\n        2002120722  2002144249  2002151809  2002157583  2002254807  \n49               0           0           0           0           0  \n62               0           0           0           0           0  \n66               0           0           0           0           0  \n142              0           0           0           0           0  \n153              0           0           0           0           0  \n...            ...         ...         ...         ...         ...  \n524958           0           0           0           0           0  \n524960           0           0           0           0           0  \n528131           0           0           0           0           0  \n530004           0           0           0           0           0  \n530478           0           0           0           0           0  \n\n[11050 rows x 16905 columns]",
      "text/html": "<div>\n<style scoped>\n    .dataframe tbody tr th:only-of-type {\n        vertical-align: middle;\n    }\n\n    .dataframe tbody tr th {\n        vertical-align: top;\n    }\n\n    .dataframe thead th {\n        text-align: right;\n    }\n</style>\n<table border=\"1\" class=\"dataframe\">\n  <thead>\n    <tr style=\"text-align: right;\">\n      <th></th>\n      <th>1533</th>\n      <th>1535</th>\n      <th>1634</th>\n      <th>1676</th>\n      <th>1792</th>\n      <th>1891</th>\n      <th>1962</th>\n      <th>2046</th>\n      <th>2059</th>\n      <th>2148</th>\n      <th>...</th>\n      <th>2001898367</th>\n      <th>2001906623</th>\n      <th>2001987473</th>\n      <th>2002015205</th>\n      <th>2002084712</th>\n      <th>2002120722</th>\n      <th>2002144249</th>\n      <th>2002151809</th>\n      <th>2002157583</th>\n      <th>2002254807</th>\n    </tr>\n  </thead>\n  <tbody>\n    <tr>\n      <th>49</th>\n      <td>0</td>\n      <td>0</td>\n      <td>0</td>\n      <td>0</td>\n      <td>0</td>\n      <td>0</td>\n      <td>0</td>\n      <td>0</td>\n      <td>0</td>\n      <td>0</td>\n      <td>...</td>\n      <td>0</td>\n      <td>0</td>\n      <td>0</td>\n      <td>0</td>\n      <td>0</td>\n      <td>0</td>\n      <td>0</td>\n      <td>0</td>\n      <td>0</td>\n      <td>0</td>\n    </tr>\n    <tr>\n      <th>62</th>\n      <td>0</td>\n      <td>0</td>\n      <td>0</td>\n      <td>0</td>\n      <td>0</td>\n      <td>0</td>\n      <td>0</td>\n      <td>0</td>\n      <td>0</td>\n      <td>0</td>\n      <td>...</td>\n      <td>0</td>\n      <td>0</td>\n      <td>0</td>\n      <td>0</td>\n      <td>0</td>\n      <td>0</td>\n      <td>0</td>\n      <td>0</td>\n      <td>0</td>\n      <td>0</td>\n    </tr>\n    <tr>\n      <th>66</th>\n      <td>0</td>\n      <td>0</td>\n      <td>0</td>\n      <td>0</td>\n      <td>0</td>\n      <td>0</td>\n      <td>0</td>\n      <td>0</td>\n      <td>0</td>\n      <td>0</td>\n      <td>...</td>\n      <td>0</td>\n      <td>0</td>\n      <td>0</td>\n      <td>0</td>\n      <td>0</td>\n      <td>0</td>\n      <td>0</td>\n      <td>0</td>\n      <td>0</td>\n      <td>0</td>\n    </tr>\n    <tr>\n      <th>142</th>\n      <td>0</td>\n      <td>0</td>\n      <td>0</td>\n      <td>0</td>\n      <td>0</td>\n      <td>0</td>\n      <td>0</td>\n      <td>0</td>\n      <td>0</td>\n      <td>0</td>\n      <td>...</td>\n      <td>0</td>\n      <td>0</td>\n      <td>0</td>\n      <td>0</td>\n      <td>0</td>\n      <td>0</td>\n      <td>0</td>\n      <td>0</td>\n      <td>0</td>\n      <td>0</td>\n    </tr>\n    <tr>\n      <th>153</th>\n      <td>0</td>\n      <td>5</td>\n      <td>0</td>\n      <td>0</td>\n      <td>0</td>\n      <td>0</td>\n      <td>0</td>\n      <td>0</td>\n      <td>0</td>\n      <td>0</td>\n      <td>...</td>\n      <td>0</td>\n      <td>0</td>\n      <td>0</td>\n      <td>0</td>\n      <td>0</td>\n      <td>0</td>\n      <td>0</td>\n      <td>0</td>\n      <td>0</td>\n      <td>0</td>\n    </tr>\n    <tr>\n      <th>...</th>\n      <td>...</td>\n      <td>...</td>\n      <td>...</td>\n      <td>...</td>\n      <td>...</td>\n      <td>...</td>\n      <td>...</td>\n      <td>...</td>\n      <td>...</td>\n      <td>...</td>\n      <td>...</td>\n      <td>...</td>\n      <td>...</td>\n      <td>...</td>\n      <td>...</td>\n      <td>...</td>\n      <td>...</td>\n      <td>...</td>\n      <td>...</td>\n      <td>...</td>\n      <td>...</td>\n    </tr>\n    <tr>\n      <th>524958</th>\n      <td>0</td>\n      <td>0</td>\n      <td>0</td>\n      <td>0</td>\n      <td>0</td>\n      <td>0</td>\n      <td>0</td>\n      <td>0</td>\n      <td>0</td>\n      <td>0</td>\n      <td>...</td>\n      <td>0</td>\n      <td>0</td>\n      <td>0</td>\n      <td>0</td>\n      <td>0</td>\n      <td>0</td>\n      <td>0</td>\n      <td>0</td>\n      <td>0</td>\n      <td>0</td>\n    </tr>\n    <tr>\n      <th>524960</th>\n      <td>0</td>\n      <td>0</td>\n      <td>0</td>\n      <td>0</td>\n      <td>0</td>\n      <td>0</td>\n      <td>0</td>\n      <td>0</td>\n      <td>0</td>\n      <td>0</td>\n      <td>...</td>\n      <td>0</td>\n      <td>0</td>\n      <td>0</td>\n      <td>0</td>\n      <td>0</td>\n      <td>0</td>\n      <td>0</td>\n      <td>0</td>\n      <td>0</td>\n      <td>0</td>\n    </tr>\n    <tr>\n      <th>528131</th>\n      <td>0</td>\n      <td>0</td>\n      <td>0</td>\n      <td>0</td>\n      <td>0</td>\n      <td>0</td>\n      <td>0</td>\n      <td>0</td>\n      <td>0</td>\n      <td>0</td>\n      <td>...</td>\n      <td>0</td>\n      <td>0</td>\n      <td>0</td>\n      <td>0</td>\n      <td>0</td>\n      <td>0</td>\n      <td>0</td>\n      <td>0</td>\n      <td>0</td>\n      <td>0</td>\n    </tr>\n    <tr>\n      <th>530004</th>\n      <td>0</td>\n      <td>0</td>\n      <td>0</td>\n      <td>0</td>\n      <td>0</td>\n      <td>0</td>\n      <td>0</td>\n      <td>0</td>\n      <td>0</td>\n      <td>0</td>\n      <td>...</td>\n      <td>0</td>\n      <td>0</td>\n      <td>0</td>\n      <td>0</td>\n      <td>0</td>\n      <td>0</td>\n      <td>0</td>\n      <td>0</td>\n      <td>0</td>\n      <td>0</td>\n    </tr>\n    <tr>\n      <th>530478</th>\n      <td>0</td>\n      <td>0</td>\n      <td>0</td>\n      <td>0</td>\n      <td>0</td>\n      <td>0</td>\n      <td>0</td>\n      <td>0</td>\n      <td>0</td>\n      <td>0</td>\n      <td>...</td>\n      <td>0</td>\n      <td>0</td>\n      <td>0</td>\n      <td>0</td>\n      <td>0</td>\n      <td>0</td>\n      <td>0</td>\n      <td>0</td>\n      <td>0</td>\n      <td>0</td>\n    </tr>\n  </tbody>\n</table>\n<p>11050 rows × 16905 columns</p>\n</div>"
     },
     "execution_count": 366,
     "metadata": {},
     "output_type": "execute_result"
    }
   ],
   "source": [
    "df_matrix = create_pivot_table(interactions)\n",
    "df_matrix"
   ]
  },
  {
   "cell_type": "markdown",
   "metadata": {},
   "source": [
    "## NLP"
   ]
  },
  {
   "cell_type": "markdown",
   "metadata": {},
   "source": [
    "### Text Preprocessing"
   ]
  },
  {
   "cell_type": "code",
   "execution_count": 367,
   "metadata": {},
   "outputs": [
    {
     "name": "stderr",
     "output_type": "stream",
     "text": [
      "[nltk_data] Downloading package punkt to\n",
      "[nltk_data]     C:\\Users\\Andi\\AppData\\Roaming\\nltk_data...\n",
      "[nltk_data]   Package punkt is already up-to-date!\n",
      "[nltk_data] Downloading package stopwords to\n",
      "[nltk_data]     C:\\Users\\Andi\\AppData\\Roaming\\nltk_data...\n",
      "[nltk_data]   Package stopwords is already up-to-date!\n",
      "[nltk_data] Downloading package wordnet to\n",
      "[nltk_data]     C:\\Users\\Andi\\AppData\\Roaming\\nltk_data...\n",
      "[nltk_data]   Package wordnet is already up-to-date!\n"
     ]
    },
    {
     "data": {
      "text/plain": "True"
     },
     "execution_count": 367,
     "metadata": {},
     "output_type": "execute_result"
    }
   ],
   "source": [
    "## import the libraries\n",
    "import nltk\n",
    "import inflect\n",
    "import re, string, unicodedata\n",
    "from nltk.corpus import stopwords\n",
    "from nltk.tokenize import word_tokenize, sent_tokenize\n",
    "from nltk.corpus import stopwords\n",
    "from nltk import SnowballStemmer\n",
    "from nltk.stem import LancasterStemmer, WordNetLemmatizer\n",
    "\n",
    "nltk.download('punkt')\n",
    "nltk.download('stopwords')\n",
    "nltk.download('wordnet')\n"
   ]
  },
  {
   "cell_type": "code",
   "execution_count": 368,
   "metadata": {},
   "outputs": [],
   "source": [
    "def remove_punctuation(words):\n",
    "    \"\"\"Remove punctuation from list of tokenized words\"\"\"\n",
    "    new_words = []\n",
    "    for word in words:\n",
    "        new_word = re.sub(r'[^\\w\\s]', '', word)\n",
    "        if new_word != '':\n",
    "            new_words.append(new_word)\n",
    "    return new_words\n",
    "\n",
    "def remove_special(words):\n",
    "    \"\"\"Remove special signs like &*\"\"\"\n",
    "    new_words = []\n",
    "    for word in words:\n",
    "        new_word = re.sub(r'[-,$()#+&*]', '', word)\n",
    "        if new_word != '':\n",
    "            new_words.append(new_word)\n",
    "    return new_words\n",
    "\n",
    "def replace_numbers(words):\n",
    "    \"\"\"Replace all interger occurrences in list of tokenized words with textual representation\"\"\"\n",
    "    p = inflect.engine()\n",
    "    new_words = []\n",
    "    for word in words:\n",
    "        if word.isdigit():\n",
    "            new_word = p.number_to_words(word)\n",
    "            new_words.append(new_word)\n",
    "        else:\n",
    "            new_words.append(word)\n",
    "    return new_words\n",
    "\n",
    "def remove_stopwords(words):\n",
    "    \"\"\"Remove stop words from list of tokenized words\"\"\"  \n",
    "    stopwords = nltk.corpus.stopwords.words('english')\n",
    "    myStopWords = []\n",
    "    stopwords.extend(myStopWords)\n",
    "    new_words = []\n",
    "    for word in words:\n",
    "        if word not in stopwords:\n",
    "            new_words.append(word)\n",
    "    return new_words\n",
    "\n",
    "def to_lowercase(words):\n",
    "    \"\"\"Convert words to lowercase\"\"\"\n",
    "    new_words=[]\n",
    "    for word in words:\n",
    "        new_words.append(word.lower())\n",
    "    return new_words\n",
    "\n",
    "def stem_words(words):\n",
    "    \"\"\"Stem words in list of tokenized words\"\"\"\n",
    "    stemmer = LancasterStemmer()\n",
    "    #stemmer = SnowballStemmer('english')\n",
    "    stems = []\n",
    "    for word in words:\n",
    "        stem = stemmer.stem(word)\n",
    "        stems.append(stem)\n",
    "    return stems\n",
    "\n",
    "def lemmatize_verbs(words):\n",
    "    \"\"\"Lemmatize verbs in list of tokenized words\"\"\"\n",
    "    lemmatizer = WordNetLemmatizer()\n",
    "    lemmas = []\n",
    "    for word in words:\n",
    "        lemma = lemmatizer.lemmatize(word, pos='v')\n",
    "        lemmas.append(lemma)\n",
    "    return lemmas\n",
    "\n",
    "def normalize_lemmatize(words):\n",
    "    words = remove_special(words)\n",
    "    words = to_lowercase(words)\n",
    "    words = remove_punctuation(words)\n",
    "    words = replace_numbers(words)\n",
    "    words = remove_stopwords(words)\n",
    "    #words = stem_words(words)\n",
    "    words = lemmatize_verbs(words)\n",
    "    return words"
   ]
  },
  {
   "cell_type": "code",
   "execution_count": 369,
   "metadata": {},
   "outputs": [],
   "source": [
    "def get_processed(data):\n",
    "    processed = pd.DataFrame(data=[],columns = ['recipe_id', 'content'])\n",
    "    new_texts = []\n",
    "\n",
    "    for i in range(0, len(sample)):\n",
    "        recipe_id = sample['recipe_id'].iloc[i]\n",
    "        words = nltk.word_tokenize(sample['content'].iloc[i])\n",
    "        text = ' '.join(normalize_lemmatize(words))\n",
    "        dfnew = pd.DataFrame([[recipe_id, text]], columns=['recipe_id', 'content'])\n",
    "        new_texts.append(text)\n",
    "        processed = processed.append(dfnew,ignore_index = True)\n",
    "\n",
    "    return processed"
   ]
  },
  {
   "cell_type": "code",
   "execution_count": 370,
   "metadata": {},
   "outputs": [
    {
     "data": {
      "text/plain": "array([ 63986,  25775,  58224, ...,  71450, 208429, 196201], dtype=int64)"
     },
     "execution_count": 370,
     "metadata": {},
     "output_type": "execute_result"
    }
   ],
   "source": [
    "pd.unique(interactions['recipe_id'])"
   ]
  },
  {
   "cell_type": "code",
   "execution_count": 371,
   "metadata": {},
   "outputs": [
    {
     "name": "stdout",
     "output_type": "stream",
     "text": [
      "(11090, 19)\n"
     ]
    },
    {
     "data": {
      "text/plain": "(11050, 19)"
     },
     "execution_count": 371,
     "metadata": {},
     "output_type": "execute_result"
    }
   ],
   "source": [
    "helper = pd.unique(interactions['recipe_id'])\n",
    "df_rfiltered = df_rmerged[df_rmerged.recipe_id.isin(helper)]\n",
    "print(df_rmerged.shape)\n",
    "df_rfiltered.shape"
   ]
  },
  {
   "cell_type": "code",
   "execution_count": 372,
   "metadata": {},
   "outputs": [],
   "source": [
    "def create_input (df, column_names):\n",
    "    length = len(column_names)\n",
    "    df_content = df\n",
    "    df_content['content'] = df.loc[:, (column_names)].apply(lambda texts: ' '.join(texts), axis=1)\n",
    "    df_content.drop(columns = column_names, inplace = True)\n",
    "    df_content['content']=df_content['content'].apply(lambda text: ' '.join(text.split()))\n",
    "    return df_content"
   ]
  },
  {
   "cell_type": "code",
   "execution_count": 373,
   "metadata": {},
   "outputs": [
    {
     "name": "stderr",
     "output_type": "stream",
     "text": [
      "c:\\users\\andi\\desktop\\data science\\mmds\\web mining\\lab\\project\\food\\webminingrecipeproject\\venv\\lib\\site-packages\\pandas\\core\\generic.py:5303: SettingWithCopyWarning: \n",
      "A value is trying to be set on a copy of a slice from a DataFrame.\n",
      "Try using .loc[row_indexer,col_indexer] = value instead\n",
      "\n",
      "See the caveats in the documentation: https://pandas.pydata.org/pandas-docs/stable/user_guide/indexing.html#returning-a-view-versus-a-copy\n",
      "  self[name] = value\n",
      "c:\\users\\andi\\desktop\\data science\\mmds\\web mining\\lab\\project\\food\\webminingrecipeproject\\venv\\lib\\site-packages\\ipykernel_launcher.py:4: SettingWithCopyWarning: \n",
      "A value is trying to be set on a copy of a slice from a DataFrame.\n",
      "Try using .loc[row_indexer,col_indexer] = value instead\n",
      "\n",
      "See the caveats in the documentation: https://pandas.pydata.org/pandas-docs/stable/user_guide/indexing.html#returning-a-view-versus-a-copy\n",
      "  after removing the cwd from sys.path.\n",
      "c:\\users\\andi\\desktop\\data science\\mmds\\web mining\\lab\\project\\food\\webminingrecipeproject\\venv\\lib\\site-packages\\pandas\\core\\frame.py:3997: SettingWithCopyWarning: \n",
      "A value is trying to be set on a copy of a slice from a DataFrame\n",
      "\n",
      "See the caveats in the documentation: https://pandas.pydata.org/pandas-docs/stable/user_guide/indexing.html#returning-a-view-versus-a-copy\n",
      "  errors=errors,\n",
      "c:\\users\\andi\\desktop\\data science\\mmds\\web mining\\lab\\project\\food\\webminingrecipeproject\\venv\\lib\\site-packages\\ipykernel_launcher.py:6: SettingWithCopyWarning: \n",
      "A value is trying to be set on a copy of a slice from a DataFrame.\n",
      "Try using .loc[row_indexer,col_indexer] = value instead\n",
      "\n",
      "See the caveats in the documentation: https://pandas.pydata.org/pandas-docs/stable/user_guide/indexing.html#returning-a-view-versus-a-copy\n",
      "  \n"
     ]
    },
    {
     "data": {
      "text/plain": "    recipe_id                                            content\n15      63986  chicken lickin good pork chops here's and old ...\n36      25775  how i got my family to eat spinach spinach cas...\n43      58224  immoral sandwich filling loose meat just the t...\n53      22526  land of nod cinnamon buns i have made this sev...\n67      74805  never weep whipped cream i don't know where i ...",
      "text/html": "<div>\n<style scoped>\n    .dataframe tbody tr th:only-of-type {\n        vertical-align: middle;\n    }\n\n    .dataframe tbody tr th {\n        vertical-align: top;\n    }\n\n    .dataframe thead th {\n        text-align: right;\n    }\n</style>\n<table border=\"1\" class=\"dataframe\">\n  <thead>\n    <tr style=\"text-align: right;\">\n      <th></th>\n      <th>recipe_id</th>\n      <th>content</th>\n    </tr>\n  </thead>\n  <tbody>\n    <tr>\n      <th>15</th>\n      <td>63986</td>\n      <td>chicken lickin good pork chops here's and old ...</td>\n    </tr>\n    <tr>\n      <th>36</th>\n      <td>25775</td>\n      <td>how i got my family to eat spinach spinach cas...</td>\n    </tr>\n    <tr>\n      <th>43</th>\n      <td>58224</td>\n      <td>immoral sandwich filling loose meat just the t...</td>\n    </tr>\n    <tr>\n      <th>53</th>\n      <td>22526</td>\n      <td>land of nod cinnamon buns i have made this sev...</td>\n    </tr>\n    <tr>\n      <th>67</th>\n      <td>74805</td>\n      <td>never weep whipped cream i don't know where i ...</td>\n    </tr>\n  </tbody>\n</table>\n</div>"
     },
     "execution_count": 373,
     "metadata": {},
     "output_type": "execute_result"
    }
   ],
   "source": [
    "#flatten steps data\n",
    "df_rfiltered.steps = df_rfiltered.loc[:, ('steps')].str.replace(\"\\[\", \"\").str.replace(\"'\", \"\").str.replace(\"\\]\", \"\").str.replace(\",\",\"\").copy()\n",
    "\n",
    "#create content df\n",
    "df_content = create_input(df_rfiltered[['recipe_id', 'name','description', 'steps']], ['name','description', 'steps'])\n",
    "\n",
    "df_content.head()\n"
   ]
  },
  {
   "cell_type": "code",
   "execution_count": 374,
   "metadata": {},
   "outputs": [
    {
     "data": {
      "text/plain": "   recipe_id                                            content\n0     410095  starbucks pumpkin bread my favorite pumpkin br...\n1      53081  rockin rice pudding tyler florence knows how t...\n2      88348  mean chef s yucatan style chicken lime and orz...\n3      27000  creamy apple dessert easy dessert. preheat ove...\n4     190896  sesame snow peas this is just too good. to de-...",
      "text/html": "<div>\n<style scoped>\n    .dataframe tbody tr th:only-of-type {\n        vertical-align: middle;\n    }\n\n    .dataframe tbody tr th {\n        vertical-align: top;\n    }\n\n    .dataframe thead th {\n        text-align: right;\n    }\n</style>\n<table border=\"1\" class=\"dataframe\">\n  <thead>\n    <tr style=\"text-align: right;\">\n      <th></th>\n      <th>recipe_id</th>\n      <th>content</th>\n    </tr>\n  </thead>\n  <tbody>\n    <tr>\n      <th>0</th>\n      <td>410095</td>\n      <td>starbucks pumpkin bread my favorite pumpkin br...</td>\n    </tr>\n    <tr>\n      <th>1</th>\n      <td>53081</td>\n      <td>rockin rice pudding tyler florence knows how t...</td>\n    </tr>\n    <tr>\n      <th>2</th>\n      <td>88348</td>\n      <td>mean chef s yucatan style chicken lime and orz...</td>\n    </tr>\n    <tr>\n      <th>3</th>\n      <td>27000</td>\n      <td>creamy apple dessert easy dessert. preheat ove...</td>\n    </tr>\n    <tr>\n      <th>4</th>\n      <td>190896</td>\n      <td>sesame snow peas this is just too good. to de-...</td>\n    </tr>\n  </tbody>\n</table>\n</div>"
     },
     "execution_count": 374,
     "metadata": {},
     "output_type": "execute_result"
    }
   ],
   "source": [
    "sample = df_content.sample(n=1000, replace=False, random_state=42)\\\n",
    "                 .reset_index()\\\n",
    "                 .drop(columns=['index'])\n",
    "sample.head()"
   ]
  },
  {
   "cell_type": "code",
   "execution_count": 375,
   "metadata": {},
   "outputs": [
    {
     "data": {
      "text/plain": "  recipe_id                                            content\n0    410095  starbucks pumpkin bread favorite pumpkin bread...\n1     53081  rockin rice pudding tyler florence know use le...\n2     88348  mean chef yucatan style chicken lime orzo soup...\n3     27000  creamy apple dessert easy dessert preheat 350f...\n4    190896  sesame snow peas good destem peas pinch stem e...",
      "text/html": "<div>\n<style scoped>\n    .dataframe tbody tr th:only-of-type {\n        vertical-align: middle;\n    }\n\n    .dataframe tbody tr th {\n        vertical-align: top;\n    }\n\n    .dataframe thead th {\n        text-align: right;\n    }\n</style>\n<table border=\"1\" class=\"dataframe\">\n  <thead>\n    <tr style=\"text-align: right;\">\n      <th></th>\n      <th>recipe_id</th>\n      <th>content</th>\n    </tr>\n  </thead>\n  <tbody>\n    <tr>\n      <th>0</th>\n      <td>410095</td>\n      <td>starbucks pumpkin bread favorite pumpkin bread...</td>\n    </tr>\n    <tr>\n      <th>1</th>\n      <td>53081</td>\n      <td>rockin rice pudding tyler florence know use le...</td>\n    </tr>\n    <tr>\n      <th>2</th>\n      <td>88348</td>\n      <td>mean chef yucatan style chicken lime orzo soup...</td>\n    </tr>\n    <tr>\n      <th>3</th>\n      <td>27000</td>\n      <td>creamy apple dessert easy dessert preheat 350f...</td>\n    </tr>\n    <tr>\n      <th>4</th>\n      <td>190896</td>\n      <td>sesame snow peas good destem peas pinch stem e...</td>\n    </tr>\n  </tbody>\n</table>\n</div>"
     },
     "execution_count": 375,
     "metadata": {},
     "output_type": "execute_result"
    }
   ],
   "source": [
    "processed = get_processed(sample)\n",
    "processed.head()"
   ]
  },
  {
   "cell_type": "code",
   "execution_count": 376,
   "metadata": {},
   "outputs": [
    {
     "ename": "AttributeError",
     "evalue": "module 'sklearn.feature_extraction._stop_words' has no attribute 'extend'",
     "output_type": "error",
     "traceback": [
      "\u001B[1;31m---------------------------------------------------------------------------\u001B[0m",
      "\u001B[1;31mAttributeError\u001B[0m                            Traceback (most recent call last)",
      "\u001B[1;32m<ipython-input-376-433e8c7aa337>\u001B[0m in \u001B[0;36m<module>\u001B[1;34m\u001B[0m\n\u001B[0;32m      1\u001B[0m \u001B[1;31m#add some stopwords\u001B[0m\u001B[1;33m\u001B[0m\u001B[1;33m\u001B[0m\u001B[1;33m\u001B[0m\u001B[0m\n\u001B[0;32m      2\u001B[0m \u001B[0mnew_stopwords\u001B[0m \u001B[1;33m=\u001B[0m \u001B[1;33m[\u001B[0m\u001B[1;34m'.'\u001B[0m\u001B[1;33m,\u001B[0m \u001B[1;34m'\\\"'\u001B[0m\u001B[1;33m,\u001B[0m \u001B[1;34m'\\''\u001B[0m\u001B[1;33m,\u001B[0m \u001B[1;34m':'\u001B[0m\u001B[1;33m,\u001B[0m \u001B[1;34m'('\u001B[0m\u001B[1;33m,\u001B[0m \u001B[1;34m')'\u001B[0m\u001B[1;33m,\u001B[0m \u001B[1;34m','\u001B[0m\u001B[1;33m,\u001B[0m \u001B[1;34m'-'\u001B[0m\u001B[1;33m,\u001B[0m \u001B[1;34m'etc'\u001B[0m\u001B[1;33m,\u001B[0m \u001B[1;34m'1'\u001B[0m\u001B[1;33m,\u001B[0m \u001B[1;34m'/'\u001B[0m\u001B[1;33m,\u001B[0m \u001B[1;34m'2'\u001B[0m\u001B[1;33m,\u001B[0m \u001B[1;34m'3'\u001B[0m\u001B[1;33m,\u001B[0m \u001B[1;34m'\\'s'\u001B[0m\u001B[1;33m,\u001B[0m \u001B[1;34m'\\'\\''\u001B[0m\u001B[1;34m''\u001B[0m\u001B[1;33m,\u001B[0m\u001B[1;34m'``'\u001B[0m\u001B[1;33m,\u001B[0m \u001B[1;34m'!'\u001B[0m \u001B[1;33m]\u001B[0m\u001B[1;33m\u001B[0m\u001B[1;33m\u001B[0m\u001B[0m\n\u001B[1;32m----> 3\u001B[1;33m \u001B[0mstop_words\u001B[0m\u001B[1;33m.\u001B[0m\u001B[0mextend\u001B[0m\u001B[1;33m(\u001B[0m\u001B[0mnew_stopwords\u001B[0m\u001B[1;33m)\u001B[0m\u001B[1;33m\u001B[0m\u001B[1;33m\u001B[0m\u001B[0m\n\u001B[0m\u001B[0;32m      4\u001B[0m \u001B[1;33m\u001B[0m\u001B[0m\n\u001B[0;32m      5\u001B[0m \u001B[1;33m\u001B[0m\u001B[0m\n",
      "\u001B[1;32mc:\\users\\andi\\desktop\\data science\\mmds\\web mining\\lab\\project\\food\\webminingrecipeproject\\venv\\lib\\site-packages\\sklearn\\feature_extraction\\stop_words.py\u001B[0m in \u001B[0;36m__getattr__\u001B[1;34m(name)\u001B[0m\n\u001B[0;32m     12\u001B[0m \u001B[1;33m\u001B[0m\u001B[0m\n\u001B[0;32m     13\u001B[0m \u001B[1;32mdef\u001B[0m \u001B[0m__getattr__\u001B[0m\u001B[1;33m(\u001B[0m\u001B[0mname\u001B[0m\u001B[1;33m)\u001B[0m\u001B[1;33m:\u001B[0m\u001B[1;33m\u001B[0m\u001B[1;33m\u001B[0m\u001B[0m\n\u001B[1;32m---> 14\u001B[1;33m     \u001B[1;32mreturn\u001B[0m \u001B[0mgetattr\u001B[0m\u001B[1;33m(\u001B[0m\u001B[0m_stop_words\u001B[0m\u001B[1;33m,\u001B[0m \u001B[0mname\u001B[0m\u001B[1;33m)\u001B[0m\u001B[1;33m\u001B[0m\u001B[1;33m\u001B[0m\u001B[0m\n\u001B[0m\u001B[0;32m     15\u001B[0m \u001B[1;33m\u001B[0m\u001B[0m\n\u001B[0;32m     16\u001B[0m \u001B[1;32mif\u001B[0m \u001B[1;32mnot\u001B[0m \u001B[0msys\u001B[0m\u001B[1;33m.\u001B[0m\u001B[0mversion_info\u001B[0m \u001B[1;33m>=\u001B[0m \u001B[1;33m(\u001B[0m\u001B[1;36m3\u001B[0m\u001B[1;33m,\u001B[0m \u001B[1;36m7\u001B[0m\u001B[1;33m)\u001B[0m\u001B[1;33m:\u001B[0m\u001B[1;33m\u001B[0m\u001B[1;33m\u001B[0m\u001B[0m\n",
      "\u001B[1;31mAttributeError\u001B[0m: module 'sklearn.feature_extraction._stop_words' has no attribute 'extend'"
     ]
    }
   ],
   "source": [
    "#add some stopwords\n",
    "new_stopwords = ['.', '\\\"', '\\'', ':', '(', ')', ',', '-', 'etc', '1', '/', '2', '3', '\\'s', '\\'\\'''','``', '!' ]\n",
    "stop_words.extend(new_stopwords)\n"
   ]
  },
  {
   "cell_type": "code",
   "execution_count": null,
   "metadata": {},
   "outputs": [],
   "source": [
    "df_content['content']=df_content['content'].apply(lambda text: [word for word in word_tokenize(text) if word not in stop_words])\n",
    "\n",
    "df_content.head()"
   ]
  },
  {
   "cell_type": "code",
   "execution_count": null,
   "metadata": {},
   "outputs": [],
   "source": [
    "#import spacy\n",
    "#nlp = spacy.load(\"en_core_web_sm\", disable=['tagger', 'parser', 'ner'])"
   ]
  },
  {
   "cell_type": "code",
   "execution_count": null,
   "metadata": {},
   "outputs": [],
   "source": [
    "#test = df_content.iloc[20:30]\n",
    "#test['content']= test['content'].apply(lambda text: ' '.join(map(str, text)))\n",
    "#test['content']= test['content'].apply(lambda text: [word.lemma_ for word in nlp(text)])\n",
    "#test"
   ]
  },
  {
   "cell_type": "markdown",
   "metadata": {},
   "source": [
    "### Vectorization"
   ]
  },
  {
   "cell_type": "code",
   "execution_count": null,
   "metadata": {},
   "outputs": [],
   "source": [
    "from sklearn.feature_extraction.text import TfidfVectorizer\n",
    "from sklearn.decomposition import TruncatedSVD\n",
    "from sklearn.metrics.pairwise import cosine_similarity"
   ]
  },
  {
   "cell_type": "code",
   "execution_count": null,
   "metadata": {},
   "outputs": [],
   "source": [
    "def get_cos_sim_matrix(processed):\n",
    "    tfidf = TfidfVectorizer(stop_words='english')\n",
    "    processed['content'] = processed['content'].fillna('')\n",
    "    tfidf_matrix = tfidf.fit_transform(processed['content'])\n",
    "    svd = TruncatedSVD(n_components=10, random_state=42)\n",
    "    tfidf_truncated = svd.fit_transform(tfidf_matrix) \n",
    "    cosine_sim = cosine_similarity(tfidf_truncated,tfidf_truncated)\n",
    "    return cosine_sim"
   ]
  },
  {
   "cell_type": "code",
   "execution_count": null,
   "metadata": {},
   "outputs": [],
   "source": [
    "cosine_sim = get_cos_sim_matrix(processed)\n",
    "cosine_sim.shape"
   ]
  },
  {
   "cell_type": "code",
   "execution_count": null,
   "metadata": {
    "pycharm": {
     "name": "#%%\n"
    }
   },
   "outputs": [],
   "source": [
    "def get_recommendation_cos(processed, interactions, recipe_id, user_id, cosine_sim, k):\n",
    "    df_sim = pd.DataFrame(cosine_sim, index=processed['recipe_id'], columns=processed['recipe_id'])\n",
    "    #adjust to sparse matrix\n",
    "    user_rids = interactions[interactions['user_id']==user_id]['recipe_id'].values\n",
    "    df_row = df_sim.loc[df_sim.index==recipe_id]\n",
    "    df_user = df_row[user_rids]\n",
    "    results = list(zip(list(df_user.columns), list(df_user.values[0])))\n",
    "    results_ordered = sorted(results, key=lambda x: x[1], reverse=True)\n",
    "    results_topk = np.array(results_ordered[1:k+1])\n",
    "    return results_topk[:,0]\n",
    "\n",
    "def predict_rating(interactions, user_id, recipe_ids):\n",
    "    scores = []\n",
    "    for rid in recipe_ids:\n",
    "        score = interactions.loc[(interactions.user_id==user_id) & (interactions.recipe_id==rid)]['rating']\n",
    "        scores.append(score.values[0])\n",
    "        return np.mean(scores)\n",
    "\n",
    "def get_results_cos(processed, interactions, recipe, recipe_id, user_id, cosine_sim,k):\n",
    "    actual = interactions.loc[(interactions.user_id==user_id) & (interactions.recipe_id==recipe_id)]['rating'].values[0]\n",
    "    recipe_ids = get_recommendation_cos(processed,interactions,recipe_id,user_id,cosine_sim,k)\n",
    "    prediction = predict_rating(interactions, user_id, recipe_ids)\n",
    "    return actual, prediction"
   ]
  },
  {
   "cell_type": "code",
   "metadata": {
    "pycharm": {
     "name": "#%%\n"
    }
   },
   "source": [
    "print(interactions.head())\n",
    "def get_interaction_processed(processed, interactions):\n",
    "  interactions_processed = interactions.loc[interactions.recipe_id.isin(processed.recipe_id)]\\\n",
    "                           .reset_index()\\\n",
    "                           .drop(columns=['index'])\n",
    "  return interactions_processed\n",
    "\n",
    "interactions_processed = get_interaction_processed(processed, interactions)\n",
    "interactions_processed.head()"
   ],
   "execution_count": null,
   "outputs": []
  },
  {
   "cell_type": "code",
   "execution_count": null,
   "outputs": [],
   "source": [
    "def get_coverage(processed, interactions, recipe, cosine_sim,k):\n",
    "    interactions_processed = get_interaction_processed(processed, interactions)\n",
    "    uid_sample = interactions_processed['user_id'].values\n",
    "    rid_sample = interactions_processed['recipe_id'].values\n",
    "\n",
    "    all_rids = interactions_processed['recipe_id'].unique()\n",
    "    pred_rids = []\n",
    "\n",
    "    for i in range(len(interactions_processed)):\n",
    "        try:\n",
    "          recipe_ids = get_recommendation_cos(processed,\n",
    "                                                interactions_processed,\n",
    "                                                rid_sample[i],\n",
    "                                                uid_sample[i],\n",
    "                                                cosine_sim,\n",
    "                                                k)\n",
    "          pred_rids += list(recipe_ids)\n",
    "        except:\n",
    "          next\n",
    "    pred_bids = np.array(list(set(pred_rids)))\n",
    "    return len(pred_bids)/len(all_rids)"
   ],
   "metadata": {
    "collapsed": false,
    "pycharm": {
     "name": "#%%\n"
    }
   }
  },
  {
   "cell_type": "code",
   "execution_count": null,
   "outputs": [],
   "source": [
    "uid_sample = interactions_processed['user_id'].values\n",
    "rid_sample = interactions_processed['recipe_id'].values\n",
    "print(uid_sample)\n",
    "print(rid_sample)\n",
    "predictions_cos = []\n",
    "actual_cos = []\n",
    "print(interactions_processed.head())\n",
    "print(processed.head())\n",
    "\n",
    "for i in range(len(interactions_processed)):\n",
    "    try:\n",
    "        act, pred = get_results_cos(processed,\n",
    "                                    interactions_processed,\n",
    "                                    df_r,\n",
    "                                    rid_sample[i],\n",
    "                                    uid_sample[i],\n",
    "                                    cosine_sim,\n",
    "                                    5)\n",
    "        predictions_cos.append(pred)\n",
    "        actual_cos.append(act)\n",
    "    except:\n",
    "        next"
   ],
   "metadata": {
    "collapsed": false,
    "pycharm": {
     "name": "#%%\n"
    }
   }
  },
  {
   "cell_type": "code",
   "execution_count": null,
   "outputs": [],
   "source": [
    "print(predictions_cos)"
   ],
   "metadata": {
    "collapsed": false,
    "pycharm": {
     "name": "#%%\n"
    }
   }
  },
  {
   "cell_type": "code",
   "execution_count": null,
   "outputs": [],
   "source": [
    "rmse_cos = mean_squared_error(predictions_cos, actual_cos)**0.5\n",
    "mae_cos = mean_absolute_error(predictions_cos, actual_cos)\n",
    "print(f'RMSE: {rmse_cos}, MAE: {mae_cos}')"
   ],
   "metadata": {
    "collapsed": false,
    "pycharm": {
     "name": "#%%\n"
    }
   }
  },
  {
   "cell_type": "code",
   "execution_count": 380,
   "outputs": [
    {
     "name": "stdout",
     "output_type": "stream",
     "text": [
      "coverage: 0.997\n"
     ]
    }
   ],
   "source": [
    "cov_cos = get_coverage(processed,interactions,df_r,cosine_sim,5)\n",
    "print(f'coverage: {cov_cos}')"
   ],
   "metadata": {
    "collapsed": false,
    "pycharm": {
     "name": "#%%\n"
    }
   }
  },
  {
   "cell_type": "markdown",
   "source": [
    "### Tfidf Vectorization"
   ],
   "metadata": {
    "collapsed": false,
    "pycharm": {
     "name": "#%% md\n"
    }
   }
  },
  {
   "cell_type": "code",
   "execution_count": null,
   "metadata": {},
   "outputs": [],
   "source": [
    "\n",
    "tfidf_vectorizer = TfidfVectorizer()"
   ]
  },
  {
   "cell_type": "code",
   "execution_count": null,
   "metadata": {},
   "outputs": [],
   "source": [
    "df_content['content'] = [' '.join(text) for text in df_content['content'].values]"
   ]
  },
  {
   "cell_type": "code",
   "execution_count": null,
   "metadata": {},
   "outputs": [],
   "source": [
    "df_content.loc[78,['content']]"
   ]
  },
  {
   "cell_type": "code",
   "execution_count": null,
   "metadata": {},
   "outputs": [],
   "source": [
    "tfidf_matrix = tfidf_vectorizer.fit_transform(df_content['content'])"
   ]
  },
  {
   "cell_type": "code",
   "execution_count": null,
   "metadata": {},
   "outputs": [],
   "source": [
    "tfidf_df = pd.DataFrame(tfidf_matrix.toarray(), index = df_content.index.tolist())"
   ]
  },
  {
   "cell_type": "markdown",
   "metadata": {},
   "source": [
    "### Word Embedding"
   ]
  },
  {
   "cell_type": "code",
   "execution_count": null,
   "metadata": {},
   "outputs": [],
   "source": [
    "import gensim.downloader as api"
   ]
  },
  {
   "cell_type": "code",
   "execution_count": null,
   "metadata": {},
   "outputs": [],
   "source": [
    "model = api.load(\"glove-wiki-gigaword-50\")"
   ]
  },
  {
   "cell_type": "markdown",
   "metadata": {},
   "source": [
    "#### Embed the steps text"
   ]
  },
  {
   "cell_type": "code",
   "execution_count": null,
   "metadata": {},
   "outputs": [],
   "source": [
    "df_rmerged.ingredients =df_r.ingredients\n",
    "ingredient_list = []\n",
    "for e in df_rmerged.ingredients.values:\n",
    "    ingredient_list.extend(eval(e[1:-1]))\n",
    "    \n"
   ]
  },
  {
   "cell_type": "markdown",
   "metadata": {},
   "source": [
    "## Archive"
   ]
  },
  {
   "cell_type": "code",
   "execution_count": null,
   "metadata": {},
   "outputs": [],
   "source": [
    "# plot some distributions\n",
    "columns =[\"num_interactions\", \"avg_rating\", \"age\", \"hours\", \"n_steps\", \"n_ingredients\"]\n",
    "\n",
    "fig, axes = plt.subplots(6, 1, figsize=(10,30))\n",
    "i=0\n",
    "for c in columns:\n",
    "    axes[i].set_title(c)\n",
    "    axes[i].hist(df_rmerged[c], log = True)\n",
    "    i+=1\n"
   ]
  },
  {
   "cell_type": "code",
   "execution_count": null,
   "metadata": {},
   "outputs": [],
   "source": [
    "# df_rmerged.ingredients = df_r.ingredients\n",
    "# df_rmerged.ingredients= df_rmerged.ingredients.str.replace(\"\\[\", \"\").str.replace(\"'\", \"\").str.replace(\"\\]\", \"\").str.replace(\",\",\"\")\n"
   ]
  },
  {
   "cell_type": "code",
   "execution_count": null,
   "metadata": {},
   "outputs": [],
   "source": [
    "# count_vectorizer = CountVectorizer(tokenizer = lambda x: x.split(\" \"), stop_words =\"english\", binary=True)\n",
    "# matrix = count_vectorizer.fit_transform(df_rmerged[\"ingredients\"])"
   ]
  },
  {
   "cell_type": "code",
   "execution_count": null,
   "metadata": {},
   "outputs": [],
   "source": [
    "# m=matrix.toarray()\n",
    "# m.shape"
   ]
  },
  {
   "cell_type": "code",
   "execution_count": null,
   "metadata": {
    "scrolled": true
   },
   "outputs": [],
   "source": [
    "# sim_ingredients= next(pairwise_distances_chunked(m, metric=\"jaccard\", n_jobs=-1))"
   ]
  },
  {
   "cell_type": "code",
   "execution_count": null,
   "metadata": {},
   "outputs": [],
   "source": [
    "\n",
    "# i=0\n",
    "# for chunk in pairwise_distances_chunked(m, metric=\"jaccard\", n_jobs=-1):\n",
    "#     if i= 0:\n",
    "#         sim_ingredients= chunk\n",
    "#         i=1\n",
    "#         elif:\n",
    "#             sim_ingredients = np.append(sim_ingredients, chunk, axis=0)"
   ]
  },
  {
   "cell_type": "code",
   "execution_count": null,
   "metadata": {},
   "outputs": [],
   "source": [
    "# sim_ingredients=[]\n",
    "\n",
    "# x =np.array([[1,2,3,4],[1,2,3,4]])\n",
    "# sim_ingredients = np.append(x, ([[4,6,7,8],[4,5,6,7]]), axis=0)\n",
    "# sim_ingredients =np.append(sim_ingredients, ([[4,6,7,8],[4,5,6,7]]), axis=0)\n",
    "# sim_ingredients"
   ]
  }
 ],
 "metadata": {
  "kernelspec": {
   "display_name": "Python 3",
   "language": "python",
   "name": "python3"
  },
  "language_info": {
   "codemirror_mode": {
    "name": "ipython",
    "version": 3
   },
   "file_extension": ".py",
   "mimetype": "text/x-python",
   "name": "python",
   "nbconvert_exporter": "python",
   "pygments_lexer": "ipython3",
   "version": "3.7.3"
  }
 },
 "nbformat": 4,
 "nbformat_minor": 2
}