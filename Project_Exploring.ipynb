{
 "cells": [
  {
   "cell_type": "markdown",
   "metadata": {},
   "source": [
    "# Acessing the data"
   ]
  },
  {
   "cell_type": "code",
   "execution_count": 435,
   "metadata": {},
   "outputs": [],
   "source": [
    "import pandas as pd\n",
    "import numpy as np\n",
    "import matplotlib.pyplot as plt\n",
    "import seaborn as sns\n",
    "import math\n",
    "from sklearn.feature_extraction.text import CountVectorizer\n",
    "from sklearn.metrics import jaccard_score"
   ]
  },
  {
   "cell_type": "code",
   "execution_count": 195,
   "metadata": {},
   "outputs": [],
   "source": [
    "recipes_enc = pd.read_csv(\"./food-com-recipes-and-user-interactions/PP_recipes.csv\", index_col=\"id\")\n",
    "users_enc = pd.read_csv(\"./food-com-recipes-and-user-interactions/PP_users.csv\")\n",
    "interactions_train = pd.read_csv(\"./food-com-recipes-and-user-interactions/interactions_train.csv\")\n",
    "interactions_test = pd.read_csv((\"./food-com-recipes-and-user-interactions/interactions_test.csv\"))"
   ]
  },
  {
   "cell_type": "code",
   "execution_count": 196,
   "metadata": {},
   "outputs": [
    {
     "data": {
      "text/html": [
       "<div>\n",
       "<style scoped>\n",
       "    .dataframe tbody tr th:only-of-type {\n",
       "        vertical-align: middle;\n",
       "    }\n",
       "\n",
       "    .dataframe tbody tr th {\n",
       "        vertical-align: top;\n",
       "    }\n",
       "\n",
       "    .dataframe thead th {\n",
       "        text-align: right;\n",
       "    }\n",
       "</style>\n",
       "<table border=\"1\" class=\"dataframe\">\n",
       "  <thead>\n",
       "    <tr style=\"text-align: right;\">\n",
       "      <th></th>\n",
       "      <th>i</th>\n",
       "      <th>name_tokens</th>\n",
       "      <th>ingredient_tokens</th>\n",
       "      <th>steps_tokens</th>\n",
       "      <th>techniques</th>\n",
       "      <th>calorie_level</th>\n",
       "      <th>ingredient_ids</th>\n",
       "    </tr>\n",
       "    <tr>\n",
       "      <th>id</th>\n",
       "      <th></th>\n",
       "      <th></th>\n",
       "      <th></th>\n",
       "      <th></th>\n",
       "      <th></th>\n",
       "      <th></th>\n",
       "      <th></th>\n",
       "    </tr>\n",
       "  </thead>\n",
       "  <tbody>\n",
       "    <tr>\n",
       "      <td>424415</td>\n",
       "      <td>23</td>\n",
       "      <td>[40480, 37229, 2911, 1019, 249, 6878, 6878, 28...</td>\n",
       "      <td>[[2911, 1019, 249, 6878], [1353], [6953], [153...</td>\n",
       "      <td>[40480, 40482, 21662, 481, 6878, 500, 246, 161...</td>\n",
       "      <td>[0, 0, 0, 0, 0, 0, 0, 0, 0, 1, 0, 0, 0, 0, 0, ...</td>\n",
       "      <td>0</td>\n",
       "      <td>[389, 7655, 6270, 1527, 3406]</td>\n",
       "    </tr>\n",
       "    <tr>\n",
       "      <td>146223</td>\n",
       "      <td>96900</td>\n",
       "      <td>[40480, 18376, 7056, 246, 1531, 2032, 40481]</td>\n",
       "      <td>[[17918], [25916], [2507, 6444], [8467, 1179],...</td>\n",
       "      <td>[40480, 40482, 729, 2525, 10906, 485, 43, 8393...</td>\n",
       "      <td>[1, 0, 0, 0, 0, 0, 0, 0, 0, 1, 0, 0, 0, 0, 0, ...</td>\n",
       "      <td>0</td>\n",
       "      <td>[2683, 4969, 800, 5298, 840, 2499, 6632, 7022,...</td>\n",
       "    </tr>\n",
       "    <tr>\n",
       "      <td>312329</td>\n",
       "      <td>120056</td>\n",
       "      <td>[40480, 21044, 16954, 8294, 556, 10837, 40481]</td>\n",
       "      <td>[[5867, 24176], [1353], [6953], [1301, 11332],...</td>\n",
       "      <td>[40480, 40482, 8240, 481, 24176, 296, 1353, 66...</td>\n",
       "      <td>[0, 0, 0, 0, 1, 0, 0, 0, 0, 0, 0, 1, 0, 0, 0, ...</td>\n",
       "      <td>1</td>\n",
       "      <td>[1257, 7655, 6270, 590, 5024, 1119, 4883, 6696...</td>\n",
       "    </tr>\n",
       "    <tr>\n",
       "      <td>74301</td>\n",
       "      <td>168258</td>\n",
       "      <td>[40480, 10025, 31156, 40481]</td>\n",
       "      <td>[[1270, 1645, 28447], [21601], [27952, 29471, ...</td>\n",
       "      <td>[40480, 40482, 5539, 21601, 1073, 903, 2324, 4...</td>\n",
       "      <td>[1, 0, 0, 0, 0, 0, 0, 0, 0, 0, 0, 0, 0, 0, 0, ...</td>\n",
       "      <td>0</td>\n",
       "      <td>[7940, 3609, 7060, 6265, 1170, 6654, 5003, 3561]</td>\n",
       "    </tr>\n",
       "    <tr>\n",
       "      <td>76272</td>\n",
       "      <td>109030</td>\n",
       "      <td>[40480, 17841, 252, 782, 2373, 1641, 2373, 252...</td>\n",
       "      <td>[[1430, 11434], [1430, 17027], [1615, 23, 695,...</td>\n",
       "      <td>[40480, 40482, 14046, 1430, 11434, 488, 17027,...</td>\n",
       "      <td>[0, 0, 0, 0, 0, 0, 0, 0, 0, 1, 0, 0, 0, 0, 0, ...</td>\n",
       "      <td>0</td>\n",
       "      <td>[3484, 6324, 7594, 243]</td>\n",
       "    </tr>\n",
       "  </tbody>\n",
       "</table>\n",
       "</div>"
      ],
      "text/plain": [
       "             i                                        name_tokens  \\\n",
       "id                                                                  \n",
       "424415      23  [40480, 37229, 2911, 1019, 249, 6878, 6878, 28...   \n",
       "146223   96900       [40480, 18376, 7056, 246, 1531, 2032, 40481]   \n",
       "312329  120056     [40480, 21044, 16954, 8294, 556, 10837, 40481]   \n",
       "74301   168258                       [40480, 10025, 31156, 40481]   \n",
       "76272   109030  [40480, 17841, 252, 782, 2373, 1641, 2373, 252...   \n",
       "\n",
       "                                        ingredient_tokens  \\\n",
       "id                                                          \n",
       "424415  [[2911, 1019, 249, 6878], [1353], [6953], [153...   \n",
       "146223  [[17918], [25916], [2507, 6444], [8467, 1179],...   \n",
       "312329  [[5867, 24176], [1353], [6953], [1301, 11332],...   \n",
       "74301   [[1270, 1645, 28447], [21601], [27952, 29471, ...   \n",
       "76272   [[1430, 11434], [1430, 17027], [1615, 23, 695,...   \n",
       "\n",
       "                                             steps_tokens  \\\n",
       "id                                                          \n",
       "424415  [40480, 40482, 21662, 481, 6878, 500, 246, 161...   \n",
       "146223  [40480, 40482, 729, 2525, 10906, 485, 43, 8393...   \n",
       "312329  [40480, 40482, 8240, 481, 24176, 296, 1353, 66...   \n",
       "74301   [40480, 40482, 5539, 21601, 1073, 903, 2324, 4...   \n",
       "76272   [40480, 40482, 14046, 1430, 11434, 488, 17027,...   \n",
       "\n",
       "                                               techniques  calorie_level  \\\n",
       "id                                                                         \n",
       "424415  [0, 0, 0, 0, 0, 0, 0, 0, 0, 1, 0, 0, 0, 0, 0, ...              0   \n",
       "146223  [1, 0, 0, 0, 0, 0, 0, 0, 0, 1, 0, 0, 0, 0, 0, ...              0   \n",
       "312329  [0, 0, 0, 0, 1, 0, 0, 0, 0, 0, 0, 1, 0, 0, 0, ...              1   \n",
       "74301   [1, 0, 0, 0, 0, 0, 0, 0, 0, 0, 0, 0, 0, 0, 0, ...              0   \n",
       "76272   [0, 0, 0, 0, 0, 0, 0, 0, 0, 1, 0, 0, 0, 0, 0, ...              0   \n",
       "\n",
       "                                           ingredient_ids  \n",
       "id                                                         \n",
       "424415                      [389, 7655, 6270, 1527, 3406]  \n",
       "146223  [2683, 4969, 800, 5298, 840, 2499, 6632, 7022,...  \n",
       "312329  [1257, 7655, 6270, 590, 5024, 1119, 4883, 6696...  \n",
       "74301    [7940, 3609, 7060, 6265, 1170, 6654, 5003, 3561]  \n",
       "76272                             [3484, 6324, 7594, 243]  "
      ]
     },
     "execution_count": 196,
     "metadata": {},
     "output_type": "execute_result"
    }
   ],
   "source": [
    "# Recipes\n",
    "# Preprocessed data contains prepped data for using BERT\n",
    "# Difficult to get the technique encoding as from Germany there is only viewing access?!\n",
    "recipes_enc.head()"
   ]
  },
  {
   "cell_type": "code",
   "execution_count": 197,
   "metadata": {},
   "outputs": [
    {
     "data": {
      "text/plain": [
       "array(['[0, 0, 0, 0, 0, 0, 0, 0, 0, 1, 0, 0, 0, 0, 0, 0, 1, 0, 0, 0, 0, 0, 0, 0, 0, 0, 0, 0, 0, 0, 0, 0, 0, 0, 0, 0, 0, 0, 0, 0, 0, 0, 0, 0, 0, 0, 0, 0, 0, 0, 0, 1, 0, 0, 0, 0, 0, 0]',\n",
       "       '[1, 0, 0, 0, 0, 0, 0, 0, 0, 1, 0, 0, 0, 0, 0, 0, 0, 0, 0, 0, 0, 0, 0, 0, 0, 0, 0, 0, 1, 0, 0, 0, 0, 1, 0, 0, 1, 0, 0, 0, 0, 0, 0, 0, 0, 0, 1, 0, 0, 0, 0, 0, 0, 0, 0, 0, 1, 1]',\n",
       "       '[0, 0, 0, 0, 1, 0, 0, 0, 0, 0, 0, 1, 0, 0, 0, 0, 0, 0, 0, 0, 0, 0, 0, 0, 0, 0, 0, 0, 1, 0, 0, 0, 0, 1, 0, 0, 0, 0, 0, 0, 0, 0, 1, 0, 0, 0, 0, 0, 0, 0, 0, 0, 0, 0, 0, 0, 0, 0]',\n",
       "       ...,\n",
       "       '[1, 0, 0, 0, 0, 0, 0, 0, 0, 1, 0, 0, 0, 0, 0, 0, 0, 0, 0, 0, 0, 0, 0, 0, 0, 0, 0, 0, 0, 0, 0, 0, 0, 1, 0, 0, 0, 0, 0, 0, 0, 0, 0, 1, 0, 0, 0, 0, 0, 0, 0, 0, 0, 0, 0, 0, 0, 0]',\n",
       "       '[0, 0, 0, 0, 1, 0, 0, 0, 0, 1, 0, 0, 0, 0, 0, 0, 1, 0, 0, 0, 1, 0, 0, 0, 0, 0, 0, 0, 0, 0, 0, 0, 0, 0, 0, 0, 0, 0, 0, 0, 0, 0, 1, 1, 0, 0, 0, 0, 0, 0, 0, 0, 0, 1, 0, 0, 0, 0]',\n",
       "       '[1, 0, 0, 1, 0, 0, 0, 0, 0, 0, 0, 0, 0, 0, 0, 0, 0, 0, 0, 0, 0, 0, 0, 0, 0, 0, 0, 0, 0, 0, 0, 0, 0, 0, 0, 0, 1, 0, 0, 0, 0, 0, 0, 0, 0, 0, 0, 0, 0, 0, 0, 0, 0, 0, 0, 0, 0, 0]'],\n",
       "      dtype=object)"
      ]
     },
     "execution_count": 197,
     "metadata": {},
     "output_type": "execute_result"
    }
   ],
   "source": [
    "recipes_enc.techniques.values"
   ]
  },
  {
   "cell_type": "code",
   "execution_count": 198,
   "metadata": {},
   "outputs": [
    {
     "data": {
      "text/html": [
       "<div>\n",
       "<style scoped>\n",
       "    .dataframe tbody tr th:only-of-type {\n",
       "        vertical-align: middle;\n",
       "    }\n",
       "\n",
       "    .dataframe tbody tr th {\n",
       "        vertical-align: top;\n",
       "    }\n",
       "\n",
       "    .dataframe thead th {\n",
       "        text-align: right;\n",
       "    }\n",
       "</style>\n",
       "<table border=\"1\" class=\"dataframe\">\n",
       "  <thead>\n",
       "    <tr style=\"text-align: right;\">\n",
       "      <th></th>\n",
       "      <th>u</th>\n",
       "      <th>techniques</th>\n",
       "      <th>items</th>\n",
       "      <th>n_items</th>\n",
       "      <th>ratings</th>\n",
       "      <th>n_ratings</th>\n",
       "    </tr>\n",
       "  </thead>\n",
       "  <tbody>\n",
       "    <tr>\n",
       "      <td>0</td>\n",
       "      <td>0</td>\n",
       "      <td>[8, 0, 0, 5, 6, 0, 0, 1, 0, 9, 1, 0, 0, 0, 1, ...</td>\n",
       "      <td>[1118, 27680, 32541, 137353, 16428, 28815, 658...</td>\n",
       "      <td>31</td>\n",
       "      <td>[5.0, 5.0, 5.0, 5.0, 5.0, 5.0, 5.0, 4.0, 4.0, ...</td>\n",
       "      <td>31</td>\n",
       "    </tr>\n",
       "    <tr>\n",
       "      <td>1</td>\n",
       "      <td>1</td>\n",
       "      <td>[11, 0, 0, 2, 12, 0, 0, 0, 0, 14, 5, 0, 0, 0, ...</td>\n",
       "      <td>[122140, 77036, 156817, 76957, 68818, 155600, ...</td>\n",
       "      <td>39</td>\n",
       "      <td>[5.0, 5.0, 5.0, 5.0, 5.0, 5.0, 5.0, 5.0, 5.0, ...</td>\n",
       "      <td>39</td>\n",
       "    </tr>\n",
       "    <tr>\n",
       "      <td>2</td>\n",
       "      <td>2</td>\n",
       "      <td>[13, 0, 0, 7, 5, 0, 1, 2, 1, 11, 0, 1, 0, 0, 1...</td>\n",
       "      <td>[168054, 87218, 35731, 1, 20475, 9039, 124834,...</td>\n",
       "      <td>27</td>\n",
       "      <td>[3.0, 4.0, 4.0, 4.0, 4.0, 4.0, 4.0, 4.0, 5.0, ...</td>\n",
       "      <td>27</td>\n",
       "    </tr>\n",
       "    <tr>\n",
       "      <td>3</td>\n",
       "      <td>3</td>\n",
       "      <td>[498, 13, 4, 218, 376, 3, 2, 33, 16, 591, 10, ...</td>\n",
       "      <td>[163193, 156352, 102888, 19914, 169438, 55772,...</td>\n",
       "      <td>1513</td>\n",
       "      <td>[5.0, 5.0, 5.0, 5.0, 4.0, 4.0, 5.0, 5.0, 5.0, ...</td>\n",
       "      <td>1513</td>\n",
       "    </tr>\n",
       "    <tr>\n",
       "      <td>4</td>\n",
       "      <td>4</td>\n",
       "      <td>[161, 1, 1, 86, 93, 0, 0, 11, 2, 141, 0, 16, 0...</td>\n",
       "      <td>[72857, 38652, 160427, 55772, 119999, 141777, ...</td>\n",
       "      <td>376</td>\n",
       "      <td>[5.0, 5.0, 5.0, 5.0, 4.0, 4.0, 5.0, 4.0, 5.0, ...</td>\n",
       "      <td>376</td>\n",
       "    </tr>\n",
       "  </tbody>\n",
       "</table>\n",
       "</div>"
      ],
      "text/plain": [
       "   u                                         techniques  \\\n",
       "0  0  [8, 0, 0, 5, 6, 0, 0, 1, 0, 9, 1, 0, 0, 0, 1, ...   \n",
       "1  1  [11, 0, 0, 2, 12, 0, 0, 0, 0, 14, 5, 0, 0, 0, ...   \n",
       "2  2  [13, 0, 0, 7, 5, 0, 1, 2, 1, 11, 0, 1, 0, 0, 1...   \n",
       "3  3  [498, 13, 4, 218, 376, 3, 2, 33, 16, 591, 10, ...   \n",
       "4  4  [161, 1, 1, 86, 93, 0, 0, 11, 2, 141, 0, 16, 0...   \n",
       "\n",
       "                                               items  n_items  \\\n",
       "0  [1118, 27680, 32541, 137353, 16428, 28815, 658...       31   \n",
       "1  [122140, 77036, 156817, 76957, 68818, 155600, ...       39   \n",
       "2  [168054, 87218, 35731, 1, 20475, 9039, 124834,...       27   \n",
       "3  [163193, 156352, 102888, 19914, 169438, 55772,...     1513   \n",
       "4  [72857, 38652, 160427, 55772, 119999, 141777, ...      376   \n",
       "\n",
       "                                             ratings  n_ratings  \n",
       "0  [5.0, 5.0, 5.0, 5.0, 5.0, 5.0, 5.0, 4.0, 4.0, ...         31  \n",
       "1  [5.0, 5.0, 5.0, 5.0, 5.0, 5.0, 5.0, 5.0, 5.0, ...         39  \n",
       "2  [3.0, 4.0, 4.0, 4.0, 4.0, 4.0, 4.0, 4.0, 5.0, ...         27  \n",
       "3  [5.0, 5.0, 5.0, 5.0, 4.0, 4.0, 5.0, 5.0, 5.0, ...       1513  \n",
       "4  [5.0, 5.0, 5.0, 5.0, 4.0, 4.0, 5.0, 4.0, 5.0, ...        376  "
      ]
     },
     "execution_count": 198,
     "metadata": {},
     "output_type": "execute_result"
    }
   ],
   "source": [
    "# Users\n",
    "users_enc.head()"
   ]
  },
  {
   "cell_type": "code",
   "execution_count": 199,
   "metadata": {},
   "outputs": [
    {
     "data": {
      "text/plain": [
       "'[155665, 124230, 50265]'"
      ]
     },
     "execution_count": 199,
     "metadata": {},
     "output_type": "execute_result"
    }
   ],
   "source": [
    "# Testing \n",
    "users_enc[\"items\"].iloc[10000]"
   ]
  },
  {
   "cell_type": "code",
   "execution_count": 200,
   "metadata": {},
   "outputs": [
    {
     "name": "stderr",
     "output_type": "stream",
     "text": [
      "C:\\Users\\Bene\\Anaconda3\\lib\\site-packages\\pandas\\core\\indexing.py:1418: FutureWarning: \n",
      "Passing list-likes to .loc or [] with any missing label will raise\n",
      "KeyError in the future, you can use .reindex() as an alternative.\n",
      "\n",
      "See the documentation here:\n",
      "https://pandas.pydata.org/pandas-docs/stable/user_guide/indexing.html#deprecate-loc-reindex-listlike\n",
      "  return self._getitem_tuple(key)\n"
     ]
    },
    {
     "data": {
      "text/html": [
       "<div>\n",
       "<style scoped>\n",
       "    .dataframe tbody tr th:only-of-type {\n",
       "        vertical-align: middle;\n",
       "    }\n",
       "\n",
       "    .dataframe tbody tr th {\n",
       "        vertical-align: top;\n",
       "    }\n",
       "\n",
       "    .dataframe thead th {\n",
       "        text-align: right;\n",
       "    }\n",
       "</style>\n",
       "<table border=\"1\" class=\"dataframe\">\n",
       "  <thead>\n",
       "    <tr style=\"text-align: right;\">\n",
       "      <th></th>\n",
       "      <th>i</th>\n",
       "      <th>name_tokens</th>\n",
       "      <th>ingredient_tokens</th>\n",
       "      <th>steps_tokens</th>\n",
       "      <th>techniques</th>\n",
       "      <th>calorie_level</th>\n",
       "      <th>ingredient_ids</th>\n",
       "    </tr>\n",
       "    <tr>\n",
       "      <th>id</th>\n",
       "      <th></th>\n",
       "      <th></th>\n",
       "      <th></th>\n",
       "      <th></th>\n",
       "      <th></th>\n",
       "      <th></th>\n",
       "      <th></th>\n",
       "    </tr>\n",
       "  </thead>\n",
       "  <tbody>\n",
       "    <tr>\n",
       "      <td>155665</td>\n",
       "      <td>2236.0</td>\n",
       "      <td>[40480, 12187, 6821, 11551, 40481]</td>\n",
       "      <td>[[5339], [8780], [23488], [1615, 23, 695, 2338...</td>\n",
       "      <td>[40480, 40482, 8780, 1109, 2000, 498, 5339, 40...</td>\n",
       "      <td>[1, 0, 0, 0, 0, 0, 0, 0, 0, 0, 0, 0, 0, 0, 0, ...</td>\n",
       "      <td>1.0</td>\n",
       "      <td>[715, 840, 4880, 7594, 2499, 4717, 6270, 5319]</td>\n",
       "    </tr>\n",
       "    <tr>\n",
       "      <td>124230</td>\n",
       "      <td>NaN</td>\n",
       "      <td>NaN</td>\n",
       "      <td>NaN</td>\n",
       "      <td>NaN</td>\n",
       "      <td>NaN</td>\n",
       "      <td>NaN</td>\n",
       "      <td>NaN</td>\n",
       "    </tr>\n",
       "    <tr>\n",
       "      <td>50265</td>\n",
       "      <td>NaN</td>\n",
       "      <td>NaN</td>\n",
       "      <td>NaN</td>\n",
       "      <td>NaN</td>\n",
       "      <td>NaN</td>\n",
       "      <td>NaN</td>\n",
       "      <td>NaN</td>\n",
       "    </tr>\n",
       "  </tbody>\n",
       "</table>\n",
       "</div>"
      ],
      "text/plain": [
       "             i                         name_tokens  \\\n",
       "id                                                   \n",
       "155665  2236.0  [40480, 12187, 6821, 11551, 40481]   \n",
       "124230     NaN                                 NaN   \n",
       "50265      NaN                                 NaN   \n",
       "\n",
       "                                        ingredient_tokens  \\\n",
       "id                                                          \n",
       "155665  [[5339], [8780], [23488], [1615, 23, 695, 2338...   \n",
       "124230                                                NaN   \n",
       "50265                                                 NaN   \n",
       "\n",
       "                                             steps_tokens  \\\n",
       "id                                                          \n",
       "155665  [40480, 40482, 8780, 1109, 2000, 498, 5339, 40...   \n",
       "124230                                                NaN   \n",
       "50265                                                 NaN   \n",
       "\n",
       "                                               techniques  calorie_level  \\\n",
       "id                                                                         \n",
       "155665  [1, 0, 0, 0, 0, 0, 0, 0, 0, 0, 0, 0, 0, 0, 0, ...            1.0   \n",
       "124230                                                NaN            NaN   \n",
       "50265                                                 NaN            NaN   \n",
       "\n",
       "                                        ingredient_ids  \n",
       "id                                                      \n",
       "155665  [715, 840, 4880, 7594, 2499, 4717, 6270, 5319]  \n",
       "124230                                             NaN  \n",
       "50265                                              NaN  "
      ]
     },
     "execution_count": 200,
     "metadata": {},
     "output_type": "execute_result"
    }
   ],
   "source": [
    "# Assume that items are recipies and testing it\n",
    "# Looking at the data frame this must be the case, but the data is sparse\n",
    "recipes_enc.loc[eval(users_enc[\"items\"].iloc[10000]),:]"
   ]
  },
  {
   "cell_type": "code",
   "execution_count": 530,
   "metadata": {},
   "outputs": [],
   "source": [
    "# Is there only a recipes raw or a users raw as well?\n",
    "recipes = pd.read_csv(\"./food-com-recipes-and-user-interactions/RAW_recipes.csv\", parse_dates=['submitted'], infer_datetime_format=True)\n",
    "interactions = pd.read_csv(\"./food-com-recipes-and-user-interactions/RAW_interactions.csv\", parse_dates=['date'], infer_datetime_format=True)"
   ]
  },
  {
   "cell_type": "code",
   "execution_count": 534,
   "metadata": {},
   "outputs": [
    {
     "data": {
      "text/plain": [
       "0"
      ]
     },
     "execution_count": 534,
     "metadata": {},
     "output_type": "execute_result"
    }
   ],
   "source": [
    "recipes.id.size - recipes.id.unique().size"
   ]
  },
  {
   "cell_type": "code",
   "execution_count": 242,
   "metadata": {},
   "outputs": [
    {
     "data": {
      "text/html": [
       "<div>\n",
       "<style scoped>\n",
       "    .dataframe tbody tr th:only-of-type {\n",
       "        vertical-align: middle;\n",
       "    }\n",
       "\n",
       "    .dataframe tbody tr th {\n",
       "        vertical-align: top;\n",
       "    }\n",
       "\n",
       "    .dataframe thead th {\n",
       "        text-align: right;\n",
       "    }\n",
       "</style>\n",
       "<table border=\"1\" class=\"dataframe\">\n",
       "  <thead>\n",
       "    <tr style=\"text-align: right;\">\n",
       "      <th></th>\n",
       "      <th>name</th>\n",
       "      <th>minutes</th>\n",
       "      <th>contributor_id</th>\n",
       "      <th>submitted</th>\n",
       "      <th>tags</th>\n",
       "      <th>n_steps</th>\n",
       "      <th>steps</th>\n",
       "      <th>description</th>\n",
       "      <th>ingredients</th>\n",
       "      <th>n_ingredients</th>\n",
       "      <th>year_submitted</th>\n",
       "      <th>month_submitted</th>\n",
       "      <th>day_submitted</th>\n",
       "      <th>total_cal</th>\n",
       "      <th>daily_perc_fat</th>\n",
       "      <th>daily_perc_sugars</th>\n",
       "      <th>daily_perc_sodium</th>\n",
       "      <th>daily_perc_protein</th>\n",
       "      <th>daily_perc_sat_fat</th>\n",
       "      <th>daily_perc_carbs</th>\n",
       "    </tr>\n",
       "    <tr>\n",
       "      <th>id</th>\n",
       "      <th></th>\n",
       "      <th></th>\n",
       "      <th></th>\n",
       "      <th></th>\n",
       "      <th></th>\n",
       "      <th></th>\n",
       "      <th></th>\n",
       "      <th></th>\n",
       "      <th></th>\n",
       "      <th></th>\n",
       "      <th></th>\n",
       "      <th></th>\n",
       "      <th></th>\n",
       "      <th></th>\n",
       "      <th></th>\n",
       "      <th></th>\n",
       "      <th></th>\n",
       "      <th></th>\n",
       "      <th></th>\n",
       "      <th></th>\n",
       "    </tr>\n",
       "  </thead>\n",
       "  <tbody>\n",
       "    <tr>\n",
       "      <td>137739</td>\n",
       "      <td>arriba   baked winter squash mexican style</td>\n",
       "      <td>55</td>\n",
       "      <td>47892</td>\n",
       "      <td>2005-09-16</td>\n",
       "      <td>['60-minutes-or-less', 'time-to-make', 'course...</td>\n",
       "      <td>11</td>\n",
       "      <td>['make a choice and proceed with recipe', 'dep...</td>\n",
       "      <td>autumn is my favorite time of year to cook! th...</td>\n",
       "      <td>['winter squash', 'mexican seasoning', 'mixed ...</td>\n",
       "      <td>7</td>\n",
       "      <td>2005</td>\n",
       "      <td>9</td>\n",
       "      <td>16</td>\n",
       "      <td>51.5</td>\n",
       "      <td>0.0</td>\n",
       "      <td>13.0</td>\n",
       "      <td>0.0</td>\n",
       "      <td>2.0</td>\n",
       "      <td>0.0</td>\n",
       "      <td>4.0</td>\n",
       "    </tr>\n",
       "    <tr>\n",
       "      <td>31490</td>\n",
       "      <td>a bit different  breakfast pizza</td>\n",
       "      <td>30</td>\n",
       "      <td>26278</td>\n",
       "      <td>2002-06-17</td>\n",
       "      <td>['30-minutes-or-less', 'time-to-make', 'course...</td>\n",
       "      <td>9</td>\n",
       "      <td>['preheat oven to 425 degrees f', 'press dough...</td>\n",
       "      <td>this recipe calls for the crust to be prebaked...</td>\n",
       "      <td>['prepared pizza crust', 'sausage patty', 'egg...</td>\n",
       "      <td>6</td>\n",
       "      <td>2002</td>\n",
       "      <td>6</td>\n",
       "      <td>17</td>\n",
       "      <td>173.4</td>\n",
       "      <td>18.0</td>\n",
       "      <td>0.0</td>\n",
       "      <td>17.0</td>\n",
       "      <td>22.0</td>\n",
       "      <td>35.0</td>\n",
       "      <td>1.0</td>\n",
       "    </tr>\n",
       "    <tr>\n",
       "      <td>112140</td>\n",
       "      <td>all in the kitchen  chili</td>\n",
       "      <td>130</td>\n",
       "      <td>196586</td>\n",
       "      <td>2005-02-25</td>\n",
       "      <td>['time-to-make', 'course', 'preparation', 'mai...</td>\n",
       "      <td>6</td>\n",
       "      <td>['brown ground beef in large pot', 'add choppe...</td>\n",
       "      <td>this modified version of 'mom's' chili was a h...</td>\n",
       "      <td>['ground beef', 'yellow onions', 'diced tomato...</td>\n",
       "      <td>13</td>\n",
       "      <td>2005</td>\n",
       "      <td>2</td>\n",
       "      <td>25</td>\n",
       "      <td>269.8</td>\n",
       "      <td>22.0</td>\n",
       "      <td>32.0</td>\n",
       "      <td>48.0</td>\n",
       "      <td>39.0</td>\n",
       "      <td>27.0</td>\n",
       "      <td>5.0</td>\n",
       "    </tr>\n",
       "    <tr>\n",
       "      <td>59389</td>\n",
       "      <td>alouette  potatoes</td>\n",
       "      <td>45</td>\n",
       "      <td>68585</td>\n",
       "      <td>2003-04-14</td>\n",
       "      <td>['60-minutes-or-less', 'time-to-make', 'course...</td>\n",
       "      <td>11</td>\n",
       "      <td>['place potatoes in a large pot of lightly sal...</td>\n",
       "      <td>this is a super easy, great tasting, make ahea...</td>\n",
       "      <td>['spreadable cheese with garlic and herbs', 'n...</td>\n",
       "      <td>11</td>\n",
       "      <td>2003</td>\n",
       "      <td>4</td>\n",
       "      <td>14</td>\n",
       "      <td>368.1</td>\n",
       "      <td>17.0</td>\n",
       "      <td>10.0</td>\n",
       "      <td>2.0</td>\n",
       "      <td>14.0</td>\n",
       "      <td>8.0</td>\n",
       "      <td>20.0</td>\n",
       "    </tr>\n",
       "    <tr>\n",
       "      <td>44061</td>\n",
       "      <td>amish  tomato ketchup  for canning</td>\n",
       "      <td>190</td>\n",
       "      <td>41706</td>\n",
       "      <td>2002-10-25</td>\n",
       "      <td>['weeknight', 'time-to-make', 'course', 'main-...</td>\n",
       "      <td>5</td>\n",
       "      <td>['mix all ingredients&amp; boil for 2 1 / 2 hours ...</td>\n",
       "      <td>my dh's amish mother raised him on this recipe...</td>\n",
       "      <td>['tomato juice', 'apple cider vinegar', 'sugar...</td>\n",
       "      <td>8</td>\n",
       "      <td>2002</td>\n",
       "      <td>10</td>\n",
       "      <td>25</td>\n",
       "      <td>352.9</td>\n",
       "      <td>1.0</td>\n",
       "      <td>337.0</td>\n",
       "      <td>23.0</td>\n",
       "      <td>3.0</td>\n",
       "      <td>0.0</td>\n",
       "      <td>28.0</td>\n",
       "    </tr>\n",
       "  </tbody>\n",
       "</table>\n",
       "</div>"
      ],
      "text/plain": [
       "                                              name  minutes  contributor_id  \\\n",
       "id                                                                            \n",
       "137739  arriba   baked winter squash mexican style       55           47892   \n",
       "31490             a bit different  breakfast pizza       30           26278   \n",
       "112140                   all in the kitchen  chili      130          196586   \n",
       "59389                           alouette  potatoes       45           68585   \n",
       "44061           amish  tomato ketchup  for canning      190           41706   \n",
       "\n",
       "        submitted                                               tags  n_steps  \\\n",
       "id                                                                              \n",
       "137739 2005-09-16  ['60-minutes-or-less', 'time-to-make', 'course...       11   \n",
       "31490  2002-06-17  ['30-minutes-or-less', 'time-to-make', 'course...        9   \n",
       "112140 2005-02-25  ['time-to-make', 'course', 'preparation', 'mai...        6   \n",
       "59389  2003-04-14  ['60-minutes-or-less', 'time-to-make', 'course...       11   \n",
       "44061  2002-10-25  ['weeknight', 'time-to-make', 'course', 'main-...        5   \n",
       "\n",
       "                                                    steps  \\\n",
       "id                                                          \n",
       "137739  ['make a choice and proceed with recipe', 'dep...   \n",
       "31490   ['preheat oven to 425 degrees f', 'press dough...   \n",
       "112140  ['brown ground beef in large pot', 'add choppe...   \n",
       "59389   ['place potatoes in a large pot of lightly sal...   \n",
       "44061   ['mix all ingredients& boil for 2 1 / 2 hours ...   \n",
       "\n",
       "                                              description  \\\n",
       "id                                                          \n",
       "137739  autumn is my favorite time of year to cook! th...   \n",
       "31490   this recipe calls for the crust to be prebaked...   \n",
       "112140  this modified version of 'mom's' chili was a h...   \n",
       "59389   this is a super easy, great tasting, make ahea...   \n",
       "44061   my dh's amish mother raised him on this recipe...   \n",
       "\n",
       "                                              ingredients  n_ingredients  \\\n",
       "id                                                                         \n",
       "137739  ['winter squash', 'mexican seasoning', 'mixed ...              7   \n",
       "31490   ['prepared pizza crust', 'sausage patty', 'egg...              6   \n",
       "112140  ['ground beef', 'yellow onions', 'diced tomato...             13   \n",
       "59389   ['spreadable cheese with garlic and herbs', 'n...             11   \n",
       "44061   ['tomato juice', 'apple cider vinegar', 'sugar...              8   \n",
       "\n",
       "        year_submitted  month_submitted  day_submitted  total_cal  \\\n",
       "id                                                                  \n",
       "137739            2005                9             16       51.5   \n",
       "31490             2002                6             17      173.4   \n",
       "112140            2005                2             25      269.8   \n",
       "59389             2003                4             14      368.1   \n",
       "44061             2002               10             25      352.9   \n",
       "\n",
       "        daily_perc_fat  daily_perc_sugars  daily_perc_sodium  \\\n",
       "id                                                             \n",
       "137739             0.0               13.0                0.0   \n",
       "31490             18.0                0.0               17.0   \n",
       "112140            22.0               32.0               48.0   \n",
       "59389             17.0               10.0                2.0   \n",
       "44061              1.0              337.0               23.0   \n",
       "\n",
       "        daily_perc_protein  daily_perc_sat_fat  daily_perc_carbs  \n",
       "id                                                                \n",
       "137739                 2.0                 0.0               4.0  \n",
       "31490                 22.0                35.0               1.0  \n",
       "112140                39.0                27.0               5.0  \n",
       "59389                 14.0                 8.0              20.0  \n",
       "44061                  3.0                 0.0              28.0  "
      ]
     },
     "execution_count": 242,
     "metadata": {},
     "output_type": "execute_result"
    }
   ],
   "source": [
    "# Explore the raw recipe file\n",
    "recipes.head()\n",
    "\n",
    "# Identify the meaning of nutrition column\n",
    "# Total calories\n",
    "# % Daily Value of Total Fat\n",
    "# % Daily Value of Sugars\n",
    "# % Daily Value of Sodium\n",
    "# % Daily Value of Protein\n",
    "# % Daily Value of Saturated Fat\n",
    "# % Daily Value of Total Carbohydrate"
   ]
  },
  {
   "cell_type": "code",
   "execution_count": 203,
   "metadata": {},
   "outputs": [
    {
     "data": {
      "text/html": [
       "<div>\n",
       "<style scoped>\n",
       "    .dataframe tbody tr th:only-of-type {\n",
       "        vertical-align: middle;\n",
       "    }\n",
       "\n",
       "    .dataframe tbody tr th {\n",
       "        vertical-align: top;\n",
       "    }\n",
       "\n",
       "    .dataframe thead th {\n",
       "        text-align: right;\n",
       "    }\n",
       "</style>\n",
       "<table border=\"1\" class=\"dataframe\">\n",
       "  <thead>\n",
       "    <tr style=\"text-align: right;\">\n",
       "      <th></th>\n",
       "      <th>name</th>\n",
       "      <th>minutes</th>\n",
       "      <th>contributor_id</th>\n",
       "      <th>submitted</th>\n",
       "      <th>tags</th>\n",
       "      <th>nutrition</th>\n",
       "      <th>n_steps</th>\n",
       "      <th>steps</th>\n",
       "      <th>description</th>\n",
       "      <th>ingredients</th>\n",
       "      <th>n_ingredients</th>\n",
       "    </tr>\n",
       "    <tr>\n",
       "      <th>id</th>\n",
       "      <th></th>\n",
       "      <th></th>\n",
       "      <th></th>\n",
       "      <th></th>\n",
       "      <th></th>\n",
       "      <th></th>\n",
       "      <th></th>\n",
       "      <th></th>\n",
       "      <th></th>\n",
       "      <th></th>\n",
       "      <th></th>\n",
       "    </tr>\n",
       "  </thead>\n",
       "  <tbody>\n",
       "    <tr>\n",
       "      <td>155665</td>\n",
       "      <td>baked cheese sandwiches</td>\n",
       "      <td>375.0</td>\n",
       "      <td>36124.0</td>\n",
       "      <td>2006-02-11</td>\n",
       "      <td>['time-to-make', 'course', 'main-ingredient', ...</td>\n",
       "      <td>[322.3, 21.0, 18.0, 41.0, 30.0, 37.0, 10.0]</td>\n",
       "      <td>10.0</td>\n",
       "      <td>['butter both sides of bread', 'lay 8 slices i...</td>\n",
       "      <td>great with a bowl of your favorite soup. or wi...</td>\n",
       "      <td>['bread', 'butter', 'mustard', 'velveeta chees...</td>\n",
       "      <td>8.0</td>\n",
       "    </tr>\n",
       "    <tr>\n",
       "      <td>124230</td>\n",
       "      <td>easy italian chicken marinade</td>\n",
       "      <td>390.0</td>\n",
       "      <td>64203.0</td>\n",
       "      <td>2005-05-31</td>\n",
       "      <td>['time-to-make', 'course', 'main-ingredient', ...</td>\n",
       "      <td>[1167.5, 128.0, 139.0, 95.0, 128.0, 98.0, 13.0]</td>\n",
       "      <td>1.0</td>\n",
       "      <td>['marinate chicken for 6 hours or overnight an...</td>\n",
       "      <td>this is so easy and good. a favorite way of ou...</td>\n",
       "      <td>['boneless chicken', 'italian salad dressing',...</td>\n",
       "      <td>6.0</td>\n",
       "    </tr>\n",
       "    <tr>\n",
       "      <td>50265</td>\n",
       "      <td>NaN</td>\n",
       "      <td>NaN</td>\n",
       "      <td>NaN</td>\n",
       "      <td>NaT</td>\n",
       "      <td>NaN</td>\n",
       "      <td>NaN</td>\n",
       "      <td>NaN</td>\n",
       "      <td>NaN</td>\n",
       "      <td>NaN</td>\n",
       "      <td>NaN</td>\n",
       "      <td>NaN</td>\n",
       "    </tr>\n",
       "  </tbody>\n",
       "</table>\n",
       "</div>"
      ],
      "text/plain": [
       "                                 name  minutes  contributor_id  submitted  \\\n",
       "id                                                                          \n",
       "155665        baked cheese sandwiches    375.0         36124.0 2006-02-11   \n",
       "124230  easy italian chicken marinade    390.0         64203.0 2005-05-31   \n",
       "50265                             NaN      NaN             NaN        NaT   \n",
       "\n",
       "                                                     tags  \\\n",
       "id                                                          \n",
       "155665  ['time-to-make', 'course', 'main-ingredient', ...   \n",
       "124230  ['time-to-make', 'course', 'main-ingredient', ...   \n",
       "50265                                                 NaN   \n",
       "\n",
       "                                              nutrition  n_steps  \\\n",
       "id                                                                 \n",
       "155665      [322.3, 21.0, 18.0, 41.0, 30.0, 37.0, 10.0]     10.0   \n",
       "124230  [1167.5, 128.0, 139.0, 95.0, 128.0, 98.0, 13.0]      1.0   \n",
       "50265                                               NaN      NaN   \n",
       "\n",
       "                                                    steps  \\\n",
       "id                                                          \n",
       "155665  ['butter both sides of bread', 'lay 8 slices i...   \n",
       "124230  ['marinate chicken for 6 hours or overnight an...   \n",
       "50265                                                 NaN   \n",
       "\n",
       "                                              description  \\\n",
       "id                                                          \n",
       "155665  great with a bowl of your favorite soup. or wi...   \n",
       "124230  this is so easy and good. a favorite way of ou...   \n",
       "50265                                                 NaN   \n",
       "\n",
       "                                              ingredients  n_ingredients  \n",
       "id                                                                        \n",
       "155665  ['bread', 'butter', 'mustard', 'velveeta chees...            8.0  \n",
       "124230  ['boneless chicken', 'italian salad dressing',...            6.0  \n",
       "50265                                                 NaN            NaN  "
      ]
     },
     "execution_count": 203,
     "metadata": {},
     "output_type": "execute_result"
    }
   ],
   "source": [
    "# Testing the user items on the unprocessed file as well\n",
    "\n",
    "# Different result as above\n",
    "recipes.loc[eval(users_enc[\"items\"].iloc[10000]),:]"
   ]
  },
  {
   "cell_type": "code",
   "execution_count": 204,
   "metadata": {},
   "outputs": [
    {
     "data": {
      "text/html": [
       "<div>\n",
       "<style scoped>\n",
       "    .dataframe tbody tr th:only-of-type {\n",
       "        vertical-align: middle;\n",
       "    }\n",
       "\n",
       "    .dataframe tbody tr th {\n",
       "        vertical-align: top;\n",
       "    }\n",
       "\n",
       "    .dataframe thead th {\n",
       "        text-align: right;\n",
       "    }\n",
       "</style>\n",
       "<table border=\"1\" class=\"dataframe\">\n",
       "  <thead>\n",
       "    <tr style=\"text-align: right;\">\n",
       "      <th></th>\n",
       "      <th>user_id</th>\n",
       "      <th>recipe_id</th>\n",
       "      <th>date</th>\n",
       "      <th>rating</th>\n",
       "      <th>review</th>\n",
       "    </tr>\n",
       "  </thead>\n",
       "  <tbody>\n",
       "    <tr>\n",
       "      <td>0</td>\n",
       "      <td>38094</td>\n",
       "      <td>40893</td>\n",
       "      <td>2003-02-17</td>\n",
       "      <td>4</td>\n",
       "      <td>Great with a salad. Cooked on top of stove for...</td>\n",
       "    </tr>\n",
       "    <tr>\n",
       "      <td>1</td>\n",
       "      <td>1293707</td>\n",
       "      <td>40893</td>\n",
       "      <td>2011-12-21</td>\n",
       "      <td>5</td>\n",
       "      <td>So simple, so delicious! Great for chilly fall...</td>\n",
       "    </tr>\n",
       "    <tr>\n",
       "      <td>2</td>\n",
       "      <td>8937</td>\n",
       "      <td>44394</td>\n",
       "      <td>2002-12-01</td>\n",
       "      <td>4</td>\n",
       "      <td>This worked very well and is EASY.  I used not...</td>\n",
       "    </tr>\n",
       "    <tr>\n",
       "      <td>3</td>\n",
       "      <td>126440</td>\n",
       "      <td>85009</td>\n",
       "      <td>2010-02-27</td>\n",
       "      <td>5</td>\n",
       "      <td>I made the Mexican topping and took it to bunk...</td>\n",
       "    </tr>\n",
       "    <tr>\n",
       "      <td>4</td>\n",
       "      <td>57222</td>\n",
       "      <td>85009</td>\n",
       "      <td>2011-10-01</td>\n",
       "      <td>5</td>\n",
       "      <td>Made the cheddar bacon topping, adding a sprin...</td>\n",
       "    </tr>\n",
       "  </tbody>\n",
       "</table>\n",
       "</div>"
      ],
      "text/plain": [
       "   user_id  recipe_id        date  rating  \\\n",
       "0    38094      40893  2003-02-17       4   \n",
       "1  1293707      40893  2011-12-21       5   \n",
       "2     8937      44394  2002-12-01       4   \n",
       "3   126440      85009  2010-02-27       5   \n",
       "4    57222      85009  2011-10-01       5   \n",
       "\n",
       "                                              review  \n",
       "0  Great with a salad. Cooked on top of stove for...  \n",
       "1  So simple, so delicious! Great for chilly fall...  \n",
       "2  This worked very well and is EASY.  I used not...  \n",
       "3  I made the Mexican topping and took it to bunk...  \n",
       "4  Made the cheddar bacon topping, adding a sprin...  "
      ]
     },
     "execution_count": 204,
     "metadata": {},
     "output_type": "execute_result"
    }
   ],
   "source": [
    "# Explore the raw interaction file\n",
    "interactions.head()"
   ]
  },
  {
   "cell_type": "markdown",
   "metadata": {},
   "source": [
    "# Data Exploration"
   ]
  },
  {
   "cell_type": "markdown",
   "metadata": {},
   "source": [
    "## Recipes"
   ]
  },
  {
   "cell_type": "markdown",
   "metadata": {},
   "source": [
    "### Descriptive statistics"
   ]
  },
  {
   "cell_type": "code",
   "execution_count": 205,
   "metadata": {},
   "outputs": [
    {
     "data": {
      "text/html": [
       "<div>\n",
       "<style scoped>\n",
       "    .dataframe tbody tr th:only-of-type {\n",
       "        vertical-align: middle;\n",
       "    }\n",
       "\n",
       "    .dataframe tbody tr th {\n",
       "        vertical-align: top;\n",
       "    }\n",
       "\n",
       "    .dataframe thead th {\n",
       "        text-align: right;\n",
       "    }\n",
       "</style>\n",
       "<table border=\"1\" class=\"dataframe\">\n",
       "  <thead>\n",
       "    <tr style=\"text-align: right;\">\n",
       "      <th></th>\n",
       "      <th>minutes</th>\n",
       "      <th>contributor_id</th>\n",
       "      <th>n_steps</th>\n",
       "      <th>n_ingredients</th>\n",
       "    </tr>\n",
       "  </thead>\n",
       "  <tbody>\n",
       "    <tr>\n",
       "      <td>count</td>\n",
       "      <td>2.316370e+05</td>\n",
       "      <td>2.316370e+05</td>\n",
       "      <td>231637.000000</td>\n",
       "      <td>231637.000000</td>\n",
       "    </tr>\n",
       "    <tr>\n",
       "      <td>mean</td>\n",
       "      <td>9.398546e+03</td>\n",
       "      <td>5.534885e+06</td>\n",
       "      <td>9.765499</td>\n",
       "      <td>9.051153</td>\n",
       "    </tr>\n",
       "    <tr>\n",
       "      <td>std</td>\n",
       "      <td>4.461963e+06</td>\n",
       "      <td>9.979141e+07</td>\n",
       "      <td>5.995128</td>\n",
       "      <td>3.734796</td>\n",
       "    </tr>\n",
       "    <tr>\n",
       "      <td>min</td>\n",
       "      <td>0.000000e+00</td>\n",
       "      <td>2.700000e+01</td>\n",
       "      <td>0.000000</td>\n",
       "      <td>1.000000</td>\n",
       "    </tr>\n",
       "    <tr>\n",
       "      <td>25%</td>\n",
       "      <td>2.000000e+01</td>\n",
       "      <td>5.690500e+04</td>\n",
       "      <td>6.000000</td>\n",
       "      <td>6.000000</td>\n",
       "    </tr>\n",
       "    <tr>\n",
       "      <td>50%</td>\n",
       "      <td>4.000000e+01</td>\n",
       "      <td>1.736140e+05</td>\n",
       "      <td>9.000000</td>\n",
       "      <td>9.000000</td>\n",
       "    </tr>\n",
       "    <tr>\n",
       "      <td>75%</td>\n",
       "      <td>6.500000e+01</td>\n",
       "      <td>3.982750e+05</td>\n",
       "      <td>12.000000</td>\n",
       "      <td>11.000000</td>\n",
       "    </tr>\n",
       "    <tr>\n",
       "      <td>max</td>\n",
       "      <td>2.147484e+09</td>\n",
       "      <td>2.002290e+09</td>\n",
       "      <td>145.000000</td>\n",
       "      <td>43.000000</td>\n",
       "    </tr>\n",
       "  </tbody>\n",
       "</table>\n",
       "</div>"
      ],
      "text/plain": [
       "            minutes  contributor_id        n_steps  n_ingredients\n",
       "count  2.316370e+05    2.316370e+05  231637.000000  231637.000000\n",
       "mean   9.398546e+03    5.534885e+06       9.765499       9.051153\n",
       "std    4.461963e+06    9.979141e+07       5.995128       3.734796\n",
       "min    0.000000e+00    2.700000e+01       0.000000       1.000000\n",
       "25%    2.000000e+01    5.690500e+04       6.000000       6.000000\n",
       "50%    4.000000e+01    1.736140e+05       9.000000       9.000000\n",
       "75%    6.500000e+01    3.982750e+05      12.000000      11.000000\n",
       "max    2.147484e+09    2.002290e+09     145.000000      43.000000"
      ]
     },
     "execution_count": 205,
     "metadata": {},
     "output_type": "execute_result"
    }
   ],
   "source": [
    "# Checking the numeric columns\n",
    "recipes.describe(include = np.number)\n",
    "\n",
    "# Large outlier(s) in mintues"
   ]
  },
  {
   "cell_type": "code",
   "execution_count": 206,
   "metadata": {},
   "outputs": [
    {
     "data": {
      "text/html": [
       "<div>\n",
       "<style scoped>\n",
       "    .dataframe tbody tr th:only-of-type {\n",
       "        vertical-align: middle;\n",
       "    }\n",
       "\n",
       "    .dataframe tbody tr th {\n",
       "        vertical-align: top;\n",
       "    }\n",
       "\n",
       "    .dataframe thead th {\n",
       "        text-align: right;\n",
       "    }\n",
       "</style>\n",
       "<table border=\"1\" class=\"dataframe\">\n",
       "  <thead>\n",
       "    <tr style=\"text-align: right;\">\n",
       "      <th></th>\n",
       "      <th>name</th>\n",
       "      <th>tags</th>\n",
       "      <th>nutrition</th>\n",
       "      <th>steps</th>\n",
       "      <th>description</th>\n",
       "      <th>ingredients</th>\n",
       "    </tr>\n",
       "  </thead>\n",
       "  <tbody>\n",
       "    <tr>\n",
       "      <td>count</td>\n",
       "      <td>231636</td>\n",
       "      <td>231637</td>\n",
       "      <td>231637</td>\n",
       "      <td>231637</td>\n",
       "      <td>226658</td>\n",
       "      <td>231637</td>\n",
       "    </tr>\n",
       "    <tr>\n",
       "      <td>unique</td>\n",
       "      <td>230185</td>\n",
       "      <td>209115</td>\n",
       "      <td>229318</td>\n",
       "      <td>231074</td>\n",
       "      <td>222668</td>\n",
       "      <td>230475</td>\n",
       "    </tr>\n",
       "    <tr>\n",
       "      <td>top</td>\n",
       "      <td>brown sugar glazed carrots</td>\n",
       "      <td>['15-minutes-or-less', 'time-to-make', 'course...</td>\n",
       "      <td>[69.4, 0.0, 0.0, 0.0, 0.0, 0.0, 0.0]</td>\n",
       "      <td>['blend all ingredients until smooth']</td>\n",
       "      <td>yum</td>\n",
       "      <td>['eggs', 'water']</td>\n",
       "    </tr>\n",
       "    <tr>\n",
       "      <td>freq</td>\n",
       "      <td>3</td>\n",
       "      <td>397</td>\n",
       "      <td>36</td>\n",
       "      <td>20</td>\n",
       "      <td>153</td>\n",
       "      <td>10</td>\n",
       "    </tr>\n",
       "  </tbody>\n",
       "</table>\n",
       "</div>"
      ],
      "text/plain": [
       "                              name  \\\n",
       "count                       231636   \n",
       "unique                      230185   \n",
       "top     brown sugar glazed carrots   \n",
       "freq                             3   \n",
       "\n",
       "                                                     tags  \\\n",
       "count                                              231637   \n",
       "unique                                             209115   \n",
       "top     ['15-minutes-or-less', 'time-to-make', 'course...   \n",
       "freq                                                  397   \n",
       "\n",
       "                                   nutrition  \\\n",
       "count                                 231637   \n",
       "unique                                229318   \n",
       "top     [69.4, 0.0, 0.0, 0.0, 0.0, 0.0, 0.0]   \n",
       "freq                                      36   \n",
       "\n",
       "                                         steps description        ingredients  \n",
       "count                                   231637      226658             231637  \n",
       "unique                                  231074      222668             230475  \n",
       "top     ['blend all ingredients until smooth']         yum  ['eggs', 'water']  \n",
       "freq                                        20         153                 10  "
      ]
     },
     "execution_count": 206,
     "metadata": {},
     "output_type": "execute_result"
    }
   ],
   "source": [
    "# Checking the object columns\n",
    "recipes.describe(include = np.object)"
   ]
  },
  {
   "cell_type": "markdown",
   "metadata": {},
   "source": [
    "### minutes"
   ]
  },
  {
   "cell_type": "code",
   "execution_count": 207,
   "metadata": {},
   "outputs": [
    {
     "data": {
      "text/plain": [
       "(array([2.31636e+05, 0.00000e+00, 0.00000e+00, 0.00000e+00, 0.00000e+00,\n",
       "        0.00000e+00, 0.00000e+00, 0.00000e+00, 0.00000e+00, 1.00000e+00]),\n",
       " array([0.00000000e+00, 2.14748365e+08, 4.29496729e+08, 6.44245094e+08,\n",
       "        8.58993459e+08, 1.07374182e+09, 1.28849019e+09, 1.50323855e+09,\n",
       "        1.71798692e+09, 1.93273528e+09, 2.14748365e+09]),\n",
       " <a list of 10 Patch objects>)"
      ]
     },
     "execution_count": 207,
     "metadata": {},
     "output_type": "execute_result"
    },
    {
     "data": {
      "image/png": "[encoded data removed]",
      "text/plain": [
       "<Figure size 432x288 with 1 Axes>"
      ]
     },
     "metadata": {
      "needs_background": "light"
     },
     "output_type": "display_data"
    }
   ],
   "source": [
    "#Plot distirbution of minutes on log scale to see that there is one outlier\n",
    "plt.hist(recipes.minutes, log=True)"
   ]
  },
  {
   "cell_type": "code",
   "execution_count": 208,
   "metadata": {},
   "outputs": [
    {
     "data": {
      "text/plain": [
       "<matplotlib.axes._subplots.AxesSubplot at 0x15887935788>"
      ]
     },
     "execution_count": 208,
     "metadata": {},
     "output_type": "execute_result"
    },
    {
     "data": {
      "image/png": "[encoded data removed]",
      "text/plain": [
       "<Figure size 432x288 with 1 Axes>"
      ]
     },
     "metadata": {
      "needs_background": "light"
     },
     "output_type": "display_data"
    }
   ],
   "source": [
    "# Doing the histogram of minutes to get a better understanding\n",
    "\n",
    "# plt.hist(np.log(recipes.minutes.sample(10000, random_state=42), where= recipes.minutes.sample(10000, random_state=42) > 0), density=True)\n",
    "sns.distplot(np.log(recipes.minutes.sample(10000, random_state=42), where= recipes.minutes.sample(10000, random_state=42) > 0))"
   ]
  },
  {
   "cell_type": "markdown",
   "metadata": {},
   "source": [
    "### n_steps"
   ]
  },
  {
   "cell_type": "code",
   "execution_count": 209,
   "metadata": {},
   "outputs": [
    {
     "data": {
      "text/plain": [
       "(array([6.89722222e-02, 5.11388889e-02, 1.36805556e-02, 3.70833333e-03,\n",
       "        9.44444444e-04, 3.33333333e-04, 5.55555556e-05, 1.38888889e-05,\n",
       "        2.77777778e-05, 1.38888889e-05]),\n",
       " array([ 1. ,  8.2, 15.4, 22.6, 29.8, 37. , 44.2, 51.4, 58.6, 65.8, 73. ]),\n",
       " <a list of 10 Patch objects>)"
      ]
     },
     "execution_count": 209,
     "metadata": {},
     "output_type": "execute_result"
    },
    {
     "data": {
      "image/png": "[encoded data removed]",
      "text/plain": [
       "<Figure size 432x288 with 1 Axes>"
      ]
     },
     "metadata": {
      "needs_background": "light"
     },
     "output_type": "display_data"
    }
   ],
   "source": [
    "#Plot distribution of n_steps based on a sample\n",
    "plt.hist(recipes.n_steps.sample(10000, random_state=42), density=True)"
   ]
  },
  {
   "cell_type": "code",
   "execution_count": 210,
   "metadata": {},
   "outputs": [
    {
     "data": {
      "text/plain": [
       "<matplotlib.axes._subplots.AxesSubplot at 0x15887a65bc8>"
      ]
     },
     "execution_count": 210,
     "metadata": {},
     "output_type": "execute_result"
    },
    {
     "data": {
      "image/png": "[encoded data removed]",
      "text/plain": [
       "<Figure size 432x288 with 1 Axes>"
      ]
     },
     "metadata": {
      "needs_background": "light"
     },
     "output_type": "display_data"
    }
   ],
   "source": [
    "sns.distplot(recipes.n_steps.sample(10000, random_state=42))"
   ]
  },
  {
   "cell_type": "markdown",
   "metadata": {},
   "source": [
    "### n_ingredients"
   ]
  },
  {
   "cell_type": "code",
   "execution_count": 211,
   "metadata": {},
   "outputs": [
    {
     "data": {
      "text/plain": [
       "(array([0.03375   , 0.09985714, 0.11178571, 0.07039286, 0.02239286,\n",
       "        0.01353571, 0.00403571, 0.00103571, 0.00021429, 0.00014286]),\n",
       " array([ 2. ,  4.8,  7.6, 10.4, 13.2, 16. , 18.8, 21.6, 24.4, 27.2, 30. ]),\n",
       " <a list of 10 Patch objects>)"
      ]
     },
     "execution_count": 211,
     "metadata": {},
     "output_type": "execute_result"
    },
    {
     "data": {
      "image/png": "[encoded data removed]",
      "text/plain": [
       "<Figure size 432x288 with 1 Axes>"
      ]
     },
     "metadata": {
      "needs_background": "light"
     },
     "output_type": "display_data"
    }
   ],
   "source": [
    "#Plot distribution of n_ingredients based on a sample\n",
    "plt.hist(recipes.n_ingredients.sample(10000, random_state=42), density=True)"
   ]
  },
  {
   "cell_type": "code",
   "execution_count": 212,
   "metadata": {},
   "outputs": [
    {
     "data": {
      "text/plain": [
       "<matplotlib.axes._subplots.AxesSubplot at 0x15887bc55c8>"
      ]
     },
     "execution_count": 212,
     "metadata": {},
     "output_type": "execute_result"
    },
    {
     "data": {
      "image/png": "[encoded data removed]",
      "text/plain": [
       "<Figure size 432x288 with 1 Axes>"
      ]
     },
     "metadata": {
      "needs_background": "light"
     },
     "output_type": "display_data"
    }
   ],
   "source": [
    "sns.distplot(recipes.n_ingredients.sample(10000, random_state=42))"
   ]
  },
  {
   "cell_type": "markdown",
   "metadata": {},
   "source": [
    "### submitted"
   ]
  },
  {
   "cell_type": "code",
   "execution_count": 213,
   "metadata": {},
   "outputs": [
    {
     "data": {
      "text/plain": [
       "<matplotlib.axes._subplots.AxesSubplot at 0x158010a4ec8>"
      ]
     },
     "execution_count": 213,
     "metadata": {},
     "output_type": "execute_result"
    },
    {
     "data": {
      "image/png": "[encoded data removed]",
      "text/plain": [
       "<Figure size 432x288 with 1 Axes>"
      ]
     },
     "metadata": {
      "needs_background": "light"
     },
     "output_type": "display_data"
    }
   ],
   "source": [
    "#Checking the distribution of years\n",
    "recipes[\"year_submitted\"] = recipes.submitted.apply(lambda ts: ts.year)\n",
    "recipes.year_submitted.plot.hist(bins=recipes.year_submitted.max()-recipes.year_submitted.min())"
   ]
  },
  {
   "cell_type": "code",
   "execution_count": 214,
   "metadata": {},
   "outputs": [
    {
     "data": {
      "text/plain": [
       "1     21856\n",
       "5     21684\n",
       "3     20571\n",
       "4     20186\n",
       "10    19131\n",
       "8     18866\n",
       "11    18771\n",
       "6     18726\n",
       "9     18631\n",
       "7     18584\n",
       "2     18536\n",
       "12    16095\n",
       "Name: month_submitted, dtype: int64"
      ]
     },
     "execution_count": 214,
     "metadata": {},
     "output_type": "execute_result"
    },
    {
     "data": {
      "image/png": "[encoded data removed]",
      "text/plain": [
       "<Figure size 432x288 with 1 Axes>"
      ]
     },
     "metadata": {
      "needs_background": "light"
     },
     "output_type": "display_data"
    }
   ],
   "source": [
    "#Checking the distribution of month\n",
    "recipes[\"month_submitted\"] = recipes.submitted.apply(lambda ts: ts.month)\n",
    "recipes.month_submitted.plot.hist(bins=12)\n",
    "\n",
    "recipes.month_submitted.value_counts()"
   ]
  },
  {
   "cell_type": "markdown",
   "metadata": {},
   "source": [
    "# Checking the distribution of days"
   ]
  },
  {
   "cell_type": "code",
   "execution_count": 338,
   "metadata": {},
   "outputs": [
    {
     "data": {
      "text/plain": [
       "8     9062\n",
       "3     8765\n",
       "6     8536\n",
       "13    8248\n",
       "20    8175\n",
       "12    7985\n",
       "9     7841\n",
       "5     7793\n",
       "7     7684\n",
       "29    7670\n",
       "28    7617\n",
       "15    7596\n",
       "2     7518\n",
       "27    7446\n",
       "16    7411\n",
       "17    7366\n",
       "18    7328\n",
       "10    7304\n",
       "30    7302\n",
       "4     7301\n",
       "24    7288\n",
       "11    7272\n",
       "23    7272\n",
       "14    7236\n",
       "19    7231\n",
       "21    7218\n",
       "25    7201\n",
       "22    7179\n",
       "1     6890\n",
       "26    6536\n",
       "31    4366\n",
       "Name: day_submitted, dtype: int64"
      ]
     },
     "execution_count": 338,
     "metadata": {},
     "output_type": "execute_result"
    },
    {
     "data": {
      "image/png": "[encoded data removed]",
      "text/plain": [
       "<Figure size 432x288 with 1 Axes>"
      ]
     },
     "metadata": {
      "needs_background": "light"
     },
     "output_type": "display_data"
    }
   ],
   "source": [
    "recipes[\"day_submitted\"] = recipes.submitted.apply(lambda ts: ts.day)\n",
    "recipes.day_submitted.plot.hist(bins=7)\n",
    "\n",
    "recipes.day_submitted.value_counts()\n",
    "### No specific times of the month are relevant"
   ]
  },
  {
   "cell_type": "markdown",
   "metadata": {},
   "source": [
    "### name"
   ]
  },
  {
   "cell_type": "code",
   "execution_count": 216,
   "metadata": {},
   "outputs": [
    {
     "name": "stdout",
     "output_type": "stream",
     "text": [
      "Duplicate recipes:  1451\n"
     ]
    }
   ],
   "source": [
    "#Some actual duplicates in the names of recipes these are null values on the recipes\n",
    "print(f\"Duplicate recipes cause of missing values:  {recipes.name.size - recipes.name.unique().size}\")"
   ]
  },
  {
   "cell_type": "code",
   "execution_count": 508,
   "metadata": {},
   "outputs": [
    {
     "name": "stdout",
     "output_type": "stream",
     "text": [
      "Top 20 words in recipes:\n",
      "and          30217\n",
      "with         26640\n",
      "chicken      22966\n",
      "s            19285\n",
      "salad        13299\n",
      "sauce        10075\n",
      "cheese        9745\n",
      "chocolate     9029\n",
      "soup          8859\n",
      "cake          8344\n",
      "bread         7074\n",
      "cream         6534\n",
      "easy          6445\n",
      "pie           6057\n",
      "cookies       6012\n",
      "rice          5736\n",
      "potato        5514\n",
      "pork          5430\n",
      "beef          5386\n",
      "casserole     5378\n",
      "dtype: int64\n",
      "\n"
     ]
    }
   ],
   "source": [
    "# Finding common words in recipes\n",
    "names_list = []\n",
    "for value in recipes.name[~(recipes.name.isna())]:\n",
    "    names_list.extend(value.split())\n",
    "\n",
    "recipe_names = pd.Series(names_list)\n",
    "print(f'Top 20 words in recipes:\\n{recipe_names.value_counts()[:20]}\\n')\n",
    "\n",
    "vectorizer = CountVectorizer(binary=True)\n",
    "\n",
    "# Sample the recipe names\n",
    "names_sample = recipes.name[~(recipes.name.isna())].sample(100, random_state=42)\n",
    "vectorizer.fit(names_sample)\n",
    "names_vsm = vectorizer.transform(names_sample)\n",
    "\n",
    "score = np.zeros((np.shape(names_vsm)[0],np.shape(names_vsm)[0]))\n",
    "\n",
    "for i in range(0,np.shape(names_vsm)[0]):\n",
    "    for j in range(0,np.shape(names_vsm)[0]):\n",
    "        score[i][j] = jaccard_score(names_vsm[i],names_vsm[j], average='weighted')"
   ]
  },
  {
   "cell_type": "code",
   "execution_count": 529,
   "metadata": {},
   "outputs": [
    {
     "data": {
      "text/plain": [
       "0.027"
      ]
     },
     "execution_count": 529,
     "metadata": {},
     "output_type": "execute_result"
    }
   ],
   "source": [
    "score = pd.DataFrame(score, columns=names_sample.values, index=names_sample.values)\n",
    "((score[score > 0.1].count().values.sum() - 100)/2) / 10000"
   ]
  },
  {
   "cell_type": "markdown",
   "metadata": {},
   "source": [
    "### ingredients"
   ]
  },
  {
   "cell_type": "code",
   "execution_count": 370,
   "metadata": {},
   "outputs": [
    {
     "name": "stdout",
     "output_type": "stream",
     "text": [
      "Count of salt and pepper: 15415\n",
      "Count of salt: 85746\n",
      "Count of pepper: 22319\n",
      "\n",
      "Top 10 ingredients:\n",
      "salt             85746\n",
      "butter           54975\n",
      "sugar            44534\n",
      "onion            39065\n",
      "water            34914\n",
      "eggs             33761\n",
      "olive oil        32822\n",
      "flour            26266\n",
      "milk             25786\n",
      "garlic cloves    25748\n",
      "Name: ingredients, dtype: int64\n",
      "\n",
      "Worste 10 ingredients:\n",
      "non-hydrogenated peanut butter         1\n",
      "spicy clamato juice                    1\n",
      "bone-in beef rib roast                 1\n",
      "cushaw                                 1\n",
      "low-calorie oatmeal bread              1\n",
      "rau ram                                1\n",
      "kalamata olives in red wine vinegar    1\n",
      "macadamia nut syrup                    1\n",
      "sesame garlic sauce                    1\n",
      "canned french snails                   1\n",
      "low-sugar low-sodium ketchup           1\n",
      "Name: ingredients, dtype: int64\n",
      "\n",
      "Number of \"unique\" ingredients that appear in more than 10 recipes: 5751\n"
     ]
    }
   ],
   "source": [
    "# Get the number of unique ingredients\n",
    "\n",
    "#Transform column ingredients\n",
    "ingredient_list = []\n",
    "for e in recipes.ingredients.values:\n",
    "    ingredient_list.extend(eval(e[1:-1]))\n",
    "    \n",
    "ingredients = pd.Series(ingredient_list, name=\"ingredients\")\n",
    "\n",
    "print(f'Count of salt and pepper: {ingredient_list.count(\"salt and pepper\")}')\n",
    "print(f'Count of salt: {ingredient_list.count(\"salt\")}')\n",
    "print(f'Count of pepper: {ingredient_list.count(\"pepper\")}\\n')\n",
    "\n",
    "print(f'Top 10 ingredients:\\n{ingredients.value_counts()[0:10]}\\n')\n",
    "print(f'Worste 10 ingredients:\\n{ingredients.value_counts()[-11:]}\\n')\n",
    "      \n",
    "ingredients_unique = pd.Series(ingredients.unique()[ingredients.value_counts() > 10])\n",
    "print(f'Number of \"unique\" ingredients that appear in more than 10 recipes: {ingredients_unique.size}')\n",
    "### There are very frequent ingredients and very special infrequent ingredients\n",
    "### There are overlaps between the ingredients"
   ]
  },
  {
   "cell_type": "markdown",
   "metadata": {},
   "source": [
    "### nutrition\n"
   ]
  },
  {
   "cell_type": "code",
   "execution_count": 217,
   "metadata": {},
   "outputs": [
    {
     "data": {
      "text/html": [
       "<div>\n",
       "<style scoped>\n",
       "    .dataframe tbody tr th:only-of-type {\n",
       "        vertical-align: middle;\n",
       "    }\n",
       "\n",
       "    .dataframe tbody tr th {\n",
       "        vertical-align: top;\n",
       "    }\n",
       "\n",
       "    .dataframe thead th {\n",
       "        text-align: right;\n",
       "    }\n",
       "</style>\n",
       "<table border=\"1\" class=\"dataframe\">\n",
       "  <thead>\n",
       "    <tr style=\"text-align: right;\">\n",
       "      <th></th>\n",
       "      <th>name</th>\n",
       "      <th>minutes</th>\n",
       "      <th>contributor_id</th>\n",
       "      <th>submitted</th>\n",
       "      <th>tags</th>\n",
       "      <th>n_steps</th>\n",
       "      <th>steps</th>\n",
       "      <th>description</th>\n",
       "      <th>ingredients</th>\n",
       "      <th>n_ingredients</th>\n",
       "      <th>year_submitted</th>\n",
       "      <th>month_submitted</th>\n",
       "      <th>day_submitted</th>\n",
       "      <th>total_cal</th>\n",
       "      <th>daily_perc_fat</th>\n",
       "      <th>daily_perc_sugars</th>\n",
       "      <th>daily_perc_sodium</th>\n",
       "      <th>daily_perc_protein</th>\n",
       "      <th>daily_perc_sat_fat</th>\n",
       "      <th>daily_perc_carbs</th>\n",
       "    </tr>\n",
       "    <tr>\n",
       "      <th>id</th>\n",
       "      <th></th>\n",
       "      <th></th>\n",
       "      <th></th>\n",
       "      <th></th>\n",
       "      <th></th>\n",
       "      <th></th>\n",
       "      <th></th>\n",
       "      <th></th>\n",
       "      <th></th>\n",
       "      <th></th>\n",
       "      <th></th>\n",
       "      <th></th>\n",
       "      <th></th>\n",
       "      <th></th>\n",
       "      <th></th>\n",
       "      <th></th>\n",
       "      <th></th>\n",
       "      <th></th>\n",
       "      <th></th>\n",
       "      <th></th>\n",
       "    </tr>\n",
       "  </thead>\n",
       "  <tbody>\n",
       "    <tr>\n",
       "      <td>137739</td>\n",
       "      <td>arriba   baked winter squash mexican style</td>\n",
       "      <td>55</td>\n",
       "      <td>47892</td>\n",
       "      <td>2005-09-16</td>\n",
       "      <td>['60-minutes-or-less', 'time-to-make', 'course...</td>\n",
       "      <td>11</td>\n",
       "      <td>['make a choice and proceed with recipe', 'dep...</td>\n",
       "      <td>autumn is my favorite time of year to cook! th...</td>\n",
       "      <td>['winter squash', 'mexican seasoning', 'mixed ...</td>\n",
       "      <td>7</td>\n",
       "      <td>2005</td>\n",
       "      <td>9</td>\n",
       "      <td>16</td>\n",
       "      <td>51.5</td>\n",
       "      <td>0.0</td>\n",
       "      <td>13.0</td>\n",
       "      <td>0.0</td>\n",
       "      <td>2.0</td>\n",
       "      <td>0.0</td>\n",
       "      <td>4.0</td>\n",
       "    </tr>\n",
       "    <tr>\n",
       "      <td>31490</td>\n",
       "      <td>a bit different  breakfast pizza</td>\n",
       "      <td>30</td>\n",
       "      <td>26278</td>\n",
       "      <td>2002-06-17</td>\n",
       "      <td>['30-minutes-or-less', 'time-to-make', 'course...</td>\n",
       "      <td>9</td>\n",
       "      <td>['preheat oven to 425 degrees f', 'press dough...</td>\n",
       "      <td>this recipe calls for the crust to be prebaked...</td>\n",
       "      <td>['prepared pizza crust', 'sausage patty', 'egg...</td>\n",
       "      <td>6</td>\n",
       "      <td>2002</td>\n",
       "      <td>6</td>\n",
       "      <td>17</td>\n",
       "      <td>173.4</td>\n",
       "      <td>18.0</td>\n",
       "      <td>0.0</td>\n",
       "      <td>17.0</td>\n",
       "      <td>22.0</td>\n",
       "      <td>35.0</td>\n",
       "      <td>1.0</td>\n",
       "    </tr>\n",
       "    <tr>\n",
       "      <td>112140</td>\n",
       "      <td>all in the kitchen  chili</td>\n",
       "      <td>130</td>\n",
       "      <td>196586</td>\n",
       "      <td>2005-02-25</td>\n",
       "      <td>['time-to-make', 'course', 'preparation', 'mai...</td>\n",
       "      <td>6</td>\n",
       "      <td>['brown ground beef in large pot', 'add choppe...</td>\n",
       "      <td>this modified version of 'mom's' chili was a h...</td>\n",
       "      <td>['ground beef', 'yellow onions', 'diced tomato...</td>\n",
       "      <td>13</td>\n",
       "      <td>2005</td>\n",
       "      <td>2</td>\n",
       "      <td>25</td>\n",
       "      <td>269.8</td>\n",
       "      <td>22.0</td>\n",
       "      <td>32.0</td>\n",
       "      <td>48.0</td>\n",
       "      <td>39.0</td>\n",
       "      <td>27.0</td>\n",
       "      <td>5.0</td>\n",
       "    </tr>\n",
       "    <tr>\n",
       "      <td>59389</td>\n",
       "      <td>alouette  potatoes</td>\n",
       "      <td>45</td>\n",
       "      <td>68585</td>\n",
       "      <td>2003-04-14</td>\n",
       "      <td>['60-minutes-or-less', 'time-to-make', 'course...</td>\n",
       "      <td>11</td>\n",
       "      <td>['place potatoes in a large pot of lightly sal...</td>\n",
       "      <td>this is a super easy, great tasting, make ahea...</td>\n",
       "      <td>['spreadable cheese with garlic and herbs', 'n...</td>\n",
       "      <td>11</td>\n",
       "      <td>2003</td>\n",
       "      <td>4</td>\n",
       "      <td>14</td>\n",
       "      <td>368.1</td>\n",
       "      <td>17.0</td>\n",
       "      <td>10.0</td>\n",
       "      <td>2.0</td>\n",
       "      <td>14.0</td>\n",
       "      <td>8.0</td>\n",
       "      <td>20.0</td>\n",
       "    </tr>\n",
       "    <tr>\n",
       "      <td>44061</td>\n",
       "      <td>amish  tomato ketchup  for canning</td>\n",
       "      <td>190</td>\n",
       "      <td>41706</td>\n",
       "      <td>2002-10-25</td>\n",
       "      <td>['weeknight', 'time-to-make', 'course', 'main-...</td>\n",
       "      <td>5</td>\n",
       "      <td>['mix all ingredients&amp; boil for 2 1 / 2 hours ...</td>\n",
       "      <td>my dh's amish mother raised him on this recipe...</td>\n",
       "      <td>['tomato juice', 'apple cider vinegar', 'sugar...</td>\n",
       "      <td>8</td>\n",
       "      <td>2002</td>\n",
       "      <td>10</td>\n",
       "      <td>25</td>\n",
       "      <td>352.9</td>\n",
       "      <td>1.0</td>\n",
       "      <td>337.0</td>\n",
       "      <td>23.0</td>\n",
       "      <td>3.0</td>\n",
       "      <td>0.0</td>\n",
       "      <td>28.0</td>\n",
       "    </tr>\n",
       "  </tbody>\n",
       "</table>\n",
       "</div>"
      ],
      "text/plain": [
       "                                              name  minutes  contributor_id  \\\n",
       "id                                                                            \n",
       "137739  arriba   baked winter squash mexican style       55           47892   \n",
       "31490             a bit different  breakfast pizza       30           26278   \n",
       "112140                   all in the kitchen  chili      130          196586   \n",
       "59389                           alouette  potatoes       45           68585   \n",
       "44061           amish  tomato ketchup  for canning      190           41706   \n",
       "\n",
       "        submitted                                               tags  n_steps  \\\n",
       "id                                                                              \n",
       "137739 2005-09-16  ['60-minutes-or-less', 'time-to-make', 'course...       11   \n",
       "31490  2002-06-17  ['30-minutes-or-less', 'time-to-make', 'course...        9   \n",
       "112140 2005-02-25  ['time-to-make', 'course', 'preparation', 'mai...        6   \n",
       "59389  2003-04-14  ['60-minutes-or-less', 'time-to-make', 'course...       11   \n",
       "44061  2002-10-25  ['weeknight', 'time-to-make', 'course', 'main-...        5   \n",
       "\n",
       "                                                    steps  \\\n",
       "id                                                          \n",
       "137739  ['make a choice and proceed with recipe', 'dep...   \n",
       "31490   ['preheat oven to 425 degrees f', 'press dough...   \n",
       "112140  ['brown ground beef in large pot', 'add choppe...   \n",
       "59389   ['place potatoes in a large pot of lightly sal...   \n",
       "44061   ['mix all ingredients& boil for 2 1 / 2 hours ...   \n",
       "\n",
       "                                              description  \\\n",
       "id                                                          \n",
       "137739  autumn is my favorite time of year to cook! th...   \n",
       "31490   this recipe calls for the crust to be prebaked...   \n",
       "112140  this modified version of 'mom's' chili was a h...   \n",
       "59389   this is a super easy, great tasting, make ahea...   \n",
       "44061   my dh's amish mother raised him on this recipe...   \n",
       "\n",
       "                                              ingredients  n_ingredients  \\\n",
       "id                                                                         \n",
       "137739  ['winter squash', 'mexican seasoning', 'mixed ...              7   \n",
       "31490   ['prepared pizza crust', 'sausage patty', 'egg...              6   \n",
       "112140  ['ground beef', 'yellow onions', 'diced tomato...             13   \n",
       "59389   ['spreadable cheese with garlic and herbs', 'n...             11   \n",
       "44061   ['tomato juice', 'apple cider vinegar', 'sugar...              8   \n",
       "\n",
       "        year_submitted  month_submitted  day_submitted  total_cal  \\\n",
       "id                                                                  \n",
       "137739            2005                9             16       51.5   \n",
       "31490             2002                6             17      173.4   \n",
       "112140            2005                2             25      269.8   \n",
       "59389             2003                4             14      368.1   \n",
       "44061             2002               10             25      352.9   \n",
       "\n",
       "        daily_perc_fat  daily_perc_sugars  daily_perc_sodium  \\\n",
       "id                                                             \n",
       "137739             0.0               13.0                0.0   \n",
       "31490             18.0                0.0               17.0   \n",
       "112140            22.0               32.0               48.0   \n",
       "59389             17.0               10.0                2.0   \n",
       "44061              1.0              337.0               23.0   \n",
       "\n",
       "        daily_perc_protein  daily_perc_sat_fat  daily_perc_carbs  \n",
       "id                                                                \n",
       "137739                 2.0                 0.0               4.0  \n",
       "31490                 22.0                35.0               1.0  \n",
       "112140                39.0                27.0               5.0  \n",
       "59389                 14.0                 8.0              20.0  \n",
       "44061                  3.0                 0.0              28.0  "
      ]
     },
     "execution_count": 217,
     "metadata": {},
     "output_type": "execute_result"
    }
   ],
   "source": [
    "# Split nutrition column into single features\n",
    "\n",
    "# Total calories\n",
    "# % Daily Value of Total Fat\n",
    "# % Daily Value of Sugars\n",
    "# % Daily Value of Sodium\n",
    "# % Daily Value of Protein\n",
    "# % Daily Value of Saturated Fat\n",
    "# % Daily Value of Total Carbohydrate\n",
    "nutrition_cols = [\"total_cal\",\"daily_perc_fat\", \"daily_perc_sugars\", \"daily_perc_sodium\", \"daily_perc_protein\", \"daily_perc_sat_fat\", \"daily_perc_carbs\"]\n",
    "nutrition = pd.DataFrame(0,columns=nutrition_cols, index=recipes.index)\n",
    "nutrition[nutrition_cols] = [eval(nutrition) for nutrition in recipes.nutrition.values]\n",
    "try:\n",
    "    recipes = recipes.join(nutrition)\n",
    "except:\n",
    "    pass\n",
    "\n",
    "try:\n",
    "    recipes.pop(\"nutrition\")\n",
    "except:\n",
    "    pass\n",
    "\n",
    "recipes.head()"
   ]
  },
  {
   "cell_type": "code",
   "execution_count": 221,
   "metadata": {},
   "outputs": [
    {
     "data": {
      "text/html": [
       "<div>\n",
       "<style scoped>\n",
       "    .dataframe tbody tr th:only-of-type {\n",
       "        vertical-align: middle;\n",
       "    }\n",
       "\n",
       "    .dataframe tbody tr th {\n",
       "        vertical-align: top;\n",
       "    }\n",
       "\n",
       "    .dataframe thead th {\n",
       "        text-align: right;\n",
       "    }\n",
       "</style>\n",
       "<table border=\"1\" class=\"dataframe\">\n",
       "  <thead>\n",
       "    <tr style=\"text-align: right;\">\n",
       "      <th></th>\n",
       "      <th>total_cal</th>\n",
       "      <th>daily_perc_fat</th>\n",
       "      <th>daily_perc_sugars</th>\n",
       "      <th>daily_perc_sodium</th>\n",
       "      <th>daily_perc_protein</th>\n",
       "      <th>daily_perc_sat_fat</th>\n",
       "      <th>daily_perc_carbs</th>\n",
       "    </tr>\n",
       "  </thead>\n",
       "  <tbody>\n",
       "    <tr>\n",
       "      <td>count</td>\n",
       "      <td>231637.000000</td>\n",
       "      <td>231637.00000</td>\n",
       "      <td>231637.000000</td>\n",
       "      <td>231637.000000</td>\n",
       "      <td>231637.00000</td>\n",
       "      <td>231637.000000</td>\n",
       "      <td>231637.000000</td>\n",
       "    </tr>\n",
       "    <tr>\n",
       "      <td>mean</td>\n",
       "      <td>473.942425</td>\n",
       "      <td>36.08070</td>\n",
       "      <td>84.296865</td>\n",
       "      <td>30.147485</td>\n",
       "      <td>34.68186</td>\n",
       "      <td>45.589150</td>\n",
       "      <td>15.560403</td>\n",
       "    </tr>\n",
       "    <tr>\n",
       "      <td>std</td>\n",
       "      <td>1189.711374</td>\n",
       "      <td>77.79884</td>\n",
       "      <td>800.080897</td>\n",
       "      <td>131.961589</td>\n",
       "      <td>58.47248</td>\n",
       "      <td>98.235758</td>\n",
       "      <td>81.824560</td>\n",
       "    </tr>\n",
       "    <tr>\n",
       "      <td>min</td>\n",
       "      <td>0.000000</td>\n",
       "      <td>0.00000</td>\n",
       "      <td>0.000000</td>\n",
       "      <td>0.000000</td>\n",
       "      <td>0.00000</td>\n",
       "      <td>0.000000</td>\n",
       "      <td>0.000000</td>\n",
       "    </tr>\n",
       "    <tr>\n",
       "      <td>25%</td>\n",
       "      <td>174.400000</td>\n",
       "      <td>8.00000</td>\n",
       "      <td>9.000000</td>\n",
       "      <td>5.000000</td>\n",
       "      <td>7.00000</td>\n",
       "      <td>7.000000</td>\n",
       "      <td>4.000000</td>\n",
       "    </tr>\n",
       "    <tr>\n",
       "      <td>50%</td>\n",
       "      <td>313.400000</td>\n",
       "      <td>20.00000</td>\n",
       "      <td>25.000000</td>\n",
       "      <td>14.000000</td>\n",
       "      <td>18.00000</td>\n",
       "      <td>23.000000</td>\n",
       "      <td>9.000000</td>\n",
       "    </tr>\n",
       "    <tr>\n",
       "      <td>75%</td>\n",
       "      <td>519.700000</td>\n",
       "      <td>41.00000</td>\n",
       "      <td>68.000000</td>\n",
       "      <td>33.000000</td>\n",
       "      <td>51.00000</td>\n",
       "      <td>52.000000</td>\n",
       "      <td>16.000000</td>\n",
       "    </tr>\n",
       "    <tr>\n",
       "      <td>max</td>\n",
       "      <td>434360.200000</td>\n",
       "      <td>17183.00000</td>\n",
       "      <td>362729.000000</td>\n",
       "      <td>29338.000000</td>\n",
       "      <td>6552.00000</td>\n",
       "      <td>10395.000000</td>\n",
       "      <td>36098.000000</td>\n",
       "    </tr>\n",
       "  </tbody>\n",
       "</table>\n",
       "</div>"
      ],
      "text/plain": [
       "           total_cal  daily_perc_fat  daily_perc_sugars  daily_perc_sodium  \\\n",
       "count  231637.000000    231637.00000      231637.000000      231637.000000   \n",
       "mean      473.942425        36.08070          84.296865          30.147485   \n",
       "std      1189.711374        77.79884         800.080897         131.961589   \n",
       "min         0.000000         0.00000           0.000000           0.000000   \n",
       "25%       174.400000         8.00000           9.000000           5.000000   \n",
       "50%       313.400000        20.00000          25.000000          14.000000   \n",
       "75%       519.700000        41.00000          68.000000          33.000000   \n",
       "max    434360.200000     17183.00000      362729.000000       29338.000000   \n",
       "\n",
       "       daily_perc_protein  daily_perc_sat_fat  daily_perc_carbs  \n",
       "count        231637.00000       231637.000000     231637.000000  \n",
       "mean             34.68186           45.589150         15.560403  \n",
       "std              58.47248           98.235758         81.824560  \n",
       "min               0.00000            0.000000          0.000000  \n",
       "25%               7.00000            7.000000          4.000000  \n",
       "50%              18.00000           23.000000          9.000000  \n",
       "75%              51.00000           52.000000         16.000000  \n",
       "max            6552.00000        10395.000000      36098.000000  "
      ]
     },
     "execution_count": 221,
     "metadata": {},
     "output_type": "execute_result"
    }
   ],
   "source": [
    "# Descriptive statistics of nutrition\n",
    "recipes[nutrition_cols].describe()\n",
    "\n",
    "### perc_nutrition values are dangerous as it is calculated per serving. Serving sizes might be unreasonable."
   ]
  },
  {
   "cell_type": "code",
   "execution_count": 231,
   "metadata": {},
   "outputs": [
    {
     "data": {
      "text/plain": [
       "<matplotlib.axes._subplots.AxesSubplot at 0x158080f5d08>"
      ]
     },
     "execution_count": 231,
     "metadata": {},
     "output_type": "execute_result"
    },
    {
     "data": {
      "image/png": "[encoded data removed]",
      "text/plain": [
       "<Figure size 432x288 with 1 Axes>"
      ]
     },
     "metadata": {
      "needs_background": "light"
     },
     "output_type": "display_data"
    }
   ],
   "source": [
    "#The distribution has very large values, thus it is transformed to log-scale\n",
    "sns.distplot(np.log(recipes.total_cal, where=recipes.total_cal > 0))"
   ]
  },
  {
   "cell_type": "code",
   "execution_count": 235,
   "metadata": {},
   "outputs": [
    {
     "data": {
      "text/plain": [
       "<matplotlib.axes._subplots.AxesSubplot at 0x159228b6048>"
      ]
     },
     "execution_count": 235,
     "metadata": {},
     "output_type": "execute_result"
    },
    {
     "data": {
      "image/png": "[encoded data removed]",
      "text/plain": [
       "<Figure size 432x288 with 1 Axes>"
      ]
     },
     "metadata": {
      "needs_background": "light"
     },
     "output_type": "display_data"
    }
   ],
   "source": [
    "#Daily percentage of fat (there are recipes with no fat)\n",
    "sns.distplot(np.log(recipes.daily_perc_fat, where=recipes.daily_perc_fat > 0))"
   ]
  },
  {
   "cell_type": "code",
   "execution_count": 238,
   "metadata": {},
   "outputs": [
    {
     "data": {
      "text/plain": [
       "<matplotlib.axes._subplots.AxesSubplot at 0x159257b4608>"
      ]
     },
     "execution_count": 238,
     "metadata": {},
     "output_type": "execute_result"
    },
    {
     "data": {
      "image/png": "[encoded data removed]",
      "text/plain": [
       "<Figure size 432x288 with 1 Axes>"
      ]
     },
     "metadata": {
      "needs_background": "light"
     },
     "output_type": "display_data"
    }
   ],
   "source": [
    "#Daily percentage of saturated fat\n",
    "sns.distplot(np.log(recipes.daily_perc_sat_fat, where=recipes.daily_perc_sat_fat> 0))"
   ]
  },
  {
   "cell_type": "code",
   "execution_count": 236,
   "metadata": {},
   "outputs": [
    {
     "data": {
      "text/plain": [
       "<matplotlib.axes._subplots.AxesSubplot at 0x159229ae788>"
      ]
     },
     "execution_count": 236,
     "metadata": {},
     "output_type": "execute_result"
    },
    {
     "data": {
      "image/png": "[encoded data removed]",
      "text/plain": [
       "<Figure size 432x288 with 1 Axes>"
      ]
     },
     "metadata": {
      "needs_background": "light"
     },
     "output_type": "display_data"
    }
   ],
   "source": [
    "#Daily percentage of protein\n",
    "sns.distplot(np.log(recipes.daily_perc_protein, where=recipes.daily_perc_protein > 0))"
   ]
  },
  {
   "cell_type": "code",
   "execution_count": 237,
   "metadata": {},
   "outputs": [
    {
     "data": {
      "text/plain": [
       "<matplotlib.axes._subplots.AxesSubplot at 0x159257f39c8>"
      ]
     },
     "execution_count": 237,
     "metadata": {},
     "output_type": "execute_result"
    },
    {
     "data": {
      "image/png": "[encoded data removed]",
      "text/plain": [
       "<Figure size 432x288 with 1 Axes>"
      ]
     },
     "metadata": {
      "needs_background": "light"
     },
     "output_type": "display_data"
    }
   ],
   "source": [
    "#Daily percentage of carbs\n",
    "sns.distplot(np.log(recipes.daily_perc_carbs, where=recipes.daily_perc_carbs> 0))"
   ]
  },
  {
   "cell_type": "code",
   "execution_count": 240,
   "metadata": {},
   "outputs": [
    {
     "data": {
      "text/plain": [
       "<matplotlib.axes._subplots.AxesSubplot at 0x15925ad5cc8>"
      ]
     },
     "execution_count": 240,
     "metadata": {},
     "output_type": "execute_result"
    },
    {
     "data": {
      "image/png": "[encoded data removed]",
      "text/plain": [
       "<Figure size 432x288 with 1 Axes>"
      ]
     },
     "metadata": {
      "needs_background": "light"
     },
     "output_type": "display_data"
    }
   ],
   "source": [
    "#Daily percentage of sugars\n",
    "sns.distplot(np.log(recipes.daily_perc_sugars, where=recipes.daily_perc_sugars> 0))"
   ]
  },
  {
   "cell_type": "code",
   "execution_count": 241,
   "metadata": {},
   "outputs": [
    {
     "data": {
      "text/plain": [
       "<matplotlib.axes._subplots.AxesSubplot at 0x15807ede848>"
      ]
     },
     "execution_count": 241,
     "metadata": {},
     "output_type": "execute_result"
    },
    {
     "data": {
      "image/png": "[encoded data removed]",
      "text/plain": [
       "<Figure size 432x288 with 1 Axes>"
      ]
     },
     "metadata": {
      "needs_background": "light"
     },
     "output_type": "display_data"
    }
   ],
   "source": [
    "#Daily percentage of sodium\n",
    "sns.distplot(np.log(recipes.daily_perc_sodium, where=recipes.daily_perc_sodium> 0))"
   ]
  },
  {
   "cell_type": "markdown",
   "metadata": {},
   "source": [
    "### Missing values"
   ]
  },
  {
   "cell_type": "code",
   "execution_count": 222,
   "metadata": {},
   "outputs": [
    {
     "name": "stdout",
     "output_type": "stream",
     "text": [
      "Missing values in name\n",
      "1\n",
      "Missing values in minutes\n",
      "0\n",
      "Missing values in contributor_id\n",
      "0\n",
      "Missing values in submitted\n",
      "0\n",
      "Missing values in tags\n",
      "0\n",
      "Missing values in nutrition\n",
      "0\n",
      "Missing values in n_steps\n",
      "0\n",
      "Missing values in steps\n",
      "0\n",
      "Missing values in description\n",
      "4979\n",
      "Missing values in ingredients\n",
      "0\n",
      "Missing values in n_ingredients\n",
      "0\n"
     ]
    }
   ],
   "source": [
    "#Missing values per column\n",
    "for c in recipes.columns:\n",
    "    print(\"Missing values in \"+c)\n",
    "    print(recipes[c].loc[recipes[c].isnull()].size)"
   ]
  },
  {
   "cell_type": "markdown",
   "metadata": {},
   "source": [
    "# Users"
   ]
  },
  {
   "cell_type": "code",
   "execution_count": null,
   "metadata": {},
   "outputs": [],
   "source": [
    "# Out of scope for the moment ==> need to decode PP_users"
   ]
  },
  {
   "cell_type": "markdown",
   "metadata": {},
   "source": [
    "# Interaction"
   ]
  },
  {
   "cell_type": "code",
   "execution_count": 223,
   "metadata": {},
   "outputs": [
    {
     "data": {
      "text/html": [
       "<div>\n",
       "<style scoped>\n",
       "    .dataframe tbody tr th:only-of-type {\n",
       "        vertical-align: middle;\n",
       "    }\n",
       "\n",
       "    .dataframe tbody tr th {\n",
       "        vertical-align: top;\n",
       "    }\n",
       "\n",
       "    .dataframe thead th {\n",
       "        text-align: right;\n",
       "    }\n",
       "</style>\n",
       "<table border=\"1\" class=\"dataframe\">\n",
       "  <thead>\n",
       "    <tr style=\"text-align: right;\">\n",
       "      <th></th>\n",
       "      <th>user_id</th>\n",
       "      <th>recipe_id</th>\n",
       "      <th>rating</th>\n",
       "    </tr>\n",
       "  </thead>\n",
       "  <tbody>\n",
       "    <tr>\n",
       "      <td>count</td>\n",
       "      <td>1.132367e+06</td>\n",
       "      <td>1.132367e+06</td>\n",
       "      <td>1.132367e+06</td>\n",
       "    </tr>\n",
       "    <tr>\n",
       "      <td>mean</td>\n",
       "      <td>1.384291e+08</td>\n",
       "      <td>1.608972e+05</td>\n",
       "      <td>4.411016e+00</td>\n",
       "    </tr>\n",
       "    <tr>\n",
       "      <td>std</td>\n",
       "      <td>5.014269e+08</td>\n",
       "      <td>1.303987e+05</td>\n",
       "      <td>1.264752e+00</td>\n",
       "    </tr>\n",
       "    <tr>\n",
       "      <td>min</td>\n",
       "      <td>1.533000e+03</td>\n",
       "      <td>3.800000e+01</td>\n",
       "      <td>0.000000e+00</td>\n",
       "    </tr>\n",
       "    <tr>\n",
       "      <td>25%</td>\n",
       "      <td>1.354700e+05</td>\n",
       "      <td>5.425700e+04</td>\n",
       "      <td>4.000000e+00</td>\n",
       "    </tr>\n",
       "    <tr>\n",
       "      <td>50%</td>\n",
       "      <td>3.309370e+05</td>\n",
       "      <td>1.205470e+05</td>\n",
       "      <td>5.000000e+00</td>\n",
       "    </tr>\n",
       "    <tr>\n",
       "      <td>75%</td>\n",
       "      <td>8.045500e+05</td>\n",
       "      <td>2.438520e+05</td>\n",
       "      <td>5.000000e+00</td>\n",
       "    </tr>\n",
       "    <tr>\n",
       "      <td>max</td>\n",
       "      <td>2.002373e+09</td>\n",
       "      <td>5.377160e+05</td>\n",
       "      <td>5.000000e+00</td>\n",
       "    </tr>\n",
       "  </tbody>\n",
       "</table>\n",
       "</div>"
      ],
      "text/plain": [
       "            user_id     recipe_id        rating\n",
       "count  1.132367e+06  1.132367e+06  1.132367e+06\n",
       "mean   1.384291e+08  1.608972e+05  4.411016e+00\n",
       "std    5.014269e+08  1.303987e+05  1.264752e+00\n",
       "min    1.533000e+03  3.800000e+01  0.000000e+00\n",
       "25%    1.354700e+05  5.425700e+04  4.000000e+00\n",
       "50%    3.309370e+05  1.205470e+05  5.000000e+00\n",
       "75%    8.045500e+05  2.438520e+05  5.000000e+00\n",
       "max    2.002373e+09  5.377160e+05  5.000000e+00"
      ]
     },
     "execution_count": 223,
     "metadata": {},
     "output_type": "execute_result"
    }
   ],
   "source": [
    "# Numerical variables\n",
    "interactions.describe()"
   ]
  },
  {
   "cell_type": "code",
   "execution_count": 224,
   "metadata": {},
   "outputs": [
    {
     "data": {
      "text/html": [
       "<div>\n",
       "<style scoped>\n",
       "    .dataframe tbody tr th:only-of-type {\n",
       "        vertical-align: middle;\n",
       "    }\n",
       "\n",
       "    .dataframe tbody tr th {\n",
       "        vertical-align: top;\n",
       "    }\n",
       "\n",
       "    .dataframe thead th {\n",
       "        text-align: right;\n",
       "    }\n",
       "</style>\n",
       "<table border=\"1\" class=\"dataframe\">\n",
       "  <thead>\n",
       "    <tr style=\"text-align: right;\">\n",
       "      <th></th>\n",
       "      <th>date</th>\n",
       "      <th>review</th>\n",
       "    </tr>\n",
       "  </thead>\n",
       "  <tbody>\n",
       "    <tr>\n",
       "      <td>count</td>\n",
       "      <td>1132367</td>\n",
       "      <td>1132198</td>\n",
       "    </tr>\n",
       "    <tr>\n",
       "      <td>unique</td>\n",
       "      <td>6396</td>\n",
       "      <td>1125282</td>\n",
       "    </tr>\n",
       "    <tr>\n",
       "      <td>top</td>\n",
       "      <td>2008-01-27</td>\n",
       "      <td>Delicious!</td>\n",
       "    </tr>\n",
       "    <tr>\n",
       "      <td>freq</td>\n",
       "      <td>723</td>\n",
       "      <td>309</td>\n",
       "    </tr>\n",
       "  </tbody>\n",
       "</table>\n",
       "</div>"
      ],
      "text/plain": [
       "              date      review\n",
       "count      1132367     1132198\n",
       "unique        6396     1125282\n",
       "top     2008-01-27  Delicious!\n",
       "freq           723         309"
      ]
     },
     "execution_count": 224,
     "metadata": {},
     "output_type": "execute_result"
    }
   ],
   "source": [
    "interactions.describe(include=np.object)"
   ]
  },
  {
   "cell_type": "code",
   "execution_count": 231,
   "metadata": {},
   "outputs": [
    {
     "data": {
      "text/plain": [
       "(array([ 564.,    0.,  120.,    0.,  132.,    0.,  318.,    0., 1656.,\n",
       "        7210.]),\n",
       " array([0. , 0.5, 1. , 1.5, 2. , 2.5, 3. , 3.5, 4. , 4.5, 5. ]),\n",
       " <a list of 10 Patch objects>)"
      ]
     },
     "execution_count": 231,
     "metadata": {},
     "output_type": "execute_result"
    },
    {
     "data": {
      "image/png": "[encoded data removed]",
      "text/plain": [
       "<Figure size 432x288 with 1 Axes>"
      ]
     },
     "metadata": {
      "needs_background": "light"
     },
     "output_type": "display_data"
    }
   ],
   "source": [
    "# Plot the distribution of ratings\n",
    "plt.hist(interactions.rating.sample(10000, random_state=42))"
   ]
  },
  {
   "cell_type": "code",
   "execution_count": 232,
   "metadata": {},
   "outputs": [
    {
     "name": "stdout",
     "output_type": "stream",
     "text": [
      "Missing values in user_id\n",
      "0\n",
      "Missing values in recipe_id\n",
      "0\n",
      "Missing values in date\n",
      "0\n",
      "Missing values in rating\n",
      "0\n",
      "Missing values in review\n",
      "169\n"
     ]
    }
   ],
   "source": [
    "#Missing values per column\n",
    "for c in interactions.columns:\n",
    "    print(\"Missing values in \"+c)\n",
    "    print(interactions[c].loc[interactions[c].isnull()].size)"
   ]
  }
 ],
 "metadata": {
  "kernelspec": {
   "display_name": "Python 3",
   "language": "python",
   "name": "python3"
  }
 },
 "nbformat": 4,
 "nbformat_minor": 2
}
