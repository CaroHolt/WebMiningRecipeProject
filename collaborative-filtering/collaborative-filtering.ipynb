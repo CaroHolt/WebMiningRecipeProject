{
 "cells": [
  {
   "cell_type": "markdown",
   "metadata": {},
   "source": [
    "# Collaborative Filtering\n",
    "\n",
    "The following file summarizes the performed collaborative filtering methods."
   ]
  },
  {
   "cell_type": "code",
   "execution_count": null,
   "metadata": {},
   "outputs": [],
   "source": [
    "%run functions.py\n",
    "\n",
    "# Import packages\n",
    "import numpy as np\n",
    "import pandas as pd\n",
    "\n",
    "from surprise import SVD, NMF, KNNBasic, KNNWithMeans, KNNWithZScore, KNNBaseline, NormalPredictor\n",
    "from surprise import Dataset, Reader, SVD, accuracy\n",
    "from sklearn.model_selection import train_test_split\n",
    "from surprise.model_selection import cross_validate, GridSearchCV, ShuffleSplit\n",
    "\n",
    "# Load dataset\n",
    "interactions = pd.read_csv('../data/RAW_interactions.csv', sep=',')\n",
    "recipes = pd.read_csv('../data/RAW_recipes.csv', sep=',')\n",
    "print('Unique rows in interactions: ', len(interactions))\n",
    "print('Unique rows in recipes: ', len(recipes))"
   ]
  },
  {
   "cell_type": "markdown",
   "metadata": {},
   "source": [
    "## Filter Strategies"
   ]
  },
  {
   "cell_type": "code",
   "execution_count": 16,
   "metadata": {},
   "outputs": [],
   "source": [
    "# Extract only the relevant columns from the data set\n",
    "ratings = interactions[['user_id', 'recipe_id', 'rating']].copy()\n",
    "\n",
    "# Delete all '0' ratings\n",
    "ratings = ratings[ratings.rating != 0]\n",
    "\n",
    "# Create a dictonary that stores all of our filtering possibilities\n",
    "filters = {\"IQR\": apply_filter(ratings, [\"user_id\", \"recipe_id\"], \"iqr_filtering\"),\n",
    "           \"random_sampling\": apply_filter(ratings, [\"user_id\", \"recipe_id\"], \"random_sampling\", sample_size=5000)}"
   ]
  },
  {
   "cell_type": "markdown",
   "metadata": {},
   "source": [
    "## Algorithms"
   ]
  },
  {
   "cell_type": "code",
   "execution_count": 8,
   "metadata": {},
   "outputs": [],
   "source": [
    "# Prep grid search\n",
    "\n",
    "# Params\n",
    "param_grid = {\n",
    "    \"KNNBasic\" : {\n",
    "        \"k\" : [20,40,60],\n",
    "        \"sim_options\" : {\n",
    "            \"name\" : ['cosine'],\n",
    "            \"user_based\"  : [True, False],\n",
    "        }\n",
    "    },\n",
    "    \"KNNWithMeans\" : {\n",
    "        \"k\" : [20,40,60],\n",
    "        \"sim_options\" : {\n",
    "            \"name\" : ['cosine'],\n",
    "            \"user_based\"  : [True, False],\n",
    "        }                       \n",
    "    },          \n",
    "    \"SVD\" : {\n",
    "        \"n_factors\" : [5, 15, 25, 50]\n",
    "    },\n",
    "    \"NMF\" : {\n",
    "        \"n_factors\" : [5, 15, 25, 50]\n",
    "    },\n",
    "    \"Baseline\" : {}\n",
    "}\n",
    "\n",
    "\n",
    "# Algos\n",
    "algos = {\"SVD\" : SVD, \"NMF\" : NMF, \"Baseline\" : NormalPredictor}"
   ]
  },
  {
   "cell_type": "markdown",
   "metadata": {},
   "source": [
    "## Evaluation"
   ]
  },
  {
   "cell_type": "code",
   "execution_count": 17,
   "metadata": {},
   "outputs": [],
   "source": [
    "# Test plot function\n",
    "filtered_ratings = filters.get(\"random_sampling\")\n",
    "\n",
    "# Create train-test split for model evaluation\n",
    "ratings_train, ratings_test = train_test_split(filtered_ratings, test_size=0.3, random_state=42, shuffle=True, stratify=filtered_ratings.rating)\n",
    "\n",
    "# Create dataset objects from the train-test-split which is required for suprise package \n",
    "trainset = Dataset.load_from_df(ratings_train, Reader())\n",
    "testset = Dataset.load_from_df(ratings_test, Reader()).build_full_trainset().build_testset()\n",
    "\n",
    "knnbasic_cv = cross_validate(KNNBasic(), trainset, cv=5, n_jobs=5, verbose=False)"
   ]
  },
  {
   "cell_type": "code",
   "execution_count": 35,
   "metadata": {},
   "outputs": [],
   "source": []
  },
  {
   "cell_type": "code",
   "execution_count": 36,
   "metadata": {},
   "outputs": [
    {
     "data": {
      "image/png": "[encoded data removed]",
      "text/plain": [
       "<Figure size 1296x360 with 1 Axes>"
      ]
     },
     "metadata": {
      "needs_background": "light"
     },
     "output_type": "display_data"
    }
   ],
   "source": [
    "name = [\"KNN\"]\n",
    "\n",
    "evaluation_plot([knnbasic_cv], name)"
   ]
  },
  {
   "cell_type": "code",
   "execution_count": 5,
   "metadata": {},
   "outputs": [
    {
     "name": "stdout",
     "output_type": "stream",
     "text": [
      "Number of ratings that is left: 77654\n",
      "\n",
      "Number of users that is left: 70118\n",
      "\n",
      "Number of recipes that is left: 56457\n",
      "\n",
      "Fraction of ratings that is left: 0.07\n",
      "\n",
      "Fraction of users that is left: 0.31\n",
      "\n",
      "Fraction of recipes that is left: 0.24\n",
      "\n",
      "RMSE: 1.0177\n",
      "RMSE: 1.0360\n",
      "RMSE: 1.2979\n",
      "Number of ratings that is left: 102802\n",
      "\n",
      "Number of users that is left: 29353\n",
      "\n",
      "Number of recipes that is left: 43935\n",
      "\n",
      "Fraction of ratings that is left: 0.09\n",
      "\n",
      "Fraction of users that is left: 0.13\n",
      "\n",
      "Fraction of recipes that is left: 0.19\n",
      "\n",
      "RMSE: 0.6877\n",
      "RMSE: 0.7410\n",
      "RMSE: 0.9047\n"
     ]
    },
    {
     "data": {
      "text/html": [
       "<div>\n",
       "<style scoped>\n",
       "    .dataframe tbody tr th:only-of-type {\n",
       "        vertical-align: middle;\n",
       "    }\n",
       "\n",
       "    .dataframe tbody tr th {\n",
       "        vertical-align: top;\n",
       "    }\n",
       "\n",
       "    .dataframe thead th {\n",
       "        text-align: right;\n",
       "    }\n",
       "</style>\n",
       "<table border=\"1\" class=\"dataframe\">\n",
       "  <thead>\n",
       "    <tr style=\"text-align: right;\">\n",
       "      <th></th>\n",
       "      <th></th>\n",
       "      <th>Final_RMSE</th>\n",
       "      <th>Params</th>\n",
       "    </tr>\n",
       "    <tr>\n",
       "      <th>Filter</th>\n",
       "      <th>Algorithm</th>\n",
       "      <th></th>\n",
       "      <th></th>\n",
       "    </tr>\n",
       "  </thead>\n",
       "  <tbody>\n",
       "    <tr>\n",
       "      <th rowspan=\"3\" valign=\"top\">IQR</th>\n",
       "      <th>Baseline</th>\n",
       "      <td>1.297916</td>\n",
       "      <td>{'rmse': {}}</td>\n",
       "    </tr>\n",
       "    <tr>\n",
       "      <th>NMF</th>\n",
       "      <td>1.035950</td>\n",
       "      <td>{'rmse': {'n_factors': 50}}</td>\n",
       "    </tr>\n",
       "    <tr>\n",
       "      <th>SVD</th>\n",
       "      <td>1.017690</td>\n",
       "      <td>{'rmse': {'n_factors': 5}}</td>\n",
       "    </tr>\n",
       "    <tr>\n",
       "      <th rowspan=\"3\" valign=\"top\">random_sampling</th>\n",
       "      <th>Baseline</th>\n",
       "      <td>0.904658</td>\n",
       "      <td>{'rmse': {}}</td>\n",
       "    </tr>\n",
       "    <tr>\n",
       "      <th>NMF</th>\n",
       "      <td>0.741033</td>\n",
       "      <td>{'rmse': {'n_factors': 50}}</td>\n",
       "    </tr>\n",
       "    <tr>\n",
       "      <th>SVD</th>\n",
       "      <td>0.687691</td>\n",
       "      <td>{'rmse': {'n_factors': 5}}</td>\n",
       "    </tr>\n",
       "  </tbody>\n",
       "</table>\n",
       "</div>"
      ],
      "text/plain": [
       "                           Final_RMSE                       Params\n",
       "Filter          Algorithm                                         \n",
       "IQR             Baseline     1.297916                 {'rmse': {}}\n",
       "                NMF          1.035950  {'rmse': {'n_factors': 50}}\n",
       "                SVD          1.017690   {'rmse': {'n_factors': 5}}\n",
       "random_sampling Baseline     0.904658                 {'rmse': {}}\n",
       "                NMF          0.741033  {'rmse': {'n_factors': 50}}\n",
       "                SVD          0.687691   {'rmse': {'n_factors': 5}}"
      ]
     },
     "execution_count": 5,
     "metadata": {},
     "output_type": "execute_result"
    }
   ],
   "source": [
    "# Benchmark\n",
    "benchmark = []\n",
    "fitted_algos = {}\n",
    "\n",
    "# Cross-validation\n",
    "cv = ShuffleSplit(n_splits = 5, test_size = 0.3, random_state=42, shuffle=True)\n",
    "\n",
    "# Evaluate the algorithms\n",
    "for f_name, f in filters.items():\n",
    "    \n",
    "    # Apply the current filtering\n",
    "    ratings = f\n",
    "    \n",
    "    # Print the key facts for the filtering\n",
    "    print_filter_results(ratings, interactions)\n",
    "    \n",
    "    # Create train-test split for model evaluation\n",
    "    ratings_train, ratings_test = train_test_split(ratings, test_size=0.3, random_state=42, shuffle=True, stratify=ratings.rating)\n",
    "    \n",
    "    # Create dataset objects from the train-test-split which is required for suprise package \n",
    "    trainset = Dataset.load_from_df(ratings_train, Reader())\n",
    "    testset = Dataset.load_from_df(ratings_test, Reader()).build_full_trainset().build_testset()\n",
    "    \n",
    "    # Run a grid search for each algorithm\n",
    "    for name, algo in algos.items():\n",
    "        gs = GridSearchCV(algo, param_grid.get(name), measures=['rmse'], cv=cv, refit=True, n_jobs=-1)\n",
    "        \n",
    "        # Refit the estimator with the best parameters on whole training set\n",
    "        gs.fit(trainset)\n",
    "        \n",
    "        # Get the final score\n",
    "        predicitons = gs.test(testset)\n",
    "        final_score = accuracy.rmse(predicitons)\n",
    "        \n",
    "        # Store the fitted estimator for later use\n",
    "        fitted_algos[name] = gs\n",
    "       \n",
    "        # Store the results\n",
    "        benchmark.append([f_name, name, final_score, gs.best_params])\n",
    "        \n",
    "        # Print results\n",
    "\n",
    "results = pd.DataFrame(benchmark, columns=[\"Filter\", \"Algorithm\", \"Final_RMSE\", \"Params\"]).sort_values(\"Final_RMSE\")\n",
    "results.set_index([\"Filter\", \"Algorithm\"], inplace=True)\n",
    "results.sort_index(inplace=True)\n",
    "results"
   ]
  },
  {
   "cell_type": "code",
   "execution_count": null,
   "metadata": {},
   "outputs": [],
   "source": []
  }
 ],
 "metadata": {
  "kernelspec": {
   "display_name": "Python 3",
   "language": "python",
   "name": "python3"
  },
  "language_info": {
   "codemirror_mode": {
    "name": "ipython",
    "version": 3
   },
   "file_extension": ".py",
   "mimetype": "text/x-python",
   "name": "python",
   "nbconvert_exporter": "python",
   "pygments_lexer": "ipython3",
   "version": "3.7.3"
  }
 },
 "nbformat": 4,
 "nbformat_minor": 2
}
