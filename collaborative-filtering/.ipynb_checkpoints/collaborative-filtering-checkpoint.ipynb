{
 "cells": [
  {
   "cell_type": "markdown",
   "metadata": {},
   "source": [
    "# Collaborative Filtering\n",
    "\n",
    "The following file summarizes the performed collaborative filtering methods."
   ]
  },
  {
   "cell_type": "markdown",
   "metadata": {},
   "source": [
    "Arbeitspakete:\n",
    "- Filterfunktionen bauen: Random sampling\n",
    "- Evaluation über verschiedene Filterfunktionen & einzelne Algorithmen\n",
    "- RMSE / MAE Plots ? "
   ]
  },
  {
   "cell_type": "code",
   "execution_count": 27,
   "metadata": {},
   "outputs": [
    {
     "name": "stdout",
     "output_type": "stream",
     "text": [
      "Unique rows in interactions:  1132367\n",
      "Unique rows in recipes:  231637\n"
     ]
    }
   ],
   "source": [
    "%run functions.py\n",
    "\n",
    "# Import packages\n",
    "import numpy as np\n",
    "import pandas as pd\n",
    "\n",
    "from surprise import SVD, NMF, KNNBasic, KNNWithMeans, KNNWithZScore, KNNBaseline, NormalPredictor\n",
    "from surprise import Dataset, Reader, SVD, accuracy\n",
    "from sklearn.model_selection import train_test_split\n",
    "from surprise.model_selection import cross_validate, GridSearchCV, ShuffleSplit\n",
    "\n",
    "# Load dataset\n",
    "interactions = pd.read_csv('../data/RAW_interactions.csv', sep=',')\n",
    "recipes = pd.read_csv('../data/RAW_recipes.csv', sep=',')\n",
    "print('Unique rows in interactions: ', len(interactions))\n",
    "print('Unique rows in recipes: ', len(recipes))"
   ]
  },
  {
   "cell_type": "markdown",
   "metadata": {},
   "source": [
    "## Filter Strategies"
   ]
  },
  {
   "cell_type": "markdown",
   "metadata": {},
   "source": [
    "Filter ideas:\n",
    "- Varianz-basiert ?\n",
    "- Up-/Downsampling ? \n",
    "- Random Sampling (User & Recipes) - sample_size_user / sample_size_recipe in Anzahl"
   ]
  },
  {
   "cell_type": "code",
   "execution_count": 5,
   "metadata": {},
   "outputs": [],
   "source": [
    "ratings = interactions[['user_id', 'recipe_id', 'rating']].copy()\n",
    "\n",
    "# Delete all '0' ratings\n",
    "ratings = ratings[ratings.rating != 0]\n",
    "\n",
    "# Create a dictonary that stores all of our filtering possibilities\n",
    "filters = {\"IQR\": filter_user_item(ratings, 1, 1, \"iqr\", \"iqr\")}"
   ]
  },
  {
   "cell_type": "markdown",
   "metadata": {},
   "source": [
    "Evaluate the filtered dataset:"
   ]
  },
  {
   "cell_type": "code",
   "execution_count": 6,
   "metadata": {},
   "outputs": [],
   "source": [
    "def print_filter_results(ratings, interactions):\n",
    "    # Print the number of ratings included in the filtered dataset\n",
    "    print(f\"Number of ratings that is left: {len(ratings)}\\n\")\n",
    "\n",
    "    # Print the number of users included in the filtered dataset\n",
    "    print(f\"Number of users that is left: {ratings.user_id.unique().size}\\n\")\n",
    "\n",
    "    # Print the number of recipes included in the filtered dataset\n",
    "    print(f\"Number of recipes that is left: {ratings.recipe_id.unique().size}\\n\")\n",
    "\n",
    "    # Print the fraction of ratings included in the filtered dataset\n",
    "    print(f\"Fraction of ratings that is left: {round(len(ratings) / len(interactions), 2)}\\n\")\n",
    "\n",
    "    # Print the fraction of users included in the filtered dataset\n",
    "    print(f\"Fraction of users that is left: {round(ratings.user_id.unique().size / interactions.user_id.unique().size, 2)}\\n\")\n",
    "\n",
    "    # Print the fraction of recipes included in the filtered dataset\n",
    "    print(f\"Fraction of recipes that is left: {round(ratings.recipe_id.unique().size / interactions.recipe_id.unique().size, 2)}\\n\")"
   ]
  },
  {
   "cell_type": "markdown",
   "metadata": {},
   "source": [
    "## Algorithms"
   ]
  },
  {
   "cell_type": "code",
   "execution_count": 39,
   "metadata": {},
   "outputs": [],
   "source": [
    "# Prep grid search\n",
    "\n",
    "# Params\n",
    "param_grid = {\n",
    "    \"KNNBasic\" : {\n",
    "        \"k\" : [20,40,60],\n",
    "        \"sim_options\" : {\n",
    "            \"name\" : ['cosine'],\n",
    "            \"user_based\"  : [True, False],\n",
    "        }\n",
    "    },\n",
    "    \"KNNWithMeans\" : {\n",
    "        \"k\" : [20,40,60],\n",
    "        \"sim_options\" : {\n",
    "            \"name\" : ['cosine'],\n",
    "            \"user_based\"  : [True, False],\n",
    "        }                       \n",
    "    },          \n",
    "    \"SVD\" : {\n",
    "        \"n_factors\" : [5, 15, 25, 50]\n",
    "    },\n",
    "    \"NMF\" : {\n",
    "        \"n_factors\" : [5, 15, 25, 50]\n",
    "    },\n",
    "    \"Baseline\" : {}\n",
    "}\n",
    "\n",
    "\n",
    "# Algos\n",
    "algos = {\"SVD\" : SVD, \"NMF\" : NMF, \"Baseline\" : NormalPredictor}"
   ]
  },
  {
   "cell_type": "markdown",
   "metadata": {},
   "source": [
    "## Evaluation"
   ]
  },
  {
   "cell_type": "code",
   "execution_count": null,
   "metadata": {},
   "outputs": [],
   "source": [
    "TODO: Plot performance of best hyperparameter setting per algorithm\n",
    "RMSE / MAE"
   ]
  },
  {
   "cell_type": "code",
   "execution_count": 40,
   "metadata": {},
   "outputs": [
    {
     "name": "stdout",
     "output_type": "stream",
     "text": [
      "Number of ratings that is left: 87623\n",
      "\n",
      "Number of users that is left: 77098\n",
      "\n",
      "Number of recipes that is left: 64500\n",
      "\n",
      "Fraction of ratings that is left: 0.08\n",
      "\n",
      "Fraction of users that is left: 0.34\n",
      "\n",
      "Fraction of recipes that is left: 0.28\n",
      "\n",
      "RMSE: 0.9860\n",
      "RMSE: 1.0100\n",
      "RMSE: 1.2591\n"
     ]
    },
    {
     "data": {
      "text/html": [
       "<div>\n",
       "<style scoped>\n",
       "    .dataframe tbody tr th:only-of-type {\n",
       "        vertical-align: middle;\n",
       "    }\n",
       "\n",
       "    .dataframe tbody tr th {\n",
       "        vertical-align: top;\n",
       "    }\n",
       "\n",
       "    .dataframe thead th {\n",
       "        text-align: right;\n",
       "    }\n",
       "</style>\n",
       "<table border=\"1\" class=\"dataframe\">\n",
       "  <thead>\n",
       "    <tr style=\"text-align: right;\">\n",
       "      <th></th>\n",
       "      <th></th>\n",
       "      <th>Final_RMSE</th>\n",
       "      <th>Params</th>\n",
       "    </tr>\n",
       "    <tr>\n",
       "      <th>Filter</th>\n",
       "      <th>Algorithm</th>\n",
       "      <th></th>\n",
       "      <th></th>\n",
       "    </tr>\n",
       "  </thead>\n",
       "  <tbody>\n",
       "    <tr>\n",
       "      <th rowspan=\"3\" valign=\"top\">IQR</th>\n",
       "      <th>SVD</th>\n",
       "      <td>0.985958</td>\n",
       "      <td>{'rmse': {'n_factors': 5}}</td>\n",
       "    </tr>\n",
       "    <tr>\n",
       "      <th>NMF</th>\n",
       "      <td>1.009973</td>\n",
       "      <td>{'rmse': {'n_factors': 50}}</td>\n",
       "    </tr>\n",
       "    <tr>\n",
       "      <th>Baseline</th>\n",
       "      <td>1.259059</td>\n",
       "      <td>{'rmse': {}}</td>\n",
       "    </tr>\n",
       "  </tbody>\n",
       "</table>\n",
       "</div>"
      ],
      "text/plain": [
       "                  Final_RMSE                       Params\n",
       "Filter Algorithm                                         \n",
       "IQR    SVD          0.985958   {'rmse': {'n_factors': 5}}\n",
       "       NMF          1.009973  {'rmse': {'n_factors': 50}}\n",
       "       Baseline     1.259059                 {'rmse': {}}"
      ]
     },
     "execution_count": 40,
     "metadata": {},
     "output_type": "execute_result"
    }
   ],
   "source": [
    "# Benchmark\n",
    "benchmark = []\n",
    "fitted_algos = {}\n",
    "\n",
    "# Cross-validation\n",
    "cv = ShuffleSplit(n_splits = 5, test_size = 0.3, random_state=42, shuffle=True)\n",
    "\n",
    "# Evaluate the algorithms\n",
    "for f_name, f in filters.items():\n",
    "    # Apply the current filtering\n",
    "    ratings = f\n",
    "    # Print the key facts for the filtering\n",
    "    print_filter_results(ratings, interactions)\n",
    "    # Create train-test split for model evaluation\n",
    "    ratings_train, ratings_test = train_test_split(ratings, test_size=0.3, random_state=42, shuffle=True, stratify=ratings.rating)\n",
    "    # Create dataset objects from the train-test-split which is required for suprise package \n",
    "    trainset = Dataset.load_from_df(ratings_train, Reader())\n",
    "    testset = Dataset.load_from_df(ratings_test, Reader()).build_full_trainset().build_testset()\n",
    "    # Run a grid search for each algorithm\n",
    "    for name, algo in algos.items():\n",
    "        gs = GridSearchCV(algo, param_grid.get(name), measures=['rmse'], cv=cv, refit=True, n_jobs=-1)\n",
    "        # Refit the estimator with the best parameters on whole training set\n",
    "        gs.fit(trainset)\n",
    "        # Get the final score\n",
    "        predicitons = gs.test(testset)\n",
    "        final_score = accuracy.rmse(predicitons)\n",
    "        # Store the fitted estimator for later use\n",
    "        fitted_algos[name] = gs\n",
    "        # Store the results\n",
    "        benchmark.append([f_name, name, final_score, gs.best_params])\n",
    "\n",
    "results = pd.DataFrame(benchmark, columns=[\"Filter\", \"Algorithm\", \"Final_RMSE\", \"Params\"]).sort_values(\"Final_RMSE\")\n",
    "results.set_index([\"Filter\", \"Algorithm\"], inplace=True)\n",
    "results.sort_index(inplace=True)\n",
    "results"
   ]
  },
  {
   "cell_type": "code",
   "execution_count": null,
   "metadata": {},
   "outputs": [],
   "source": []
  }
 ],
 "metadata": {
  "kernelspec": {
   "display_name": "Python 3",
   "language": "python",
   "name": "python3"
  },
  "language_info": {
   "codemirror_mode": {
    "name": "ipython",
    "version": 3
   },
   "file_extension": ".py",
   "mimetype": "text/x-python",
   "name": "python",
   "nbconvert_exporter": "python",
   "pygments_lexer": "ipython3",
   "version": "3.7.7"
  }
 },
 "nbformat": 4,
 "nbformat_minor": 2
}
